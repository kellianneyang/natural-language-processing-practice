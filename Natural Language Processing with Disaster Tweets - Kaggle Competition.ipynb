{
 "cells": [
  {
   "cell_type": "markdown",
   "id": "81565380",
   "metadata": {},
   "source": [
    "# Natural Language Processing with Disaster Tweets (Kaggle Competition)"
   ]
  },
  {
   "cell_type": "markdown",
   "id": "d0f88263",
   "metadata": {},
   "source": [
    "# Starter Notebook"
   ]
  },
  {
   "cell_type": "code",
   "execution_count": 106,
   "id": "d003ff3f",
   "metadata": {},
   "outputs": [],
   "source": [
    "# imports\n",
    "import numpy as np # linear algebra\n",
    "import pandas as pd # data processing, CSV file I/O\n",
    "from sklearn import feature_extraction, linear_model, model_selection, preprocessing"
   ]
  },
  {
   "cell_type": "code",
   "execution_count": 107,
   "id": "fb817cc7",
   "metadata": {},
   "outputs": [
    {
     "name": "stdout",
     "output_type": "stream",
     "text": [
      "<class 'pandas.core.frame.DataFrame'>\n",
      "RangeIndex: 7613 entries, 0 to 7612\n",
      "Data columns (total 5 columns):\n",
      " #   Column    Non-Null Count  Dtype \n",
      "---  ------    --------------  ----- \n",
      " 0   id        7613 non-null   int64 \n",
      " 1   keyword   7552 non-null   object\n",
      " 2   location  5080 non-null   object\n",
      " 3   text      7613 non-null   object\n",
      " 4   target    7613 non-null   int64 \n",
      "dtypes: int64(2), object(3)\n",
      "memory usage: 297.5+ KB\n",
      "<class 'pandas.core.frame.DataFrame'>\n",
      "RangeIndex: 3263 entries, 0 to 3262\n",
      "Data columns (total 4 columns):\n",
      " #   Column    Non-Null Count  Dtype \n",
      "---  ------    --------------  ----- \n",
      " 0   id        3263 non-null   int64 \n",
      " 1   keyword   3237 non-null   object\n",
      " 2   location  2158 non-null   object\n",
      " 3   text      3263 non-null   object\n",
      "dtypes: int64(1), object(3)\n",
      "memory usage: 102.1+ KB\n"
     ]
    }
   ],
   "source": [
    "# read in data\n",
    "train_df = pd.read_csv(\"Data/train.csv\")\n",
    "test_df = pd.read_csv(\"Data/test.csv\")\n",
    "\n",
    "# check\n",
    "train_df.info()\n",
    "test_df.info()"
   ]
  },
  {
   "cell_type": "code",
   "execution_count": 108,
   "id": "1cabfb98",
   "metadata": {},
   "outputs": [
    {
     "data": {
      "text/plain": [
       "0"
      ]
     },
     "execution_count": 108,
     "metadata": {},
     "output_type": "execute_result"
    }
   ],
   "source": [
    "# check for duplicates\n",
    "train_df.duplicated().sum()"
   ]
  },
  {
   "cell_type": "code",
   "execution_count": 109,
   "id": "a691924a",
   "metadata": {},
   "outputs": [
    {
     "data": {
      "text/plain": [
       "0    4342\n",
       "1    3271\n",
       "Name: target, dtype: int64"
      ]
     },
     "execution_count": 109,
     "metadata": {},
     "output_type": "execute_result"
    }
   ],
   "source": [
    "# check class balance\n",
    "train_df['target'].value_counts()\n",
    "\n",
    "# the classes are a bit unbalanced (57% to 43%),\n",
    "# so we may want to try some class balancing techniques"
   ]
  },
  {
   "cell_type": "code",
   "execution_count": 110,
   "id": "5e0284d4",
   "metadata": {},
   "outputs": [
    {
     "data": {
      "text/plain": [
       "7613"
      ]
     },
     "execution_count": 110,
     "metadata": {},
     "output_type": "execute_result"
    }
   ],
   "source": [
    "# check uniqueness of id column\n",
    "train_df['id'].nunique()"
   ]
  },
  {
   "cell_type": "code",
   "execution_count": 111,
   "id": "548a660b",
   "metadata": {},
   "outputs": [
    {
     "name": "stdout",
     "output_type": "stream",
     "text": [
      "I love fruits\n",
      "Summer is lovely\n",
      "My car is so fast\n",
      "What a goooooooaaaaaal!!!!!!\n",
      "this is ridiculous....\n",
      "London is cool ;)\n",
      "Love skiing\n",
      "What a wonderful day!\n",
      "LOOOOOOL\n"
     ]
    }
   ],
   "source": [
    "# check examples of non-disaster tweets (target = 0)\n",
    "nondisaster_df = train_df[train_df['target'] == 0]\n",
    "\n",
    "for tweet in nondisaster_df['text'].values[1:10]:\n",
    "    print(tweet)"
   ]
  },
  {
   "cell_type": "code",
   "execution_count": 112,
   "id": "4f1f8959",
   "metadata": {},
   "outputs": [
    {
     "name": "stdout",
     "output_type": "stream",
     "text": [
      "Forest fire near La Ronge Sask. Canada\n",
      "All residents asked to 'shelter in place' are being notified by officers. No other evacuation or shelter in place orders are expected\n",
      "13,000 people receive #wildfires evacuation orders in California \n",
      "Just got sent this photo from Ruby #Alaska as smoke from #wildfires pours into a school \n",
      "#RockyFire Update => California Hwy. 20 closed in both directions due to Lake County fire - #CAfire #wildfires\n",
      "#flood #disaster Heavy rain causes flash flooding of streets in Manitou, Colorado Springs areas\n",
      "I'm on top of the hill and I can see a fire in the woods...\n",
      "There's an emergency evacuation happening now in the building across the street\n",
      "I'm afraid that the tornado is coming to our area...\n"
     ]
    }
   ],
   "source": [
    "# check examples of disaster tweets (target = 1)\n",
    "disaster_df = train_df[train_df['target'] == 1]\n",
    "\n",
    "for tweet in disaster_df['text'].values[1:10]:\n",
    "    print(tweet)"
   ]
  },
  {
   "cell_type": "code",
   "execution_count": 113,
   "id": "1f150652",
   "metadata": {},
   "outputs": [
    {
     "name": "stdout",
     "output_type": "stream",
     "text": [
      "(1, 54)\n",
      "[[0 0 0 1 1 1 0 0 0 0 0 0 1 1 0 0 0 0 1 0 0 0 0 0 0 1 0 0 0 1 0 0 0 0 1 0\n",
      "  0 0 0 1 0 0 0 0 0 0 0 0 0 1 1 0 1 0]]\n"
     ]
    }
   ],
   "source": [
    "# count the words in each tweet and turn them into word vectors\n",
    "count_vectorizer = feature_extraction.text.CountVectorizer()\n",
    "\n",
    "# check\n",
    "example_train_vectors = count_vectorizer.fit_transform(train_df['text'][0:5])\n",
    "print(example_train_vectors[0].todense().shape)\n",
    "print(example_train_vectors[0].todense())"
   ]
  },
  {
   "cell_type": "code",
   "execution_count": 114,
   "id": "3724da00",
   "metadata": {},
   "outputs": [],
   "source": [
    "# create all vectors\n",
    "train_vectors = count_vectorizer.fit_transform(train_df['text'])"
   ]
  },
  {
   "cell_type": "code",
   "execution_count": 115,
   "id": "a554428b",
   "metadata": {},
   "outputs": [],
   "source": [
    "# baseline model: linear ridge regression\n",
    "clf = linear_model.RidgeClassifier()"
   ]
  },
  {
   "cell_type": "code",
   "execution_count": 116,
   "id": "c06a17d2",
   "metadata": {},
   "outputs": [
    {
     "data": {
      "text/plain": [
       "array([0.59453669, 0.5642787 , 0.64082434])"
      ]
     },
     "execution_count": 116,
     "metadata": {},
     "output_type": "execute_result"
    }
   ],
   "source": [
    "# get f1 score of baseline model\n",
    "scores = model_selection.cross_val_score(clf, \n",
    "                                         train_vectors, \n",
    "                                         train_df['target'], \n",
    "                                         cv = 3, \n",
    "                                         scoring = 'f1')\n",
    "scores"
   ]
  },
  {
   "cell_type": "code",
   "execution_count": 117,
   "id": "025c4189",
   "metadata": {},
   "outputs": [
    {
     "name": "stdout",
     "output_type": "stream",
     "text": [
      "              precision    recall  f1-score   support\n",
      "\n",
      "           0       0.78      0.85      0.81       869\n",
      "           1       0.77      0.68      0.72       654\n",
      "\n",
      "    accuracy                           0.78      1523\n",
      "   macro avg       0.78      0.76      0.77      1523\n",
      "weighted avg       0.78      0.78      0.77      1523\n",
      "\n"
     ]
    }
   ],
   "source": [
    "from sklearn.model_selection import train_test_split\n",
    "\n",
    "X_train, X_test, y_train, y_test = train_test_split(\n",
    "    train_df.text,\n",
    "    train_df.target,\n",
    "    test_size = 0.2,\n",
    "    random_state = 2022,\n",
    "    stratify = train_df.target)\n",
    "\n",
    "clf = Pipeline([\n",
    "    ('count_vectorizer', feature_extraction.text.CountVectorizer()),\n",
    "    ('ridge_classifier', linear_model.RidgeClassifier())\n",
    "])\n",
    "\n",
    "clf.fit(X_train, y_train)\n",
    "\n",
    "y_pred = clf.predict(X_test)\n",
    "\n",
    "print(classification_report(y_test, y_pred))"
   ]
  },
  {
   "cell_type": "code",
   "execution_count": 118,
   "id": "c01ee040",
   "metadata": {},
   "outputs": [],
   "source": [
    "# helper function to save scores\n",
    "from sklearn.metrics import f1_score\n",
    "\n",
    "scores_df = pd.DataFrame()\n",
    "\n",
    "def save_scores(model_pipe, X_train, X_test, y_train, y_test, name):\n",
    "  \n",
    "    # calculate predictions\n",
    "    train_pred = model_pipe.predict(X_train)\n",
    "    test_pred = model_pipe.predict(X_test)\n",
    "    \n",
    "    # save f1 scores for each class\n",
    "    f1_train_scores = f1_score(y_train, train_pred, average = None)\n",
    "    for i, f1 in enumerate(f1_train_scores):\n",
    "        if i == 0:\n",
    "            f1_0_train = f1\n",
    "        elif i == 1:\n",
    "            f1_1_train = f1\n",
    "            \n",
    "    f1_test_scores = f1_score(y_test, test_pred, average = None)\n",
    "    for i, f1 in enumerate(f1_test_scores):\n",
    "        if i == 0:\n",
    "            f1_0_test = f1\n",
    "        elif i == 1:\n",
    "            f1_1_test = f1\n",
    "        \n",
    "    # store scores\n",
    "    scores_df.at[name, 'F1_0_Train'] = f1_0_train\n",
    "    scores_df.at[name, 'F1_1_Train'] = f1_1_train\n",
    "    scores_df.at[name, 'F1_Avg_Train'] = f1_score(y_train, train_pred, average = 'macro')\n",
    "    scores_df.at[name, 'F1_0_Test'] = f1_0_test\n",
    "    scores_df.at[name, 'F1_1_Test'] = f1_1_test\n",
    "    scores_df.at[name, 'F1_Avg_Test'] = f1_score(y_test, test_pred, average = 'macro')\n",
    "    \n",
    "    # show scores for this model only (can call scores_df to see all scores)\n",
    "    print(scores_df.loc[name, :])"
   ]
  },
  {
   "cell_type": "markdown",
   "id": "0c0d73c0",
   "metadata": {},
   "source": [
    "# TF-IDF"
   ]
  },
  {
   "cell_type": "markdown",
   "id": "127fa007",
   "metadata": {},
   "source": [
    "## No class balancing, no preprocessing (KNN, MNB, RF)"
   ]
  },
  {
   "cell_type": "code",
   "execution_count": 119,
   "id": "5b723be3",
   "metadata": {},
   "outputs": [
    {
     "data": {
      "text/html": [
       "<div>\n",
       "<style scoped>\n",
       "    .dataframe tbody tr th:only-of-type {\n",
       "        vertical-align: middle;\n",
       "    }\n",
       "\n",
       "    .dataframe tbody tr th {\n",
       "        vertical-align: top;\n",
       "    }\n",
       "\n",
       "    .dataframe thead th {\n",
       "        text-align: right;\n",
       "    }\n",
       "</style>\n",
       "<table border=\"1\" class=\"dataframe\">\n",
       "  <thead>\n",
       "    <tr style=\"text-align: right;\">\n",
       "      <th></th>\n",
       "      <th>id</th>\n",
       "      <th>keyword</th>\n",
       "      <th>location</th>\n",
       "      <th>text</th>\n",
       "      <th>target</th>\n",
       "    </tr>\n",
       "  </thead>\n",
       "  <tbody>\n",
       "    <tr>\n",
       "      <th>0</th>\n",
       "      <td>1</td>\n",
       "      <td>NaN</td>\n",
       "      <td>NaN</td>\n",
       "      <td>Our Deeds are the Reason of this #earthquake M...</td>\n",
       "      <td>1</td>\n",
       "    </tr>\n",
       "    <tr>\n",
       "      <th>1</th>\n",
       "      <td>4</td>\n",
       "      <td>NaN</td>\n",
       "      <td>NaN</td>\n",
       "      <td>Forest fire near La Ronge Sask. Canada</td>\n",
       "      <td>1</td>\n",
       "    </tr>\n",
       "    <tr>\n",
       "      <th>2</th>\n",
       "      <td>5</td>\n",
       "      <td>NaN</td>\n",
       "      <td>NaN</td>\n",
       "      <td>All residents asked to 'shelter in place' are ...</td>\n",
       "      <td>1</td>\n",
       "    </tr>\n",
       "    <tr>\n",
       "      <th>3</th>\n",
       "      <td>6</td>\n",
       "      <td>NaN</td>\n",
       "      <td>NaN</td>\n",
       "      <td>13,000 people receive #wildfires evacuation or...</td>\n",
       "      <td>1</td>\n",
       "    </tr>\n",
       "    <tr>\n",
       "      <th>4</th>\n",
       "      <td>7</td>\n",
       "      <td>NaN</td>\n",
       "      <td>NaN</td>\n",
       "      <td>Just got sent this photo from Ruby #Alaska as ...</td>\n",
       "      <td>1</td>\n",
       "    </tr>\n",
       "  </tbody>\n",
       "</table>\n",
       "</div>"
      ],
      "text/plain": [
       "   id keyword location                                               text  \\\n",
       "0   1     NaN      NaN  Our Deeds are the Reason of this #earthquake M...   \n",
       "1   4     NaN      NaN             Forest fire near La Ronge Sask. Canada   \n",
       "2   5     NaN      NaN  All residents asked to 'shelter in place' are ...   \n",
       "3   6     NaN      NaN  13,000 people receive #wildfires evacuation or...   \n",
       "4   7     NaN      NaN  Just got sent this photo from Ruby #Alaska as ...   \n",
       "\n",
       "   target  \n",
       "0       1  \n",
       "1       1  \n",
       "2       1  \n",
       "3       1  \n",
       "4       1  "
      ]
     },
     "execution_count": 119,
     "metadata": {},
     "output_type": "execute_result"
    }
   ],
   "source": [
    "train_df.head()"
   ]
  },
  {
   "cell_type": "code",
   "execution_count": 120,
   "id": "42164b88",
   "metadata": {},
   "outputs": [],
   "source": [
    "# tts on unprocessed data\n",
    "from sklearn.model_selection import train_test_split\n",
    "\n",
    "X_train, X_test, y_train, y_test = train_test_split(\n",
    "    train_df.text,\n",
    "    train_df.target,\n",
    "    test_size = 0.2,\n",
    "    random_state = 2022,\n",
    "    stratify = train_df.target)"
   ]
  },
  {
   "cell_type": "code",
   "execution_count": 121,
   "id": "0c989ee5",
   "metadata": {},
   "outputs": [
    {
     "name": "stdout",
     "output_type": "stream",
     "text": [
      "              precision    recall  f1-score   support\n",
      "\n",
      "           0       0.76      0.86      0.81       869\n",
      "           1       0.78      0.65      0.71       654\n",
      "\n",
      "    accuracy                           0.77      1523\n",
      "   macro avg       0.77      0.75      0.76      1523\n",
      "weighted avg       0.77      0.77      0.76      1523\n",
      "\n"
     ]
    }
   ],
   "source": [
    "# knn, tfidf vectorizer\n",
    "from sklearn.feature_extraction.text import TfidfVectorizer\n",
    "from sklearn.neighbors import KNeighborsClassifier\n",
    "from sklearn.pipeline import Pipeline\n",
    "from sklearn.metrics import classification_report\n",
    "\n",
    "clf = Pipeline([\n",
    "    ('vectorizer_tfidf', TfidfVectorizer()),\n",
    "    ('KNN', KNeighborsClassifier())\n",
    "])\n",
    "\n",
    "clf.fit(X_train, y_train)\n",
    "\n",
    "y_pred = clf.predict(X_test)\n",
    "\n",
    "print(classification_report(y_test, y_pred))"
   ]
  },
  {
   "cell_type": "code",
   "execution_count": 122,
   "id": "1631d7eb",
   "metadata": {},
   "outputs": [
    {
     "name": "stdout",
     "output_type": "stream",
     "text": [
      "F1_0_Train      0.865308\n",
      "F1_1_Train      0.797617\n",
      "F1_Avg_Train    0.831462\n",
      "F1_0_Test       0.808672\n",
      "F1_1_Test       0.706078\n",
      "F1_Avg_Test     0.757375\n",
      "Name: knn-tfidf-unb, dtype: float64\n"
     ]
    }
   ],
   "source": [
    "save_scores(clf, X_train, X_test, y_train, y_test, \"knn-tfidf-unb\")"
   ]
  },
  {
   "cell_type": "code",
   "execution_count": 123,
   "id": "d828f5a1",
   "metadata": {},
   "outputs": [
    {
     "data": {
      "text/html": [
       "<div>\n",
       "<style scoped>\n",
       "    .dataframe tbody tr th:only-of-type {\n",
       "        vertical-align: middle;\n",
       "    }\n",
       "\n",
       "    .dataframe tbody tr th {\n",
       "        vertical-align: top;\n",
       "    }\n",
       "\n",
       "    .dataframe thead th {\n",
       "        text-align: right;\n",
       "    }\n",
       "</style>\n",
       "<table border=\"1\" class=\"dataframe\">\n",
       "  <thead>\n",
       "    <tr style=\"text-align: right;\">\n",
       "      <th></th>\n",
       "      <th>F1_0_Train</th>\n",
       "      <th>F1_1_Train</th>\n",
       "      <th>F1_Avg_Train</th>\n",
       "      <th>F1_0_Test</th>\n",
       "      <th>F1_1_Test</th>\n",
       "      <th>F1_Avg_Test</th>\n",
       "    </tr>\n",
       "  </thead>\n",
       "  <tbody>\n",
       "    <tr>\n",
       "      <th>knn-tfidf-unb</th>\n",
       "      <td>0.865308</td>\n",
       "      <td>0.797617</td>\n",
       "      <td>0.831462</td>\n",
       "      <td>0.808672</td>\n",
       "      <td>0.706078</td>\n",
       "      <td>0.757375</td>\n",
       "    </tr>\n",
       "  </tbody>\n",
       "</table>\n",
       "</div>"
      ],
      "text/plain": [
       "               F1_0_Train  F1_1_Train  F1_Avg_Train  F1_0_Test  F1_1_Test  \\\n",
       "knn-tfidf-unb    0.865308    0.797617      0.831462   0.808672   0.706078   \n",
       "\n",
       "               F1_Avg_Test  \n",
       "knn-tfidf-unb     0.757375  "
      ]
     },
     "execution_count": 123,
     "metadata": {},
     "output_type": "execute_result"
    }
   ],
   "source": [
    "scores_df"
   ]
  },
  {
   "cell_type": "code",
   "execution_count": 124,
   "id": "9604b545",
   "metadata": {},
   "outputs": [
    {
     "name": "stdout",
     "output_type": "stream",
     "text": [
      "              precision    recall  f1-score   support\n",
      "\n",
      "           0       0.76      0.93      0.84       869\n",
      "           1       0.87      0.61      0.72       654\n",
      "\n",
      "    accuracy                           0.79      1523\n",
      "   macro avg       0.81      0.77      0.78      1523\n",
      "weighted avg       0.81      0.79      0.78      1523\n",
      "\n"
     ]
    }
   ],
   "source": [
    "# multinomial naive bayes\n",
    "\n",
    "from sklearn.naive_bayes import MultinomialNB\n",
    "\n",
    "clf = Pipeline([\n",
    "    ('vectorizer_tfidf', TfidfVectorizer()),\n",
    "    ('Multi NB', MultinomialNB())\n",
    "])\n",
    "\n",
    "clf.fit(X_train, y_train)\n",
    "\n",
    "y_pred = clf.predict(X_test)\n",
    "\n",
    "print(classification_report(y_test, y_pred))"
   ]
  },
  {
   "cell_type": "code",
   "execution_count": 125,
   "id": "0c35df2a",
   "metadata": {},
   "outputs": [
    {
     "name": "stdout",
     "output_type": "stream",
     "text": [
      "F1_0_Train      0.910580\n",
      "F1_1_Train      0.859256\n",
      "F1_Avg_Train    0.884918\n",
      "F1_0_Test       0.835836\n",
      "F1_1_Test       0.715695\n",
      "F1_Avg_Test     0.775766\n",
      "Name: mnb-tfidf-unb, dtype: float64\n"
     ]
    }
   ],
   "source": [
    "save_scores(clf, X_train, X_test, y_train, y_test, \"mnb-tfidf-unb\")"
   ]
  },
  {
   "cell_type": "code",
   "execution_count": 126,
   "id": "9190d84b",
   "metadata": {},
   "outputs": [
    {
     "name": "stdout",
     "output_type": "stream",
     "text": [
      "              precision    recall  f1-score   support\n",
      "\n",
      "           0       0.74      0.93      0.82       869\n",
      "           1       0.85      0.57      0.69       654\n",
      "\n",
      "    accuracy                           0.78      1523\n",
      "   macro avg       0.80      0.75      0.76      1523\n",
      "weighted avg       0.79      0.78      0.77      1523\n",
      "\n"
     ]
    }
   ],
   "source": [
    "# random forest\n",
    "\n",
    "from sklearn.ensemble import RandomForestClassifier\n",
    "\n",
    "clf = Pipeline([\n",
    "    ('vectorizer_tfidf', TfidfVectorizer()),\n",
    "    ('Random Forest', RandomForestClassifier())\n",
    "])\n",
    "\n",
    "clf.fit(X_train, y_train)\n",
    "\n",
    "y_pred = clf.predict(X_test)\n",
    "\n",
    "print(classification_report(y_test, y_pred))"
   ]
  },
  {
   "cell_type": "code",
   "execution_count": 127,
   "id": "4df9d4d2",
   "metadata": {},
   "outputs": [
    {
     "name": "stdout",
     "output_type": "stream",
     "text": [
      "F1_0_Train      0.997411\n",
      "F1_1_Train      0.996557\n",
      "F1_Avg_Train    0.996984\n",
      "F1_0_Test       0.824795\n",
      "F1_1_Test       0.687386\n",
      "F1_Avg_Test     0.756090\n",
      "Name: rf-tfidf-unb, dtype: float64\n"
     ]
    }
   ],
   "source": [
    "save_scores(clf, X_train, X_test, y_train, y_test, \"rf-tfidf-unb\")"
   ]
  },
  {
   "cell_type": "markdown",
   "id": "ad63d7c2",
   "metadata": {},
   "source": [
    "## No class balancing, minimal preprocessing (KNN, MNB, RF)"
   ]
  },
  {
   "cell_type": "code",
   "execution_count": 128,
   "id": "df221a9c",
   "metadata": {},
   "outputs": [],
   "source": [
    "# preprocessing: removing spacy stopwords and punctuation, lemmatizing\n",
    "\n",
    "import spacy\n",
    "\n",
    "nlp = spacy.load(\"en_core_web_sm\")\n",
    "\n",
    "def preprocess(text):\n",
    "    doc = nlp(text)\n",
    "    \n",
    "    filtered_tokens = []\n",
    "    \n",
    "    # take out stopwords and punctuation\n",
    "    for token in doc:\n",
    "        if token.is_stop or token.is_punct:\n",
    "            continue\n",
    "        \n",
    "        # convert to lemmas\n",
    "        filtered_tokens.append(token.lemma_)\n",
    "            \n",
    "    return \" \".join(filtered_tokens)"
   ]
  },
  {
   "cell_type": "code",
   "execution_count": 129,
   "id": "90c1e4e6",
   "metadata": {},
   "outputs": [],
   "source": [
    "train_df['preprocessed_txt'] = train_df['text'].apply(preprocess)"
   ]
  },
  {
   "cell_type": "code",
   "execution_count": 130,
   "id": "7486344f",
   "metadata": {},
   "outputs": [
    {
     "data": {
      "text/html": [
       "<div>\n",
       "<style scoped>\n",
       "    .dataframe tbody tr th:only-of-type {\n",
       "        vertical-align: middle;\n",
       "    }\n",
       "\n",
       "    .dataframe tbody tr th {\n",
       "        vertical-align: top;\n",
       "    }\n",
       "\n",
       "    .dataframe thead th {\n",
       "        text-align: right;\n",
       "    }\n",
       "</style>\n",
       "<table border=\"1\" class=\"dataframe\">\n",
       "  <thead>\n",
       "    <tr style=\"text-align: right;\">\n",
       "      <th></th>\n",
       "      <th>id</th>\n",
       "      <th>keyword</th>\n",
       "      <th>location</th>\n",
       "      <th>text</th>\n",
       "      <th>target</th>\n",
       "      <th>preprocessed_txt</th>\n",
       "    </tr>\n",
       "  </thead>\n",
       "  <tbody>\n",
       "    <tr>\n",
       "      <th>0</th>\n",
       "      <td>1</td>\n",
       "      <td>NaN</td>\n",
       "      <td>NaN</td>\n",
       "      <td>Our Deeds are the Reason of this #earthquake M...</td>\n",
       "      <td>1</td>\n",
       "      <td>deed Reason earthquake ALLAH forgive</td>\n",
       "    </tr>\n",
       "    <tr>\n",
       "      <th>1</th>\n",
       "      <td>4</td>\n",
       "      <td>NaN</td>\n",
       "      <td>NaN</td>\n",
       "      <td>Forest fire near La Ronge Sask. Canada</td>\n",
       "      <td>1</td>\n",
       "      <td>forest fire near La Ronge Sask Canada</td>\n",
       "    </tr>\n",
       "    <tr>\n",
       "      <th>2</th>\n",
       "      <td>5</td>\n",
       "      <td>NaN</td>\n",
       "      <td>NaN</td>\n",
       "      <td>All residents asked to 'shelter in place' are ...</td>\n",
       "      <td>1</td>\n",
       "      <td>resident ask shelter place notify officer evac...</td>\n",
       "    </tr>\n",
       "    <tr>\n",
       "      <th>3</th>\n",
       "      <td>6</td>\n",
       "      <td>NaN</td>\n",
       "      <td>NaN</td>\n",
       "      <td>13,000 people receive #wildfires evacuation or...</td>\n",
       "      <td>1</td>\n",
       "      <td>13,000 people receive wildfire evacuation orde...</td>\n",
       "    </tr>\n",
       "    <tr>\n",
       "      <th>4</th>\n",
       "      <td>7</td>\n",
       "      <td>NaN</td>\n",
       "      <td>NaN</td>\n",
       "      <td>Just got sent this photo from Ruby #Alaska as ...</td>\n",
       "      <td>1</td>\n",
       "      <td>got send photo Ruby Alaska smoke wildfire pour...</td>\n",
       "    </tr>\n",
       "  </tbody>\n",
       "</table>\n",
       "</div>"
      ],
      "text/plain": [
       "   id keyword location                                               text  \\\n",
       "0   1     NaN      NaN  Our Deeds are the Reason of this #earthquake M...   \n",
       "1   4     NaN      NaN             Forest fire near La Ronge Sask. Canada   \n",
       "2   5     NaN      NaN  All residents asked to 'shelter in place' are ...   \n",
       "3   6     NaN      NaN  13,000 people receive #wildfires evacuation or...   \n",
       "4   7     NaN      NaN  Just got sent this photo from Ruby #Alaska as ...   \n",
       "\n",
       "   target                                   preprocessed_txt  \n",
       "0       1               deed Reason earthquake ALLAH forgive  \n",
       "1       1              forest fire near La Ronge Sask Canada  \n",
       "2       1  resident ask shelter place notify officer evac...  \n",
       "3       1  13,000 people receive wildfire evacuation orde...  \n",
       "4       1  got send photo Ruby Alaska smoke wildfire pour...  "
      ]
     },
     "execution_count": 130,
     "metadata": {},
     "output_type": "execute_result"
    }
   ],
   "source": [
    "# check\n",
    "train_df.head()"
   ]
  },
  {
   "cell_type": "code",
   "execution_count": 131,
   "id": "3c67399a",
   "metadata": {},
   "outputs": [],
   "source": [
    "# tts on processed data\n",
    "\n",
    "X_train, X_test, y_train, y_test = train_test_split(\n",
    "    train_df.preprocessed_txt,\n",
    "    train_df.target,\n",
    "    test_size = 0.2,\n",
    "    random_state = 2022,\n",
    "    stratify = train_df.target)"
   ]
  },
  {
   "cell_type": "code",
   "execution_count": 132,
   "id": "0c92599d",
   "metadata": {},
   "outputs": [
    {
     "name": "stdout",
     "output_type": "stream",
     "text": [
      "              precision    recall  f1-score   support\n",
      "\n",
      "           0       0.76      0.86      0.81       869\n",
      "           1       0.77      0.63      0.70       654\n",
      "\n",
      "    accuracy                           0.76      1523\n",
      "   macro avg       0.77      0.75      0.75      1523\n",
      "weighted avg       0.76      0.76      0.76      1523\n",
      "\n"
     ]
    }
   ],
   "source": [
    "# knn on preprocessed data\n",
    "clf = Pipeline([\n",
    "    ('vectorizer_tfidf', TfidfVectorizer()),\n",
    "    ('KNN', KNeighborsClassifier())\n",
    "])\n",
    "\n",
    "clf.fit(X_train, y_train)\n",
    "\n",
    "y_pred = clf.predict(X_test)\n",
    "\n",
    "print(classification_report(y_test, y_pred))"
   ]
  },
  {
   "cell_type": "code",
   "execution_count": 133,
   "id": "40caf7a9",
   "metadata": {},
   "outputs": [
    {
     "name": "stdout",
     "output_type": "stream",
     "text": [
      "F1_0_Train      0.864214\n",
      "F1_1_Train      0.790221\n",
      "F1_Avg_Train    0.827218\n",
      "F1_0_Test       0.806034\n",
      "F1_1_Test       0.697479\n",
      "F1_Avg_Test     0.751757\n",
      "Name: knn-tfidf-unb-prep, dtype: float64\n"
     ]
    }
   ],
   "source": [
    "save_scores(clf, X_train, X_test, y_train, y_test, \"knn-tfidf-unb-prep\")"
   ]
  },
  {
   "cell_type": "code",
   "execution_count": 134,
   "id": "4252b8da",
   "metadata": {},
   "outputs": [
    {
     "name": "stdout",
     "output_type": "stream",
     "text": [
      "              precision    recall  f1-score   support\n",
      "\n",
      "           0       0.78      0.91      0.84       869\n",
      "           1       0.84      0.65      0.73       654\n",
      "\n",
      "    accuracy                           0.80      1523\n",
      "   macro avg       0.81      0.78      0.78      1523\n",
      "weighted avg       0.80      0.80      0.79      1523\n",
      "\n"
     ]
    }
   ],
   "source": [
    "# multinomial naive bayes on preprocessed text\n",
    "\n",
    "clf = Pipeline([\n",
    "    ('vectorizer_tfidf', TfidfVectorizer()),\n",
    "    ('Multi NB', MultinomialNB())\n",
    "])\n",
    "\n",
    "clf.fit(X_train, y_train)\n",
    "\n",
    "y_pred = clf.predict(X_test)\n",
    "\n",
    "print(classification_report(y_test, y_pred))"
   ]
  },
  {
   "cell_type": "code",
   "execution_count": 135,
   "id": "f260cd4a",
   "metadata": {},
   "outputs": [
    {
     "name": "stdout",
     "output_type": "stream",
     "text": [
      "F1_0_Train      0.926736\n",
      "F1_1_Train      0.889803\n",
      "F1_Avg_Train    0.908269\n",
      "F1_0_Test       0.836074\n",
      "F1_1_Test       0.733850\n",
      "F1_Avg_Test     0.784962\n",
      "Name: mnb-tfidf-unb-prep, dtype: float64\n"
     ]
    }
   ],
   "source": [
    "save_scores(clf, X_train, X_test, y_train, y_test, \"mnb-tfidf-unb-prep\")"
   ]
  },
  {
   "cell_type": "code",
   "execution_count": 136,
   "id": "1a3cccb6",
   "metadata": {},
   "outputs": [
    {
     "name": "stdout",
     "output_type": "stream",
     "text": [
      "              precision    recall  f1-score   support\n",
      "\n",
      "           0       0.74      0.91      0.82       869\n",
      "           1       0.83      0.58      0.68       654\n",
      "\n",
      "    accuracy                           0.77      1523\n",
      "   macro avg       0.79      0.74      0.75      1523\n",
      "weighted avg       0.78      0.77      0.76      1523\n",
      "\n"
     ]
    }
   ],
   "source": [
    "# random forest on preprocessed text\n",
    "\n",
    "clf = Pipeline([\n",
    "    ('vectorizer_tfidf', TfidfVectorizer()),\n",
    "    ('Random Forest', RandomForestClassifier())\n",
    "])\n",
    "\n",
    "clf.fit(X_train, y_train)\n",
    "\n",
    "y_pred = clf.predict(X_test)\n",
    "\n",
    "print(classification_report(y_test, y_pred))"
   ]
  },
  {
   "cell_type": "code",
   "execution_count": 137,
   "id": "b286be4c",
   "metadata": {},
   "outputs": [
    {
     "name": "stdout",
     "output_type": "stream",
     "text": [
      "F1_0_Train      0.997554\n",
      "F1_1_Train      0.996750\n",
      "F1_Avg_Train    0.997152\n",
      "F1_0_Test       0.817947\n",
      "F1_1_Test       0.681120\n",
      "F1_Avg_Test     0.749534\n",
      "Name: rf-tfidf-unb-prep, dtype: float64\n"
     ]
    }
   ],
   "source": [
    "save_scores(clf, X_train, X_test, y_train, y_test, \"rf-tfidf-unb-prep\")"
   ]
  },
  {
   "cell_type": "code",
   "execution_count": 140,
   "id": "b67c5204",
   "metadata": {},
   "outputs": [
    {
     "data": {
      "text/html": [
       "<div>\n",
       "<style scoped>\n",
       "    .dataframe tbody tr th:only-of-type {\n",
       "        vertical-align: middle;\n",
       "    }\n",
       "\n",
       "    .dataframe tbody tr th {\n",
       "        vertical-align: top;\n",
       "    }\n",
       "\n",
       "    .dataframe thead th {\n",
       "        text-align: right;\n",
       "    }\n",
       "</style>\n",
       "<table border=\"1\" class=\"dataframe\">\n",
       "  <thead>\n",
       "    <tr style=\"text-align: right;\">\n",
       "      <th></th>\n",
       "      <th>F1_0_Train</th>\n",
       "      <th>F1_1_Train</th>\n",
       "      <th>F1_Avg_Train</th>\n",
       "      <th>F1_0_Test</th>\n",
       "      <th>F1_1_Test</th>\n",
       "      <th>F1_Avg_Test</th>\n",
       "    </tr>\n",
       "  </thead>\n",
       "  <tbody>\n",
       "    <tr>\n",
       "      <th>mnb-tfidf-unb-prep</th>\n",
       "      <td>0.926736</td>\n",
       "      <td>0.889803</td>\n",
       "      <td>0.908269</td>\n",
       "      <td>0.836074</td>\n",
       "      <td>0.733850</td>\n",
       "      <td>0.784962</td>\n",
       "    </tr>\n",
       "    <tr>\n",
       "      <th>mnb-tfidf-unb</th>\n",
       "      <td>0.910580</td>\n",
       "      <td>0.859256</td>\n",
       "      <td>0.884918</td>\n",
       "      <td>0.835836</td>\n",
       "      <td>0.715695</td>\n",
       "      <td>0.775766</td>\n",
       "    </tr>\n",
       "    <tr>\n",
       "      <th>knn-tfidf-unb</th>\n",
       "      <td>0.865308</td>\n",
       "      <td>0.797617</td>\n",
       "      <td>0.831462</td>\n",
       "      <td>0.808672</td>\n",
       "      <td>0.706078</td>\n",
       "      <td>0.757375</td>\n",
       "    </tr>\n",
       "    <tr>\n",
       "      <th>rf-tfidf-unb</th>\n",
       "      <td>0.997411</td>\n",
       "      <td>0.996557</td>\n",
       "      <td>0.996984</td>\n",
       "      <td>0.824795</td>\n",
       "      <td>0.687386</td>\n",
       "      <td>0.756090</td>\n",
       "    </tr>\n",
       "    <tr>\n",
       "      <th>knn-tfidf-unb-prep</th>\n",
       "      <td>0.864214</td>\n",
       "      <td>0.790221</td>\n",
       "      <td>0.827218</td>\n",
       "      <td>0.806034</td>\n",
       "      <td>0.697479</td>\n",
       "      <td>0.751757</td>\n",
       "    </tr>\n",
       "    <tr>\n",
       "      <th>rf-tfidf-unb-prep</th>\n",
       "      <td>0.997554</td>\n",
       "      <td>0.996750</td>\n",
       "      <td>0.997152</td>\n",
       "      <td>0.817947</td>\n",
       "      <td>0.681120</td>\n",
       "      <td>0.749534</td>\n",
       "    </tr>\n",
       "  </tbody>\n",
       "</table>\n",
       "</div>"
      ],
      "text/plain": [
       "                    F1_0_Train  F1_1_Train  F1_Avg_Train  F1_0_Test  \\\n",
       "mnb-tfidf-unb-prep    0.926736    0.889803      0.908269   0.836074   \n",
       "mnb-tfidf-unb         0.910580    0.859256      0.884918   0.835836   \n",
       "knn-tfidf-unb         0.865308    0.797617      0.831462   0.808672   \n",
       "rf-tfidf-unb          0.997411    0.996557      0.996984   0.824795   \n",
       "knn-tfidf-unb-prep    0.864214    0.790221      0.827218   0.806034   \n",
       "rf-tfidf-unb-prep     0.997554    0.996750      0.997152   0.817947   \n",
       "\n",
       "                    F1_1_Test  F1_Avg_Test  \n",
       "mnb-tfidf-unb-prep   0.733850     0.784962  \n",
       "mnb-tfidf-unb        0.715695     0.775766  \n",
       "knn-tfidf-unb        0.706078     0.757375  \n",
       "rf-tfidf-unb         0.687386     0.756090  \n",
       "knn-tfidf-unb-prep   0.697479     0.751757  \n",
       "rf-tfidf-unb-prep    0.681120     0.749534  "
      ]
     },
     "execution_count": 140,
     "metadata": {},
     "output_type": "execute_result"
    }
   ],
   "source": [
    "scores_df.sort_values(by = 'F1_Avg_Test', ascending = False)"
   ]
  },
  {
   "cell_type": "markdown",
   "id": "fd9c8343",
   "metadata": {},
   "source": [
    "## Class balancing"
   ]
  },
  {
   "cell_type": "code",
   "execution_count": null,
   "id": "402b4b35",
   "metadata": {},
   "outputs": [],
   "source": []
  }
 ],
 "metadata": {
  "kernelspec": {
   "display_name": "Python 3 (ipykernel)",
   "language": "python",
   "name": "python3"
  },
  "language_info": {
   "codemirror_mode": {
    "name": "ipython",
    "version": 3
   },
   "file_extension": ".py",
   "mimetype": "text/x-python",
   "name": "python",
   "nbconvert_exporter": "python",
   "pygments_lexer": "ipython3",
   "version": "3.10.9"
  },
  "toc": {
   "base_numbering": 1,
   "nav_menu": {},
   "number_sections": false,
   "sideBar": true,
   "skip_h1_title": false,
   "title_cell": "Table of Contents",
   "title_sidebar": "Contents",
   "toc_cell": false,
   "toc_position": {},
   "toc_section_display": true,
   "toc_window_display": false
  }
 },
 "nbformat": 4,
 "nbformat_minor": 5
}
