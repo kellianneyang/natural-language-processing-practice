{
 "cells": [
  {
   "cell_type": "markdown",
   "id": "86bd9180",
   "metadata": {},
   "source": [
    "# Advanced NLP with spaCy\n",
    "# Chapter 1: Finding words, phrases, names, and concepts"
   ]
  },
  {
   "cell_type": "markdown",
   "id": "48d674a3",
   "metadata": {},
   "source": [
    "This chapter will introduce you to the basics of text processing with spaCy. You'll learn about the data structures, how to work with trained pipelines, and how to use them to predict linguistic features in your text.\n",
    "\n",
    "Source: https://course.spacy.io/en/chapter1"
   ]
  },
  {
   "cell_type": "markdown",
   "id": "e75758f4",
   "metadata": {},
   "source": [
    "# Import"
   ]
  },
  {
   "cell_type": "code",
   "execution_count": 1,
   "id": "c053f1ff",
   "metadata": {},
   "outputs": [],
   "source": [
    "import spacy"
   ]
  },
  {
   "cell_type": "markdown",
   "id": "18d7bc4e",
   "metadata": {},
   "source": [
    "# Introduction to spaCy"
   ]
  },
  {
   "cell_type": "markdown",
   "id": "e468ad98",
   "metadata": {},
   "source": [
    "## The nlp object"
   ]
  },
  {
   "cell_type": "code",
   "execution_count": 2,
   "id": "44f5aedf",
   "metadata": {},
   "outputs": [],
   "source": [
    "# create a blank English nlp object\n",
    "nlp = spacy.blank(\"en\")\n",
    "\n",
    "# contains preprocessing pipeline\n",
    "# includes language-specific rules for tokenization, etc."
   ]
  },
  {
   "cell_type": "markdown",
   "id": "655a5496",
   "metadata": {},
   "source": [
    "## The doc object"
   ]
  },
  {
   "cell_type": "code",
   "execution_count": 3,
   "id": "d3e3e781",
   "metadata": {},
   "outputs": [
    {
     "name": "stdout",
     "output_type": "stream",
     "text": [
      "Hello\n",
      "world\n",
      "!\n"
     ]
    }
   ],
   "source": [
    "# created by preprocessing a string of text with the nlp object\n",
    "doc = nlp(\"Hello world!\")\n",
    "\n",
    "# iterate over tokjens in a doc\n",
    "for token in doc:\n",
    "    print(token.text)\n",
    "    \n",
    "# can also get a token by its index"
   ]
  },
  {
   "attachments": {
    "image.png": {
     "image/png": "[encoded data removed]"
    }
   },
   "cell_type": "markdown",
   "id": "36f3c457",
   "metadata": {},
   "source": [
    "![image.png](attachment:image.png)"
   ]
  },
  {
   "cell_type": "markdown",
   "id": "3794af82",
   "metadata": {},
   "source": [
    "## The token object"
   ]
  },
  {
   "cell_type": "code",
   "execution_count": 4,
   "id": "77c267d0",
   "metadata": {},
   "outputs": [
    {
     "name": "stdout",
     "output_type": "stream",
     "text": [
      "world\n"
     ]
    }
   ],
   "source": [
    "# get a single token from a doc by its index\n",
    "token = doc[1]\n",
    "\n",
    "# get the token text with .text\n",
    "print(token.text)"
   ]
  },
  {
   "cell_type": "markdown",
   "id": "8cfe2cc3",
   "metadata": {},
   "source": [
    "## The span object"
   ]
  },
  {
   "cell_type": "code",
   "execution_count": 5,
   "id": "a13e5996",
   "metadata": {},
   "outputs": [
    {
     "name": "stdout",
     "output_type": "stream",
     "text": [
      "world!\n"
     ]
    }
   ],
   "source": [
    "# a slice from the doc is a span object\n",
    "span = doc[1:3]\n",
    "\n",
    "print(span.text)"
   ]
  },
  {
   "attachments": {
    "image.png": {
     "image/png": "[encoded data removed]"
    }
   },
   "cell_type": "markdown",
   "id": "d8b36932",
   "metadata": {},
   "source": [
    "![image.png](attachment:image.png)"
   ]
  },
  {
   "cell_type": "markdown",
   "id": "85600285",
   "metadata": {},
   "source": [
    "## Lexical attributes"
   ]
  },
  {
   "cell_type": "code",
   "execution_count": 6,
   "id": "6ff3fae0",
   "metadata": {},
   "outputs": [],
   "source": [
    "doc = nlp(\"It costs $5.\")"
   ]
  },
  {
   "cell_type": "code",
   "execution_count": 7,
   "id": "5a6ad109",
   "metadata": {},
   "outputs": [
    {
     "name": "stdout",
     "output_type": "stream",
     "text": [
      "Index:  [0, 1, 2, 3, 4]\n"
     ]
    }
   ],
   "source": [
    "# print indices for all tokens in doc\n",
    "print(\"Index: \", [token.i for token in doc])"
   ]
  },
  {
   "cell_type": "code",
   "execution_count": 8,
   "id": "3f7dc573",
   "metadata": {},
   "outputs": [
    {
     "name": "stdout",
     "output_type": "stream",
     "text": [
      "Text:  ['It', 'costs', '$', '5', '.']\n"
     ]
    }
   ],
   "source": [
    "# print text for all tokens in doc\n",
    "print(\"Text: \", [token.text for token in doc])"
   ]
  },
  {
   "cell_type": "code",
   "execution_count": 9,
   "id": "e5ddefab",
   "metadata": {},
   "outputs": [
    {
     "name": "stdout",
     "output_type": "stream",
     "text": [
      "is_alpha:  [True, True, False, False, False]\n"
     ]
    }
   ],
   "source": [
    "# print boolean is_alpha for all tokens in doc\n",
    "print(\"is_alpha: \", [token.is_alpha for token in doc])\n",
    "\n",
    "# whether token consists of alphabetic characters"
   ]
  },
  {
   "cell_type": "code",
   "execution_count": 10,
   "id": "47ab834d",
   "metadata": {},
   "outputs": [
    {
     "name": "stdout",
     "output_type": "stream",
     "text": [
      "is_punct:  [False, False, False, False, True]\n"
     ]
    }
   ],
   "source": [
    "# print boolean is_punct for all tokens in doc\n",
    "print(\"is_punct: \", [token.is_punct for token in doc])\n",
    "\n",
    "# whether it's punctuation"
   ]
  },
  {
   "cell_type": "code",
   "execution_count": 11,
   "id": "8861396d",
   "metadata": {},
   "outputs": [
    {
     "name": "stdout",
     "output_type": "stream",
     "text": [
      "like_num:  [False, False, False, True, False]\n"
     ]
    }
   ],
   "source": [
    "# print boolean like_num for all tokens in doc\n",
    "print(\"like_num: \", [token.like_num for token in doc])\n",
    "\n",
    "# whether it RESEMBLES a number\n",
    "# 10 = True\n",
    "# ten = True"
   ]
  },
  {
   "cell_type": "markdown",
   "id": "34bf7a90",
   "metadata": {},
   "source": [
    "# Getting Started"
   ]
  },
  {
   "cell_type": "code",
   "execution_count": 12,
   "id": "6986098c",
   "metadata": {},
   "outputs": [
    {
     "name": "stdout",
     "output_type": "stream",
     "text": [
      "This is a sentence.\n"
     ]
    }
   ],
   "source": [
    "doc = nlp(\"This is a sentence.\")\n",
    "print(doc.text)\n",
    "\n",
    "# can also print out whole text of a document"
   ]
  },
  {
   "cell_type": "code",
   "execution_count": 13,
   "id": "ba332a62",
   "metadata": {},
   "outputs": [
    {
     "name": "stdout",
     "output_type": "stream",
     "text": [
      "Liebe Grüße!\n"
     ]
    }
   ],
   "source": [
    "nlp = spacy.blank(\"de\") # german\n",
    "\n",
    "doc = nlp(\"Liebe Grüße!\")\n",
    "\n",
    "print(doc.text)"
   ]
  },
  {
   "cell_type": "markdown",
   "id": "893e2795",
   "metadata": {},
   "source": [
    "# Documents, spans, and tokens"
   ]
  },
  {
   "cell_type": "code",
   "execution_count": 14,
   "id": "3896febd",
   "metadata": {},
   "outputs": [
    {
     "name": "stdout",
     "output_type": "stream",
     "text": [
      "I\n"
     ]
    }
   ],
   "source": [
    "nlp = spacy.blank(\"en\")\n",
    "doc = nlp(\"I like tree kangaroos and narwhals.\")\n",
    "first_token = doc[0]\n",
    "print(first_token)"
   ]
  },
  {
   "cell_type": "code",
   "execution_count": 15,
   "id": "990e4b2e",
   "metadata": {},
   "outputs": [
    {
     "name": "stdout",
     "output_type": "stream",
     "text": [
      "tree kangaroos\n"
     ]
    }
   ],
   "source": [
    "tree_kangaroos = doc[2:4] # span\n",
    "print(tree_kangaroos)"
   ]
  },
  {
   "cell_type": "code",
   "execution_count": 16,
   "id": "6364ccd4",
   "metadata": {},
   "outputs": [
    {
     "name": "stdout",
     "output_type": "stream",
     "text": [
      "tree kangaroos and narwhals\n"
     ]
    }
   ],
   "source": [
    "tree_kangaroos_and_narwhals = doc[2:6]\n",
    "print(tree_kangaroos_and_narwhals)"
   ]
  },
  {
   "cell_type": "markdown",
   "id": "c6c0625e",
   "metadata": {},
   "source": [
    "# Lexical attributes"
   ]
  },
  {
   "cell_type": "markdown",
   "id": "a3d303a9",
   "metadata": {},
   "source": [
    "## Look for percentages in a text"
   ]
  },
  {
   "cell_type": "code",
   "execution_count": 17,
   "id": "4b75d129",
   "metadata": {},
   "outputs": [],
   "source": [
    "doc = nlp(\n",
    "    \"In 1990, more than 60% of people in East Asia were in extreme poverty. \"\n",
    "    \"Now less than 4% are.\"\n",
    ")"
   ]
  },
  {
   "cell_type": "code",
   "execution_count": 18,
   "id": "4a69eadb",
   "metadata": {},
   "outputs": [
    {
     "name": "stdout",
     "output_type": "stream",
     "text": [
      "Percentage found: 60%\n",
      "Percentage found: 4%\n"
     ]
    }
   ],
   "source": [
    "# iterate over tokens in the doc\n",
    "for token in doc:\n",
    "    \n",
    "    # check if the token resembles a number\n",
    "    if token.like_num:\n",
    "        \n",
    "        # get the next token in the doc\n",
    "        next_token = doc[token.i + 1]\n",
    "        \n",
    "        # check if the next token is a % sign\n",
    "        if next_token.text == \"%\":\n",
    "            \n",
    "            print(f\"Percentage found: {token.text}{next_token}\")"
   ]
  },
  {
   "cell_type": "markdown",
   "id": "d569d17c",
   "metadata": {},
   "source": [
    "# Trained pipelines"
   ]
  },
  {
   "cell_type": "code",
   "execution_count": 19,
   "id": "b96b623b",
   "metadata": {},
   "outputs": [],
   "source": [
    "# trained pipelines are models that enable spaCy to predict linguistic attributes IN CONTEXT, such as\n",
    "# part-of-speech (POS) tags\n",
    "# syntactic dependencies\n",
    "# named entities\n",
    "\n",
    "# they are trained on labeled example texts\n",
    "# they can be updated with more examples to fine-tune predictions"
   ]
  },
  {
   "cell_type": "code",
   "execution_count": 20,
   "id": "71bb5255",
   "metadata": {},
   "outputs": [],
   "source": [
    "# pipeline packages\n",
    "# load the \"en_core_web_sm\" package, a small English pipeline that supports all core capabilities and is trained on web text\n",
    "# assign it to an nlp object\n",
    "spacy.load(\"en_core_web_sm\")\n",
    "nlp = spacy.load(\"en_core_web_sm\")\n",
    "\n",
    "# this package provides:\n",
    "# binary weights that enable spaCy to make predictions\n",
    "# vocabulary\n",
    "# meta information about pipeline\n",
    "# configuration file used to train the pipeline\n",
    "# it tells spaCy which language class to use and how to configure the processing pipeline"
   ]
  },
  {
   "cell_type": "markdown",
   "id": "5b048e19",
   "metadata": {},
   "source": [
    "## Predicting POS tags"
   ]
  },
  {
   "cell_type": "code",
   "execution_count": 21,
   "id": "57efc45f",
   "metadata": {},
   "outputs": [
    {
     "name": "stdout",
     "output_type": "stream",
     "text": [
      "She PRON\n",
      "ate VERB\n",
      "the DET\n",
      "pizza NOUN\n"
     ]
    }
   ],
   "source": [
    "nlp = spacy.load(\"en_core_web_sm\")\n",
    "\n",
    "doc = nlp(\"She ate the pizza\")\n",
    "\n",
    "# iterate over tokens and predict the POS tag (from the trained pipeline)\n",
    "for token in doc:\n",
    "    print(token.text, token.pos_)\n",
    "    \n",
    "# attributes that return strings usually end with an underscore _\n",
    "# attributes that return integer ID values don't"
   ]
  },
  {
   "cell_type": "markdown",
   "id": "7eb0a616",
   "metadata": {},
   "source": [
    "## Predicting syntactic dependencies"
   ]
  },
  {
   "cell_type": "code",
   "execution_count": 22,
   "id": "32114959",
   "metadata": {},
   "outputs": [
    {
     "name": "stdout",
     "output_type": "stream",
     "text": [
      "She PRON nsubj ate\n",
      "ate VERB ROOT ate\n",
      "the DET det pizza\n",
      "pizza NOUN dobj ate\n"
     ]
    }
   ],
   "source": [
    "for token in doc:\n",
    "    print(token.text, token.pos_, token.dep_, token.head.text)"
   ]
  },
  {
   "attachments": {
    "image.png": {
     "image/png": "[encoded data removed]"
    }
   },
   "cell_type": "markdown",
   "id": "aafce5dc",
   "metadata": {},
   "source": [
    "![image.png](attachment:image.png)"
   ]
  },
  {
   "cell_type": "markdown",
   "id": "99abda57",
   "metadata": {},
   "source": [
    "## Predicting named entities"
   ]
  },
  {
   "cell_type": "code",
   "execution_count": 23,
   "id": "e316c418",
   "metadata": {},
   "outputs": [
    {
     "name": "stdout",
     "output_type": "stream",
     "text": [
      "Apple ORG\n",
      "U.K. GPE\n",
      "$1 billion MONEY\n"
     ]
    }
   ],
   "source": [
    "doc = nlp(\"Apple is looking at buying U.K. startup for $1 billion\")\n",
    "\n",
    "# doc.ents is an iterator of span objects\n",
    "for ent in doc.ents:\n",
    "    print(ent.text, ent.label_)\n",
    "    \n",
    "# ORG = organization\n",
    "# GPE = geo-political entity"
   ]
  },
  {
   "cell_type": "code",
   "execution_count": 24,
   "id": "4f3daf5d",
   "metadata": {},
   "outputs": [
    {
     "data": {
      "text/plain": [
       "'Countries, cities, states'"
      ]
     },
     "execution_count": 24,
     "metadata": {},
     "output_type": "execute_result"
    }
   ],
   "source": [
    "# use spacy.explain for tags and labels\n",
    "spacy.explain(\"GPE\")"
   ]
  },
  {
   "cell_type": "code",
   "execution_count": 25,
   "id": "8f7d7bb0",
   "metadata": {},
   "outputs": [
    {
     "data": {
      "text/plain": [
       "'noun, proper singular'"
      ]
     },
     "execution_count": 25,
     "metadata": {},
     "output_type": "execute_result"
    }
   ],
   "source": [
    "spacy.explain(\"NNP\")"
   ]
  },
  {
   "cell_type": "code",
   "execution_count": 26,
   "id": "af5d6ce9",
   "metadata": {},
   "outputs": [
    {
     "data": {
      "text/plain": [
       "'direct object'"
      ]
     },
     "execution_count": 26,
     "metadata": {},
     "output_type": "execute_result"
    }
   ],
   "source": [
    "spacy.explain(\"dobj\")"
   ]
  },
  {
   "cell_type": "markdown",
   "id": "bd52dd33",
   "metadata": {},
   "source": [
    "# Loading pipelines"
   ]
  },
  {
   "cell_type": "code",
   "execution_count": 27,
   "id": "217cefaa",
   "metadata": {},
   "outputs": [
    {
     "name": "stdout",
     "output_type": "stream",
     "text": [
      "It's official: Apple is the first U.S. public company to reach a $1 trillion market value\n"
     ]
    }
   ],
   "source": [
    "nlp = spacy.load(\"en_core_web_sm\")\n",
    "\n",
    "text = \"It's official: Apple is the first U.S. public company to reach a $1 trillion market value\"\n",
    "\n",
    "# process the text\n",
    "doc = nlp(text)\n",
    "\n",
    "# print the document text\n",
    "print(doc.text)"
   ]
  },
  {
   "cell_type": "markdown",
   "id": "e5b9495c",
   "metadata": {},
   "source": [
    "# Predicting linguistic annotations"
   ]
  },
  {
   "cell_type": "code",
   "execution_count": 28,
   "id": "4cf44686",
   "metadata": {},
   "outputs": [
    {
     "name": "stdout",
     "output_type": "stream",
     "text": [
      "It          PRON      nsubj     \n",
      "'s          AUX       ccomp     \n",
      "official    ADJ       acomp     \n",
      ":           PUNCT     punct     \n",
      "Apple       PROPN     nsubj     \n",
      "is          AUX       ROOT      \n",
      "the         DET       det       \n",
      "first       ADJ       amod      \n",
      "U.S.        PROPN     nmod      \n",
      "public      ADJ       amod      \n",
      "company     NOUN      attr      \n",
      "to          PART      aux       \n",
      "reach       VERB      relcl     \n",
      "a           DET       det       \n",
      "$           SYM       quantmod  \n",
      "1           NUM       compound  \n",
      "trillion    NUM       nummod    \n",
      "market      NOUN      compound  \n",
      "value       NOUN      dobj      \n"
     ]
    }
   ],
   "source": [
    "for token in doc:\n",
    "    # get the token text, POS tag and dependency label\n",
    "    token_text = token.text\n",
    "    token_pos = token.pos_\n",
    "    token_dep = token.dep_\n",
    "    print(f\"{token_text:<12}{token_pos:<10}{token_dep:<10}\")"
   ]
  },
  {
   "cell_type": "code",
   "execution_count": 29,
   "id": "911c03a3",
   "metadata": {},
   "outputs": [
    {
     "name": "stdout",
     "output_type": "stream",
     "text": [
      "Apple ORG\n",
      "first ORDINAL\n",
      "U.S. GPE\n",
      "$1 trillion MONEY\n"
     ]
    }
   ],
   "source": [
    "# iterate over the doc.ents and print the entity text and label attribute\n",
    "for ent in doc.ents:\n",
    "    print(ent.text, ent.label_)"
   ]
  },
  {
   "cell_type": "markdown",
   "id": "68740daf",
   "metadata": {},
   "source": [
    "# Predicting named entities in context"
   ]
  },
  {
   "cell_type": "code",
   "execution_count": 30,
   "id": "08c0fad3",
   "metadata": {},
   "outputs": [
    {
     "name": "stdout",
     "output_type": "stream",
     "text": [
      "Apple ORG\n"
     ]
    }
   ],
   "source": [
    "# when the model doesn't predict a named entity correctly, can create a span manually\n",
    "text = \"Upcoming iPhone X release date leaked as Apple reveals pre-orders\"\n",
    "\n",
    "doc = nlp(text)\n",
    "\n",
    "for ent in doc.ents:\n",
    "    print(ent.text, ent.label_)\n",
    "\n",
    "# doesn't predict iPhone X"
   ]
  },
  {
   "cell_type": "code",
   "execution_count": 31,
   "id": "a4ebefec",
   "metadata": {},
   "outputs": [
    {
     "data": {
      "text/plain": [
       "iPhone X"
      ]
     },
     "execution_count": 31,
     "metadata": {},
     "output_type": "execute_result"
    }
   ],
   "source": [
    "# create span for iPhone X with indices\n",
    "iphone_x = doc[1:3]\n",
    "\n",
    "# check\n",
    "iphone_x"
   ]
  },
  {
   "cell_type": "markdown",
   "id": "595c5cfc",
   "metadata": {},
   "source": [
    "# Rule-based matching"
   ]
  },
  {
   "cell_type": "code",
   "execution_count": 32,
   "id": "d6dbe530",
   "metadata": {},
   "outputs": [
    {
     "data": {
      "text/plain": [
       "[{'LEMMA': 'buy'}, {'POS': 'NOUN'}]"
      ]
     },
     "execution_count": 32,
     "metadata": {},
     "output_type": "execute_result"
    }
   ],
   "source": [
    "# spaCy's matcher lets you write rules to find words and phrases in text\n",
    "\n",
    "# match patterns are lists of dictionaries, each one of which describes a token\n",
    "# keys: names of token attributes, values: expected values\n",
    "\n",
    "# examples of looking for match with two tokens\n",
    "\n",
    "# look for matches by (exact) text\n",
    "[{\"TEXT\": \"iPhone\"}, {\"TEXT\": \"X\"}]\n",
    "\n",
    "# look for matches by lexical attribute\n",
    "[{\"LOWER\": \"iphone\"}, {\"LOWER\": \"x\"}]\n",
    "\n",
    "# look for matches by token attribute\n",
    "[{\"LEMMA\": \"buy\"}, {\"POS\": \"NOUN\"}] # lemma matches base form (so \"buy\" would match \"buying\" or \"bought\")"
   ]
  },
  {
   "cell_type": "code",
   "execution_count": 33,
   "id": "9b4972c5",
   "metadata": {},
   "outputs": [],
   "source": [
    "# using the matcher\n",
    "from spacy.matcher import Matcher"
   ]
  },
  {
   "cell_type": "code",
   "execution_count": 34,
   "id": "2291250f",
   "metadata": {},
   "outputs": [
    {
     "data": {
      "text/plain": [
       "[(9528407286733565721, 1, 3)]"
      ]
     },
     "execution_count": 34,
     "metadata": {},
     "output_type": "execute_result"
    }
   ],
   "source": [
    "nlp = spacy.load(\"en_core_web_sm\")\n",
    "\n",
    "# give vocab from trained pipeline to matcher\n",
    "matcher = Matcher(nlp.vocab)\n",
    "\n",
    "# add pattern to matcher\n",
    "pattern = [{\"TEXT\": \"iPhone\"}, {\"TEXT\": \"X\"}]\n",
    "matcher.add(\"IPHONE_PATTERN\", [pattern]) # must wrap pattern(s) in a list; can add multiple patterns\n",
    "\n",
    "# process text\n",
    "doc = nlp(\"Upcoming iPhone X release date leaked\")\n",
    "\n",
    "# call matcher on doc\n",
    "matches = matcher(doc)\n",
    "\n",
    "matches # this returns a list of tuples of form (match_id (hash value of pattern name), start index in doc, end index in doc)"
   ]
  },
  {
   "cell_type": "code",
   "execution_count": 35,
   "id": "b8af2a2f",
   "metadata": {},
   "outputs": [
    {
     "name": "stdout",
     "output_type": "stream",
     "text": [
      "iPhone X\n"
     ]
    }
   ],
   "source": [
    "# iterate over matches and get spans\n",
    "for match_id, start, end in matches:\n",
    "    matched_span = doc[start:end]\n",
    "    print(matched_span.text)"
   ]
  },
  {
   "cell_type": "code",
   "execution_count": 36,
   "id": "3167a68a",
   "metadata": {},
   "outputs": [
    {
     "data": {
      "text/plain": [
       "[(5383322790545208969, 0, 5)]"
      ]
     },
     "execution_count": 36,
     "metadata": {},
     "output_type": "execute_result"
    }
   ],
   "source": [
    "# matching lexical attributes\n",
    "\n",
    "pattern = [\n",
    "    {\"IS_DIGIT\": True},\n",
    "    {\"LOWER\": \"fifa\"},\n",
    "    {\"LOWER\": \"world\"},\n",
    "    {\"LOWER\": \"cup\"},\n",
    "    {\"IS_PUNCT\": True}\n",
    "]\n",
    "\n",
    "matcher.add(\"NUM_FIFA_WORLD_CUP_PUNC_PATTERN\", [pattern])\n",
    "\n",
    "doc = nlp(\"2018 FIFA World Cup: France won!\")\n",
    "\n",
    "matches = matcher(doc)\n",
    "\n",
    "matches"
   ]
  },
  {
   "cell_type": "code",
   "execution_count": 37,
   "id": "4c9de1ad",
   "metadata": {},
   "outputs": [
    {
     "name": "stdout",
     "output_type": "stream",
     "text": [
      "2018 FIFA World Cup:\n"
     ]
    }
   ],
   "source": [
    "for match_id, start, end in matches:\n",
    "    matched_span = doc[start:end]\n",
    "    print(matched_span.text)"
   ]
  },
  {
   "cell_type": "code",
   "execution_count": 38,
   "id": "99db8e45",
   "metadata": {},
   "outputs": [
    {
     "data": {
      "text/plain": [
       "[(7253449245750226361, 1, 3), (7253449245750226361, 6, 8)]"
      ]
     },
     "execution_count": 38,
     "metadata": {},
     "output_type": "execute_result"
    }
   ],
   "source": [
    "# matching other token attributes\n",
    "\n",
    "pattern = [\n",
    "    {\"LEMMA\": \"love\", \"POS\": \"VERB\"},\n",
    "    {\"POS\": \"NOUN\"}\n",
    "]\n",
    "\n",
    "matcher.add(\"LOVE_NOUN_PATTERN\", [pattern])\n",
    "\n",
    "doc = nlp(\"I loved dogs but now I love cats more.\")\n",
    "\n",
    "matches = matcher(doc)\n",
    "\n",
    "matches"
   ]
  },
  {
   "cell_type": "code",
   "execution_count": 39,
   "id": "0ba9e4ef",
   "metadata": {},
   "outputs": [
    {
     "name": "stdout",
     "output_type": "stream",
     "text": [
      "loved dogs\n",
      "love cats\n"
     ]
    }
   ],
   "source": [
    "for match_id, start, end in matches:\n",
    "    matched_span = doc[start:end]\n",
    "    print(matched_span.text)"
   ]
  },
  {
   "cell_type": "code",
   "execution_count": 40,
   "id": "e3411654",
   "metadata": {},
   "outputs": [
    {
     "data": {
      "text/plain": [
       "[(10860532500283523305, 1, 4), (10860532500283523305, 8, 10)]"
      ]
     },
     "execution_count": 40,
     "metadata": {},
     "output_type": "execute_result"
    }
   ],
   "source": [
    "# using operators and quantifiers\n",
    "# they let you define how often a token should be matched\n",
    "# added using the OP key in the pattern dictionaries\n",
    "\n",
    "# the \"?\" operator makes the dictionary optional in the pattern\n",
    "\n",
    "pattern = [\n",
    "    {\"LEMMA\": \"buy\"},\n",
    "    {\"POS\": \"DET\", \"OP\": \"?\"},  # optional: match 0 or 1 times\n",
    "    {\"POS\": \"NOUN\"}\n",
    "]\n",
    "\n",
    "matcher.add(\"BUY_(DET)_NOUN_PATTERN\", [pattern])\n",
    "\n",
    "doc = nlp(\"I bought a smartphone. Now I'm buying apps.\")\n",
    "\n",
    "matches = matcher(doc)\n",
    "\n",
    "matches"
   ]
  },
  {
   "cell_type": "code",
   "execution_count": 41,
   "id": "44e3996c",
   "metadata": {},
   "outputs": [
    {
     "name": "stdout",
     "output_type": "stream",
     "text": [
      "bought a smartphone\n",
      "buying apps\n"
     ]
    }
   ],
   "source": [
    "for match_id, start, end in matches:\n",
    "    matched_span = doc[start:end]\n",
    "    print(matched_span.text)"
   ]
  },
  {
   "attachments": {
    "image.png": {
     "image/png": "[encoded data removed]"
    }
   },
   "cell_type": "markdown",
   "id": "608b002a",
   "metadata": {},
   "source": [
    "![image.png](attachment:image.png)"
   ]
  },
  {
   "cell_type": "markdown",
   "id": "63983e2a",
   "metadata": {},
   "source": [
    "# Using the matcher"
   ]
  },
  {
   "cell_type": "code",
   "execution_count": 42,
   "id": "2ad7075f",
   "metadata": {},
   "outputs": [
    {
     "name": "stdout",
     "output_type": "stream",
     "text": [
      "Matches: ['iPhone X']\n"
     ]
    }
   ],
   "source": [
    "import spacy\n",
    "from spacy.matcher import Matcher\n",
    "\n",
    "nlp = spacy.load(\"en_core_web_sm\")\n",
    "\n",
    "# process text\n",
    "doc = nlp(\"Upcoming iPhone X release date leaked as Apple reveals pre-orders\")\n",
    "\n",
    "# initialize matcher and give vocab from trained pipeline to matcher\n",
    "matcher = Matcher(nlp.vocab)\n",
    "\n",
    "# define pattern to match\n",
    "pattern = [{\"TEXT\": \"iPhone\"}, {\"TEXT\": \"X\"}]\n",
    "\n",
    "# add pattern to matcher\n",
    "matcher.add(\"IPHONE_X_PATTERN\", [pattern]) # must wrap pattern(s) in a list; can add multiple patterns\n",
    "\n",
    "# call matcher on doc\n",
    "matches = matcher(doc)\n",
    "\n",
    "print(\"Matches:\", [doc[start:end].text for match_id, start, end in matches])"
   ]
  },
  {
   "cell_type": "markdown",
   "id": "2ee7490d",
   "metadata": {},
   "source": [
    "# Writing match patterns"
   ]
  },
  {
   "cell_type": "code",
   "execution_count": 43,
   "id": "3bd0406c",
   "metadata": {},
   "outputs": [
    {
     "name": "stdout",
     "output_type": "stream",
     "text": [
      "Total matches found: 3\n",
      "Match found: iOS 7\n",
      "Match found: iOS 11\n",
      "Match found: iOS 10\n"
     ]
    }
   ],
   "source": [
    "# instructions: Write one pattern that only matches mentions of the full iOS versions: “iOS 7”, “iOS 11” and “iOS 10”.\n",
    "\n",
    "import spacy\n",
    "from spacy.matcher import Matcher\n",
    "\n",
    "nlp = spacy.load(\"en_core_web_sm\")\n",
    "matcher = Matcher(nlp.vocab)\n",
    "\n",
    "doc = nlp(\n",
    "    \"After making the iOS update you won't notice a radical system-wide \"\n",
    "    \"redesign: nothing like the aesthetic upheaval we got with iOS 7. Most of \"\n",
    "    \"iOS 11's furniture remains the same as in iOS 10. But you will discover \"\n",
    "    \"some tweaks once you delve a little deeper.\"\n",
    ")\n",
    "\n",
    "# Write a pattern for full iOS versions (\"iOS 7\", \"iOS 11\", \"iOS 10\")\n",
    "pattern = [{\"TEXT\": \"iOS\"}, {\"IS_DIGIT\": True}]\n",
    "\n",
    "# Add the pattern to the matcher and apply the matcher to the doc\n",
    "matcher.add(\"IOS_VERSION_PATTERN\", [pattern])\n",
    "matches = matcher(doc)\n",
    "print(\"Total matches found:\", len(matches))\n",
    "\n",
    "# Iterate over the matches and print the span text\n",
    "for match_id, start, end in matches:\n",
    "    print(\"Match found:\", doc[start:end].text)"
   ]
  },
  {
   "cell_type": "code",
   "execution_count": 44,
   "id": "656a148d",
   "metadata": {},
   "outputs": [
    {
     "name": "stdout",
     "output_type": "stream",
     "text": [
      "Total matches found: 3\n",
      "Match found: downloaded Fortnite\n",
      "Match found: downloading Minecraft\n",
      "Match found: download Winzip\n"
     ]
    }
   ],
   "source": [
    "# instructions: Write one pattern that only matches forms of “download” (tokens with the lemma “download”), \n",
    "# followed by a token with the part-of-speech tag \"PROPN\" (proper noun).\n",
    "\n",
    "import spacy\n",
    "from spacy.matcher import Matcher\n",
    "\n",
    "nlp = spacy.load(\"en_core_web_sm\")\n",
    "matcher = Matcher(nlp.vocab)\n",
    "\n",
    "doc = nlp(\n",
    "    \"i downloaded Fortnite on my laptop and can't open the game at all. Help? \"\n",
    "    \"so when I was downloading Minecraft, I got the Windows version where it \"\n",
    "    \"is the '.zip' folder and I used the default program to unpack it... do \"\n",
    "    \"I also need to download Winzip?\"\n",
    ")\n",
    "\n",
    "# Write a pattern that matches a form of \"download\" plus proper noun\n",
    "pattern = [{\"LEMMA\": \"download\"}, {\"POS\": \"PROPN\"}]\n",
    "\n",
    "# Add the pattern to the matcher and apply the matcher to the doc\n",
    "matcher.add(\"DOWNLOAD_THINGS_PATTERN\", [pattern])\n",
    "matches = matcher(doc)\n",
    "print(\"Total matches found:\", len(matches))\n",
    "\n",
    "# Iterate over the matches and print the span text\n",
    "for match_id, start, end in matches:\n",
    "    print(\"Match found:\", doc[start:end].text)"
   ]
  },
  {
   "cell_type": "code",
   "execution_count": 45,
   "id": "74019398",
   "metadata": {},
   "outputs": [
    {
     "name": "stdout",
     "output_type": "stream",
     "text": [
      "Total matches found: 5\n",
      "Match found: beautiful design\n",
      "Match found: smart search\n",
      "Match found: automatic labels\n",
      "Match found: optional voice\n",
      "Match found: optional voice responses\n"
     ]
    }
   ],
   "source": [
    "# instructions: Write one pattern that matches adjectives (\"ADJ\") followed by one or two \"NOUN\"s \n",
    "# (one noun and one optional noun).\n",
    "\n",
    "import spacy\n",
    "from spacy.matcher import Matcher\n",
    "\n",
    "nlp = spacy.load(\"en_core_web_sm\")\n",
    "matcher = Matcher(nlp.vocab)\n",
    "\n",
    "doc = nlp(\n",
    "    \"Features of the app include a beautiful design, smart search, automatic \"\n",
    "    \"labels and optional voice responses.\"\n",
    ")\n",
    "\n",
    "# Write a pattern for adjective plus one or two nouns\n",
    "pattern = [{\"POS\": \"ADJ\"}, {\"POS\": \"NOUN\"}, {\"POS\": \"NOUN\", \"OP\": \"*\"}]\n",
    "\n",
    "# Add the pattern to the matcher and apply the matcher to the doc\n",
    "matcher.add(\"ADJ_NOUN_PATTERN\", [pattern])\n",
    "matches = matcher(doc)\n",
    "print(\"Total matches found:\", len(matches))\n",
    "\n",
    "# Iterate over the matches and print the span text\n",
    "for match_id, start, end in matches:\n",
    "    print(\"Match found:\", doc[start:end].text)"
   ]
  }
 ],
 "metadata": {
  "kernelspec": {
   "display_name": "Python 3 (ipykernel)",
   "language": "python",
   "name": "python3"
  },
  "language_info": {
   "codemirror_mode": {
    "name": "ipython",
    "version": 3
   },
   "file_extension": ".py",
   "mimetype": "text/x-python",
   "name": "python",
   "nbconvert_exporter": "python",
   "pygments_lexer": "ipython3",
   "version": "3.10.9"
  }
 },
 "nbformat": 4,
 "nbformat_minor": 5
}
