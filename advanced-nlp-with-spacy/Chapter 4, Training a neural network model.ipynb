{
 "cells": [
  {
   "cell_type": "markdown",
   "id": "afdbca68",
   "metadata": {},
   "source": [
    "# Advanced NLP with spaCy"
   ]
  },
  {
   "cell_type": "markdown",
   "id": "4a3286b1",
   "metadata": {},
   "source": [
    "# Chapter 4: Training a neural network model"
   ]
  },
  {
   "cell_type": "markdown",
   "id": "0ddfffb4",
   "metadata": {},
   "source": [
    "In this chapter, you'll learn how to update spaCy's statistical models to customize them for your use case – for example, to predict a new entity type in online comments. You'll train your own model from scratch, and understand the basics of how training works, along with tips and tricks that can make your custom NLP projects more successful.\n",
    "\n",
    "Source: https://course.spacy.io/en/chapter4"
   ]
  },
  {
   "cell_type": "markdown",
   "id": "6e2f6350",
   "metadata": {},
   "source": [
    "# 1. Training and updating models"
   ]
  },
  {
   "cell_type": "markdown",
   "id": "628f0379",
   "metadata": {},
   "source": [
    "How spaCy's training works:\n",
    "\n",
    "1. Initialize the model weights randomly\n",
    "2. Predict a few examples with the current weights\n",
    "3. Compare prediction with true labels\n",
    "4. Calculate how to change weights to improve predictions\n",
    "5. Update weights slightly\n",
    "6. Go back to 2."
   ]
  },
  {
   "cell_type": "markdown",
   "id": "aa05e83a",
   "metadata": {},
   "source": [
    "Goal of example: train and evaluate a named entity recognizer."
   ]
  },
  {
   "cell_type": "code",
   "execution_count": 5,
   "id": "0cdfd85e",
   "metadata": {},
   "outputs": [],
   "source": [
    "# imports\n",
    "import spacy"
   ]
  },
  {
   "cell_type": "code",
   "execution_count": 8,
   "id": "6e02b72e",
   "metadata": {},
   "outputs": [],
   "source": [
    "# generating a training corpus\n",
    "\n",
    "# create blank nlp object\n",
    "nlp = spacy.blank(\"en\")\n",
    "\n",
    "# create a Doc with entity spans\n",
    "doc1 = nlp(\"iPhone X is coming\")\n",
    "doc1.ents = [spacy.tokens.span.Span(doc1, 0, 2, label = \"GADGET\")]\n",
    "# tutorial just says Span instead of spacy.tokens.span.Span,\n",
    "# but that generates NameError Span is not defined\n",
    "\n",
    "\n",
    "# create another doc (this one doesn't have any entity spans)\n",
    "doc2 = nlp(\"I need a new phone! Any tips?\")\n",
    "\n",
    "# collect all docs together\n",
    "docs = [doc1, doc2] # and so on..."
   ]
  },
  {
   "cell_type": "code",
   "execution_count": null,
   "id": "9f16835a",
   "metadata": {},
   "outputs": [],
   "source": []
  }
 ],
 "metadata": {
  "kernelspec": {
   "display_name": "Python (dojo-env)",
   "language": "python",
   "name": "dojo-env"
  },
  "language_info": {
   "codemirror_mode": {
    "name": "ipython",
    "version": 3
   },
   "file_extension": ".py",
   "mimetype": "text/x-python",
   "name": "python",
   "nbconvert_exporter": "python",
   "pygments_lexer": "ipython3",
   "version": "3.9.15"
  },
  "toc": {
   "base_numbering": 1,
   "nav_menu": {},
   "number_sections": false,
   "sideBar": true,
   "skip_h1_title": false,
   "title_cell": "Table of Contents",
   "title_sidebar": "Contents",
   "toc_cell": false,
   "toc_position": {},
   "toc_section_display": true,
   "toc_window_display": false
  }
 },
 "nbformat": 4,
 "nbformat_minor": 5
}
