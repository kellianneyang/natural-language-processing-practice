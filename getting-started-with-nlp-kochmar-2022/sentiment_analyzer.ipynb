{
 "cells": [
  {
   "cell_type": "markdown",
   "id": "4ca97de7",
   "metadata": {},
   "source": [
    "# Sentiment Analyzer Using Sentiment Lexicons"
   ]
  },
  {
   "cell_type": "markdown",
   "id": "f036ddd7",
   "metadata": {},
   "source": [
    "From Chapter 7 of Getting Started with Natural Language Processing (2022, Kochmar)"
   ]
  },
  {
   "cell_type": "markdown",
   "id": "8d440b36",
   "metadata": {},
   "source": [
    "## 0. Understanding your task\n",
    "\n",
    "Suppose you are planning an evening out with some friends, and you'd like to go to a cinema. Your friends' preferences seem to have divided between a superhero movie and an action movie. Both start around the same time, and you like both genres. To choose which group of friends to join at the cinema, you decide to check what those who have already seen these movies think about them. You visit a movie review website and find out that there are hundreds of reviews about both movies. Reading through all these reviews would not be feasible, so you decide to apply a sentiment analyzer to see how many positive and negative opinions there are about each of these movies and then make up your mind. How can you implement such a sentiment analyzer?"
   ]
  },
  {
   "cell_type": "markdown",
   "id": "05568a7e",
   "metadata": {},
   "source": [
    "## 1. Approach"
   ]
  },
  {
   "cell_type": "markdown",
   "id": "a054fdce",
   "metadata": {},
   "source": [
    "Take a collection of positive and negative reviews. Set up a machine-learning pipeline, as you did for the applications in the previous chapters. This pipeline should rely on the dataset of reviews previously determined to be positive and negative. You should split this set into training and test data, define the set of features to learn the sentiment from, train a classifier of your choice on the training data with the selected set of features, and evaluate it on the test set."
   ]
  },
  {
   "cell_type": "markdown",
   "id": "244105ed",
   "metadata": {},
   "source": [
    "## 2. Data loading and preprocessing"
   ]
  },
  {
   "cell_type": "markdown",
   "id": "4856269b",
   "metadata": {},
   "source": [
    "Data: polarity dataset v2.0 from http://mng.bz/Wxnd"
   ]
  },
  {
   "cell_type": "code",
   "execution_count": 1,
   "id": "7aa20e58",
   "metadata": {},
   "outputs": [],
   "source": [
    "import os, codecs\n",
    "\n",
    "# helper function to read in data\n",
    "def read_in(folder):\n",
    "    files = os.listdir(folder)\n",
    "    a_dict = {}\n",
    "    for a_file in sorted(files):\n",
    "        if not a_file.startswith(\".\"):\n",
    "            with codecs.open(folder + a_file,\n",
    "                            encoding = 'ISO-8859-1',\n",
    "                            errors = 'ignore') as f:\n",
    "                file_id = a_file.split(\".\")[0].strip()\n",
    "                a_dict[file_id] = f.read()\n",
    "            f.close()\n",
    "    return a_dict"
   ]
  },
  {
   "cell_type": "code",
   "execution_count": 2,
   "id": "50467ba1",
   "metadata": {},
   "outputs": [
    {
     "name": "stdout",
     "output_type": "stream",
     "text": [
      "Number of positive reviews: 1000\n",
      "First positive review:\n",
      "films adapted from comic books have had plenty of success , whether they're about superheroes ( batman , superman , spawn ) , or geared toward kids ( casper ) or the arthouse crowd ( ghost world ) , but there's never really been a comic book like from hell before . \n",
      "for starters , it was created by alan moore ( and eddie campbell ) , who brought the medium to a whole new level in the mid '80s with a 12-part series called the watchmen . \n",
      "to say moore and campbell thoroughly researched the subject of jack the ripper would be like saying michael jackson is starting to look a little odd . \n",
      "the book ( or \" graphic novel , \" if you will ) is over 500 pages long and includes nearly 30 more that consist of nothing but footnotes . \n",
      "in other words , don't dismiss this film because of its source . \n",
      "if you can get past the whole comic book thing , you might find another stumbling block in from hell's directors , albert and allen hughes . \n",
      "getting the hughes brothers to direct this seems almost as ludicrous as casting carrot top in , well , anything , but riddle me this : who better to direct a film that's set in the ghetto and features really violent street crime than the mad geniuses behind menace ii society ? \n",
      "the ghetto in question is , of course , whitechapel in 1888 london's east end . \n",
      "it's a filthy , sooty place where the whores ( called \" unfortunates \" ) are starting to get a little nervous about this mysterious psychopath who has been carving through their profession with surgical precision . \n",
      "when the first stiff turns up , copper peter godley ( robbie coltrane , the world is not enough ) calls in inspector frederick abberline ( johnny depp , blow ) to crack the case . \n",
      "abberline , a widower , has prophetic dreams he unsuccessfully tries to quell with copious amounts of absinthe and opium . \n",
      "upon arriving in whitechapel , he befriends an unfortunate named mary kelly ( heather graham , say it isn't so ) and proceeds to investigate the horribly gruesome crimes that even the police surgeon can't stomach . \n",
      "i don't think anyone needs to be briefed on jack the ripper , so i won't go into the particulars here , other than to say moore and campbell have a unique and interesting theory about both the identity of the killer and the reasons he chooses to slay . \n",
      "in the comic , they don't bother cloaking the identity of the ripper , but screenwriters terry hayes ( vertical limit ) and rafael yglesias ( les mis ? rables ) do a good job of keeping him hidden from viewers until the very end . \n",
      "it's funny to watch the locals blindly point the finger of blame at jews and indians because , after all , an englishman could never be capable of committing such ghastly acts . \n",
      "and from hell's ending had me whistling the stonecutters song from the simpsons for days ( \" who holds back the electric car/who made steve guttenberg a star ? \" ) . \n",
      "don't worry - it'll all make sense when you see it . \n",
      "now onto from hell's appearance : it's certainly dark and bleak enough , and it's surprising to see how much more it looks like a tim burton film than planet of the apes did ( at times , it seems like sleepy hollow 2 ) . \n",
      "the print i saw wasn't completely finished ( both color and music had not been finalized , so no comments about marilyn manson ) , but cinematographer peter deming ( don't say a word ) ably captures the dreariness of victorian-era london and helped make the flashy killing scenes remind me of the crazy flashbacks in twin peaks , even though the violence in the film pales in comparison to that in the black-and-white comic . \n",
      "oscar winner martin childs' ( shakespeare in love ) production design turns the original prague surroundings into one creepy place . \n",
      "even the acting in from hell is solid , with the dreamy depp turning in a typically strong performance and deftly handling a british accent . \n",
      "ians holm ( joe gould's secret ) and richardson ( 102 dalmatians ) log in great supporting roles , but the big surprise here is graham . \n",
      "i cringed the first time she opened her mouth , imagining her attempt at an irish accent , but it actually wasn't half bad . \n",
      "the film , however , is all good . \n",
      "2 : 00 - r for strong violence/gore , sexuality , language and drug content \n",
      "\n",
      "\n",
      "Number of negative reviews: 1000\n",
      "First negative review:\n",
      "plot : two teen couples go to a church party , drink and then drive . \n",
      "they get into an accident . \n",
      "one of the guys dies , but his girlfriend continues to see him in her life , and has nightmares . \n",
      "what's the deal ? \n",
      "watch the movie and \" sorta \" find out . . . \n",
      "critique : a mind-fuck movie for the teen generation that touches on a very cool idea , but presents it in a very bad package . \n",
      "which is what makes this review an even harder one to write , since i generally applaud films which attempt to break the mold , mess with your head and such ( lost highway & memento ) , but there are good and bad ways of making all types of films , and these folks just didn't snag this one correctly . \n",
      "they seem to have taken this pretty neat concept , but executed it terribly . \n",
      "so what are the problems with the movie ? \n",
      "well , its main problem is that it's simply too jumbled . \n",
      "it starts off \" normal \" but then downshifts into this \" fantasy \" world in which you , as an audience member , have no idea what's going on . \n",
      "there are dreams , there are characters coming back from the dead , there are others who look like the dead , there are strange apparitions , there are disappearances , there are a looooot of chase scenes , there are tons of weird things that happen , and most of it is simply not explained . \n",
      "now i personally don't mind trying to unravel a film every now and then , but when all it does is give me the same clue over and over again , i get kind of fed up after a while , which is this film's biggest problem . \n",
      "it's obviously got this big secret to hide , but it seems to want to hide it completely until its final five minutes . \n",
      "and do they make things entertaining , thrilling or even engaging , in the meantime ? \n",
      "not really . \n",
      "the sad part is that the arrow and i both dig on flicks like this , so we actually figured most of it out by the half-way point , so all of the strangeness after that did start to make a little bit of sense , but it still didn't the make the film all that more entertaining . \n",
      "i guess the bottom line with movies like this is that you should always make sure that the audience is \" into it \" even before they are given the secret password to enter your world of understanding . \n",
      "i mean , showing melissa sagemiller running away from visions for about 20 minutes throughout the movie is just plain lazy ! ! \n",
      "okay , we get it . . . there \n",
      "are people chasing her and we don't know who they are . \n",
      "do we really need to see it over and over again ? \n",
      "how about giving us different scenes offering further insight into all of the strangeness going down in the movie ? \n",
      "apparently , the studio took this film away from its director and chopped it up themselves , and it shows . \n",
      "there might've been a pretty decent teen mind-fuck movie in here somewhere , but i guess \" the suits \" decided that turning it into a music video with little edge , would make more sense . \n",
      "the actors are pretty good for the most part , although wes bentley just seemed to be playing the exact same character that he did in american beauty , only in a new neighborhood . \n",
      "but my biggest kudos go out to sagemiller , who holds her own throughout the entire film , and actually has you feeling her character's unraveling . \n",
      "overall , the film doesn't stick because it doesn't entertain , it's confusing , it rarely excites and it feels pretty redundant for most of its runtime , despite a pretty cool ending and explanation to all of the craziness that came before it . \n",
      "oh , and by the way , this is not a horror or teen slasher flick . . . it's \n",
      "just packaged to look that way because someone is apparently assuming that the genre is still hot with the kids . \n",
      "it also wrapped production two years ago and has been sitting on the shelves ever since . \n",
      "whatever . . . skip \n",
      "it ! \n",
      "where's joblo coming from ? \n",
      "a nightmare of elm street 3 ( 7/10 ) - blair witch 2 ( 7/10 ) - the crow ( 9/10 ) - the crow : salvation ( 4/10 ) - lost highway ( 10/10 ) - memento ( 10/10 ) - the others ( 9/10 ) - stir of echoes ( 8/10 ) \n",
      "\n"
     ]
    }
   ],
   "source": [
    "# specify folder\n",
    "folder = \"Data/txt_sentoken/\"\n",
    "\n",
    "# read positive reviews into a dict, print len and first entry\n",
    "pos_dict = read_in(folder + \"pos/\")\n",
    "\n",
    "# check\n",
    "print(f\"Number of positive reviews: {len(pos_dict)}\")\n",
    "print(\"First positive review:\")\n",
    "print(pos_dict.get(next(iter(pos_dict))))\n",
    "\n",
    "print()\n",
    "\n",
    "# same for negative reviews\n",
    "neg_dict = read_in(folder + \"neg/\")\n",
    "\n",
    "# check\n",
    "print(f\"Number of negative reviews: {len(neg_dict)}\")\n",
    "print(\"First negative review:\")\n",
    "print(neg_dict.get(next(iter(neg_dict))))"
   ]
  },
  {
   "cell_type": "markdown",
   "id": "7cda852f",
   "metadata": {},
   "source": [
    "Reviews are now stored in two python dictionaries (pos_dict and neg_dict), each 1000 items long. Each item has a unique identifier key and the text of the review as the value.\n",
    "\n",
    "The reviews themselves are each a string, where each new sentence in the string is on a new line."
   ]
  },
  {
   "cell_type": "markdown",
   "id": "60fc02cc",
   "metadata": {},
   "source": [
    "## 3. Standard quantitative checks"
   ]
  },
  {
   "cell_type": "markdown",
   "id": "6c1030d2",
   "metadata": {},
   "source": [
    "Texts are already tokenized, so to extract words, the texts just need to be split on whitespaces.\n",
    "\n",
    "Calculate:\n",
    "\n",
    "   1. Average length of a review (in words)\n",
    "   2. Average sentence length\n",
    "   3. Vocabulary size (number of distinct words/word types)\n",
    "   4. Lexical diversity (type-token ratio; measures how often, on average, each word occurs; if each word were unique, measure would equal 1)"
   ]
  },
  {
   "cell_type": "code",
   "execution_count": 3,
   "id": "42f69295",
   "metadata": {},
   "outputs": [],
   "source": [
    "# helper function to split reviews by whitespaces\n",
    "def tokenize(text):\n",
    "    \n",
    "    # replace new lines with spaces\n",
    "    text.replace(\"\\n\", \" \")\n",
    "    \n",
    "    return text.split()"
   ]
  },
  {
   "cell_type": "code",
   "execution_count": 7,
   "id": "16d664e6",
   "metadata": {},
   "outputs": [],
   "source": [
    "def statistics(a_dict):\n",
    "    \n",
    "    # initialize variables\n",
    "    length = 0\n",
    "    sent_length = 0\n",
    "    num_sents = 0\n",
    "    vocab = []\n",
    "    \n",
    "    # iterate over values in dict\n",
    "    for review in a_dict.values():\n",
    "        \n",
    "        # add number of words in review to length\n",
    "        length += len(tokenize(review))\n",
    "        \n",
    "        # to get number of sentences, split review on new lines\n",
    "        sents = review.split(\"\\n\")\n",
    "        num_sents += len(sents)\n",
    "        \n",
    "        # count sentence length\n",
    "        for sent in sents:\n",
    "            sent_length += len(tokenize(sent))\n",
    "            \n",
    "        # add word to vocab\n",
    "        vocab += tokenize(review)\n",
    "    \n",
    "    # average length of a review (in words)\n",
    "    avg_length = float(length) / len(a_dict)\n",
    "    \n",
    "    # average length of sentence\n",
    "    avg_sent_length = float(sent_length) / num_sents\n",
    "    \n",
    "    # vocab size\n",
    "    vocab_size = len(set(vocab))\n",
    "    \n",
    "    # diversity\n",
    "    diversity = float(length) / float(vocab_size)\n",
    "    \n",
    "    return avg_length, avg_sent_length, vocab_size, diversity"
   ]
  },
  {
   "cell_type": "code",
   "execution_count": 8,
   "id": "fe147d88",
   "metadata": {},
   "outputs": [
    {
     "name": "stdout",
     "output_type": "stream",
     "text": [
      " Category  Avg_Len(Review)  Avg_Len(Sent)  Vocabulary Size  Diversity \n",
      " Positive  787.051000       23.191531      36805.000000     21.384350 \n",
      " Negative  705.630000       21.524266      34542.000000     20.428174 \n"
     ]
    }
   ],
   "source": [
    "# print statistics in tabular format\n",
    "\n",
    "categories = [\"Positive\", \"Negative\"]\n",
    "rows = []\n",
    "rows.append([\"Category\", \"Avg_Len(Review)\", \"Avg_Len(Sent)\", \"Vocabulary Size\", \"Diversity\"])\n",
    "\n",
    "stats = {}\n",
    "stats[\"Positive\"] = statistics(pos_dict)\n",
    "stats[\"Negative\"] = statistics(neg_dict)\n",
    "\n",
    "for cat in categories:\n",
    "    rows.append([cat, \n",
    "                 f\"{stats.get(cat)[0]:.6f}\",\n",
    "                 f\"{stats.get(cat)[1]:.6f}\",\n",
    "                 f\"{stats.get(cat)[2]:.6f}\",\n",
    "                 f\"{stats.get(cat)[3]:.6f}\"])\n",
    "\n",
    "columns = zip(*rows)\n",
    "column_widths = [max(len(item) for item in col) for col in columns]\n",
    "\n",
    "for row in rows:\n",
    "    print(''.join(' {:{width}} '.format(row[i], \n",
    "                                        width = column_widths[i]) \n",
    "                                        for i in range(0, len(row))))"
   ]
  },
  {
   "cell_type": "markdown",
   "id": "eabf04ad",
   "metadata": {},
   "source": [
    "These statistics show that positive reviews, on average, are longer overall (in number of words), and have longer sentences (in number of words) than negative reviews. They also have a larger vocabulary size. Perhaps partially due to the longer length, positive reviews repeat the same word on average about 21 times, while negative reviews repeat the same word on average about 20 times."
   ]
  },
  {
   "cell_type": "markdown",
   "id": "f34c3536",
   "metadata": {},
   "source": [
    "Are there differences between the two sets of vocabulary used for positive and negative reviews?"
   ]
  },
  {
   "cell_type": "code",
   "execution_count": 11,
   "id": "d8aed965",
   "metadata": {},
   "outputs": [],
   "source": [
    "def vocab_difference(list1, list2):\n",
    "    \n",
    "    # initialize vocabulary variable for each dict\n",
    "    vocab1 = []\n",
    "    vocab2 = []\n",
    "    \n",
    "    # create vocabulary of tokenized reviews for each dict\n",
    "    for rev in list1:\n",
    "        vocab1 += tokenize(rev)\n",
    "        \n",
    "    for rev in list2:\n",
    "        vocab2 += tokenize(rev)\n",
    "\n",
    "    # return the a sorted list of the set (only one instance of each word)\n",
    "    # of the vocabulary difference between the two lists\n",
    "    return sorted(list(set(vocab1) - set(vocab2)))"
   ]
  },
  {
   "cell_type": "code",
   "execution_count": 12,
   "id": "ee8b4a75",
   "metadata": {},
   "outputs": [],
   "source": [
    "# make lists for each dict\n",
    "pos_wordlist = pos_dict.values()\n",
    "neg_wordlist = neg_dict.values()"
   ]
  },
  {
   "cell_type": "code",
   "execution_count": 19,
   "id": "65d5fd96",
   "metadata": {},
   "outputs": [
    {
     "name": "stdout",
     "output_type": "stream",
     "text": [
      "Number of unique words in pos_dict only: 16378\n",
      "Number of unique words in neg_dict only: 14115\n"
     ]
    }
   ],
   "source": [
    "# check size of unique vocabularies\n",
    "print(\"Number of unique words in pos_dict only: \" \\\n",
    "      f\"{str(len(vocab_difference(pos_wordlist, neg_wordlist)))}\")\n",
    "\n",
    "print(\"Number of unique words in neg_dict only: \" \\\n",
    "      f\"{str(len(vocab_difference(neg_wordlist, pos_wordlist)))}\")"
   ]
  },
  {
   "cell_type": "code",
   "execution_count": 20,
   "id": "7246e837",
   "metadata": {},
   "outputs": [
    {
     "name": "stdout",
     "output_type": "stream",
     "text": [
      "Words unique to pos_dict:\n",
      "['agreeably', 'agreements', 'agricultural', 'aguilar', 'aguirresarobe', 'ah-ha', 'ahab', 'ahmad', \"ahmad's\", 'aides', 'aids-afflicted', 'aids-cautionary', 'ailment', \"ain't-i-sexy\", 'airborne', 'airbrushed', 'airplane-type', 'airplay', 'airs', 'airtime', 'airwaves', 'aisling', 'aix', 'ajay', 'akiko', \"al'\", 'alabama', 'alacrity', 'aladdin', \"alain's\", 'alakina', 'alamo', 'alanis', 'alar', 'albania', 'albanian', 'albany', 'albarn', 'alberta', 'albums', 'alc', 'alchemy', 'alcohol-based', \"alda's\", 'alderaan', 'aldous', 'alea', 'alejandro', 'alek', 'alexa', \"alexander's\", 'alexandra', 'alexandria', 'alexi-malle', 'alferd', 'alfredo', 'algar', 'algeria', \"ali's\", 'aliases', 'alibi', 'alibis', 'alida', \"alien's\", 'alien-like', 'alien3', 'alienating', 'aliens-as-human', 'aligned', 'aline', 'all--except', 'all-ages', 'all-america', 'all-but-dead', 'all-but-illegible', 'all-consuming', 'all-day', 'all-grown-up', 'all-in-all', 'all-male', 'all-or-nothing', 'all-powerful', 'all-purple', 'all-seeing', 'all-stops-out', 'all-terrain', 'all-together', 'all-too-real', 'all-too-realistic', 'all-too-true', 'all-too-willing', 'all-white', 'allah', 'allegations', 'allegiances', 'allegorical', 'allegra', 'alleviated', 'alleviates', 'alleyways']\n",
      "\n",
      "Words unique to neg_dict:\n",
      "[\"all's\", 'all--and', 'all--but', 'all-business', 'all-but-screaming', 'all-girl', 'all-girls', 'all-important', \"all-in-a-day's-work\", 'all-night', 'all-of-a-sudden-superhuman', 'all-rookie', 'all-round', 'all-too-brief', 'all-too-familiar', 'allayah', \"allayah's\", 'allegiance', 'allegorically', 'allen-', 'allergic', 'allergies', 'allergy', 'allergy-prone', 'allman', 'allocated', 'allotted', 'allotting', 'allred', 'alludes', 'allyson', \"alma's\", 'almasy', 'almost-as-stunning', 'almost-halfway-there', 'almost-subliminal', 'almost-witty', \"alone'\", 'alone_', 'along--and', 'aloofness', 'alpha', 'alphabet', 'already-thin', 'also-ran', 'also-rans', 'alt-rock', 'altercations', 'alterior', 'alternated', 'altman-esque', 'altmanesque', 'altruist', 'altruistic', 'aluminium', 'alums', 'alway', 'always-', 'always-broke', 'always-likable', 'always-woozy', \"alzhiemer's\", 'amalgamation', \"amanda's\", 'amarillo', 'amateurish-foregrounds', 'amateurishly', 'amateurism', 'amazonas', 'ambience', 'ambitionless', 'ambivlaent', 'amblyn', \"amblyn's\", 'amboy', 'amboys', 'ambushes', 'amendments', \"american'\", 'american-ized', 'americana', 'americanization', 'americanizing', 'ami', 'amicable', 'amiel', 'amigos', 'amis', 'amish', 'amish-mocking', 'ammo', 'ammunitions', 'amoeba', 'amor', 'amorous', 'amounting', 'amourous', 'amphetimenes', 'amphibian-based', 'amply-sized']\n"
     ]
    }
   ],
   "source": [
    "# check unique words\n",
    "\n",
    "print(\"Words unique to pos_dict:\")\n",
    "print(vocab_difference(pos_wordlist, neg_wordlist)[1000:1100])\n",
    "\n",
    "print()\n",
    "\n",
    "print(\"Words unique to neg_dict:\")\n",
    "print(vocab_difference(neg_wordlist, pos_wordlist)[1000:1100])"
   ]
  },
  {
   "cell_type": "code",
   "execution_count": null,
   "id": "fae2159d",
   "metadata": {},
   "outputs": [],
   "source": []
  }
 ],
 "metadata": {
  "kernelspec": {
   "display_name": "Python 3 (ipykernel)",
   "language": "python",
   "name": "python3"
  },
  "language_info": {
   "codemirror_mode": {
    "name": "ipython",
    "version": 3
   },
   "file_extension": ".py",
   "mimetype": "text/x-python",
   "name": "python",
   "nbconvert_exporter": "python",
   "pygments_lexer": "ipython3",
   "version": "3.10.9"
  }
 },
 "nbformat": 4,
 "nbformat_minor": 5
}
