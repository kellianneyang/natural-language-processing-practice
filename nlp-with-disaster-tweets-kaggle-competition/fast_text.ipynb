{
 "cells": [
  {
   "cell_type": "markdown",
   "id": "b896fa98",
   "metadata": {},
   "source": [
    "# Fast Text"
   ]
  },
  {
   "cell_type": "code",
   "execution_count": 94,
   "id": "004f6446",
   "metadata": {},
   "outputs": [],
   "source": [
    "# read in kaggle's training data\n",
    "import pandas as pd\n",
    "df = pd.read_csv('Data/train.csv')"
   ]
  },
  {
   "cell_type": "code",
   "execution_count": 95,
   "id": "d759f01a",
   "metadata": {},
   "outputs": [
    {
     "name": "stdout",
     "output_type": "stream",
     "text": [
      "(7613, 5)\n"
     ]
    },
    {
     "data": {
      "text/html": [
       "<div>\n",
       "<style scoped>\n",
       "    .dataframe tbody tr th:only-of-type {\n",
       "        vertical-align: middle;\n",
       "    }\n",
       "\n",
       "    .dataframe tbody tr th {\n",
       "        vertical-align: top;\n",
       "    }\n",
       "\n",
       "    .dataframe thead th {\n",
       "        text-align: right;\n",
       "    }\n",
       "</style>\n",
       "<table border=\"1\" class=\"dataframe\">\n",
       "  <thead>\n",
       "    <tr style=\"text-align: right;\">\n",
       "      <th></th>\n",
       "      <th>id</th>\n",
       "      <th>keyword</th>\n",
       "      <th>location</th>\n",
       "      <th>text</th>\n",
       "      <th>target</th>\n",
       "    </tr>\n",
       "  </thead>\n",
       "  <tbody>\n",
       "    <tr>\n",
       "      <th>0</th>\n",
       "      <td>1</td>\n",
       "      <td>NaN</td>\n",
       "      <td>NaN</td>\n",
       "      <td>Our Deeds are the Reason of this #earthquake M...</td>\n",
       "      <td>1</td>\n",
       "    </tr>\n",
       "    <tr>\n",
       "      <th>1</th>\n",
       "      <td>4</td>\n",
       "      <td>NaN</td>\n",
       "      <td>NaN</td>\n",
       "      <td>Forest fire near La Ronge Sask. Canada</td>\n",
       "      <td>1</td>\n",
       "    </tr>\n",
       "    <tr>\n",
       "      <th>2</th>\n",
       "      <td>5</td>\n",
       "      <td>NaN</td>\n",
       "      <td>NaN</td>\n",
       "      <td>All residents asked to 'shelter in place' are ...</td>\n",
       "      <td>1</td>\n",
       "    </tr>\n",
       "    <tr>\n",
       "      <th>3</th>\n",
       "      <td>6</td>\n",
       "      <td>NaN</td>\n",
       "      <td>NaN</td>\n",
       "      <td>13,000 people receive #wildfires evacuation or...</td>\n",
       "      <td>1</td>\n",
       "    </tr>\n",
       "    <tr>\n",
       "      <th>4</th>\n",
       "      <td>7</td>\n",
       "      <td>NaN</td>\n",
       "      <td>NaN</td>\n",
       "      <td>Just got sent this photo from Ruby #Alaska as ...</td>\n",
       "      <td>1</td>\n",
       "    </tr>\n",
       "  </tbody>\n",
       "</table>\n",
       "</div>"
      ],
      "text/plain": [
       "   id keyword location                                               text  \\\n",
       "0   1     NaN      NaN  Our Deeds are the Reason of this #earthquake M...   \n",
       "1   4     NaN      NaN             Forest fire near La Ronge Sask. Canada   \n",
       "2   5     NaN      NaN  All residents asked to 'shelter in place' are ...   \n",
       "3   6     NaN      NaN  13,000 people receive #wildfires evacuation or...   \n",
       "4   7     NaN      NaN  Just got sent this photo from Ruby #Alaska as ...   \n",
       "\n",
       "   target  \n",
       "0       1  \n",
       "1       1  \n",
       "2       1  \n",
       "3       1  \n",
       "4       1  "
      ]
     },
     "execution_count": 95,
     "metadata": {},
     "output_type": "execute_result"
    }
   ],
   "source": [
    "# check shape and head\n",
    "print(df.shape)\n",
    "df.head()"
   ]
  },
  {
   "cell_type": "code",
   "execution_count": 96,
   "id": "38860b0f",
   "metadata": {},
   "outputs": [
    {
     "data": {
      "text/plain": [
       "array(['__label__1', '__label__0'], dtype=object)"
      ]
     },
     "execution_count": 96,
     "metadata": {},
     "output_type": "execute_result"
    }
   ],
   "source": [
    "# format target labels for fasttext:\n",
    "# must have \"__label__\" before each target lable\n",
    "df['target'] = \"__label__\" + df['target'].astype(str)\n",
    "\n",
    "# check\n",
    "df.target.unique()"
   ]
  },
  {
   "cell_type": "code",
   "execution_count": 97,
   "id": "da9780e1",
   "metadata": {},
   "outputs": [
    {
     "data": {
      "text/plain": [
       "0    __label__1 Our Deeds are the Reason of this #e...\n",
       "1    __label__1 Forest fire near La Ronge Sask. Canada\n",
       "2    __label__1 All residents asked to 'shelter in ...\n",
       "3    __label__1 13,000 people receive #wildfires ev...\n",
       "4    __label__1 Just got sent this photo from Ruby ...\n",
       "Name: target_text, dtype: object"
      ]
     },
     "execution_count": 97,
     "metadata": {},
     "output_type": "execute_result"
    }
   ],
   "source": [
    "# merge target and text columns so the text is on the same line as the label\n",
    "# with the label first (separated by a space); this is required for \n",
    "# fasttext formatting\n",
    "df['target_text'] = df['target'] + \" \" + df['text']\n",
    "\n",
    "# check\n",
    "df.target_text.head()"
   ]
  },
  {
   "cell_type": "code",
   "execution_count": 98,
   "id": "67e51166",
   "metadata": {},
   "outputs": [
    {
     "data": {
      "text/plain": [
       "0    __label__1 our deeds are the reason of this ea...\n",
       "1     __label__1 forest fire near la ronge sask canada\n",
       "2    __label__1 all residents asked to 'shelter in ...\n",
       "3    __label__1 13 000 people receive wildfires eva...\n",
       "4    __label__1 just got sent this photo from ruby ...\n",
       "Name: target_text, dtype: object"
      ]
     },
     "execution_count": 98,
     "metadata": {},
     "output_type": "execute_result"
    }
   ],
   "source": [
    "# define preprocess function\n",
    "\n",
    "import re\n",
    "\n",
    "# preprocess function subs everything that's not a word character or \n",
    "# is a space character or is an apostrophe with a space, then subs all\n",
    "# multiple spaces with just one space, then strips leading and lagging spaces\n",
    "# and converts all letters to lowercase, then subs newline characters with a\n",
    "# single space and subs all multiple spaces with just one space again\n",
    "def preprocess(text):\n",
    "    text = re.sub(r\"[^\\w\\s\\']\", \" \", text)\n",
    "    text = re.sub(r\" +\", \" \", text)\n",
    "    text = text.strip().lower()\n",
    "    text = re.sub(r\"\\\\n+\", \" \", text)\n",
    "    text = re.sub(r\" +\", \" \", text)\n",
    "    return text.strip()\n",
    "\n",
    "# apply preprocess function to target_text column\n",
    "df['target_text'] = df['target_text'].map(preprocess)\n",
    "\n",
    "# check\n",
    "df.target_text.head()"
   ]
  },
  {
   "cell_type": "code",
   "execution_count": 99,
   "id": "90f34aaf",
   "metadata": {},
   "outputs": [
    {
     "data": {
      "text/plain": [
       "'__label__1 forest fire near la ronge sask canada'"
      ]
     },
     "execution_count": 99,
     "metadata": {},
     "output_type": "execute_result"
    }
   ],
   "source": [
    "df.target_text[1]\n",
    "# why does it look like there's a space in front of this tweet in the\n",
    "# output above?"
   ]
  },
  {
   "cell_type": "code",
   "execution_count": 100,
   "id": "bb6a56a9",
   "metadata": {},
   "outputs": [
    {
     "name": "stdout",
     "output_type": "stream",
     "text": [
      "__label__1 our deeds are the reason of this earthquake may allah forgive us all\n",
      "__label__1 forest fire near la ronge sask canada\n",
      "__label__1 all residents asked to 'shelter in place' are being notified by officers no other evacuation or shelter in place orders are expected\n",
      "__label__1 13 000 people receive wildfires evacuation orders in california\n",
      "__label__1 just got sent this photo from ruby alaska as smoke from wildfires pours into a school\n",
      "__label__1 rockyfire update california hwy 20 closed in both directions due to lake county fire cafire wildfires\n",
      "__label__1 flood disaster heavy rain causes flash flooding of streets in manitou colorado springs areas\n",
      "__label__1 i'm on top of the hill and i can see a fire in the woods\n",
      "__label__1 there's an emergency evacuation happening now in the building across the street\n",
      "__label__1 i'm afraid that the tornado is coming to our area\n",
      "__label__1 three people died from the heat wave so far\n",
      "__label__1 haha south tampa is getting flooded hah wait a second i live in south tampa what am i gonna do what am i gonna do fvck flooding\n",
      "__label__1 raining flooding florida tampabay tampa 18 or 19 days i've lost count\n",
      "__label__1 flood in bago myanmar we arrived bago\n",
      "__label__1 damage to school bus on 80 in multi car crash breaking\n",
      "__label__0 what's up man\n",
      "__label__0 i love fruits\n",
      "__label__0 summer is lovely\n",
      "__label__0 my car is so fast\n",
      "__label__0 what a goooooooaaaaaal\n",
      "__label__0 this is ridiculous\n",
      "__label__0 london is cool\n",
      "__label__0 love skiing\n",
      "__label__0 what a wonderful day\n",
      "__label__0 looooool\n",
      "__label__0 no way i can't eat that shit\n",
      "__label__0 was in nyc last week\n",
      "__label__0 love my girlfriend\n",
      "__label__0 cooool\n",
      "__label__0 do you like pasta\n",
      "__label__0 the end\n",
      "__label__1 bbcmtd wholesale markets ablaze http t co lhyxeohy6c\n",
      "__label__0 we always try to bring the heavy metal rt http t co yao1e0xngw\n",
      "__label__1 africanbaze breaking news nigeria flag set ablaze in aba http t co 2nndbgwyei\n",
      "__label__0 crying out for more set me ablaze\n",
      "__label__0 on plus side look at the sky last night it was ablaze http t co qqsmshaj3n\n",
      "__label__0 phdsquares mufc they've built so much hype around new acquisitions but i doubt they will set the epl ablaze this season\n",
      "__label__1 inec office in abia set ablaze http t co 3imaomknna\n",
      "__label__1 barbados bridgetown jamaica ûò two cars set ablaze santa cruz ûó head of the st elizabeth police superintende http t co wdueaj8q4j\n",
      "__label__0 ablaze for you lord d\n",
      "__label__0 check these out http t co roi2nsmejj http t co 3tj8zjin21 http t co yduixefipe http t co lxtjc87kls nsfw\n",
      "__label__0 on the outside you're ablaze and alive\n",
      "but you're dead inside\n",
      "__label__0 had an awesome time visiting the cfc head office the ancop site and ablaze thanks to tita vida for taking care of us\n",
      "__label__0 soooo pumped for ablaze southridgelife\n",
      "__label__0 i wanted to set chicago ablaze with my preaching but not my hotel http t co o9qknbfofx\n",
      "__label__0 i gained 3 followers in the last week you know your stats and grow with http t co tiyulif5c6\n",
      "__label__1 how the west was burned thousands of wildfires ablaze in california alone http t co vl5tbr3wbr\n",
      "__label__0 building the perfect tracklist to life leave the streets ablaze\n",
      "__label__0 check these out http t co roi2nsmejj http t co 3tj8zjin21 http t co yduixefipe http t co lxtjc87kls nsfw\n",
      "__label__0 first night with retainers in it's quite weird better get used to it i have to wear them every single night for the next year at least\n"
     ]
    }
   ],
   "source": [
    "for num in range(0, 50):\n",
    "    print(df.target_text[num])"
   ]
  },
  {
   "cell_type": "code",
   "execution_count": 101,
   "id": "7ce80890",
   "metadata": {},
   "outputs": [
    {
     "data": {
      "text/plain": [
       "0    our deeds are the reason of this earthquake ma...\n",
       "1                forest fire near la ronge sask canada\n",
       "2    all residents asked to 'shelter in place' are ...\n",
       "3    13 000 people receive wildfires evacuation ord...\n",
       "4    just got sent this photo from ruby alaska as s...\n",
       "Name: processed_text, dtype: object"
      ]
     },
     "execution_count": 101,
     "metadata": {},
     "output_type": "execute_result"
    }
   ],
   "source": [
    "# make preprocessed text column (without label) to test model on\n",
    "df['processed_text'] = df['text'].map(preprocess)\n",
    "\n",
    "# check\n",
    "df.processed_text.head()"
   ]
  },
  {
   "cell_type": "code",
   "execution_count": 102,
   "id": "6bfaae97",
   "metadata": {},
   "outputs": [
    {
     "name": "stdout",
     "output_type": "stream",
     "text": [
      "(6090, 7)\n",
      "(1523, 7)\n"
     ]
    }
   ],
   "source": [
    "# tts\n",
    "\n",
    "from sklearn.model_selection import train_test_split\n",
    "\n",
    "train, test = train_test_split(df, \n",
    "                               test_size = 0.2, \n",
    "                               random_state = 2022,\n",
    "                               stratify = df.target)\n",
    "\n",
    "# check\n",
    "print(train.shape)\n",
    "print(test.shape)"
   ]
  },
  {
   "cell_type": "code",
   "execution_count": 103,
   "id": "21925e98",
   "metadata": {},
   "outputs": [],
   "source": [
    "# save formatted and labeled column in file for fasttext to train on\n",
    "\n",
    "import csv\n",
    "\n",
    "train.to_csv(\"disaster_train_fasttext.csv\", \n",
    "             columns = [\"target_text\"], \n",
    "             index = False, \n",
    "             header = False,\n",
    "             quoting = csv.QUOTE_NONNUMERIC)"
   ]
  },
  {
   "cell_type": "code",
   "execution_count": 104,
   "id": "49e8602c",
   "metadata": {},
   "outputs": [
    {
     "name": "stdout",
     "output_type": "stream",
     "text": [
      "Requirement already satisfied: fasttext in c:\\users\\yang0108\\appdata\\local\\anaconda3\\envs\\dojo-env\\lib\\site-packages (0.9.2)\n",
      "Requirement already satisfied: numpy in c:\\users\\yang0108\\appdata\\local\\anaconda3\\envs\\dojo-env\\lib\\site-packages (from fasttext) (1.23.4)\n",
      "Requirement already satisfied: setuptools>=0.7.0 in c:\\users\\yang0108\\appdata\\local\\anaconda3\\envs\\dojo-env\\lib\\site-packages (from fasttext) (65.5.0)\n",
      "Requirement already satisfied: pybind11>=2.2 in c:\\users\\yang0108\\appdata\\local\\anaconda3\\envs\\dojo-env\\lib\\site-packages (from fasttext) (2.10.4)\n"
     ]
    }
   ],
   "source": [
    "!pip install fasttext"
   ]
  },
  {
   "cell_type": "code",
   "execution_count": 105,
   "id": "8760d544",
   "metadata": {},
   "outputs": [],
   "source": [
    "import fasttext"
   ]
  },
  {
   "cell_type": "code",
   "execution_count": 106,
   "id": "fa12cd85",
   "metadata": {},
   "outputs": [],
   "source": [
    "# train model with labels\n",
    "model = fasttext.train_supervised(input = 'disaster_train_fasttext.csv',\n",
    "                                 epoch = 10,\n",
    "                                 ws = 5,\n",
    "                                 dim = 50)"
   ]
  },
  {
   "cell_type": "code",
   "execution_count": 107,
   "id": "f6e32841",
   "metadata": {},
   "outputs": [],
   "source": [
    "df = pd.read_csv('disaster_train_fasttext.csv')"
   ]
  },
  {
   "cell_type": "code",
   "execution_count": 108,
   "id": "28dc697a",
   "metadata": {},
   "outputs": [
    {
     "name": "stdout",
     "output_type": "stream",
     "text": [
      "<class 'pandas.core.frame.DataFrame'>\n",
      "RangeIndex: 6089 entries, 0 to 6088\n",
      "Data columns (total 1 columns):\n",
      " #   Column                                                                                                                                         Non-Null Count  Dtype \n",
      "---  ------                                                                                                                                         --------------  ----- \n",
      " 0   __label__0 reddit will now quarantine offensive content reddit co founder and ceo steve huffman has unveiled more specif http t co ljmgdpdlvs  6089 non-null   object\n",
      "dtypes: object(1)\n",
      "memory usage: 47.7+ KB\n"
     ]
    }
   ],
   "source": [
    "df.info()"
   ]
  },
  {
   "cell_type": "code",
   "execution_count": null,
   "id": "887de2fe",
   "metadata": {},
   "outputs": [],
   "source": []
  },
  {
   "cell_type": "code",
   "execution_count": null,
   "id": "779c4d64",
   "metadata": {},
   "outputs": [],
   "source": []
  },
  {
   "cell_type": "code",
   "execution_count": 109,
   "id": "2899e5c1",
   "metadata": {},
   "outputs": [],
   "source": [
    "?model"
   ]
  },
  {
   "cell_type": "code",
   "execution_count": null,
   "id": "7495f7d1",
   "metadata": {},
   "outputs": [],
   "source": [
    "# check model\n",
    "model.predict(\"hello how are you\")\n",
    "\n",
    "# THIS KILLS MY KERNEL EVERY TIME"
   ]
  },
  {
   "cell_type": "code",
   "execution_count": null,
   "id": "ab676bd8",
   "metadata": {},
   "outputs": [],
   "source": [
    "# read in training data\n",
    "import pandas as pd\n",
    "df = pd.read_csv('Data/train.csv')\n",
    "\n",
    "# format target labels for fasttext:\n",
    "# must have \"__label__\" before each target lable\n",
    "df['target'] = \"__label__\" + df['target'].astype(str)\n",
    "\n",
    "# merge target and text columns so the text is on the same line as the label\n",
    "# with the label first (separated by a space); this is required for \n",
    "# fasttext formatting\n",
    "df['target_text'] = df['target'] + \" \" + df['text']\n",
    "\n",
    "# preprocess function subs everything that's not a word character or \n",
    "# is a space character or is an apostrophe with a space, then subs all\n",
    "# multiple spaces with just one space, then strips leading and lagging spaces\n",
    "# and converts all letters to lowercase, then subs newline characters with a\n",
    "# single space and subs all multiple spaces with just one space again\n",
    "import re\n",
    "def preprocess(text):\n",
    "    text = re.sub(r\"[^\\w\\s\\']\", \" \", text)\n",
    "    text = re.sub(r\" +\", \" \", text)\n",
    "    text = text.strip().lower()\n",
    "    text = re.sub(r\"\\\\n+\", \" \", text)\n",
    "    text = re.sub(r\" +\", \" \", text)\n",
    "    return text.strip()\n",
    "\n",
    "# apply preprocess function to target_text column\n",
    "df['target_text'] = df['target_text'].map(preprocess)\n",
    "\n",
    "# make preprocessed text column (without label) to test model on\n",
    "df['processed_text'] = df['text'].map(preprocess)\n",
    "\n",
    "# tts\n",
    "from sklearn.model_selection import train_test_split\n",
    "\n",
    "train, test = train_test_split(df, \n",
    "                               test_size = 0.2, \n",
    "                               random_state = 2022,\n",
    "                               stratify = df.target)\n",
    "\n",
    "# save formatted and labeled column in file for fasttext to train on\n",
    "import csv\n",
    "train.to_csv(\"disaster_train_fasttext.csv\", \n",
    "             columns = [\"target_text\"], \n",
    "             index = False, \n",
    "             header = False,\n",
    "             quoting = csv.QUOTE_NONNUMERIC)\n",
    "\n",
    "# install and import fasttext\n",
    "!pip install fasttext\n",
    "import fasttext\n",
    "\n",
    "# train model with labels\n",
    "model = fasttext.train_supervised(input = 'disaster_train_fasttext.csv')\n",
    "\n",
    "# check model\n",
    "model.predict(\"hello how are you\")"
   ]
  },
  {
   "cell_type": "code",
   "execution_count": null,
   "id": "537fffda",
   "metadata": {},
   "outputs": [],
   "source": [
    "print(len(test.processed_text))"
   ]
  },
  {
   "cell_type": "code",
   "execution_count": null,
   "id": "2f02182b",
   "metadata": {},
   "outputs": [],
   "source": [
    "# make file with processed text (without labels) in test set\n",
    "# to test model on\n",
    "\n",
    "test.to_csv(\"disaster_test_fasttext.csv\", \n",
    "             columns = [\"processed_text\"], \n",
    "             index = False, \n",
    "             header = False,\n",
    "             quoting = csv.QUOTE_NONNUMERIC)"
   ]
  },
  {
   "cell_type": "code",
   "execution_count": null,
   "id": "feaea01d",
   "metadata": {},
   "outputs": [],
   "source": [
    "print(len(test.target))"
   ]
  },
  {
   "cell_type": "code",
   "execution_count": null,
   "id": "1a626d83",
   "metadata": {},
   "outputs": [],
   "source": [
    "# make file with true labels for test set to compare model predictions to\n",
    "\n",
    "test.to_csv(\"disaster_test_fasttext_true_labels.csv\",\n",
    "           columns = ['target'],\n",
    "           index = False,\n",
    "           header = False,\n",
    "           quoting = csv.QUOTE_NONNUMERIC)"
   ]
  },
  {
   "cell_type": "code",
   "execution_count": null,
   "id": "4485fe3c",
   "metadata": {},
   "outputs": [],
   "source": [
    "# load test data\n",
    "# with open('disaster_test_fasttext.csv', 'r', encoding = 'utf-8') as f:\n",
    "#     test_data = f.readlines()\n",
    "\n",
    "test_data = pd.read_csv(\"disaster_test_fasttext.csv\", \n",
    "                        header = None,\n",
    "                        quoting = csv.QUOTE_NONNUMERIC)\n",
    "\n",
    "print(len(test_data))\n",
    "    \n",
    "# check\n",
    "print(test_data[:10])"
   ]
  },
  {
   "cell_type": "code",
   "execution_count": null,
   "id": "839d348e",
   "metadata": {},
   "outputs": [],
   "source": [
    "# check\n",
    "test_data[0][0]"
   ]
  },
  {
   "cell_type": "code",
   "execution_count": null,
   "id": "09a90c18",
   "metadata": {},
   "outputs": [],
   "source": [
    "# remove newline characters\n",
    "# test_data = [line.strip() for line in test_data]\n",
    "\n",
    "# check\n",
    "# print(test_data[:10])"
   ]
  },
  {
   "cell_type": "code",
   "execution_count": null,
   "id": "10fe9164",
   "metadata": {},
   "outputs": [],
   "source": [
    "# check length of test data\n",
    "print(len(test_data))"
   ]
  },
  {
   "cell_type": "code",
   "execution_count": null,
   "id": "a51151cd",
   "metadata": {},
   "outputs": [],
   "source": [
    "# convert test data to list\n",
    "test_data_list = test_data[0].tolist()\n",
    "\n",
    "# check\n",
    "test_data_list[:10]"
   ]
  },
  {
   "cell_type": "code",
   "execution_count": null,
   "id": "60f48396",
   "metadata": {},
   "outputs": [],
   "source": [
    "true_labels = pd.read_csv(\"disaster_test_fasttext_true_labels.csv\", \n",
    "                        header = None,\n",
    "                        quoting = csv.QUOTE_NONNUMERIC)\n",
    "\n",
    "print(len(true_labels))\n",
    "    \n",
    "# check\n",
    "print(true_labels[:10])"
   ]
  },
  {
   "cell_type": "code",
   "execution_count": null,
   "id": "0d242d69",
   "metadata": {},
   "outputs": [],
   "source": [
    "# check length of true_labels\n",
    "print(len(true_labels))"
   ]
  },
  {
   "cell_type": "code",
   "execution_count": null,
   "id": "d7e44fc8",
   "metadata": {},
   "outputs": [],
   "source": [
    "# convert true labels to list\n",
    "true_labels_list = true_labels[0].tolist()\n",
    "\n",
    "# check\n",
    "true_labels_list[:10]"
   ]
  },
  {
   "cell_type": "code",
   "execution_count": null,
   "id": "0d5a88ed",
   "metadata": {},
   "outputs": [],
   "source": [
    "# this line of code kills the kernel\n",
    "\n",
    "# predict labels for test data\n",
    "# model.predict(test_data[0][0])\n",
    "# predictions = [model.predict(line)[0] for line in test_data.iterrows()]\n",
    "\n",
    "# check\n",
    "# print(predictions[:10])"
   ]
  },
  {
   "cell_type": "code",
   "execution_count": null,
   "id": "7bfa35da",
   "metadata": {},
   "outputs": [],
   "source": [
    "# check length of predictions\n",
    "# print(len(predictions))"
   ]
  },
  {
   "cell_type": "code",
   "execution_count": null,
   "id": "80dbae4b",
   "metadata": {},
   "outputs": [],
   "source": [
    "test_data_list[0]"
   ]
  },
  {
   "cell_type": "code",
   "execution_count": null,
   "id": "c916eac3",
   "metadata": {},
   "outputs": [],
   "source": [
    "# this is causing my kernel to crash\n",
    "# https://fasttext.cc/docs/en/supervised-tutorial.html\n",
    "\n",
    "model.predict(\"which baking dish is best to bake a banana bread\")"
   ]
  },
  {
   "cell_type": "code",
   "execution_count": null,
   "id": "01122b4b",
   "metadata": {},
   "outputs": [],
   "source": []
  },
  {
   "cell_type": "code",
   "execution_count": null,
   "id": "11f2ba02",
   "metadata": {},
   "outputs": [],
   "source": [
    "# test_prediction = model.predict(test_data_list[0])\n",
    "# test_prediction"
   ]
  },
  {
   "cell_type": "code",
   "execution_count": null,
   "id": "8a642bc5",
   "metadata": {},
   "outputs": [],
   "source": [
    "# # get the f1 score\n",
    "\n",
    "# from sklearn.metrics import f1_score\n",
    "\n",
    "# f1 = f1_score(true_labels, predictions, average = 'macro')"
   ]
  },
  {
   "cell_type": "code",
   "execution_count": null,
   "id": "f89ee335",
   "metadata": {},
   "outputs": [],
   "source": [
    "\n",
    "\n",
    "# model.test(\"disaster_test_fasttext\")\n",
    "\n",
    "# # three output numbers: size of test samples, precision, recall"
   ]
  },
  {
   "cell_type": "code",
   "execution_count": null,
   "id": "1262002a",
   "metadata": {},
   "outputs": [],
   "source": [
    "# how to get f1?\n",
    "# model.test_label(\"disaster_test_fasttext\")"
   ]
  },
  {
   "cell_type": "code",
   "execution_count": null,
   "id": "40c98eca",
   "metadata": {},
   "outputs": [],
   "source": [
    "# y_pred = model.predict(\"disaster_test_fasttext\")\n",
    "\n",
    "# y_pred"
   ]
  },
  {
   "cell_type": "code",
   "execution_count": null,
   "id": "7a5ea631",
   "metadata": {},
   "outputs": [],
   "source": [
    "# from sklearn.metrics import classification_report\n",
    "\n",
    "# classification_report()"
   ]
  },
  {
   "cell_type": "code",
   "execution_count": null,
   "id": "10ad88bf",
   "metadata": {},
   "outputs": [],
   "source": []
  },
  {
   "cell_type": "code",
   "execution_count": null,
   "id": "e7d68f15",
   "metadata": {},
   "outputs": [],
   "source": []
  }
 ],
 "metadata": {
  "kernelspec": {
   "display_name": "Python (dojo-env)",
   "language": "python",
   "name": "dojo-env"
  },
  "language_info": {
   "codemirror_mode": {
    "name": "ipython",
    "version": 3
   },
   "file_extension": ".py",
   "mimetype": "text/x-python",
   "name": "python",
   "nbconvert_exporter": "python",
   "pygments_lexer": "ipython3",
   "version": "3.9.15"
  },
  "toc": {
   "base_numbering": 1,
   "nav_menu": {},
   "number_sections": false,
   "sideBar": true,
   "skip_h1_title": false,
   "title_cell": "Table of Contents",
   "title_sidebar": "Contents",
   "toc_cell": false,
   "toc_position": {},
   "toc_section_display": true,
   "toc_window_display": false
  }
 },
 "nbformat": 4,
 "nbformat_minor": 5
}
