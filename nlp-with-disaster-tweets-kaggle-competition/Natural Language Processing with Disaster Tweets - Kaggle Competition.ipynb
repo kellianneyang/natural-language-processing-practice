{
 "cells": [
  {
   "cell_type": "markdown",
   "id": "81565380",
   "metadata": {},
   "source": [
    "# Natural Language Processing with Disaster Tweets (Kaggle Competition)"
   ]
  },
  {
   "cell_type": "markdown",
   "id": "895a4c39",
   "metadata": {},
   "source": [
    "## **Outline**\n",
    "\n",
    "**Feature extraction techniques**\n",
    "1. TF/IDF\n",
    "2. spaCy word embeddings\n",
    "3. Gensim word vectors\n",
    "4. fastText (not currently working -- saved in separate notebook)\n",
    "\n",
    "\n",
    "**Data processing techniques**\n",
    "- Class balancing (nondisaster tweets: 57%)\n",
    "    - Class_weight parameter\n",
    "    - Undersampling\n",
    "    - Oversampling\n",
    "    - SMOTE\n",
    "    - Combination\n",
    "- Preprocessing\n",
    "    - Stopwords\n",
    "    - Stemming and/or lemmatization\n",
    "    - Punctuation\n",
    "\n",
    "\n",
    "**Models**\n",
    "- K-Nearest Neighbors (KNN)\n",
    "- Multinomial Naive Bayes (MNB)\n",
    "- Random Forest (RF)\n",
    "- Gradient Boosting Classifier (GBC)\n",
    "- Extreme Gradient Boosting (XGB)\n",
    "- Light Gradient Boosting Model (LGBM)\n",
    "- Neural networks\n",
    "    \n",
    "    \n",
    "**Other ideas?**\n",
    "- Categorical Naive Bayes?"
   ]
  },
  {
   "cell_type": "code",
   "execution_count": 1,
   "id": "64dd07cd",
   "metadata": {},
   "outputs": [],
   "source": [
    "# imports\n",
    "import pandas as pd\n",
    "import numpy as np\n",
    "from sklearn.model_selection import train_test_split\n",
    "from sklearn.feature_extraction.text import TfidfVectorizer\n",
    "from sklearn.neighbors import KNeighborsClassifier\n",
    "from sklearn.pipeline import Pipeline\n",
    "from sklearn.metrics import classification_report\n",
    "from sklearn import feature_extraction, linear_model, model_selection, preprocessing"
   ]
  },
  {
   "cell_type": "code",
   "execution_count": 2,
   "id": "c01ee040",
   "metadata": {},
   "outputs": [],
   "source": [
    "# helper function to save scores\n",
    "from sklearn.metrics import f1_score\n",
    "\n",
    "scores_df = pd.DataFrame()\n",
    "\n",
    "def save_scores(model_pipe, X_train, X_test, y_train, y_test, name):\n",
    "  \n",
    "    # calculate predictions\n",
    "    train_pred = model_pipe.predict(X_train)\n",
    "    test_pred = model_pipe.predict(X_test)\n",
    "    \n",
    "    # save f1 scores for each class\n",
    "    f1_train_scores = f1_score(y_train, train_pred, average = None)\n",
    "    for i, f1 in enumerate(f1_train_scores):\n",
    "        if i == 0:\n",
    "            f1_0_train = f1\n",
    "        elif i == 1:\n",
    "            f1_1_train = f1\n",
    "            \n",
    "    f1_test_scores = f1_score(y_test, test_pred, average = None)\n",
    "    for i, f1 in enumerate(f1_test_scores):\n",
    "        if i == 0:\n",
    "            f1_0_test = f1\n",
    "        elif i == 1:\n",
    "            f1_1_test = f1\n",
    "        \n",
    "    # store scores\n",
    "    scores_df.at[name, 'F1_0_Train'] = f1_0_train\n",
    "    scores_df.at[name, 'F1_1_Train'] = f1_1_train\n",
    "    scores_df.at[name, 'F1_Avg_Train'] = f1_score(y_train, train_pred, average = 'macro')\n",
    "    scores_df.at[name, 'F1_0_Test'] = f1_0_test\n",
    "    scores_df.at[name, 'F1_1_Test'] = f1_1_test\n",
    "    scores_df.at[name, 'F1_Avg_Test'] = f1_score(y_test, test_pred, average = 'macro')\n",
    "    \n",
    "    # show scores for this model only (can call scores_df to see all scores)\n",
    "    print(scores_df.loc[name, :])"
   ]
  },
  {
   "cell_type": "code",
   "execution_count": null,
   "id": "e5ba68e0",
   "metadata": {},
   "outputs": [],
   "source": [
    "# read in data\n",
    "train_df = pd.read_csv(\"Data/train.csv\")\n",
    "test_df = pd.read_csv(\"Data/test.csv\")\n",
    "\n",
    "# check\n",
    "train_df.info()\n",
    "test_df.info()"
   ]
  },
  {
   "cell_type": "code",
   "execution_count": null,
   "id": "9a550d31",
   "metadata": {},
   "outputs": [],
   "source": [
    "# check for duplicates\n",
    "train_df.duplicated().sum()"
   ]
  },
  {
   "cell_type": "code",
   "execution_count": null,
   "id": "abeb90bf",
   "metadata": {},
   "outputs": [],
   "source": [
    "# check class balance\n",
    "train_df['target'].value_counts()\n",
    "\n",
    "# the classes are a bit unbalanced (57% to 43%),\n",
    "# so we may want to try some class balancing techniques"
   ]
  },
  {
   "cell_type": "code",
   "execution_count": null,
   "id": "22f32081",
   "metadata": {},
   "outputs": [],
   "source": [
    "# check uniqueness of id column\n",
    "train_df['id'].nunique()"
   ]
  },
  {
   "cell_type": "code",
   "execution_count": null,
   "id": "3e11fdba",
   "metadata": {},
   "outputs": [],
   "source": [
    "# check examples of non-disaster tweets (target = 0)\n",
    "nondisaster_df = train_df[train_df['target'] == 0]\n",
    "\n",
    "for tweet in nondisaster_df['text'].values[1:10]:\n",
    "    print(tweet)"
   ]
  },
  {
   "cell_type": "code",
   "execution_count": null,
   "id": "5d776a58",
   "metadata": {},
   "outputs": [],
   "source": [
    "# check examples of disaster tweets (target = 1)\n",
    "disaster_df = train_df[train_df['target'] == 1]\n",
    "\n",
    "for tweet in disaster_df['text'].values[1:10]:\n",
    "    print(tweet)"
   ]
  },
  {
   "cell_type": "code",
   "execution_count": null,
   "id": "a14a693b",
   "metadata": {},
   "outputs": [],
   "source": []
  },
  {
   "cell_type": "code",
   "execution_count": null,
   "id": "5db76261",
   "metadata": {},
   "outputs": [],
   "source": []
  },
  {
   "cell_type": "markdown",
   "id": "0c0d73c0",
   "metadata": {},
   "source": [
    "# 1. TF-IDF"
   ]
  },
  {
   "cell_type": "markdown",
   "id": "127fa007",
   "metadata": {},
   "source": [
    "## No class balancing, no preprocessing (KNN, MNB, RF)"
   ]
  },
  {
   "cell_type": "code",
   "execution_count": 15,
   "id": "5b723be3",
   "metadata": {},
   "outputs": [
    {
     "data": {
      "text/html": [
       "<div>\n",
       "<style scoped>\n",
       "    .dataframe tbody tr th:only-of-type {\n",
       "        vertical-align: middle;\n",
       "    }\n",
       "\n",
       "    .dataframe tbody tr th {\n",
       "        vertical-align: top;\n",
       "    }\n",
       "\n",
       "    .dataframe thead th {\n",
       "        text-align: right;\n",
       "    }\n",
       "</style>\n",
       "<table border=\"1\" class=\"dataframe\">\n",
       "  <thead>\n",
       "    <tr style=\"text-align: right;\">\n",
       "      <th></th>\n",
       "      <th>id</th>\n",
       "      <th>keyword</th>\n",
       "      <th>location</th>\n",
       "      <th>text</th>\n",
       "      <th>target</th>\n",
       "    </tr>\n",
       "  </thead>\n",
       "  <tbody>\n",
       "    <tr>\n",
       "      <th>0</th>\n",
       "      <td>1</td>\n",
       "      <td>NaN</td>\n",
       "      <td>NaN</td>\n",
       "      <td>Our Deeds are the Reason of this #earthquake M...</td>\n",
       "      <td>1</td>\n",
       "    </tr>\n",
       "    <tr>\n",
       "      <th>1</th>\n",
       "      <td>4</td>\n",
       "      <td>NaN</td>\n",
       "      <td>NaN</td>\n",
       "      <td>Forest fire near La Ronge Sask. Canada</td>\n",
       "      <td>1</td>\n",
       "    </tr>\n",
       "    <tr>\n",
       "      <th>2</th>\n",
       "      <td>5</td>\n",
       "      <td>NaN</td>\n",
       "      <td>NaN</td>\n",
       "      <td>All residents asked to 'shelter in place' are ...</td>\n",
       "      <td>1</td>\n",
       "    </tr>\n",
       "    <tr>\n",
       "      <th>3</th>\n",
       "      <td>6</td>\n",
       "      <td>NaN</td>\n",
       "      <td>NaN</td>\n",
       "      <td>13,000 people receive #wildfires evacuation or...</td>\n",
       "      <td>1</td>\n",
       "    </tr>\n",
       "    <tr>\n",
       "      <th>4</th>\n",
       "      <td>7</td>\n",
       "      <td>NaN</td>\n",
       "      <td>NaN</td>\n",
       "      <td>Just got sent this photo from Ruby #Alaska as ...</td>\n",
       "      <td>1</td>\n",
       "    </tr>\n",
       "  </tbody>\n",
       "</table>\n",
       "</div>"
      ],
      "text/plain": [
       "   id keyword location                                               text  \\\n",
       "0   1     NaN      NaN  Our Deeds are the Reason of this #earthquake M...   \n",
       "1   4     NaN      NaN             Forest fire near La Ronge Sask. Canada   \n",
       "2   5     NaN      NaN  All residents asked to 'shelter in place' are ...   \n",
       "3   6     NaN      NaN  13,000 people receive #wildfires evacuation or...   \n",
       "4   7     NaN      NaN  Just got sent this photo from Ruby #Alaska as ...   \n",
       "\n",
       "   target  \n",
       "0       1  \n",
       "1       1  \n",
       "2       1  \n",
       "3       1  \n",
       "4       1  "
      ]
     },
     "execution_count": 15,
     "metadata": {},
     "output_type": "execute_result"
    }
   ],
   "source": [
    "train_df.head()"
   ]
  },
  {
   "cell_type": "code",
   "execution_count": 16,
   "id": "42164b88",
   "metadata": {},
   "outputs": [],
   "source": [
    "# tts on unprocessed data\n",
    "from sklearn.model_selection import train_test_split\n",
    "\n",
    "X_train, X_test, y_train, y_test = train_test_split(\n",
    "    train_df.text,\n",
    "    train_df.target,\n",
    "    test_size = 0.2,\n",
    "    random_state = 2022,\n",
    "    stratify = train_df.target)"
   ]
  },
  {
   "cell_type": "code",
   "execution_count": 17,
   "id": "0c989ee5",
   "metadata": {},
   "outputs": [
    {
     "name": "stdout",
     "output_type": "stream",
     "text": [
      "              precision    recall  f1-score   support\n",
      "\n",
      "           0       0.76      0.86      0.81       869\n",
      "           1       0.77      0.65      0.71       654\n",
      "\n",
      "    accuracy                           0.77      1523\n",
      "   macro avg       0.77      0.75      0.76      1523\n",
      "weighted avg       0.77      0.77      0.76      1523\n",
      "\n"
     ]
    }
   ],
   "source": [
    "clf = Pipeline([\n",
    "    ('vectorizer_tfidf', TfidfVectorizer()),\n",
    "    ('KNN', KNeighborsClassifier())\n",
    "])\n",
    "\n",
    "clf.fit(X_train, y_train)\n",
    "\n",
    "y_pred = clf.predict(X_test)\n",
    "\n",
    "print(classification_report(y_test, y_pred))"
   ]
  },
  {
   "cell_type": "code",
   "execution_count": 18,
   "id": "1631d7eb",
   "metadata": {},
   "outputs": [
    {
     "name": "stdout",
     "output_type": "stream",
     "text": [
      "F1_0_Train      0.865827\n",
      "F1_1_Train      0.799016\n",
      "F1_Avg_Train    0.832421\n",
      "F1_0_Test       0.808234\n",
      "F1_1_Test       0.705000\n",
      "F1_Avg_Test     0.756617\n",
      "Name: knn-tfidf-unb, dtype: float64\n"
     ]
    }
   ],
   "source": [
    "save_scores(clf, X_train, X_test, y_train, y_test, \"knn-tfidf-unb\")"
   ]
  },
  {
   "cell_type": "code",
   "execution_count": 19,
   "id": "d828f5a1",
   "metadata": {},
   "outputs": [
    {
     "data": {
      "text/html": [
       "<div>\n",
       "<style scoped>\n",
       "    .dataframe tbody tr th:only-of-type {\n",
       "        vertical-align: middle;\n",
       "    }\n",
       "\n",
       "    .dataframe tbody tr th {\n",
       "        vertical-align: top;\n",
       "    }\n",
       "\n",
       "    .dataframe thead th {\n",
       "        text-align: right;\n",
       "    }\n",
       "</style>\n",
       "<table border=\"1\" class=\"dataframe\">\n",
       "  <thead>\n",
       "    <tr style=\"text-align: right;\">\n",
       "      <th></th>\n",
       "      <th>F1_0_Train</th>\n",
       "      <th>F1_1_Train</th>\n",
       "      <th>F1_Avg_Train</th>\n",
       "      <th>F1_0_Test</th>\n",
       "      <th>F1_1_Test</th>\n",
       "      <th>F1_Avg_Test</th>\n",
       "    </tr>\n",
       "  </thead>\n",
       "  <tbody>\n",
       "    <tr>\n",
       "      <th>knn-tfidf-unb</th>\n",
       "      <td>0.865827</td>\n",
       "      <td>0.799016</td>\n",
       "      <td>0.832421</td>\n",
       "      <td>0.808234</td>\n",
       "      <td>0.705</td>\n",
       "      <td>0.756617</td>\n",
       "    </tr>\n",
       "  </tbody>\n",
       "</table>\n",
       "</div>"
      ],
      "text/plain": [
       "               F1_0_Train  F1_1_Train  F1_Avg_Train  F1_0_Test  F1_1_Test  \\\n",
       "knn-tfidf-unb    0.865827    0.799016      0.832421   0.808234      0.705   \n",
       "\n",
       "               F1_Avg_Test  \n",
       "knn-tfidf-unb     0.756617  "
      ]
     },
     "execution_count": 19,
     "metadata": {},
     "output_type": "execute_result"
    }
   ],
   "source": [
    "scores_df"
   ]
  },
  {
   "cell_type": "code",
   "execution_count": 20,
   "id": "9604b545",
   "metadata": {},
   "outputs": [
    {
     "name": "stdout",
     "output_type": "stream",
     "text": [
      "              precision    recall  f1-score   support\n",
      "\n",
      "           0       0.76      0.93      0.84       869\n",
      "           1       0.87      0.61      0.72       654\n",
      "\n",
      "    accuracy                           0.79      1523\n",
      "   macro avg       0.81      0.77      0.78      1523\n",
      "weighted avg       0.81      0.79      0.78      1523\n",
      "\n"
     ]
    }
   ],
   "source": [
    "# multinomial naive bayes\n",
    "\n",
    "from sklearn.naive_bayes import MultinomialNB\n",
    "\n",
    "clf = Pipeline([\n",
    "    ('vectorizer_tfidf', TfidfVectorizer()),\n",
    "    ('Multi NB', MultinomialNB())\n",
    "])\n",
    "\n",
    "clf.fit(X_train, y_train)\n",
    "\n",
    "y_pred = clf.predict(X_test)\n",
    "\n",
    "print(classification_report(y_test, y_pred))"
   ]
  },
  {
   "cell_type": "code",
   "execution_count": 21,
   "id": "0c35df2a",
   "metadata": {},
   "outputs": [
    {
     "name": "stdout",
     "output_type": "stream",
     "text": [
      "F1_0_Train      0.910580\n",
      "F1_1_Train      0.859256\n",
      "F1_Avg_Train    0.884918\n",
      "F1_0_Test       0.835836\n",
      "F1_1_Test       0.715695\n",
      "F1_Avg_Test     0.775766\n",
      "Name: mnb-tfidf-unb, dtype: float64\n"
     ]
    }
   ],
   "source": [
    "save_scores(clf, X_train, X_test, y_train, y_test, \"mnb-tfidf-unb\")"
   ]
  },
  {
   "cell_type": "code",
   "execution_count": 22,
   "id": "9190d84b",
   "metadata": {},
   "outputs": [
    {
     "name": "stdout",
     "output_type": "stream",
     "text": [
      "              precision    recall  f1-score   support\n",
      "\n",
      "           0       0.74      0.92      0.82       869\n",
      "           1       0.84      0.58      0.68       654\n",
      "\n",
      "    accuracy                           0.77      1523\n",
      "   macro avg       0.79      0.75      0.75      1523\n",
      "weighted avg       0.78      0.77      0.76      1523\n",
      "\n"
     ]
    }
   ],
   "source": [
    "# random forest\n",
    "\n",
    "from sklearn.ensemble import RandomForestClassifier\n",
    "\n",
    "clf = Pipeline([\n",
    "    ('vectorizer_tfidf', TfidfVectorizer()),\n",
    "    ('Random Forest', RandomForestClassifier())\n",
    "])\n",
    "\n",
    "clf.fit(X_train, y_train)\n",
    "\n",
    "y_pred = clf.predict(X_test)\n",
    "\n",
    "print(classification_report(y_test, y_pred))"
   ]
  },
  {
   "cell_type": "code",
   "execution_count": 23,
   "id": "4df9d4d2",
   "metadata": {},
   "outputs": [
    {
     "name": "stdout",
     "output_type": "stream",
     "text": [
      "F1_0_Train      0.997412\n",
      "F1_1_Train      0.996556\n",
      "F1_Avg_Train    0.996984\n",
      "F1_0_Test       0.820803\n",
      "F1_1_Test       0.684783\n",
      "F1_Avg_Test     0.752793\n",
      "Name: rf-tfidf-unb, dtype: float64\n"
     ]
    }
   ],
   "source": [
    "save_scores(clf, X_train, X_test, y_train, y_test, \"rf-tfidf-unb\")"
   ]
  },
  {
   "cell_type": "markdown",
   "id": "ad63d7c2",
   "metadata": {
    "heading_collapsed": true
   },
   "source": [
    "## No class balancing, minimal preprocessing (KNN, MNB, RF)"
   ]
  },
  {
   "cell_type": "code",
   "execution_count": 24,
   "id": "df221a9c",
   "metadata": {
    "hidden": true
   },
   "outputs": [],
   "source": [
    "# preprocessing: removing spacy stopwords and punctuation, lemmatizing\n",
    "\n",
    "import spacy\n",
    "\n",
    "nlp = spacy.load(\"en_core_web_sm\")\n",
    "\n",
    "def preprocess(text):\n",
    "    doc = nlp(text)\n",
    "    \n",
    "    filtered_tokens = []\n",
    "    \n",
    "    # take out stopwords and punctuation\n",
    "    for token in doc:\n",
    "        if token.is_stop or token.is_punct:\n",
    "            continue\n",
    "        \n",
    "        # convert to lemmas\n",
    "        filtered_tokens.append(token.lemma_)\n",
    "            \n",
    "    return \" \".join(filtered_tokens)"
   ]
  },
  {
   "cell_type": "code",
   "execution_count": 25,
   "id": "90c1e4e6",
   "metadata": {
    "hidden": true
   },
   "outputs": [],
   "source": [
    "train_df['preprocessed_txt'] = train_df['text'].apply(preprocess)"
   ]
  },
  {
   "cell_type": "code",
   "execution_count": 26,
   "id": "7486344f",
   "metadata": {
    "hidden": true
   },
   "outputs": [
    {
     "data": {
      "text/html": [
       "<div>\n",
       "<style scoped>\n",
       "    .dataframe tbody tr th:only-of-type {\n",
       "        vertical-align: middle;\n",
       "    }\n",
       "\n",
       "    .dataframe tbody tr th {\n",
       "        vertical-align: top;\n",
       "    }\n",
       "\n",
       "    .dataframe thead th {\n",
       "        text-align: right;\n",
       "    }\n",
       "</style>\n",
       "<table border=\"1\" class=\"dataframe\">\n",
       "  <thead>\n",
       "    <tr style=\"text-align: right;\">\n",
       "      <th></th>\n",
       "      <th>id</th>\n",
       "      <th>keyword</th>\n",
       "      <th>location</th>\n",
       "      <th>text</th>\n",
       "      <th>target</th>\n",
       "      <th>preprocessed_txt</th>\n",
       "    </tr>\n",
       "  </thead>\n",
       "  <tbody>\n",
       "    <tr>\n",
       "      <th>0</th>\n",
       "      <td>1</td>\n",
       "      <td>NaN</td>\n",
       "      <td>NaN</td>\n",
       "      <td>Our Deeds are the Reason of this #earthquake M...</td>\n",
       "      <td>1</td>\n",
       "      <td>deed Reason earthquake ALLAH forgive</td>\n",
       "    </tr>\n",
       "    <tr>\n",
       "      <th>1</th>\n",
       "      <td>4</td>\n",
       "      <td>NaN</td>\n",
       "      <td>NaN</td>\n",
       "      <td>Forest fire near La Ronge Sask. Canada</td>\n",
       "      <td>1</td>\n",
       "      <td>forest fire near La Ronge Sask Canada</td>\n",
       "    </tr>\n",
       "    <tr>\n",
       "      <th>2</th>\n",
       "      <td>5</td>\n",
       "      <td>NaN</td>\n",
       "      <td>NaN</td>\n",
       "      <td>All residents asked to 'shelter in place' are ...</td>\n",
       "      <td>1</td>\n",
       "      <td>resident ask shelter place notify officer evac...</td>\n",
       "    </tr>\n",
       "    <tr>\n",
       "      <th>3</th>\n",
       "      <td>6</td>\n",
       "      <td>NaN</td>\n",
       "      <td>NaN</td>\n",
       "      <td>13,000 people receive #wildfires evacuation or...</td>\n",
       "      <td>1</td>\n",
       "      <td>13,000 people receive wildfire evacuation orde...</td>\n",
       "    </tr>\n",
       "    <tr>\n",
       "      <th>4</th>\n",
       "      <td>7</td>\n",
       "      <td>NaN</td>\n",
       "      <td>NaN</td>\n",
       "      <td>Just got sent this photo from Ruby #Alaska as ...</td>\n",
       "      <td>1</td>\n",
       "      <td>got send photo Ruby Alaska smoke wildfire pour...</td>\n",
       "    </tr>\n",
       "  </tbody>\n",
       "</table>\n",
       "</div>"
      ],
      "text/plain": [
       "   id keyword location                                               text  \\\n",
       "0   1     NaN      NaN  Our Deeds are the Reason of this #earthquake M...   \n",
       "1   4     NaN      NaN             Forest fire near La Ronge Sask. Canada   \n",
       "2   5     NaN      NaN  All residents asked to 'shelter in place' are ...   \n",
       "3   6     NaN      NaN  13,000 people receive #wildfires evacuation or...   \n",
       "4   7     NaN      NaN  Just got sent this photo from Ruby #Alaska as ...   \n",
       "\n",
       "   target                                   preprocessed_txt  \n",
       "0       1               deed Reason earthquake ALLAH forgive  \n",
       "1       1              forest fire near La Ronge Sask Canada  \n",
       "2       1  resident ask shelter place notify officer evac...  \n",
       "3       1  13,000 people receive wildfire evacuation orde...  \n",
       "4       1  got send photo Ruby Alaska smoke wildfire pour...  "
      ]
     },
     "execution_count": 26,
     "metadata": {},
     "output_type": "execute_result"
    }
   ],
   "source": [
    "# check\n",
    "train_df.head()"
   ]
  },
  {
   "cell_type": "code",
   "execution_count": 27,
   "id": "3c67399a",
   "metadata": {
    "hidden": true
   },
   "outputs": [],
   "source": [
    "# tts on processed data\n",
    "\n",
    "X_train, X_test, y_train, y_test = train_test_split(\n",
    "    train_df.preprocessed_txt,\n",
    "    train_df.target,\n",
    "    test_size = 0.2,\n",
    "    random_state = 2022,\n",
    "    stratify = train_df.target)"
   ]
  },
  {
   "cell_type": "code",
   "execution_count": 28,
   "id": "0c92599d",
   "metadata": {
    "hidden": true
   },
   "outputs": [
    {
     "name": "stdout",
     "output_type": "stream",
     "text": [
      "              precision    recall  f1-score   support\n",
      "\n",
      "           0       0.76      0.86      0.81       869\n",
      "           1       0.77      0.63      0.70       654\n",
      "\n",
      "    accuracy                           0.76      1523\n",
      "   macro avg       0.77      0.75      0.75      1523\n",
      "weighted avg       0.76      0.76      0.76      1523\n",
      "\n"
     ]
    }
   ],
   "source": [
    "# knn on preprocessed data\n",
    "clf = Pipeline([\n",
    "    ('vectorizer_tfidf', TfidfVectorizer()),\n",
    "    ('KNN', KNeighborsClassifier())\n",
    "])\n",
    "\n",
    "clf.fit(X_train, y_train)\n",
    "\n",
    "y_pred = clf.predict(X_test)\n",
    "\n",
    "print(classification_report(y_test, y_pred))"
   ]
  },
  {
   "cell_type": "code",
   "execution_count": 29,
   "id": "40caf7a9",
   "metadata": {
    "hidden": true
   },
   "outputs": [
    {
     "name": "stdout",
     "output_type": "stream",
     "text": [
      "F1_0_Train      0.865442\n",
      "F1_1_Train      0.791545\n",
      "F1_Avg_Train    0.828493\n",
      "F1_0_Test       0.805391\n",
      "F1_1_Test       0.696893\n",
      "F1_Avg_Test     0.751142\n",
      "Name: knn-tfidf-unb-prep, dtype: float64\n"
     ]
    }
   ],
   "source": [
    "save_scores(clf, X_train, X_test, y_train, y_test, \"knn-tfidf-unb-prep\")"
   ]
  },
  {
   "cell_type": "code",
   "execution_count": 30,
   "id": "4252b8da",
   "metadata": {
    "hidden": true
   },
   "outputs": [
    {
     "name": "stdout",
     "output_type": "stream",
     "text": [
      "              precision    recall  f1-score   support\n",
      "\n",
      "           0       0.78      0.91      0.84       869\n",
      "           1       0.84      0.65      0.73       654\n",
      "\n",
      "    accuracy                           0.80      1523\n",
      "   macro avg       0.81      0.78      0.78      1523\n",
      "weighted avg       0.80      0.80      0.79      1523\n",
      "\n"
     ]
    }
   ],
   "source": [
    "# multinomial naive bayes on preprocessed text\n",
    "\n",
    "clf = Pipeline([\n",
    "    ('vectorizer_tfidf', TfidfVectorizer()),\n",
    "    ('Multi NB', MultinomialNB())\n",
    "])\n",
    "\n",
    "clf.fit(X_train, y_train)\n",
    "\n",
    "y_pred = clf.predict(X_test)\n",
    "\n",
    "print(classification_report(y_test, y_pred))"
   ]
  },
  {
   "cell_type": "code",
   "execution_count": 31,
   "id": "f260cd4a",
   "metadata": {
    "hidden": true
   },
   "outputs": [
    {
     "name": "stdout",
     "output_type": "stream",
     "text": [
      "F1_0_Train      0.926736\n",
      "F1_1_Train      0.889803\n",
      "F1_Avg_Train    0.908269\n",
      "F1_0_Test       0.836074\n",
      "F1_1_Test       0.733850\n",
      "F1_Avg_Test     0.784962\n",
      "Name: mnb-tfidf-unb-prep, dtype: float64\n"
     ]
    }
   ],
   "source": [
    "save_scores(clf, X_train, X_test, y_train, y_test, \"mnb-tfidf-unb-prep\")"
   ]
  },
  {
   "cell_type": "code",
   "execution_count": 32,
   "id": "1a3cccb6",
   "metadata": {
    "hidden": true
   },
   "outputs": [
    {
     "name": "stdout",
     "output_type": "stream",
     "text": [
      "              precision    recall  f1-score   support\n",
      "\n",
      "           0       0.75      0.92      0.82       869\n",
      "           1       0.84      0.59      0.69       654\n",
      "\n",
      "    accuracy                           0.77      1523\n",
      "   macro avg       0.79      0.75      0.76      1523\n",
      "weighted avg       0.79      0.77      0.77      1523\n",
      "\n"
     ]
    }
   ],
   "source": [
    "# random forest on preprocessed text\n",
    "\n",
    "clf = Pipeline([\n",
    "    ('vectorizer_tfidf', TfidfVectorizer()),\n",
    "    ('Random Forest', RandomForestClassifier())\n",
    "])\n",
    "\n",
    "clf.fit(X_train, y_train)\n",
    "\n",
    "y_pred = clf.predict(X_test)\n",
    "\n",
    "print(classification_report(y_test, y_pred))"
   ]
  },
  {
   "cell_type": "code",
   "execution_count": 33,
   "id": "b286be4c",
   "metadata": {
    "hidden": true
   },
   "outputs": [
    {
     "name": "stdout",
     "output_type": "stream",
     "text": [
      "F1_0_Train      0.997556\n",
      "F1_1_Train      0.996746\n",
      "F1_Avg_Train    0.997151\n",
      "F1_0_Test       0.822922\n",
      "F1_1_Test       0.690712\n",
      "F1_Avg_Test     0.756817\n",
      "Name: rf-tfidf-unb-prep, dtype: float64\n"
     ]
    }
   ],
   "source": [
    "save_scores(clf, X_train, X_test, y_train, y_test, \"rf-tfidf-unb-prep\")"
   ]
  },
  {
   "cell_type": "code",
   "execution_count": 34,
   "id": "b67c5204",
   "metadata": {
    "hidden": true
   },
   "outputs": [
    {
     "data": {
      "text/html": [
       "<div>\n",
       "<style scoped>\n",
       "    .dataframe tbody tr th:only-of-type {\n",
       "        vertical-align: middle;\n",
       "    }\n",
       "\n",
       "    .dataframe tbody tr th {\n",
       "        vertical-align: top;\n",
       "    }\n",
       "\n",
       "    .dataframe thead th {\n",
       "        text-align: right;\n",
       "    }\n",
       "</style>\n",
       "<table border=\"1\" class=\"dataframe\">\n",
       "  <thead>\n",
       "    <tr style=\"text-align: right;\">\n",
       "      <th></th>\n",
       "      <th>F1_0_Train</th>\n",
       "      <th>F1_1_Train</th>\n",
       "      <th>F1_Avg_Train</th>\n",
       "      <th>F1_0_Test</th>\n",
       "      <th>F1_1_Test</th>\n",
       "      <th>F1_Avg_Test</th>\n",
       "    </tr>\n",
       "  </thead>\n",
       "  <tbody>\n",
       "    <tr>\n",
       "      <th>mnb-tfidf-unb-prep</th>\n",
       "      <td>0.926736</td>\n",
       "      <td>0.889803</td>\n",
       "      <td>0.908269</td>\n",
       "      <td>0.836074</td>\n",
       "      <td>0.733850</td>\n",
       "      <td>0.784962</td>\n",
       "    </tr>\n",
       "    <tr>\n",
       "      <th>mnb-tfidf-unb</th>\n",
       "      <td>0.910580</td>\n",
       "      <td>0.859256</td>\n",
       "      <td>0.884918</td>\n",
       "      <td>0.835836</td>\n",
       "      <td>0.715695</td>\n",
       "      <td>0.775766</td>\n",
       "    </tr>\n",
       "    <tr>\n",
       "      <th>rf-tfidf-unb-prep</th>\n",
       "      <td>0.997556</td>\n",
       "      <td>0.996746</td>\n",
       "      <td>0.997151</td>\n",
       "      <td>0.822922</td>\n",
       "      <td>0.690712</td>\n",
       "      <td>0.756817</td>\n",
       "    </tr>\n",
       "    <tr>\n",
       "      <th>knn-tfidf-unb</th>\n",
       "      <td>0.865827</td>\n",
       "      <td>0.799016</td>\n",
       "      <td>0.832421</td>\n",
       "      <td>0.808234</td>\n",
       "      <td>0.705000</td>\n",
       "      <td>0.756617</td>\n",
       "    </tr>\n",
       "    <tr>\n",
       "      <th>rf-tfidf-unb</th>\n",
       "      <td>0.997412</td>\n",
       "      <td>0.996556</td>\n",
       "      <td>0.996984</td>\n",
       "      <td>0.820803</td>\n",
       "      <td>0.684783</td>\n",
       "      <td>0.752793</td>\n",
       "    </tr>\n",
       "    <tr>\n",
       "      <th>knn-tfidf-unb-prep</th>\n",
       "      <td>0.865442</td>\n",
       "      <td>0.791545</td>\n",
       "      <td>0.828493</td>\n",
       "      <td>0.805391</td>\n",
       "      <td>0.696893</td>\n",
       "      <td>0.751142</td>\n",
       "    </tr>\n",
       "  </tbody>\n",
       "</table>\n",
       "</div>"
      ],
      "text/plain": [
       "                    F1_0_Train  F1_1_Train  F1_Avg_Train  F1_0_Test  \\\n",
       "mnb-tfidf-unb-prep    0.926736    0.889803      0.908269   0.836074   \n",
       "mnb-tfidf-unb         0.910580    0.859256      0.884918   0.835836   \n",
       "rf-tfidf-unb-prep     0.997556    0.996746      0.997151   0.822922   \n",
       "knn-tfidf-unb         0.865827    0.799016      0.832421   0.808234   \n",
       "rf-tfidf-unb          0.997412    0.996556      0.996984   0.820803   \n",
       "knn-tfidf-unb-prep    0.865442    0.791545      0.828493   0.805391   \n",
       "\n",
       "                    F1_1_Test  F1_Avg_Test  \n",
       "mnb-tfidf-unb-prep   0.733850     0.784962  \n",
       "mnb-tfidf-unb        0.715695     0.775766  \n",
       "rf-tfidf-unb-prep    0.690712     0.756817  \n",
       "knn-tfidf-unb        0.705000     0.756617  \n",
       "rf-tfidf-unb         0.684783     0.752793  \n",
       "knn-tfidf-unb-prep   0.696893     0.751142  "
      ]
     },
     "execution_count": 34,
     "metadata": {},
     "output_type": "execute_result"
    }
   ],
   "source": [
    "scores_df.sort_values(by = 'F1_Avg_Test', ascending = False)"
   ]
  },
  {
   "cell_type": "markdown",
   "id": "fd9c8343",
   "metadata": {
    "heading_collapsed": true
   },
   "source": [
    "## Class balancing, minimal preprocessing (KNN, MNB, RF)"
   ]
  },
  {
   "cell_type": "code",
   "execution_count": 35,
   "id": "402b4b35",
   "metadata": {
    "hidden": true
   },
   "outputs": [],
   "source": [
    "# class_weight, undersampling, oversampling, smote"
   ]
  },
  {
   "cell_type": "code",
   "execution_count": 36,
   "id": "3fb16da3",
   "metadata": {
    "hidden": true
   },
   "outputs": [],
   "source": [
    "# class_weight param\n",
    "# knn: none\n",
    "# mnb: fit_prior = False\n",
    "# rf: class_weight = 'balanced'"
   ]
  },
  {
   "cell_type": "code",
   "execution_count": 37,
   "id": "c7143195",
   "metadata": {
    "hidden": true
   },
   "outputs": [],
   "source": [
    "# use class_weight param (if avail) WITH other\n",
    "# sampling techniques"
   ]
  },
  {
   "cell_type": "markdown",
   "id": "60c12e40",
   "metadata": {
    "heading_collapsed": true,
    "hidden": true
   },
   "source": [
    "### Undersampling & class_weight"
   ]
  },
  {
   "cell_type": "code",
   "execution_count": 38,
   "id": "fad0c72e",
   "metadata": {
    "hidden": true
   },
   "outputs": [],
   "source": [
    "from imblearn.pipeline import make_pipeline as resample_pipeline\n",
    "from imblearn.under_sampling import RandomUnderSampler"
   ]
  },
  {
   "cell_type": "code",
   "execution_count": 39,
   "id": "c2bce882",
   "metadata": {
    "hidden": true
   },
   "outputs": [],
   "source": [
    "X_train, X_test, y_train, y_test = train_test_split(\n",
    "    train_df.preprocessed_txt,\n",
    "    train_df.target,\n",
    "    test_size = 0.2,\n",
    "    random_state = 2022,\n",
    "    stratify = train_df.target)"
   ]
  },
  {
   "cell_type": "code",
   "execution_count": 40,
   "id": "eab1e446",
   "metadata": {
    "hidden": true
   },
   "outputs": [
    {
     "name": "stdout",
     "output_type": "stream",
     "text": [
      "F1_0_Train      0.851106\n",
      "F1_1_Train      0.791970\n",
      "F1_Avg_Train    0.821538\n",
      "F1_0_Test       0.785553\n",
      "F1_1_Test       0.701727\n",
      "F1_Avg_Test     0.743640\n",
      "Name: knn-tfidf-under-prep, dtype: float64\n"
     ]
    }
   ],
   "source": [
    "# undersampled knn on preprocessed data\n",
    "clf = resample_pipeline(TfidfVectorizer(),\n",
    "                              RandomUnderSampler(),\n",
    "                              KNeighborsClassifier())\n",
    "\n",
    "clf.fit(X_train, y_train)\n",
    "\n",
    "save_scores(clf, X_train, X_test, y_train, y_test, \"knn-tfidf-under-prep\")"
   ]
  },
  {
   "cell_type": "code",
   "execution_count": 41,
   "id": "ea6c8ed7",
   "metadata": {
    "hidden": true
   },
   "outputs": [
    {
     "name": "stdout",
     "output_type": "stream",
     "text": [
      "F1_0_Train      0.916084\n",
      "F1_1_Train      0.891648\n",
      "F1_Avg_Train    0.903866\n",
      "F1_0_Test       0.794376\n",
      "F1_1_Test       0.737864\n",
      "F1_Avg_Test     0.766120\n",
      "Name: mnb-tfidf-under-prep, dtype: float64\n"
     ]
    }
   ],
   "source": [
    "# undersampled, balanced mnb on preprocessed text\n",
    "\n",
    "clf = resample_pipeline(TfidfVectorizer(),\n",
    "                        RandomUnderSampler(),\n",
    "                        MultinomialNB(fit_prior = False))\n",
    "\n",
    "clf.fit(X_train, y_train)\n",
    "\n",
    "save_scores(clf, X_train, X_test, y_train, y_test, \"mnb-tfidf-under-prep\")"
   ]
  },
  {
   "cell_type": "code",
   "execution_count": 42,
   "id": "a4e76bd9",
   "metadata": {
    "hidden": true
   },
   "outputs": [
    {
     "name": "stdout",
     "output_type": "stream",
     "text": [
      "F1_0_Train      0.980363\n",
      "F1_1_Train      0.974981\n",
      "F1_Avg_Train    0.977672\n",
      "F1_0_Test       0.804090\n",
      "F1_1_Test       0.693603\n",
      "F1_Avg_Test     0.748847\n",
      "Name: rf-tfidf-under-prep, dtype: float64\n"
     ]
    }
   ],
   "source": [
    "# random forest on preprocessed text\n",
    "\n",
    "clf = resample_pipeline(TfidfVectorizer(),\n",
    "                        RandomUnderSampler(),\n",
    "                        RandomForestClassifier(class_weight = 'balanced'))\n",
    "\n",
    "clf.fit(X_train, y_train)\n",
    "\n",
    "save_scores(clf, X_train, X_test, y_train, y_test, \"rf-tfidf-under-prep\")"
   ]
  },
  {
   "cell_type": "code",
   "execution_count": 43,
   "id": "8b8eac63",
   "metadata": {
    "hidden": true
   },
   "outputs": [
    {
     "data": {
      "text/html": [
       "<div>\n",
       "<style scoped>\n",
       "    .dataframe tbody tr th:only-of-type {\n",
       "        vertical-align: middle;\n",
       "    }\n",
       "\n",
       "    .dataframe tbody tr th {\n",
       "        vertical-align: top;\n",
       "    }\n",
       "\n",
       "    .dataframe thead th {\n",
       "        text-align: right;\n",
       "    }\n",
       "</style>\n",
       "<table border=\"1\" class=\"dataframe\">\n",
       "  <thead>\n",
       "    <tr style=\"text-align: right;\">\n",
       "      <th></th>\n",
       "      <th>F1_0_Train</th>\n",
       "      <th>F1_1_Train</th>\n",
       "      <th>F1_Avg_Train</th>\n",
       "      <th>F1_0_Test</th>\n",
       "      <th>F1_1_Test</th>\n",
       "      <th>F1_Avg_Test</th>\n",
       "    </tr>\n",
       "  </thead>\n",
       "  <tbody>\n",
       "    <tr>\n",
       "      <th>mnb-tfidf-unb-prep</th>\n",
       "      <td>0.926736</td>\n",
       "      <td>0.889803</td>\n",
       "      <td>0.908269</td>\n",
       "      <td>0.836074</td>\n",
       "      <td>0.733850</td>\n",
       "      <td>0.784962</td>\n",
       "    </tr>\n",
       "    <tr>\n",
       "      <th>mnb-tfidf-unb</th>\n",
       "      <td>0.910580</td>\n",
       "      <td>0.859256</td>\n",
       "      <td>0.884918</td>\n",
       "      <td>0.835836</td>\n",
       "      <td>0.715695</td>\n",
       "      <td>0.775766</td>\n",
       "    </tr>\n",
       "    <tr>\n",
       "      <th>mnb-tfidf-under-prep</th>\n",
       "      <td>0.916084</td>\n",
       "      <td>0.891648</td>\n",
       "      <td>0.903866</td>\n",
       "      <td>0.794376</td>\n",
       "      <td>0.737864</td>\n",
       "      <td>0.766120</td>\n",
       "    </tr>\n",
       "    <tr>\n",
       "      <th>rf-tfidf-unb-prep</th>\n",
       "      <td>0.997556</td>\n",
       "      <td>0.996746</td>\n",
       "      <td>0.997151</td>\n",
       "      <td>0.822922</td>\n",
       "      <td>0.690712</td>\n",
       "      <td>0.756817</td>\n",
       "    </tr>\n",
       "    <tr>\n",
       "      <th>knn-tfidf-unb</th>\n",
       "      <td>0.865827</td>\n",
       "      <td>0.799016</td>\n",
       "      <td>0.832421</td>\n",
       "      <td>0.808234</td>\n",
       "      <td>0.705000</td>\n",
       "      <td>0.756617</td>\n",
       "    </tr>\n",
       "    <tr>\n",
       "      <th>rf-tfidf-unb</th>\n",
       "      <td>0.997412</td>\n",
       "      <td>0.996556</td>\n",
       "      <td>0.996984</td>\n",
       "      <td>0.820803</td>\n",
       "      <td>0.684783</td>\n",
       "      <td>0.752793</td>\n",
       "    </tr>\n",
       "    <tr>\n",
       "      <th>knn-tfidf-unb-prep</th>\n",
       "      <td>0.865442</td>\n",
       "      <td>0.791545</td>\n",
       "      <td>0.828493</td>\n",
       "      <td>0.805391</td>\n",
       "      <td>0.696893</td>\n",
       "      <td>0.751142</td>\n",
       "    </tr>\n",
       "    <tr>\n",
       "      <th>rf-tfidf-under-prep</th>\n",
       "      <td>0.980363</td>\n",
       "      <td>0.974981</td>\n",
       "      <td>0.977672</td>\n",
       "      <td>0.804090</td>\n",
       "      <td>0.693603</td>\n",
       "      <td>0.748847</td>\n",
       "    </tr>\n",
       "    <tr>\n",
       "      <th>knn-tfidf-under-prep</th>\n",
       "      <td>0.851106</td>\n",
       "      <td>0.791970</td>\n",
       "      <td>0.821538</td>\n",
       "      <td>0.785553</td>\n",
       "      <td>0.701727</td>\n",
       "      <td>0.743640</td>\n",
       "    </tr>\n",
       "  </tbody>\n",
       "</table>\n",
       "</div>"
      ],
      "text/plain": [
       "                      F1_0_Train  F1_1_Train  F1_Avg_Train  F1_0_Test  \\\n",
       "mnb-tfidf-unb-prep      0.926736    0.889803      0.908269   0.836074   \n",
       "mnb-tfidf-unb           0.910580    0.859256      0.884918   0.835836   \n",
       "mnb-tfidf-under-prep    0.916084    0.891648      0.903866   0.794376   \n",
       "rf-tfidf-unb-prep       0.997556    0.996746      0.997151   0.822922   \n",
       "knn-tfidf-unb           0.865827    0.799016      0.832421   0.808234   \n",
       "rf-tfidf-unb            0.997412    0.996556      0.996984   0.820803   \n",
       "knn-tfidf-unb-prep      0.865442    0.791545      0.828493   0.805391   \n",
       "rf-tfidf-under-prep     0.980363    0.974981      0.977672   0.804090   \n",
       "knn-tfidf-under-prep    0.851106    0.791970      0.821538   0.785553   \n",
       "\n",
       "                      F1_1_Test  F1_Avg_Test  \n",
       "mnb-tfidf-unb-prep     0.733850     0.784962  \n",
       "mnb-tfidf-unb          0.715695     0.775766  \n",
       "mnb-tfidf-under-prep   0.737864     0.766120  \n",
       "rf-tfidf-unb-prep      0.690712     0.756817  \n",
       "knn-tfidf-unb          0.705000     0.756617  \n",
       "rf-tfidf-unb           0.684783     0.752793  \n",
       "knn-tfidf-unb-prep     0.696893     0.751142  \n",
       "rf-tfidf-under-prep    0.693603     0.748847  \n",
       "knn-tfidf-under-prep   0.701727     0.743640  "
      ]
     },
     "execution_count": 43,
     "metadata": {},
     "output_type": "execute_result"
    }
   ],
   "source": [
    "scores_df.sort_values(by = 'F1_Avg_Test', ascending = False)"
   ]
  },
  {
   "cell_type": "markdown",
   "id": "a6b1ba29",
   "metadata": {
    "heading_collapsed": true,
    "hidden": true
   },
   "source": [
    "### Oversampling and class_weight"
   ]
  },
  {
   "cell_type": "code",
   "execution_count": 44,
   "id": "f11ea994",
   "metadata": {
    "hidden": true
   },
   "outputs": [],
   "source": [
    "from imblearn.over_sampling import RandomOverSampler"
   ]
  },
  {
   "cell_type": "code",
   "execution_count": 45,
   "id": "7b3220d2",
   "metadata": {
    "hidden": true
   },
   "outputs": [],
   "source": [
    "X_train, X_test, y_train, y_test = train_test_split(\n",
    "    train_df.preprocessed_txt,\n",
    "    train_df.target,\n",
    "    test_size = 0.2,\n",
    "    random_state = 2022,\n",
    "    stratify = train_df.target)"
   ]
  },
  {
   "cell_type": "code",
   "execution_count": 46,
   "id": "a6fb8598",
   "metadata": {
    "hidden": true
   },
   "outputs": [
    {
     "name": "stdout",
     "output_type": "stream",
     "text": [
      "F1_0_Train      0.861095\n",
      "F1_1_Train      0.806907\n",
      "F1_Avg_Train    0.834001\n",
      "F1_0_Test       0.784225\n",
      "F1_1_Test       0.698662\n",
      "F1_Avg_Test     0.741444\n",
      "Name: knn-tfidf-over-prep, dtype: float64\n"
     ]
    }
   ],
   "source": [
    "# oversampled knn on preprocessed data\n",
    "clf = resample_pipeline(TfidfVectorizer(),\n",
    "                        RandomOverSampler(),\n",
    "                        KNeighborsClassifier())\n",
    "\n",
    "clf.fit(X_train, y_train)\n",
    "\n",
    "save_scores(clf, X_train, X_test, y_train, y_test, \"knn-tfidf-over-prep\")"
   ]
  },
  {
   "cell_type": "code",
   "execution_count": 47,
   "id": "1385bb80",
   "metadata": {
    "hidden": true
   },
   "outputs": [
    {
     "name": "stdout",
     "output_type": "stream",
     "text": [
      "F1_0_Train      0.932305\n",
      "F1_1_Train      0.908459\n",
      "F1_Avg_Train    0.920382\n",
      "F1_0_Test       0.797211\n",
      "F1_1_Test       0.736604\n",
      "F1_Avg_Test     0.766907\n",
      "Name: mnb-tfidf-over-prep, dtype: float64\n"
     ]
    }
   ],
   "source": [
    "# oversampled, balanced mnb on preprocessed text\n",
    "\n",
    "clf = resample_pipeline(TfidfVectorizer(),\n",
    "                        RandomOverSampler(),\n",
    "                        MultinomialNB(fit_prior = False))\n",
    "\n",
    "clf.fit(X_train, y_train)\n",
    "\n",
    "save_scores(clf, X_train, X_test, y_train, y_test, \"mnb-tfidf-over-prep\")"
   ]
  },
  {
   "cell_type": "code",
   "execution_count": 48,
   "id": "605a1a9c",
   "metadata": {
    "hidden": true
   },
   "outputs": [
    {
     "name": "stdout",
     "output_type": "stream",
     "text": [
      "F1_0_Train      0.997409\n",
      "F1_1_Train      0.996561\n",
      "F1_Avg_Train    0.996985\n",
      "F1_0_Test       0.816649\n",
      "F1_1_Test       0.696864\n",
      "F1_Avg_Test     0.756757\n",
      "Name: rf-tfidf-over-prep, dtype: float64\n"
     ]
    }
   ],
   "source": [
    "# oversampled random forest on preprocessed text\n",
    "\n",
    "clf = resample_pipeline(TfidfVectorizer(),\n",
    "                        RandomOverSampler(),\n",
    "                        RandomForestClassifier(class_weight = 'balanced'))\n",
    "\n",
    "clf.fit(X_train, y_train)\n",
    "\n",
    "save_scores(clf, X_train, X_test, y_train, y_test, \"rf-tfidf-over-prep\")"
   ]
  },
  {
   "cell_type": "code",
   "execution_count": 49,
   "id": "a8d266da",
   "metadata": {
    "hidden": true
   },
   "outputs": [
    {
     "data": {
      "text/html": [
       "<div>\n",
       "<style scoped>\n",
       "    .dataframe tbody tr th:only-of-type {\n",
       "        vertical-align: middle;\n",
       "    }\n",
       "\n",
       "    .dataframe tbody tr th {\n",
       "        vertical-align: top;\n",
       "    }\n",
       "\n",
       "    .dataframe thead th {\n",
       "        text-align: right;\n",
       "    }\n",
       "</style>\n",
       "<table border=\"1\" class=\"dataframe\">\n",
       "  <thead>\n",
       "    <tr style=\"text-align: right;\">\n",
       "      <th></th>\n",
       "      <th>F1_0_Train</th>\n",
       "      <th>F1_1_Train</th>\n",
       "      <th>F1_Avg_Train</th>\n",
       "      <th>F1_0_Test</th>\n",
       "      <th>F1_1_Test</th>\n",
       "      <th>F1_Avg_Test</th>\n",
       "    </tr>\n",
       "  </thead>\n",
       "  <tbody>\n",
       "    <tr>\n",
       "      <th>mnb-tfidf-unb-prep</th>\n",
       "      <td>0.926736</td>\n",
       "      <td>0.889803</td>\n",
       "      <td>0.908269</td>\n",
       "      <td>0.836074</td>\n",
       "      <td>0.733850</td>\n",
       "      <td>0.784962</td>\n",
       "    </tr>\n",
       "    <tr>\n",
       "      <th>mnb-tfidf-unb</th>\n",
       "      <td>0.910580</td>\n",
       "      <td>0.859256</td>\n",
       "      <td>0.884918</td>\n",
       "      <td>0.835836</td>\n",
       "      <td>0.715695</td>\n",
       "      <td>0.775766</td>\n",
       "    </tr>\n",
       "    <tr>\n",
       "      <th>mnb-tfidf-over-prep</th>\n",
       "      <td>0.932305</td>\n",
       "      <td>0.908459</td>\n",
       "      <td>0.920382</td>\n",
       "      <td>0.797211</td>\n",
       "      <td>0.736604</td>\n",
       "      <td>0.766907</td>\n",
       "    </tr>\n",
       "    <tr>\n",
       "      <th>mnb-tfidf-under-prep</th>\n",
       "      <td>0.916084</td>\n",
       "      <td>0.891648</td>\n",
       "      <td>0.903866</td>\n",
       "      <td>0.794376</td>\n",
       "      <td>0.737864</td>\n",
       "      <td>0.766120</td>\n",
       "    </tr>\n",
       "    <tr>\n",
       "      <th>rf-tfidf-unb-prep</th>\n",
       "      <td>0.997556</td>\n",
       "      <td>0.996746</td>\n",
       "      <td>0.997151</td>\n",
       "      <td>0.822922</td>\n",
       "      <td>0.690712</td>\n",
       "      <td>0.756817</td>\n",
       "    </tr>\n",
       "    <tr>\n",
       "      <th>rf-tfidf-over-prep</th>\n",
       "      <td>0.997409</td>\n",
       "      <td>0.996561</td>\n",
       "      <td>0.996985</td>\n",
       "      <td>0.816649</td>\n",
       "      <td>0.696864</td>\n",
       "      <td>0.756757</td>\n",
       "    </tr>\n",
       "    <tr>\n",
       "      <th>knn-tfidf-unb</th>\n",
       "      <td>0.865827</td>\n",
       "      <td>0.799016</td>\n",
       "      <td>0.832421</td>\n",
       "      <td>0.808234</td>\n",
       "      <td>0.705000</td>\n",
       "      <td>0.756617</td>\n",
       "    </tr>\n",
       "    <tr>\n",
       "      <th>rf-tfidf-unb</th>\n",
       "      <td>0.997412</td>\n",
       "      <td>0.996556</td>\n",
       "      <td>0.996984</td>\n",
       "      <td>0.820803</td>\n",
       "      <td>0.684783</td>\n",
       "      <td>0.752793</td>\n",
       "    </tr>\n",
       "    <tr>\n",
       "      <th>knn-tfidf-unb-prep</th>\n",
       "      <td>0.865442</td>\n",
       "      <td>0.791545</td>\n",
       "      <td>0.828493</td>\n",
       "      <td>0.805391</td>\n",
       "      <td>0.696893</td>\n",
       "      <td>0.751142</td>\n",
       "    </tr>\n",
       "    <tr>\n",
       "      <th>rf-tfidf-under-prep</th>\n",
       "      <td>0.980363</td>\n",
       "      <td>0.974981</td>\n",
       "      <td>0.977672</td>\n",
       "      <td>0.804090</td>\n",
       "      <td>0.693603</td>\n",
       "      <td>0.748847</td>\n",
       "    </tr>\n",
       "    <tr>\n",
       "      <th>knn-tfidf-under-prep</th>\n",
       "      <td>0.851106</td>\n",
       "      <td>0.791970</td>\n",
       "      <td>0.821538</td>\n",
       "      <td>0.785553</td>\n",
       "      <td>0.701727</td>\n",
       "      <td>0.743640</td>\n",
       "    </tr>\n",
       "    <tr>\n",
       "      <th>knn-tfidf-over-prep</th>\n",
       "      <td>0.861095</td>\n",
       "      <td>0.806907</td>\n",
       "      <td>0.834001</td>\n",
       "      <td>0.784225</td>\n",
       "      <td>0.698662</td>\n",
       "      <td>0.741444</td>\n",
       "    </tr>\n",
       "  </tbody>\n",
       "</table>\n",
       "</div>"
      ],
      "text/plain": [
       "                      F1_0_Train  F1_1_Train  F1_Avg_Train  F1_0_Test  \\\n",
       "mnb-tfidf-unb-prep      0.926736    0.889803      0.908269   0.836074   \n",
       "mnb-tfidf-unb           0.910580    0.859256      0.884918   0.835836   \n",
       "mnb-tfidf-over-prep     0.932305    0.908459      0.920382   0.797211   \n",
       "mnb-tfidf-under-prep    0.916084    0.891648      0.903866   0.794376   \n",
       "rf-tfidf-unb-prep       0.997556    0.996746      0.997151   0.822922   \n",
       "rf-tfidf-over-prep      0.997409    0.996561      0.996985   0.816649   \n",
       "knn-tfidf-unb           0.865827    0.799016      0.832421   0.808234   \n",
       "rf-tfidf-unb            0.997412    0.996556      0.996984   0.820803   \n",
       "knn-tfidf-unb-prep      0.865442    0.791545      0.828493   0.805391   \n",
       "rf-tfidf-under-prep     0.980363    0.974981      0.977672   0.804090   \n",
       "knn-tfidf-under-prep    0.851106    0.791970      0.821538   0.785553   \n",
       "knn-tfidf-over-prep     0.861095    0.806907      0.834001   0.784225   \n",
       "\n",
       "                      F1_1_Test  F1_Avg_Test  \n",
       "mnb-tfidf-unb-prep     0.733850     0.784962  \n",
       "mnb-tfidf-unb          0.715695     0.775766  \n",
       "mnb-tfidf-over-prep    0.736604     0.766907  \n",
       "mnb-tfidf-under-prep   0.737864     0.766120  \n",
       "rf-tfidf-unb-prep      0.690712     0.756817  \n",
       "rf-tfidf-over-prep     0.696864     0.756757  \n",
       "knn-tfidf-unb          0.705000     0.756617  \n",
       "rf-tfidf-unb           0.684783     0.752793  \n",
       "knn-tfidf-unb-prep     0.696893     0.751142  \n",
       "rf-tfidf-under-prep    0.693603     0.748847  \n",
       "knn-tfidf-under-prep   0.701727     0.743640  \n",
       "knn-tfidf-over-prep    0.698662     0.741444  "
      ]
     },
     "execution_count": 49,
     "metadata": {},
     "output_type": "execute_result"
    }
   ],
   "source": [
    "scores_df.sort_values(by = 'F1_Avg_Test', ascending = False)"
   ]
  },
  {
   "cell_type": "markdown",
   "id": "17b03b2f",
   "metadata": {
    "heading_collapsed": true,
    "hidden": true
   },
   "source": [
    "### SMOTE and class_weight"
   ]
  },
  {
   "cell_type": "code",
   "execution_count": 50,
   "id": "a18ceb23",
   "metadata": {
    "hidden": true
   },
   "outputs": [],
   "source": [
    "from imblearn.over_sampling import SMOTE"
   ]
  },
  {
   "cell_type": "code",
   "execution_count": 51,
   "id": "f83f913c",
   "metadata": {
    "hidden": true
   },
   "outputs": [],
   "source": [
    "X_train, X_test, y_train, y_test = train_test_split(\n",
    "    train_df.preprocessed_txt,\n",
    "    train_df.target,\n",
    "    test_size = 0.2,\n",
    "    random_state = 2022,\n",
    "    stratify = train_df.target)"
   ]
  },
  {
   "cell_type": "code",
   "execution_count": 52,
   "id": "021a7dbd",
   "metadata": {
    "hidden": true
   },
   "outputs": [
    {
     "name": "stdout",
     "output_type": "stream",
     "text": [
      "F1_0_Train      0.447028\n",
      "F1_1_Train      0.669204\n",
      "F1_Avg_Train    0.558116\n",
      "F1_0_Test       0.421144\n",
      "F1_1_Test       0.646934\n",
      "F1_Avg_Test     0.534039\n",
      "Name: knn-tfidf-smote-prep, dtype: float64\n"
     ]
    }
   ],
   "source": [
    "# smote knn on preprocessed data\n",
    "clf = resample_pipeline(TfidfVectorizer(),\n",
    "                        SMOTE(),\n",
    "                        KNeighborsClassifier())\n",
    "\n",
    "clf.fit(X_train, y_train)\n",
    "\n",
    "save_scores(clf, X_train, X_test, y_train, y_test, \"knn-tfidf-smote-prep\")"
   ]
  },
  {
   "cell_type": "code",
   "execution_count": 53,
   "id": "979d40e5",
   "metadata": {
    "hidden": true
   },
   "outputs": [
    {
     "name": "stdout",
     "output_type": "stream",
     "text": [
      "F1_0_Train      0.933582\n",
      "F1_1_Train      0.911115\n",
      "F1_Avg_Train    0.922349\n",
      "F1_0_Test       0.802768\n",
      "F1_1_Test       0.739329\n",
      "F1_Avg_Test     0.771049\n",
      "Name: mnb-tfidf-smote-prep, dtype: float64\n"
     ]
    }
   ],
   "source": [
    "# smote, balanced mnb on preprocessed text\n",
    "\n",
    "clf = resample_pipeline(TfidfVectorizer(),\n",
    "                        SMOTE(),\n",
    "                        MultinomialNB(fit_prior = False))\n",
    "\n",
    "clf.fit(X_train, y_train)\n",
    "\n",
    "save_scores(clf, X_train, X_test, y_train, y_test, \"mnb-tfidf-smote-prep\")"
   ]
  },
  {
   "cell_type": "code",
   "execution_count": 54,
   "id": "847f79de",
   "metadata": {
    "hidden": true
   },
   "outputs": [
    {
     "name": "stdout",
     "output_type": "stream",
     "text": [
      "F1_0_Train      0.934534\n",
      "F1_1_Train      0.911651\n",
      "F1_Avg_Train    0.923093\n",
      "F1_0_Test       0.799306\n",
      "F1_1_Test       0.736522\n",
      "F1_Avg_Test     0.767914\n",
      "Name: mnb-tfidf-smote-def-prep, dtype: float64\n"
     ]
    }
   ],
   "source": [
    "# smote, default mnb on preprocessed text\n",
    "\n",
    "clf = resample_pipeline(TfidfVectorizer(),\n",
    "                        SMOTE(),\n",
    "                        MultinomialNB())\n",
    "\n",
    "clf.fit(X_train, y_train)\n",
    "\n",
    "save_scores(clf, X_train, X_test, y_train, y_test, \"mnb-tfidf-smote-def-prep\")"
   ]
  },
  {
   "cell_type": "code",
   "execution_count": 55,
   "id": "c8998ab5",
   "metadata": {
    "hidden": true
   },
   "outputs": [
    {
     "name": "stdout",
     "output_type": "stream",
     "text": [
      "F1_0_Train      0.997554\n",
      "F1_1_Train      0.996749\n",
      "F1_Avg_Train    0.997152\n",
      "F1_0_Test       0.824753\n",
      "F1_1_Test       0.699911\n",
      "F1_Avg_Test     0.762332\n",
      "Name: rf-tfidf-smote-prep, dtype: float64\n"
     ]
    }
   ],
   "source": [
    "# smote random forest on preprocessed text\n",
    "\n",
    "clf = resample_pipeline(TfidfVectorizer(),\n",
    "                        SMOTE(),\n",
    "                        RandomForestClassifier(class_weight = 'balanced'))\n",
    "\n",
    "clf.fit(X_train, y_train)\n",
    "\n",
    "save_scores(clf, X_train, X_test, y_train, y_test, \"rf-tfidf-smote-prep\")"
   ]
  },
  {
   "cell_type": "code",
   "execution_count": 56,
   "id": "0bfa68e7",
   "metadata": {
    "hidden": true
   },
   "outputs": [
    {
     "data": {
      "text/html": [
       "<div>\n",
       "<style scoped>\n",
       "    .dataframe tbody tr th:only-of-type {\n",
       "        vertical-align: middle;\n",
       "    }\n",
       "\n",
       "    .dataframe tbody tr th {\n",
       "        vertical-align: top;\n",
       "    }\n",
       "\n",
       "    .dataframe thead th {\n",
       "        text-align: right;\n",
       "    }\n",
       "</style>\n",
       "<table border=\"1\" class=\"dataframe\">\n",
       "  <thead>\n",
       "    <tr style=\"text-align: right;\">\n",
       "      <th></th>\n",
       "      <th>F1_0_Train</th>\n",
       "      <th>F1_1_Train</th>\n",
       "      <th>F1_Avg_Train</th>\n",
       "      <th>F1_0_Test</th>\n",
       "      <th>F1_1_Test</th>\n",
       "      <th>F1_Avg_Test</th>\n",
       "    </tr>\n",
       "  </thead>\n",
       "  <tbody>\n",
       "    <tr>\n",
       "      <th>mnb-tfidf-unb-prep</th>\n",
       "      <td>0.926736</td>\n",
       "      <td>0.889803</td>\n",
       "      <td>0.908269</td>\n",
       "      <td>0.836074</td>\n",
       "      <td>0.733850</td>\n",
       "      <td>0.784962</td>\n",
       "    </tr>\n",
       "    <tr>\n",
       "      <th>mnb-tfidf-unb</th>\n",
       "      <td>0.910580</td>\n",
       "      <td>0.859256</td>\n",
       "      <td>0.884918</td>\n",
       "      <td>0.835836</td>\n",
       "      <td>0.715695</td>\n",
       "      <td>0.775766</td>\n",
       "    </tr>\n",
       "    <tr>\n",
       "      <th>mnb-tfidf-smote-prep</th>\n",
       "      <td>0.933582</td>\n",
       "      <td>0.911115</td>\n",
       "      <td>0.922349</td>\n",
       "      <td>0.802768</td>\n",
       "      <td>0.739329</td>\n",
       "      <td>0.771049</td>\n",
       "    </tr>\n",
       "    <tr>\n",
       "      <th>mnb-tfidf-smote-def-prep</th>\n",
       "      <td>0.934534</td>\n",
       "      <td>0.911651</td>\n",
       "      <td>0.923093</td>\n",
       "      <td>0.799306</td>\n",
       "      <td>0.736522</td>\n",
       "      <td>0.767914</td>\n",
       "    </tr>\n",
       "    <tr>\n",
       "      <th>mnb-tfidf-over-prep</th>\n",
       "      <td>0.932305</td>\n",
       "      <td>0.908459</td>\n",
       "      <td>0.920382</td>\n",
       "      <td>0.797211</td>\n",
       "      <td>0.736604</td>\n",
       "      <td>0.766907</td>\n",
       "    </tr>\n",
       "  </tbody>\n",
       "</table>\n",
       "</div>"
      ],
      "text/plain": [
       "                          F1_0_Train  F1_1_Train  F1_Avg_Train  F1_0_Test  \\\n",
       "mnb-tfidf-unb-prep          0.926736    0.889803      0.908269   0.836074   \n",
       "mnb-tfidf-unb               0.910580    0.859256      0.884918   0.835836   \n",
       "mnb-tfidf-smote-prep        0.933582    0.911115      0.922349   0.802768   \n",
       "mnb-tfidf-smote-def-prep    0.934534    0.911651      0.923093   0.799306   \n",
       "mnb-tfidf-over-prep         0.932305    0.908459      0.920382   0.797211   \n",
       "\n",
       "                          F1_1_Test  F1_Avg_Test  \n",
       "mnb-tfidf-unb-prep         0.733850     0.784962  \n",
       "mnb-tfidf-unb              0.715695     0.775766  \n",
       "mnb-tfidf-smote-prep       0.739329     0.771049  \n",
       "mnb-tfidf-smote-def-prep   0.736522     0.767914  \n",
       "mnb-tfidf-over-prep        0.736604     0.766907  "
      ]
     },
     "execution_count": 56,
     "metadata": {},
     "output_type": "execute_result"
    }
   ],
   "source": [
    "scores_df.sort_values(by = 'F1_Avg_Test', ascending = False).head()"
   ]
  },
  {
   "cell_type": "markdown",
   "id": "cd9b5ba3",
   "metadata": {
    "heading_collapsed": true
   },
   "source": [
    "# 2. spaCy Word Embeddings"
   ]
  },
  {
   "cell_type": "markdown",
   "id": "c19aee63",
   "metadata": {
    "heading_collapsed": true,
    "hidden": true
   },
   "source": [
    "## MNB, no class balancing"
   ]
  },
  {
   "cell_type": "code",
   "execution_count": 57,
   "id": "6baf7c88",
   "metadata": {
    "hidden": true
   },
   "outputs": [
    {
     "data": {
      "text/html": [
       "<div>\n",
       "<style scoped>\n",
       "    .dataframe tbody tr th:only-of-type {\n",
       "        vertical-align: middle;\n",
       "    }\n",
       "\n",
       "    .dataframe tbody tr th {\n",
       "        vertical-align: top;\n",
       "    }\n",
       "\n",
       "    .dataframe thead th {\n",
       "        text-align: right;\n",
       "    }\n",
       "</style>\n",
       "<table border=\"1\" class=\"dataframe\">\n",
       "  <thead>\n",
       "    <tr style=\"text-align: right;\">\n",
       "      <th></th>\n",
       "      <th>id</th>\n",
       "      <th>keyword</th>\n",
       "      <th>location</th>\n",
       "      <th>text</th>\n",
       "      <th>target</th>\n",
       "      <th>preprocessed_txt</th>\n",
       "    </tr>\n",
       "  </thead>\n",
       "  <tbody>\n",
       "    <tr>\n",
       "      <th>0</th>\n",
       "      <td>1</td>\n",
       "      <td>NaN</td>\n",
       "      <td>NaN</td>\n",
       "      <td>Our Deeds are the Reason of this #earthquake M...</td>\n",
       "      <td>1</td>\n",
       "      <td>deed Reason earthquake ALLAH forgive</td>\n",
       "    </tr>\n",
       "    <tr>\n",
       "      <th>1</th>\n",
       "      <td>4</td>\n",
       "      <td>NaN</td>\n",
       "      <td>NaN</td>\n",
       "      <td>Forest fire near La Ronge Sask. Canada</td>\n",
       "      <td>1</td>\n",
       "      <td>forest fire near La Ronge Sask Canada</td>\n",
       "    </tr>\n",
       "    <tr>\n",
       "      <th>2</th>\n",
       "      <td>5</td>\n",
       "      <td>NaN</td>\n",
       "      <td>NaN</td>\n",
       "      <td>All residents asked to 'shelter in place' are ...</td>\n",
       "      <td>1</td>\n",
       "      <td>resident ask shelter place notify officer evac...</td>\n",
       "    </tr>\n",
       "    <tr>\n",
       "      <th>3</th>\n",
       "      <td>6</td>\n",
       "      <td>NaN</td>\n",
       "      <td>NaN</td>\n",
       "      <td>13,000 people receive #wildfires evacuation or...</td>\n",
       "      <td>1</td>\n",
       "      <td>13,000 people receive wildfire evacuation orde...</td>\n",
       "    </tr>\n",
       "    <tr>\n",
       "      <th>4</th>\n",
       "      <td>7</td>\n",
       "      <td>NaN</td>\n",
       "      <td>NaN</td>\n",
       "      <td>Just got sent this photo from Ruby #Alaska as ...</td>\n",
       "      <td>1</td>\n",
       "      <td>got send photo Ruby Alaska smoke wildfire pour...</td>\n",
       "    </tr>\n",
       "  </tbody>\n",
       "</table>\n",
       "</div>"
      ],
      "text/plain": [
       "   id keyword location                                               text  \\\n",
       "0   1     NaN      NaN  Our Deeds are the Reason of this #earthquake M...   \n",
       "1   4     NaN      NaN             Forest fire near La Ronge Sask. Canada   \n",
       "2   5     NaN      NaN  All residents asked to 'shelter in place' are ...   \n",
       "3   6     NaN      NaN  13,000 people receive #wildfires evacuation or...   \n",
       "4   7     NaN      NaN  Just got sent this photo from Ruby #Alaska as ...   \n",
       "\n",
       "   target                                   preprocessed_txt  \n",
       "0       1               deed Reason earthquake ALLAH forgive  \n",
       "1       1              forest fire near La Ronge Sask Canada  \n",
       "2       1  resident ask shelter place notify officer evac...  \n",
       "3       1  13,000 people receive wildfire evacuation orde...  \n",
       "4       1  got send photo Ruby Alaska smoke wildfire pour...  "
      ]
     },
     "execution_count": 57,
     "metadata": {},
     "output_type": "execute_result"
    }
   ],
   "source": [
    "train_df.head()"
   ]
  },
  {
   "cell_type": "code",
   "execution_count": 58,
   "id": "b6eba1f9",
   "metadata": {
    "hidden": true
   },
   "outputs": [],
   "source": [
    "import spacy\n",
    "nlp = spacy.load(\"en_core_web_lg\")"
   ]
  },
  {
   "cell_type": "code",
   "execution_count": 59,
   "id": "84e66a7f",
   "metadata": {
    "hidden": true
   },
   "outputs": [],
   "source": [
    "# make spacy vectors (takes awhile!)\n",
    "train_df['spacy_vector'] = train_df['text'].apply(lambda x: nlp(x).vector)"
   ]
  },
  {
   "cell_type": "code",
   "execution_count": 60,
   "id": "bd8dc619",
   "metadata": {
    "hidden": true
   },
   "outputs": [],
   "source": [
    "# tts\n",
    "from sklearn.model_selection import train_test_split\n",
    "\n",
    "X_train, X_test, y_train, y_test = train_test_split(\n",
    "    train_df.spacy_vector.values,\n",
    "    train_df.target,\n",
    "    test_size = 0.2,\n",
    "    random_state = 2022,\n",
    "    stratify = train_df.target)"
   ]
  },
  {
   "cell_type": "code",
   "execution_count": 61,
   "id": "733f31d6",
   "metadata": {
    "hidden": true
   },
   "outputs": [],
   "source": [
    "# sets are of format numpy array of numpy arrays\n",
    "# need to flatten the arrays because clf is expecting\n",
    "# just a 2d numpy array\n",
    "\n",
    "import numpy as np\n",
    "\n",
    "X_train_2d = np.stack(X_train)\n",
    "X_test_2d = np.stack(X_test)"
   ]
  },
  {
   "cell_type": "code",
   "execution_count": 62,
   "id": "eea3c4d0",
   "metadata": {
    "hidden": true
   },
   "outputs": [],
   "source": [
    "# scale values so there are no negative values\n",
    "# MultinomialNB doesn't accept negative values\n",
    "from sklearn.preprocessing import MinMaxScaler\n",
    "\n",
    "scaler = MinMaxScaler()\n",
    "scaled_train_embed = scaler.fit_transform(X_train_2d)\n",
    "scaled_test_embed = scaler.transform(X_test_2d)"
   ]
  },
  {
   "cell_type": "code",
   "execution_count": 63,
   "id": "cf00d168",
   "metadata": {
    "hidden": true
   },
   "outputs": [
    {
     "name": "stdout",
     "output_type": "stream",
     "text": [
      "F1_0_Train      0.707195\n",
      "F1_1_Train      0.628678\n",
      "F1_Avg_Train    0.667937\n",
      "F1_0_Test       0.704639\n",
      "F1_1_Test       0.625465\n",
      "F1_Avg_Test     0.665052\n",
      "Name: mnb-spacyvec-unb, dtype: float64\n"
     ]
    },
    {
     "data": {
      "text/html": [
       "<div>\n",
       "<style scoped>\n",
       "    .dataframe tbody tr th:only-of-type {\n",
       "        vertical-align: middle;\n",
       "    }\n",
       "\n",
       "    .dataframe tbody tr th {\n",
       "        vertical-align: top;\n",
       "    }\n",
       "\n",
       "    .dataframe thead th {\n",
       "        text-align: right;\n",
       "    }\n",
       "</style>\n",
       "<table border=\"1\" class=\"dataframe\">\n",
       "  <thead>\n",
       "    <tr style=\"text-align: right;\">\n",
       "      <th></th>\n",
       "      <th>F1_0_Train</th>\n",
       "      <th>F1_1_Train</th>\n",
       "      <th>F1_Avg_Train</th>\n",
       "      <th>F1_0_Test</th>\n",
       "      <th>F1_1_Test</th>\n",
       "      <th>F1_Avg_Test</th>\n",
       "    </tr>\n",
       "  </thead>\n",
       "  <tbody>\n",
       "    <tr>\n",
       "      <th>mnb-tfidf-unb-prep</th>\n",
       "      <td>0.926736</td>\n",
       "      <td>0.889803</td>\n",
       "      <td>0.908269</td>\n",
       "      <td>0.836074</td>\n",
       "      <td>0.733850</td>\n",
       "      <td>0.784962</td>\n",
       "    </tr>\n",
       "    <tr>\n",
       "      <th>mnb-tfidf-unb</th>\n",
       "      <td>0.910580</td>\n",
       "      <td>0.859256</td>\n",
       "      <td>0.884918</td>\n",
       "      <td>0.835836</td>\n",
       "      <td>0.715695</td>\n",
       "      <td>0.775766</td>\n",
       "    </tr>\n",
       "    <tr>\n",
       "      <th>mnb-tfidf-smote-prep</th>\n",
       "      <td>0.933582</td>\n",
       "      <td>0.911115</td>\n",
       "      <td>0.922349</td>\n",
       "      <td>0.802768</td>\n",
       "      <td>0.739329</td>\n",
       "      <td>0.771049</td>\n",
       "    </tr>\n",
       "    <tr>\n",
       "      <th>mnb-tfidf-smote-def-prep</th>\n",
       "      <td>0.934534</td>\n",
       "      <td>0.911651</td>\n",
       "      <td>0.923093</td>\n",
       "      <td>0.799306</td>\n",
       "      <td>0.736522</td>\n",
       "      <td>0.767914</td>\n",
       "    </tr>\n",
       "    <tr>\n",
       "      <th>mnb-tfidf-over-prep</th>\n",
       "      <td>0.932305</td>\n",
       "      <td>0.908459</td>\n",
       "      <td>0.920382</td>\n",
       "      <td>0.797211</td>\n",
       "      <td>0.736604</td>\n",
       "      <td>0.766907</td>\n",
       "    </tr>\n",
       "    <tr>\n",
       "      <th>mnb-tfidf-under-prep</th>\n",
       "      <td>0.916084</td>\n",
       "      <td>0.891648</td>\n",
       "      <td>0.903866</td>\n",
       "      <td>0.794376</td>\n",
       "      <td>0.737864</td>\n",
       "      <td>0.766120</td>\n",
       "    </tr>\n",
       "    <tr>\n",
       "      <th>rf-tfidf-smote-prep</th>\n",
       "      <td>0.997554</td>\n",
       "      <td>0.996749</td>\n",
       "      <td>0.997152</td>\n",
       "      <td>0.824753</td>\n",
       "      <td>0.699911</td>\n",
       "      <td>0.762332</td>\n",
       "    </tr>\n",
       "    <tr>\n",
       "      <th>rf-tfidf-unb-prep</th>\n",
       "      <td>0.997556</td>\n",
       "      <td>0.996746</td>\n",
       "      <td>0.997151</td>\n",
       "      <td>0.822922</td>\n",
       "      <td>0.690712</td>\n",
       "      <td>0.756817</td>\n",
       "    </tr>\n",
       "    <tr>\n",
       "      <th>rf-tfidf-over-prep</th>\n",
       "      <td>0.997409</td>\n",
       "      <td>0.996561</td>\n",
       "      <td>0.996985</td>\n",
       "      <td>0.816649</td>\n",
       "      <td>0.696864</td>\n",
       "      <td>0.756757</td>\n",
       "    </tr>\n",
       "    <tr>\n",
       "      <th>knn-tfidf-unb</th>\n",
       "      <td>0.865827</td>\n",
       "      <td>0.799016</td>\n",
       "      <td>0.832421</td>\n",
       "      <td>0.808234</td>\n",
       "      <td>0.705000</td>\n",
       "      <td>0.756617</td>\n",
       "    </tr>\n",
       "    <tr>\n",
       "      <th>rf-tfidf-unb</th>\n",
       "      <td>0.997412</td>\n",
       "      <td>0.996556</td>\n",
       "      <td>0.996984</td>\n",
       "      <td>0.820803</td>\n",
       "      <td>0.684783</td>\n",
       "      <td>0.752793</td>\n",
       "    </tr>\n",
       "    <tr>\n",
       "      <th>knn-tfidf-unb-prep</th>\n",
       "      <td>0.865442</td>\n",
       "      <td>0.791545</td>\n",
       "      <td>0.828493</td>\n",
       "      <td>0.805391</td>\n",
       "      <td>0.696893</td>\n",
       "      <td>0.751142</td>\n",
       "    </tr>\n",
       "    <tr>\n",
       "      <th>rf-tfidf-under-prep</th>\n",
       "      <td>0.980363</td>\n",
       "      <td>0.974981</td>\n",
       "      <td>0.977672</td>\n",
       "      <td>0.804090</td>\n",
       "      <td>0.693603</td>\n",
       "      <td>0.748847</td>\n",
       "    </tr>\n",
       "    <tr>\n",
       "      <th>knn-tfidf-under-prep</th>\n",
       "      <td>0.851106</td>\n",
       "      <td>0.791970</td>\n",
       "      <td>0.821538</td>\n",
       "      <td>0.785553</td>\n",
       "      <td>0.701727</td>\n",
       "      <td>0.743640</td>\n",
       "    </tr>\n",
       "    <tr>\n",
       "      <th>knn-tfidf-over-prep</th>\n",
       "      <td>0.861095</td>\n",
       "      <td>0.806907</td>\n",
       "      <td>0.834001</td>\n",
       "      <td>0.784225</td>\n",
       "      <td>0.698662</td>\n",
       "      <td>0.741444</td>\n",
       "    </tr>\n",
       "    <tr>\n",
       "      <th>mnb-spacyvec-unb</th>\n",
       "      <td>0.707195</td>\n",
       "      <td>0.628678</td>\n",
       "      <td>0.667937</td>\n",
       "      <td>0.704639</td>\n",
       "      <td>0.625465</td>\n",
       "      <td>0.665052</td>\n",
       "    </tr>\n",
       "    <tr>\n",
       "      <th>knn-tfidf-smote-prep</th>\n",
       "      <td>0.447028</td>\n",
       "      <td>0.669204</td>\n",
       "      <td>0.558116</td>\n",
       "      <td>0.421144</td>\n",
       "      <td>0.646934</td>\n",
       "      <td>0.534039</td>\n",
       "    </tr>\n",
       "  </tbody>\n",
       "</table>\n",
       "</div>"
      ],
      "text/plain": [
       "                          F1_0_Train  F1_1_Train  F1_Avg_Train  F1_0_Test  \\\n",
       "mnb-tfidf-unb-prep          0.926736    0.889803      0.908269   0.836074   \n",
       "mnb-tfidf-unb               0.910580    0.859256      0.884918   0.835836   \n",
       "mnb-tfidf-smote-prep        0.933582    0.911115      0.922349   0.802768   \n",
       "mnb-tfidf-smote-def-prep    0.934534    0.911651      0.923093   0.799306   \n",
       "mnb-tfidf-over-prep         0.932305    0.908459      0.920382   0.797211   \n",
       "mnb-tfidf-under-prep        0.916084    0.891648      0.903866   0.794376   \n",
       "rf-tfidf-smote-prep         0.997554    0.996749      0.997152   0.824753   \n",
       "rf-tfidf-unb-prep           0.997556    0.996746      0.997151   0.822922   \n",
       "rf-tfidf-over-prep          0.997409    0.996561      0.996985   0.816649   \n",
       "knn-tfidf-unb               0.865827    0.799016      0.832421   0.808234   \n",
       "rf-tfidf-unb                0.997412    0.996556      0.996984   0.820803   \n",
       "knn-tfidf-unb-prep          0.865442    0.791545      0.828493   0.805391   \n",
       "rf-tfidf-under-prep         0.980363    0.974981      0.977672   0.804090   \n",
       "knn-tfidf-under-prep        0.851106    0.791970      0.821538   0.785553   \n",
       "knn-tfidf-over-prep         0.861095    0.806907      0.834001   0.784225   \n",
       "mnb-spacyvec-unb            0.707195    0.628678      0.667937   0.704639   \n",
       "knn-tfidf-smote-prep        0.447028    0.669204      0.558116   0.421144   \n",
       "\n",
       "                          F1_1_Test  F1_Avg_Test  \n",
       "mnb-tfidf-unb-prep         0.733850     0.784962  \n",
       "mnb-tfidf-unb              0.715695     0.775766  \n",
       "mnb-tfidf-smote-prep       0.739329     0.771049  \n",
       "mnb-tfidf-smote-def-prep   0.736522     0.767914  \n",
       "mnb-tfidf-over-prep        0.736604     0.766907  \n",
       "mnb-tfidf-under-prep       0.737864     0.766120  \n",
       "rf-tfidf-smote-prep        0.699911     0.762332  \n",
       "rf-tfidf-unb-prep          0.690712     0.756817  \n",
       "rf-tfidf-over-prep         0.696864     0.756757  \n",
       "knn-tfidf-unb              0.705000     0.756617  \n",
       "rf-tfidf-unb               0.684783     0.752793  \n",
       "knn-tfidf-unb-prep         0.696893     0.751142  \n",
       "rf-tfidf-under-prep        0.693603     0.748847  \n",
       "knn-tfidf-under-prep       0.701727     0.743640  \n",
       "knn-tfidf-over-prep        0.698662     0.741444  \n",
       "mnb-spacyvec-unb           0.625465     0.665052  \n",
       "knn-tfidf-smote-prep       0.646934     0.534039  "
      ]
     },
     "execution_count": 63,
     "metadata": {},
     "output_type": "execute_result"
    }
   ],
   "source": [
    "# mnb, spacy word vectors\n",
    "from sklearn.naive_bayes import MultinomialNB\n",
    "\n",
    "clf = MultinomialNB()\n",
    "clf.fit(scaled_train_embed, y_train)\n",
    "\n",
    "save_scores(clf, \n",
    "            scaled_train_embed, \n",
    "            scaled_test_embed, \n",
    "            y_train, \n",
    "            y_test, \n",
    "            \"mnb-spacyvec-unb\")\n",
    "\n",
    "scores_df.sort_values(by = 'F1_Avg_Test', ascending = False)"
   ]
  },
  {
   "cell_type": "markdown",
   "id": "a790b573",
   "metadata": {
    "heading_collapsed": true,
    "hidden": true
   },
   "source": [
    "## KNN, no class balancing"
   ]
  },
  {
   "cell_type": "code",
   "execution_count": 64,
   "id": "1a8638eb",
   "metadata": {
    "hidden": true
   },
   "outputs": [
    {
     "name": "stdout",
     "output_type": "stream",
     "text": [
      "F1_0_Train      0.842459\n",
      "F1_1_Train      0.776741\n",
      "F1_Avg_Train    0.809600\n",
      "F1_0_Test       0.754886\n",
      "F1_1_Test       0.650199\n",
      "F1_Avg_Test     0.702542\n",
      "Name: knn-spacyvec-unb, dtype: float64\n"
     ]
    },
    {
     "data": {
      "text/html": [
       "<div>\n",
       "<style scoped>\n",
       "    .dataframe tbody tr th:only-of-type {\n",
       "        vertical-align: middle;\n",
       "    }\n",
       "\n",
       "    .dataframe tbody tr th {\n",
       "        vertical-align: top;\n",
       "    }\n",
       "\n",
       "    .dataframe thead th {\n",
       "        text-align: right;\n",
       "    }\n",
       "</style>\n",
       "<table border=\"1\" class=\"dataframe\">\n",
       "  <thead>\n",
       "    <tr style=\"text-align: right;\">\n",
       "      <th></th>\n",
       "      <th>F1_0_Train</th>\n",
       "      <th>F1_1_Train</th>\n",
       "      <th>F1_Avg_Train</th>\n",
       "      <th>F1_0_Test</th>\n",
       "      <th>F1_1_Test</th>\n",
       "      <th>F1_Avg_Test</th>\n",
       "    </tr>\n",
       "  </thead>\n",
       "  <tbody>\n",
       "    <tr>\n",
       "      <th>mnb-tfidf-unb-prep</th>\n",
       "      <td>0.926736</td>\n",
       "      <td>0.889803</td>\n",
       "      <td>0.908269</td>\n",
       "      <td>0.836074</td>\n",
       "      <td>0.733850</td>\n",
       "      <td>0.784962</td>\n",
       "    </tr>\n",
       "    <tr>\n",
       "      <th>mnb-tfidf-unb</th>\n",
       "      <td>0.910580</td>\n",
       "      <td>0.859256</td>\n",
       "      <td>0.884918</td>\n",
       "      <td>0.835836</td>\n",
       "      <td>0.715695</td>\n",
       "      <td>0.775766</td>\n",
       "    </tr>\n",
       "    <tr>\n",
       "      <th>mnb-tfidf-smote-prep</th>\n",
       "      <td>0.933582</td>\n",
       "      <td>0.911115</td>\n",
       "      <td>0.922349</td>\n",
       "      <td>0.802768</td>\n",
       "      <td>0.739329</td>\n",
       "      <td>0.771049</td>\n",
       "    </tr>\n",
       "    <tr>\n",
       "      <th>mnb-tfidf-smote-def-prep</th>\n",
       "      <td>0.934534</td>\n",
       "      <td>0.911651</td>\n",
       "      <td>0.923093</td>\n",
       "      <td>0.799306</td>\n",
       "      <td>0.736522</td>\n",
       "      <td>0.767914</td>\n",
       "    </tr>\n",
       "    <tr>\n",
       "      <th>mnb-tfidf-over-prep</th>\n",
       "      <td>0.932305</td>\n",
       "      <td>0.908459</td>\n",
       "      <td>0.920382</td>\n",
       "      <td>0.797211</td>\n",
       "      <td>0.736604</td>\n",
       "      <td>0.766907</td>\n",
       "    </tr>\n",
       "    <tr>\n",
       "      <th>mnb-tfidf-under-prep</th>\n",
       "      <td>0.916084</td>\n",
       "      <td>0.891648</td>\n",
       "      <td>0.903866</td>\n",
       "      <td>0.794376</td>\n",
       "      <td>0.737864</td>\n",
       "      <td>0.766120</td>\n",
       "    </tr>\n",
       "    <tr>\n",
       "      <th>rf-tfidf-smote-prep</th>\n",
       "      <td>0.997554</td>\n",
       "      <td>0.996749</td>\n",
       "      <td>0.997152</td>\n",
       "      <td>0.824753</td>\n",
       "      <td>0.699911</td>\n",
       "      <td>0.762332</td>\n",
       "    </tr>\n",
       "    <tr>\n",
       "      <th>rf-tfidf-unb-prep</th>\n",
       "      <td>0.997556</td>\n",
       "      <td>0.996746</td>\n",
       "      <td>0.997151</td>\n",
       "      <td>0.822922</td>\n",
       "      <td>0.690712</td>\n",
       "      <td>0.756817</td>\n",
       "    </tr>\n",
       "    <tr>\n",
       "      <th>rf-tfidf-over-prep</th>\n",
       "      <td>0.997409</td>\n",
       "      <td>0.996561</td>\n",
       "      <td>0.996985</td>\n",
       "      <td>0.816649</td>\n",
       "      <td>0.696864</td>\n",
       "      <td>0.756757</td>\n",
       "    </tr>\n",
       "    <tr>\n",
       "      <th>knn-tfidf-unb</th>\n",
       "      <td>0.865827</td>\n",
       "      <td>0.799016</td>\n",
       "      <td>0.832421</td>\n",
       "      <td>0.808234</td>\n",
       "      <td>0.705000</td>\n",
       "      <td>0.756617</td>\n",
       "    </tr>\n",
       "    <tr>\n",
       "      <th>rf-tfidf-unb</th>\n",
       "      <td>0.997412</td>\n",
       "      <td>0.996556</td>\n",
       "      <td>0.996984</td>\n",
       "      <td>0.820803</td>\n",
       "      <td>0.684783</td>\n",
       "      <td>0.752793</td>\n",
       "    </tr>\n",
       "    <tr>\n",
       "      <th>knn-tfidf-unb-prep</th>\n",
       "      <td>0.865442</td>\n",
       "      <td>0.791545</td>\n",
       "      <td>0.828493</td>\n",
       "      <td>0.805391</td>\n",
       "      <td>0.696893</td>\n",
       "      <td>0.751142</td>\n",
       "    </tr>\n",
       "    <tr>\n",
       "      <th>rf-tfidf-under-prep</th>\n",
       "      <td>0.980363</td>\n",
       "      <td>0.974981</td>\n",
       "      <td>0.977672</td>\n",
       "      <td>0.804090</td>\n",
       "      <td>0.693603</td>\n",
       "      <td>0.748847</td>\n",
       "    </tr>\n",
       "    <tr>\n",
       "      <th>knn-tfidf-under-prep</th>\n",
       "      <td>0.851106</td>\n",
       "      <td>0.791970</td>\n",
       "      <td>0.821538</td>\n",
       "      <td>0.785553</td>\n",
       "      <td>0.701727</td>\n",
       "      <td>0.743640</td>\n",
       "    </tr>\n",
       "    <tr>\n",
       "      <th>knn-tfidf-over-prep</th>\n",
       "      <td>0.861095</td>\n",
       "      <td>0.806907</td>\n",
       "      <td>0.834001</td>\n",
       "      <td>0.784225</td>\n",
       "      <td>0.698662</td>\n",
       "      <td>0.741444</td>\n",
       "    </tr>\n",
       "    <tr>\n",
       "      <th>knn-spacyvec-unb</th>\n",
       "      <td>0.842459</td>\n",
       "      <td>0.776741</td>\n",
       "      <td>0.809600</td>\n",
       "      <td>0.754886</td>\n",
       "      <td>0.650199</td>\n",
       "      <td>0.702542</td>\n",
       "    </tr>\n",
       "    <tr>\n",
       "      <th>mnb-spacyvec-unb</th>\n",
       "      <td>0.707195</td>\n",
       "      <td>0.628678</td>\n",
       "      <td>0.667937</td>\n",
       "      <td>0.704639</td>\n",
       "      <td>0.625465</td>\n",
       "      <td>0.665052</td>\n",
       "    </tr>\n",
       "    <tr>\n",
       "      <th>knn-tfidf-smote-prep</th>\n",
       "      <td>0.447028</td>\n",
       "      <td>0.669204</td>\n",
       "      <td>0.558116</td>\n",
       "      <td>0.421144</td>\n",
       "      <td>0.646934</td>\n",
       "      <td>0.534039</td>\n",
       "    </tr>\n",
       "  </tbody>\n",
       "</table>\n",
       "</div>"
      ],
      "text/plain": [
       "                          F1_0_Train  F1_1_Train  F1_Avg_Train  F1_0_Test  \\\n",
       "mnb-tfidf-unb-prep          0.926736    0.889803      0.908269   0.836074   \n",
       "mnb-tfidf-unb               0.910580    0.859256      0.884918   0.835836   \n",
       "mnb-tfidf-smote-prep        0.933582    0.911115      0.922349   0.802768   \n",
       "mnb-tfidf-smote-def-prep    0.934534    0.911651      0.923093   0.799306   \n",
       "mnb-tfidf-over-prep         0.932305    0.908459      0.920382   0.797211   \n",
       "mnb-tfidf-under-prep        0.916084    0.891648      0.903866   0.794376   \n",
       "rf-tfidf-smote-prep         0.997554    0.996749      0.997152   0.824753   \n",
       "rf-tfidf-unb-prep           0.997556    0.996746      0.997151   0.822922   \n",
       "rf-tfidf-over-prep          0.997409    0.996561      0.996985   0.816649   \n",
       "knn-tfidf-unb               0.865827    0.799016      0.832421   0.808234   \n",
       "rf-tfidf-unb                0.997412    0.996556      0.996984   0.820803   \n",
       "knn-tfidf-unb-prep          0.865442    0.791545      0.828493   0.805391   \n",
       "rf-tfidf-under-prep         0.980363    0.974981      0.977672   0.804090   \n",
       "knn-tfidf-under-prep        0.851106    0.791970      0.821538   0.785553   \n",
       "knn-tfidf-over-prep         0.861095    0.806907      0.834001   0.784225   \n",
       "knn-spacyvec-unb            0.842459    0.776741      0.809600   0.754886   \n",
       "mnb-spacyvec-unb            0.707195    0.628678      0.667937   0.704639   \n",
       "knn-tfidf-smote-prep        0.447028    0.669204      0.558116   0.421144   \n",
       "\n",
       "                          F1_1_Test  F1_Avg_Test  \n",
       "mnb-tfidf-unb-prep         0.733850     0.784962  \n",
       "mnb-tfidf-unb              0.715695     0.775766  \n",
       "mnb-tfidf-smote-prep       0.739329     0.771049  \n",
       "mnb-tfidf-smote-def-prep   0.736522     0.767914  \n",
       "mnb-tfidf-over-prep        0.736604     0.766907  \n",
       "mnb-tfidf-under-prep       0.737864     0.766120  \n",
       "rf-tfidf-smote-prep        0.699911     0.762332  \n",
       "rf-tfidf-unb-prep          0.690712     0.756817  \n",
       "rf-tfidf-over-prep         0.696864     0.756757  \n",
       "knn-tfidf-unb              0.705000     0.756617  \n",
       "rf-tfidf-unb               0.684783     0.752793  \n",
       "knn-tfidf-unb-prep         0.696893     0.751142  \n",
       "rf-tfidf-under-prep        0.693603     0.748847  \n",
       "knn-tfidf-under-prep       0.701727     0.743640  \n",
       "knn-tfidf-over-prep        0.698662     0.741444  \n",
       "knn-spacyvec-unb           0.650199     0.702542  \n",
       "mnb-spacyvec-unb           0.625465     0.665052  \n",
       "knn-tfidf-smote-prep       0.646934     0.534039  "
      ]
     },
     "execution_count": 64,
     "metadata": {},
     "output_type": "execute_result"
    }
   ],
   "source": [
    "# knn\n",
    "\n",
    "from sklearn.neighbors import KNeighborsClassifier\n",
    "\n",
    "clf = KNeighborsClassifier(n_neighbors = 5, metric = 'euclidean')\n",
    "\n",
    "clf.fit(X_train_2d, y_train)\n",
    "\n",
    "save_scores(clf, \n",
    "            X_train_2d, \n",
    "            X_test_2d, \n",
    "            y_train, \n",
    "            y_test, \n",
    "            \"knn-spacyvec-unb\")\n",
    "\n",
    "scores_df.sort_values(by = 'F1_Avg_Test', ascending = False)"
   ]
  },
  {
   "cell_type": "markdown",
   "id": "95cb44d2",
   "metadata": {
    "heading_collapsed": true,
    "hidden": true
   },
   "source": [
    "## RF, no class balancing"
   ]
  },
  {
   "cell_type": "code",
   "execution_count": 65,
   "id": "45bcfe71",
   "metadata": {
    "hidden": true
   },
   "outputs": [
    {
     "name": "stdout",
     "output_type": "stream",
     "text": [
      "F1_0_Train      0.990826\n",
      "F1_1_Train      0.987702\n",
      "F1_Avg_Train    0.989264\n",
      "F1_0_Test       0.796992\n",
      "F1_1_Test       0.680743\n",
      "F1_Avg_Test     0.738868\n",
      "Name: rf-spacyvec-unb, dtype: float64\n"
     ]
    },
    {
     "data": {
      "text/html": [
       "<div>\n",
       "<style scoped>\n",
       "    .dataframe tbody tr th:only-of-type {\n",
       "        vertical-align: middle;\n",
       "    }\n",
       "\n",
       "    .dataframe tbody tr th {\n",
       "        vertical-align: top;\n",
       "    }\n",
       "\n",
       "    .dataframe thead th {\n",
       "        text-align: right;\n",
       "    }\n",
       "</style>\n",
       "<table border=\"1\" class=\"dataframe\">\n",
       "  <thead>\n",
       "    <tr style=\"text-align: right;\">\n",
       "      <th></th>\n",
       "      <th>F1_0_Train</th>\n",
       "      <th>F1_1_Train</th>\n",
       "      <th>F1_Avg_Train</th>\n",
       "      <th>F1_0_Test</th>\n",
       "      <th>F1_1_Test</th>\n",
       "      <th>F1_Avg_Test</th>\n",
       "    </tr>\n",
       "  </thead>\n",
       "  <tbody>\n",
       "    <tr>\n",
       "      <th>mnb-tfidf-unb-prep</th>\n",
       "      <td>0.926736</td>\n",
       "      <td>0.889803</td>\n",
       "      <td>0.908269</td>\n",
       "      <td>0.836074</td>\n",
       "      <td>0.733850</td>\n",
       "      <td>0.784962</td>\n",
       "    </tr>\n",
       "    <tr>\n",
       "      <th>mnb-tfidf-unb</th>\n",
       "      <td>0.910580</td>\n",
       "      <td>0.859256</td>\n",
       "      <td>0.884918</td>\n",
       "      <td>0.835836</td>\n",
       "      <td>0.715695</td>\n",
       "      <td>0.775766</td>\n",
       "    </tr>\n",
       "    <tr>\n",
       "      <th>mnb-tfidf-smote-prep</th>\n",
       "      <td>0.933582</td>\n",
       "      <td>0.911115</td>\n",
       "      <td>0.922349</td>\n",
       "      <td>0.802768</td>\n",
       "      <td>0.739329</td>\n",
       "      <td>0.771049</td>\n",
       "    </tr>\n",
       "    <tr>\n",
       "      <th>mnb-tfidf-smote-def-prep</th>\n",
       "      <td>0.934534</td>\n",
       "      <td>0.911651</td>\n",
       "      <td>0.923093</td>\n",
       "      <td>0.799306</td>\n",
       "      <td>0.736522</td>\n",
       "      <td>0.767914</td>\n",
       "    </tr>\n",
       "    <tr>\n",
       "      <th>mnb-tfidf-over-prep</th>\n",
       "      <td>0.932305</td>\n",
       "      <td>0.908459</td>\n",
       "      <td>0.920382</td>\n",
       "      <td>0.797211</td>\n",
       "      <td>0.736604</td>\n",
       "      <td>0.766907</td>\n",
       "    </tr>\n",
       "  </tbody>\n",
       "</table>\n",
       "</div>"
      ],
      "text/plain": [
       "                          F1_0_Train  F1_1_Train  F1_Avg_Train  F1_0_Test  \\\n",
       "mnb-tfidf-unb-prep          0.926736    0.889803      0.908269   0.836074   \n",
       "mnb-tfidf-unb               0.910580    0.859256      0.884918   0.835836   \n",
       "mnb-tfidf-smote-prep        0.933582    0.911115      0.922349   0.802768   \n",
       "mnb-tfidf-smote-def-prep    0.934534    0.911651      0.923093   0.799306   \n",
       "mnb-tfidf-over-prep         0.932305    0.908459      0.920382   0.797211   \n",
       "\n",
       "                          F1_1_Test  F1_Avg_Test  \n",
       "mnb-tfidf-unb-prep         0.733850     0.784962  \n",
       "mnb-tfidf-unb              0.715695     0.775766  \n",
       "mnb-tfidf-smote-prep       0.739329     0.771049  \n",
       "mnb-tfidf-smote-def-prep   0.736522     0.767914  \n",
       "mnb-tfidf-over-prep        0.736604     0.766907  "
      ]
     },
     "execution_count": 65,
     "metadata": {},
     "output_type": "execute_result"
    }
   ],
   "source": [
    "# rf\n",
    "\n",
    "clf = RandomForestClassifier()\n",
    "\n",
    "clf.fit(X_train_2d, y_train)\n",
    "\n",
    "save_scores(clf, \n",
    "            X_train_2d, \n",
    "            X_test_2d, \n",
    "            y_train, \n",
    "            y_test, \n",
    "            \"rf-spacyvec-unb\")\n",
    "\n",
    "scores_df.sort_values(by = 'F1_Avg_Test', ascending = False).head()"
   ]
  },
  {
   "cell_type": "markdown",
   "id": "1f54c672",
   "metadata": {
    "heading_collapsed": true,
    "hidden": true
   },
   "source": [
    "## MNB, class balancing"
   ]
  },
  {
   "cell_type": "code",
   "execution_count": 66,
   "id": "2a738f7b",
   "metadata": {
    "hidden": true
   },
   "outputs": [
    {
     "name": "stdout",
     "output_type": "stream",
     "text": [
      "F1_0_Train      0.678492\n",
      "F1_1_Train      0.653938\n",
      "F1_Avg_Train    0.666215\n",
      "F1_0_Test       0.667093\n",
      "F1_1_Test       0.648211\n",
      "F1_Avg_Test     0.657652\n",
      "Name: mnb-spacyvec-under, dtype: float64\n"
     ]
    },
    {
     "data": {
      "text/html": [
       "<div>\n",
       "<style scoped>\n",
       "    .dataframe tbody tr th:only-of-type {\n",
       "        vertical-align: middle;\n",
       "    }\n",
       "\n",
       "    .dataframe tbody tr th {\n",
       "        vertical-align: top;\n",
       "    }\n",
       "\n",
       "    .dataframe thead th {\n",
       "        text-align: right;\n",
       "    }\n",
       "</style>\n",
       "<table border=\"1\" class=\"dataframe\">\n",
       "  <thead>\n",
       "    <tr style=\"text-align: right;\">\n",
       "      <th></th>\n",
       "      <th>F1_0_Train</th>\n",
       "      <th>F1_1_Train</th>\n",
       "      <th>F1_Avg_Train</th>\n",
       "      <th>F1_0_Test</th>\n",
       "      <th>F1_1_Test</th>\n",
       "      <th>F1_Avg_Test</th>\n",
       "    </tr>\n",
       "  </thead>\n",
       "  <tbody>\n",
       "    <tr>\n",
       "      <th>mnb-tfidf-unb-prep</th>\n",
       "      <td>0.926736</td>\n",
       "      <td>0.889803</td>\n",
       "      <td>0.908269</td>\n",
       "      <td>0.836074</td>\n",
       "      <td>0.733850</td>\n",
       "      <td>0.784962</td>\n",
       "    </tr>\n",
       "    <tr>\n",
       "      <th>mnb-tfidf-unb</th>\n",
       "      <td>0.910580</td>\n",
       "      <td>0.859256</td>\n",
       "      <td>0.884918</td>\n",
       "      <td>0.835836</td>\n",
       "      <td>0.715695</td>\n",
       "      <td>0.775766</td>\n",
       "    </tr>\n",
       "    <tr>\n",
       "      <th>mnb-tfidf-smote-prep</th>\n",
       "      <td>0.933582</td>\n",
       "      <td>0.911115</td>\n",
       "      <td>0.922349</td>\n",
       "      <td>0.802768</td>\n",
       "      <td>0.739329</td>\n",
       "      <td>0.771049</td>\n",
       "    </tr>\n",
       "    <tr>\n",
       "      <th>mnb-tfidf-smote-def-prep</th>\n",
       "      <td>0.934534</td>\n",
       "      <td>0.911651</td>\n",
       "      <td>0.923093</td>\n",
       "      <td>0.799306</td>\n",
       "      <td>0.736522</td>\n",
       "      <td>0.767914</td>\n",
       "    </tr>\n",
       "    <tr>\n",
       "      <th>mnb-tfidf-over-prep</th>\n",
       "      <td>0.932305</td>\n",
       "      <td>0.908459</td>\n",
       "      <td>0.920382</td>\n",
       "      <td>0.797211</td>\n",
       "      <td>0.736604</td>\n",
       "      <td>0.766907</td>\n",
       "    </tr>\n",
       "  </tbody>\n",
       "</table>\n",
       "</div>"
      ],
      "text/plain": [
       "                          F1_0_Train  F1_1_Train  F1_Avg_Train  F1_0_Test  \\\n",
       "mnb-tfidf-unb-prep          0.926736    0.889803      0.908269   0.836074   \n",
       "mnb-tfidf-unb               0.910580    0.859256      0.884918   0.835836   \n",
       "mnb-tfidf-smote-prep        0.933582    0.911115      0.922349   0.802768   \n",
       "mnb-tfidf-smote-def-prep    0.934534    0.911651      0.923093   0.799306   \n",
       "mnb-tfidf-over-prep         0.932305    0.908459      0.920382   0.797211   \n",
       "\n",
       "                          F1_1_Test  F1_Avg_Test  \n",
       "mnb-tfidf-unb-prep         0.733850     0.784962  \n",
       "mnb-tfidf-unb              0.715695     0.775766  \n",
       "mnb-tfidf-smote-prep       0.739329     0.771049  \n",
       "mnb-tfidf-smote-def-prep   0.736522     0.767914  \n",
       "mnb-tfidf-over-prep        0.736604     0.766907  "
      ]
     },
     "execution_count": 66,
     "metadata": {},
     "output_type": "execute_result"
    }
   ],
   "source": [
    "# undersampled, balanced mnb on preprocessed text\n",
    "\n",
    "# tts\n",
    "from sklearn.model_selection import train_test_split\n",
    "\n",
    "X_train, X_test, y_train, y_test = train_test_split(\n",
    "    train_df.spacy_vector.values,\n",
    "    train_df.target,\n",
    "    test_size = 0.2,\n",
    "    random_state = 2022,\n",
    "    stratify = train_df.target)\n",
    "\n",
    "# sets are of format numpy array of numpy arrays\n",
    "# need to flatten the arrays because clf is expecting\n",
    "# just a 2d numpy array\n",
    "\n",
    "import numpy as np\n",
    "\n",
    "X_train_2d = np.stack(X_train)\n",
    "X_test_2d = np.stack(X_test)\n",
    "\n",
    "# scale values so there are no negative values\n",
    "# MultinomialNB doesn't accept negative values\n",
    "from sklearn.preprocessing import MinMaxScaler\n",
    "\n",
    "scaler = MinMaxScaler()\n",
    "scaled_train_embed = scaler.fit_transform(X_train_2d)\n",
    "scaled_test_embed = scaler.transform(X_test_2d)\n",
    "\n",
    "clf = resample_pipeline(RandomUnderSampler(),\n",
    "                        MultinomialNB(fit_prior = False))\n",
    "clf.fit(scaled_train_embed, y_train)\n",
    "\n",
    "save_scores(clf, \n",
    "            scaled_train_embed, \n",
    "            scaled_test_embed, \n",
    "            y_train, \n",
    "            y_test, \n",
    "            \"mnb-spacyvec-under\")\n",
    "\n",
    "scores_df.sort_values(by = 'F1_Avg_Test', ascending = False).head()"
   ]
  },
  {
   "cell_type": "code",
   "execution_count": 67,
   "id": "116eea9f",
   "metadata": {
    "hidden": true
   },
   "outputs": [
    {
     "name": "stdout",
     "output_type": "stream",
     "text": [
      "F1_0_Train      0.676186\n",
      "F1_1_Train      0.652714\n",
      "F1_Avg_Train    0.664450\n",
      "F1_0_Test       0.667093\n",
      "F1_1_Test       0.648211\n",
      "F1_Avg_Test     0.657652\n",
      "Name: mnb-spacyvec-over, dtype: float64\n"
     ]
    },
    {
     "data": {
      "text/html": [
       "<div>\n",
       "<style scoped>\n",
       "    .dataframe tbody tr th:only-of-type {\n",
       "        vertical-align: middle;\n",
       "    }\n",
       "\n",
       "    .dataframe tbody tr th {\n",
       "        vertical-align: top;\n",
       "    }\n",
       "\n",
       "    .dataframe thead th {\n",
       "        text-align: right;\n",
       "    }\n",
       "</style>\n",
       "<table border=\"1\" class=\"dataframe\">\n",
       "  <thead>\n",
       "    <tr style=\"text-align: right;\">\n",
       "      <th></th>\n",
       "      <th>F1_0_Train</th>\n",
       "      <th>F1_1_Train</th>\n",
       "      <th>F1_Avg_Train</th>\n",
       "      <th>F1_0_Test</th>\n",
       "      <th>F1_1_Test</th>\n",
       "      <th>F1_Avg_Test</th>\n",
       "    </tr>\n",
       "  </thead>\n",
       "  <tbody>\n",
       "    <tr>\n",
       "      <th>mnb-tfidf-unb-prep</th>\n",
       "      <td>0.926736</td>\n",
       "      <td>0.889803</td>\n",
       "      <td>0.908269</td>\n",
       "      <td>0.836074</td>\n",
       "      <td>0.733850</td>\n",
       "      <td>0.784962</td>\n",
       "    </tr>\n",
       "    <tr>\n",
       "      <th>mnb-tfidf-unb</th>\n",
       "      <td>0.910580</td>\n",
       "      <td>0.859256</td>\n",
       "      <td>0.884918</td>\n",
       "      <td>0.835836</td>\n",
       "      <td>0.715695</td>\n",
       "      <td>0.775766</td>\n",
       "    </tr>\n",
       "    <tr>\n",
       "      <th>mnb-tfidf-smote-prep</th>\n",
       "      <td>0.933582</td>\n",
       "      <td>0.911115</td>\n",
       "      <td>0.922349</td>\n",
       "      <td>0.802768</td>\n",
       "      <td>0.739329</td>\n",
       "      <td>0.771049</td>\n",
       "    </tr>\n",
       "    <tr>\n",
       "      <th>mnb-tfidf-smote-def-prep</th>\n",
       "      <td>0.934534</td>\n",
       "      <td>0.911651</td>\n",
       "      <td>0.923093</td>\n",
       "      <td>0.799306</td>\n",
       "      <td>0.736522</td>\n",
       "      <td>0.767914</td>\n",
       "    </tr>\n",
       "    <tr>\n",
       "      <th>mnb-tfidf-over-prep</th>\n",
       "      <td>0.932305</td>\n",
       "      <td>0.908459</td>\n",
       "      <td>0.920382</td>\n",
       "      <td>0.797211</td>\n",
       "      <td>0.736604</td>\n",
       "      <td>0.766907</td>\n",
       "    </tr>\n",
       "  </tbody>\n",
       "</table>\n",
       "</div>"
      ],
      "text/plain": [
       "                          F1_0_Train  F1_1_Train  F1_Avg_Train  F1_0_Test  \\\n",
       "mnb-tfidf-unb-prep          0.926736    0.889803      0.908269   0.836074   \n",
       "mnb-tfidf-unb               0.910580    0.859256      0.884918   0.835836   \n",
       "mnb-tfidf-smote-prep        0.933582    0.911115      0.922349   0.802768   \n",
       "mnb-tfidf-smote-def-prep    0.934534    0.911651      0.923093   0.799306   \n",
       "mnb-tfidf-over-prep         0.932305    0.908459      0.920382   0.797211   \n",
       "\n",
       "                          F1_1_Test  F1_Avg_Test  \n",
       "mnb-tfidf-unb-prep         0.733850     0.784962  \n",
       "mnb-tfidf-unb              0.715695     0.775766  \n",
       "mnb-tfidf-smote-prep       0.739329     0.771049  \n",
       "mnb-tfidf-smote-def-prep   0.736522     0.767914  \n",
       "mnb-tfidf-over-prep        0.736604     0.766907  "
      ]
     },
     "execution_count": 67,
     "metadata": {},
     "output_type": "execute_result"
    }
   ],
   "source": [
    "# oversampled, balanced mnb on preprocessed text\n",
    "\n",
    "# tts\n",
    "from sklearn.model_selection import train_test_split\n",
    "\n",
    "X_train, X_test, y_train, y_test = train_test_split(\n",
    "    train_df.spacy_vector.values,\n",
    "    train_df.target,\n",
    "    test_size = 0.2,\n",
    "    random_state = 2022,\n",
    "    stratify = train_df.target)\n",
    "\n",
    "# sets are of format numpy array of numpy arrays\n",
    "# need to flatten the arrays because clf is expecting\n",
    "# just a 2d numpy array\n",
    "\n",
    "import numpy as np\n",
    "\n",
    "X_train_2d = np.stack(X_train)\n",
    "X_test_2d = np.stack(X_test)\n",
    "\n",
    "# scale values so there are no negative values\n",
    "# MultinomialNB doesn't accept negative values\n",
    "from sklearn.preprocessing import MinMaxScaler\n",
    "\n",
    "scaler = MinMaxScaler()\n",
    "scaled_train_embed = scaler.fit_transform(X_train_2d)\n",
    "scaled_test_embed = scaler.transform(X_test_2d)\n",
    "\n",
    "clf = resample_pipeline(RandomOverSampler(),\n",
    "                        MultinomialNB(fit_prior = False))\n",
    "clf.fit(scaled_train_embed, y_train)\n",
    "\n",
    "save_scores(clf, \n",
    "            scaled_train_embed, \n",
    "            scaled_test_embed, \n",
    "            y_train, \n",
    "            y_test, \n",
    "            \"mnb-spacyvec-over\")\n",
    "\n",
    "scores_df.sort_values(by = 'F1_Avg_Test', ascending = False).head()"
   ]
  },
  {
   "cell_type": "code",
   "execution_count": 68,
   "id": "7c227661",
   "metadata": {
    "hidden": true
   },
   "outputs": [
    {
     "name": "stdout",
     "output_type": "stream",
     "text": [
      "F1_0_Train      0.675560\n",
      "F1_1_Train      0.652728\n",
      "F1_Avg_Train    0.664144\n",
      "F1_0_Test       0.666240\n",
      "F1_1_Test       0.647773\n",
      "F1_Avg_Test     0.657007\n",
      "Name: mnb-spacyvec-smote, dtype: float64\n"
     ]
    },
    {
     "data": {
      "text/html": [
       "<div>\n",
       "<style scoped>\n",
       "    .dataframe tbody tr th:only-of-type {\n",
       "        vertical-align: middle;\n",
       "    }\n",
       "\n",
       "    .dataframe tbody tr th {\n",
       "        vertical-align: top;\n",
       "    }\n",
       "\n",
       "    .dataframe thead th {\n",
       "        text-align: right;\n",
       "    }\n",
       "</style>\n",
       "<table border=\"1\" class=\"dataframe\">\n",
       "  <thead>\n",
       "    <tr style=\"text-align: right;\">\n",
       "      <th></th>\n",
       "      <th>F1_0_Train</th>\n",
       "      <th>F1_1_Train</th>\n",
       "      <th>F1_Avg_Train</th>\n",
       "      <th>F1_0_Test</th>\n",
       "      <th>F1_1_Test</th>\n",
       "      <th>F1_Avg_Test</th>\n",
       "    </tr>\n",
       "  </thead>\n",
       "  <tbody>\n",
       "    <tr>\n",
       "      <th>mnb-tfidf-unb-prep</th>\n",
       "      <td>0.926736</td>\n",
       "      <td>0.889803</td>\n",
       "      <td>0.908269</td>\n",
       "      <td>0.836074</td>\n",
       "      <td>0.733850</td>\n",
       "      <td>0.784962</td>\n",
       "    </tr>\n",
       "    <tr>\n",
       "      <th>mnb-tfidf-unb</th>\n",
       "      <td>0.910580</td>\n",
       "      <td>0.859256</td>\n",
       "      <td>0.884918</td>\n",
       "      <td>0.835836</td>\n",
       "      <td>0.715695</td>\n",
       "      <td>0.775766</td>\n",
       "    </tr>\n",
       "    <tr>\n",
       "      <th>mnb-tfidf-smote-prep</th>\n",
       "      <td>0.933582</td>\n",
       "      <td>0.911115</td>\n",
       "      <td>0.922349</td>\n",
       "      <td>0.802768</td>\n",
       "      <td>0.739329</td>\n",
       "      <td>0.771049</td>\n",
       "    </tr>\n",
       "    <tr>\n",
       "      <th>mnb-tfidf-smote-def-prep</th>\n",
       "      <td>0.934534</td>\n",
       "      <td>0.911651</td>\n",
       "      <td>0.923093</td>\n",
       "      <td>0.799306</td>\n",
       "      <td>0.736522</td>\n",
       "      <td>0.767914</td>\n",
       "    </tr>\n",
       "    <tr>\n",
       "      <th>mnb-tfidf-over-prep</th>\n",
       "      <td>0.932305</td>\n",
       "      <td>0.908459</td>\n",
       "      <td>0.920382</td>\n",
       "      <td>0.797211</td>\n",
       "      <td>0.736604</td>\n",
       "      <td>0.766907</td>\n",
       "    </tr>\n",
       "  </tbody>\n",
       "</table>\n",
       "</div>"
      ],
      "text/plain": [
       "                          F1_0_Train  F1_1_Train  F1_Avg_Train  F1_0_Test  \\\n",
       "mnb-tfidf-unb-prep          0.926736    0.889803      0.908269   0.836074   \n",
       "mnb-tfidf-unb               0.910580    0.859256      0.884918   0.835836   \n",
       "mnb-tfidf-smote-prep        0.933582    0.911115      0.922349   0.802768   \n",
       "mnb-tfidf-smote-def-prep    0.934534    0.911651      0.923093   0.799306   \n",
       "mnb-tfidf-over-prep         0.932305    0.908459      0.920382   0.797211   \n",
       "\n",
       "                          F1_1_Test  F1_Avg_Test  \n",
       "mnb-tfidf-unb-prep         0.733850     0.784962  \n",
       "mnb-tfidf-unb              0.715695     0.775766  \n",
       "mnb-tfidf-smote-prep       0.739329     0.771049  \n",
       "mnb-tfidf-smote-def-prep   0.736522     0.767914  \n",
       "mnb-tfidf-over-prep        0.736604     0.766907  "
      ]
     },
     "execution_count": 68,
     "metadata": {},
     "output_type": "execute_result"
    }
   ],
   "source": [
    "# smoted, balanced mnb on preprocessed text\n",
    "\n",
    "# tts\n",
    "from sklearn.model_selection import train_test_split\n",
    "\n",
    "X_train, X_test, y_train, y_test = train_test_split(\n",
    "    train_df.spacy_vector.values,\n",
    "    train_df.target,\n",
    "    test_size = 0.2,\n",
    "    random_state = 2022,\n",
    "    stratify = train_df.target)\n",
    "\n",
    "# sets are of format numpy array of numpy arrays\n",
    "# need to flatten the arrays because clf is expecting\n",
    "# just a 2d numpy array\n",
    "\n",
    "import numpy as np\n",
    "\n",
    "X_train_2d = np.stack(X_train)\n",
    "X_test_2d = np.stack(X_test)\n",
    "\n",
    "# scale values so there are no negative values\n",
    "# MultinomialNB doesn't accept negative values\n",
    "from sklearn.preprocessing import MinMaxScaler\n",
    "\n",
    "scaler = MinMaxScaler()\n",
    "scaled_train_embed = scaler.fit_transform(X_train_2d)\n",
    "scaled_test_embed = scaler.transform(X_test_2d)\n",
    "\n",
    "clf = resample_pipeline(SMOTE(),\n",
    "                        MultinomialNB(fit_prior = False))\n",
    "clf.fit(scaled_train_embed, y_train)\n",
    "\n",
    "save_scores(clf, \n",
    "            scaled_train_embed, \n",
    "            scaled_test_embed, \n",
    "            y_train, \n",
    "            y_test, \n",
    "            \"mnb-spacyvec-smote\")\n",
    "\n",
    "scores_df.sort_values(by = 'F1_Avg_Test', ascending = False).head()"
   ]
  },
  {
   "cell_type": "code",
   "execution_count": 69,
   "id": "5e648f64",
   "metadata": {
    "hidden": true
   },
   "outputs": [
    {
     "name": "stdout",
     "output_type": "stream",
     "text": [
      "F1_0_Train      0.676933\n",
      "F1_1_Train      0.653970\n",
      "F1_Avg_Train    0.665452\n",
      "F1_0_Test       0.666240\n",
      "F1_1_Test       0.647773\n",
      "F1_Avg_Test     0.657007\n",
      "Name: mnb-spacyvec-smote, dtype: float64\n"
     ]
    },
    {
     "data": {
      "text/html": [
       "<div>\n",
       "<style scoped>\n",
       "    .dataframe tbody tr th:only-of-type {\n",
       "        vertical-align: middle;\n",
       "    }\n",
       "\n",
       "    .dataframe tbody tr th {\n",
       "        vertical-align: top;\n",
       "    }\n",
       "\n",
       "    .dataframe thead th {\n",
       "        text-align: right;\n",
       "    }\n",
       "</style>\n",
       "<table border=\"1\" class=\"dataframe\">\n",
       "  <thead>\n",
       "    <tr style=\"text-align: right;\">\n",
       "      <th></th>\n",
       "      <th>F1_0_Train</th>\n",
       "      <th>F1_1_Train</th>\n",
       "      <th>F1_Avg_Train</th>\n",
       "      <th>F1_0_Test</th>\n",
       "      <th>F1_1_Test</th>\n",
       "      <th>F1_Avg_Test</th>\n",
       "    </tr>\n",
       "  </thead>\n",
       "  <tbody>\n",
       "    <tr>\n",
       "      <th>mnb-tfidf-unb-prep</th>\n",
       "      <td>0.926736</td>\n",
       "      <td>0.889803</td>\n",
       "      <td>0.908269</td>\n",
       "      <td>0.836074</td>\n",
       "      <td>0.733850</td>\n",
       "      <td>0.784962</td>\n",
       "    </tr>\n",
       "    <tr>\n",
       "      <th>mnb-tfidf-unb</th>\n",
       "      <td>0.910580</td>\n",
       "      <td>0.859256</td>\n",
       "      <td>0.884918</td>\n",
       "      <td>0.835836</td>\n",
       "      <td>0.715695</td>\n",
       "      <td>0.775766</td>\n",
       "    </tr>\n",
       "    <tr>\n",
       "      <th>mnb-tfidf-smote-prep</th>\n",
       "      <td>0.933582</td>\n",
       "      <td>0.911115</td>\n",
       "      <td>0.922349</td>\n",
       "      <td>0.802768</td>\n",
       "      <td>0.739329</td>\n",
       "      <td>0.771049</td>\n",
       "    </tr>\n",
       "    <tr>\n",
       "      <th>mnb-tfidf-smote-def-prep</th>\n",
       "      <td>0.934534</td>\n",
       "      <td>0.911651</td>\n",
       "      <td>0.923093</td>\n",
       "      <td>0.799306</td>\n",
       "      <td>0.736522</td>\n",
       "      <td>0.767914</td>\n",
       "    </tr>\n",
       "    <tr>\n",
       "      <th>mnb-tfidf-over-prep</th>\n",
       "      <td>0.932305</td>\n",
       "      <td>0.908459</td>\n",
       "      <td>0.920382</td>\n",
       "      <td>0.797211</td>\n",
       "      <td>0.736604</td>\n",
       "      <td>0.766907</td>\n",
       "    </tr>\n",
       "  </tbody>\n",
       "</table>\n",
       "</div>"
      ],
      "text/plain": [
       "                          F1_0_Train  F1_1_Train  F1_Avg_Train  F1_0_Test  \\\n",
       "mnb-tfidf-unb-prep          0.926736    0.889803      0.908269   0.836074   \n",
       "mnb-tfidf-unb               0.910580    0.859256      0.884918   0.835836   \n",
       "mnb-tfidf-smote-prep        0.933582    0.911115      0.922349   0.802768   \n",
       "mnb-tfidf-smote-def-prep    0.934534    0.911651      0.923093   0.799306   \n",
       "mnb-tfidf-over-prep         0.932305    0.908459      0.920382   0.797211   \n",
       "\n",
       "                          F1_1_Test  F1_Avg_Test  \n",
       "mnb-tfidf-unb-prep         0.733850     0.784962  \n",
       "mnb-tfidf-unb              0.715695     0.775766  \n",
       "mnb-tfidf-smote-prep       0.739329     0.771049  \n",
       "mnb-tfidf-smote-def-prep   0.736522     0.767914  \n",
       "mnb-tfidf-over-prep        0.736604     0.766907  "
      ]
     },
     "execution_count": 69,
     "metadata": {},
     "output_type": "execute_result"
    }
   ],
   "source": [
    "# smoted, unbalanced mnb on preprocessed text\n",
    "\n",
    "# tts\n",
    "from sklearn.model_selection import train_test_split\n",
    "\n",
    "X_train, X_test, y_train, y_test = train_test_split(\n",
    "    train_df.spacy_vector.values,\n",
    "    train_df.target,\n",
    "    test_size = 0.2,\n",
    "    random_state = 2022,\n",
    "    stratify = train_df.target)\n",
    "\n",
    "# sets are of format numpy array of numpy arrays\n",
    "# need to flatten the arrays because clf is expecting\n",
    "# just a 2d numpy array\n",
    "\n",
    "import numpy as np\n",
    "\n",
    "X_train_2d = np.stack(X_train)\n",
    "X_test_2d = np.stack(X_test)\n",
    "\n",
    "# scale values so there are no negative values\n",
    "# MultinomialNB doesn't accept negative values\n",
    "from sklearn.preprocessing import MinMaxScaler\n",
    "\n",
    "scaler = MinMaxScaler()\n",
    "scaled_train_embed = scaler.fit_transform(X_train_2d)\n",
    "scaled_test_embed = scaler.transform(X_test_2d)\n",
    "\n",
    "clf = resample_pipeline(SMOTE(),\n",
    "                        MultinomialNB())\n",
    "clf.fit(scaled_train_embed, y_train)\n",
    "\n",
    "save_scores(clf, \n",
    "            scaled_train_embed, \n",
    "            scaled_test_embed, \n",
    "            y_train, \n",
    "            y_test, \n",
    "            \"mnb-spacyvec-smote\")\n",
    "\n",
    "scores_df.sort_values(by = 'F1_Avg_Test', ascending = False).head()"
   ]
  },
  {
   "cell_type": "markdown",
   "id": "5d820471",
   "metadata": {
    "heading_collapsed": true,
    "hidden": true
   },
   "source": [
    "## KNN, class balancing"
   ]
  },
  {
   "cell_type": "code",
   "execution_count": 70,
   "id": "512d36a9",
   "metadata": {
    "hidden": true
   },
   "outputs": [
    {
     "name": "stdout",
     "output_type": "stream",
     "text": [
      "F1_0_Train      0.814946\n",
      "F1_1_Train      0.768349\n",
      "F1_Avg_Train    0.791648\n",
      "F1_0_Test       0.730905\n",
      "F1_1_Test       0.659226\n",
      "F1_Avg_Test     0.695066\n",
      "Name: knn-spacyvec-under, dtype: float64\n"
     ]
    }
   ],
   "source": [
    "# undersampled knn\n",
    "\n",
    "clf = resample_pipeline(RandomUnderSampler(),\n",
    "                        KNeighborsClassifier(n_neighbors = 5,\n",
    "                                            metric = 'euclidean'))\n",
    "\n",
    "clf.fit(X_train_2d, y_train)\n",
    "\n",
    "save_scores(clf, \n",
    "            X_train_2d, \n",
    "            X_test_2d, \n",
    "            y_train, \n",
    "            y_test, \n",
    "            \"knn-spacyvec-under\")"
   ]
  },
  {
   "cell_type": "code",
   "execution_count": 71,
   "id": "0c99a363",
   "metadata": {
    "hidden": true
   },
   "outputs": [
    {
     "name": "stdout",
     "output_type": "stream",
     "text": [
      "F1_0_Train      0.828449\n",
      "F1_1_Train      0.783819\n",
      "F1_Avg_Train    0.806134\n",
      "F1_0_Test       0.717404\n",
      "F1_1_Test       0.645448\n",
      "F1_Avg_Test     0.681426\n",
      "Name: knn-spacyvec-over, dtype: float64\n"
     ]
    }
   ],
   "source": [
    "# oversampled knn\n",
    "\n",
    "clf = resample_pipeline(RandomOverSampler(),\n",
    "                        KNeighborsClassifier(n_neighbors = 5,\n",
    "                                            metric = 'euclidean'))\n",
    "\n",
    "clf.fit(X_train_2d, y_train)\n",
    "\n",
    "save_scores(clf, \n",
    "            X_train_2d, \n",
    "            X_test_2d, \n",
    "            y_train, \n",
    "            y_test, \n",
    "            \"knn-spacyvec-over\")"
   ]
  },
  {
   "cell_type": "code",
   "execution_count": 72,
   "id": "34da746a",
   "metadata": {
    "hidden": true
   },
   "outputs": [
    {
     "name": "stdout",
     "output_type": "stream",
     "text": [
      "F1_0_Train      0.783545\n",
      "F1_1_Train      0.773879\n",
      "F1_Avg_Train    0.778712\n",
      "F1_0_Test       0.664047\n",
      "F1_1_Test       0.662278\n",
      "F1_Avg_Test     0.663162\n",
      "Name: knn-spacyvec-smote, dtype: float64\n"
     ]
    }
   ],
   "source": [
    "# smoted knn\n",
    "\n",
    "clf = resample_pipeline(SMOTE(),\n",
    "                        KNeighborsClassifier(n_neighbors = 5,\n",
    "                                            metric = 'euclidean'))\n",
    "\n",
    "clf.fit(X_train_2d, y_train)\n",
    "\n",
    "save_scores(clf, \n",
    "            X_train_2d, \n",
    "            X_test_2d, \n",
    "            y_train, \n",
    "            y_test, \n",
    "            \"knn-spacyvec-smote\")"
   ]
  },
  {
   "cell_type": "code",
   "execution_count": 73,
   "id": "6d710a6d",
   "metadata": {
    "hidden": true
   },
   "outputs": [
    {
     "name": "stdout",
     "output_type": "stream",
     "text": [
      "F1_0_Train      0.809354\n",
      "F1_1_Train      0.765825\n",
      "F1_Avg_Train    0.787589\n",
      "F1_0_Test       0.717094\n",
      "F1_1_Test       0.652524\n",
      "F1_Avg_Test     0.684809\n",
      "Name: knndef-spacyvec-under, dtype: float64\n"
     ]
    }
   ],
   "source": [
    "# undersampled default knn\n",
    "\n",
    "clf = resample_pipeline(RandomUnderSampler(),\n",
    "                        KNeighborsClassifier())\n",
    "\n",
    "clf.fit(X_train_2d, y_train)\n",
    "\n",
    "save_scores(clf, \n",
    "            X_train_2d, \n",
    "            X_test_2d, \n",
    "            y_train, \n",
    "            y_test, \n",
    "            \"knndef-spacyvec-under\")"
   ]
  },
  {
   "cell_type": "code",
   "execution_count": 74,
   "id": "341470a0",
   "metadata": {
    "hidden": true
   },
   "outputs": [
    {
     "name": "stdout",
     "output_type": "stream",
     "text": [
      "F1_0_Train      0.826299\n",
      "F1_1_Train      0.783858\n",
      "F1_Avg_Train    0.805079\n",
      "F1_0_Test       0.712426\n",
      "F1_1_Test       0.641593\n",
      "F1_Avg_Test     0.677009\n",
      "Name: knndef-spacyvec-over, dtype: float64\n"
     ]
    }
   ],
   "source": [
    "# oversampled default knn\n",
    "\n",
    "clf = resample_pipeline(RandomOverSampler(),\n",
    "                        KNeighborsClassifier())\n",
    "\n",
    "clf.fit(X_train_2d, y_train)\n",
    "\n",
    "save_scores(clf, \n",
    "            X_train_2d, \n",
    "            X_test_2d, \n",
    "            y_train, \n",
    "            y_test, \n",
    "            \"knndef-spacyvec-over\")"
   ]
  },
  {
   "cell_type": "code",
   "execution_count": 75,
   "id": "149a2519",
   "metadata": {
    "hidden": true
   },
   "outputs": [
    {
     "name": "stdout",
     "output_type": "stream",
     "text": [
      "F1_0_Train      0.784615\n",
      "F1_1_Train      0.773737\n",
      "F1_Avg_Train    0.779176\n",
      "F1_0_Test       0.660040\n",
      "F1_1_Test       0.666233\n",
      "F1_Avg_Test     0.663136\n",
      "Name: knndef-spacyvec-smote, dtype: float64\n"
     ]
    }
   ],
   "source": [
    "# smoted default knn\n",
    "\n",
    "clf = resample_pipeline(SMOTE(),\n",
    "                        KNeighborsClassifier())\n",
    "\n",
    "clf.fit(X_train_2d, y_train)\n",
    "\n",
    "save_scores(clf, \n",
    "            X_train_2d, \n",
    "            X_test_2d, \n",
    "            y_train, \n",
    "            y_test, \n",
    "            \"knndef-spacyvec-smote\")"
   ]
  },
  {
   "cell_type": "markdown",
   "id": "3d301303",
   "metadata": {
    "hidden": true
   },
   "source": [
    "## RF, class balancing"
   ]
  },
  {
   "cell_type": "code",
   "execution_count": 76,
   "id": "0ee3ec46",
   "metadata": {
    "hidden": true
   },
   "outputs": [
    {
     "name": "stdout",
     "output_type": "stream",
     "text": [
      "F1_0_Train      0.964186\n",
      "F1_1_Train      0.954958\n",
      "F1_Avg_Train    0.959572\n",
      "F1_0_Test       0.775557\n",
      "F1_1_Test       0.696525\n",
      "F1_Avg_Test     0.736041\n",
      "Name: rf-spacyvec-under, dtype: float64\n"
     ]
    }
   ],
   "source": [
    "# rf under\n",
    "\n",
    "clf = resample_pipeline(RandomUnderSampler(),\n",
    "                        RandomForestClassifier())\n",
    "\n",
    "clf.fit(X_train_2d, y_train)\n",
    "\n",
    "save_scores(clf, \n",
    "            X_train_2d, \n",
    "            X_test_2d, \n",
    "            y_train, \n",
    "            y_test, \n",
    "            \"rf-spacyvec-under\")"
   ]
  },
  {
   "cell_type": "code",
   "execution_count": 77,
   "id": "3f170c74",
   "metadata": {
    "hidden": true
   },
   "outputs": [
    {
     "name": "stdout",
     "output_type": "stream",
     "text": [
      "F1_0_Train      0.962908\n",
      "F1_1_Train      0.953630\n",
      "F1_Avg_Train    0.958269\n",
      "F1_0_Test       0.772232\n",
      "F1_1_Test       0.695318\n",
      "F1_Avg_Test     0.733775\n",
      "Name: rfbal-spacyvec-under, dtype: float64\n"
     ]
    }
   ],
   "source": [
    "# rf under bal\n",
    "\n",
    "clf = resample_pipeline(RandomUnderSampler(),\n",
    "                        RandomForestClassifier(class_weight = 'balanced'))\n",
    "\n",
    "clf.fit(X_train_2d, y_train)\n",
    "\n",
    "save_scores(clf, \n",
    "            X_train_2d, \n",
    "            X_test_2d, \n",
    "            y_train, \n",
    "            y_test, \n",
    "            \"rfbal-spacyvec-under\")"
   ]
  },
  {
   "cell_type": "code",
   "execution_count": 78,
   "id": "095dedfa",
   "metadata": {
    "hidden": true
   },
   "outputs": [
    {
     "name": "stdout",
     "output_type": "stream",
     "text": [
      "F1_0_Train      0.989625\n",
      "F1_1_Train      0.986260\n",
      "F1_Avg_Train    0.987942\n",
      "F1_0_Test       0.794760\n",
      "F1_1_Test       0.690280\n",
      "F1_Avg_Test     0.742520\n",
      "Name: rf-spacyvec-over, dtype: float64\n"
     ]
    }
   ],
   "source": [
    "# rf over\n",
    "\n",
    "clf = resample_pipeline(RandomOverSampler(),\n",
    "                        RandomForestClassifier())\n",
    "\n",
    "clf.fit(X_train_2d, y_train)\n",
    "\n",
    "save_scores(clf, \n",
    "            X_train_2d, \n",
    "            X_test_2d, \n",
    "            y_train, \n",
    "            y_test, \n",
    "            \"rf-spacyvec-over\")"
   ]
  },
  {
   "cell_type": "code",
   "execution_count": 79,
   "id": "2bb47ce4",
   "metadata": {
    "hidden": true
   },
   "outputs": [
    {
     "name": "stdout",
     "output_type": "stream",
     "text": [
      "F1_0_Train      0.990375\n",
      "F1_1_Train      0.987162\n",
      "F1_Avg_Train    0.988769\n",
      "F1_0_Test       0.795417\n",
      "F1_1_Test       0.690849\n",
      "F1_Avg_Test     0.743133\n",
      "Name: rfbal-spacyvec-over, dtype: float64\n"
     ]
    }
   ],
   "source": [
    "# rf over bal\n",
    "\n",
    "clf = resample_pipeline(RandomOverSampler(),\n",
    "                        RandomForestClassifier(class_weight = 'balanced'))\n",
    "\n",
    "clf.fit(X_train_2d, y_train)\n",
    "\n",
    "save_scores(clf, \n",
    "            X_train_2d, \n",
    "            X_test_2d, \n",
    "            y_train, \n",
    "            y_test, \n",
    "            \"rfbal-spacyvec-over\")"
   ]
  },
  {
   "cell_type": "code",
   "execution_count": 80,
   "id": "6346b8e9",
   "metadata": {
    "hidden": true
   },
   "outputs": [
    {
     "name": "stdout",
     "output_type": "stream",
     "text": [
      "F1_0_Train      0.990820\n",
      "F1_1_Train      0.987711\n",
      "F1_Avg_Train    0.989266\n",
      "F1_0_Test       0.796943\n",
      "F1_1_Test       0.693575\n",
      "F1_Avg_Test     0.745259\n",
      "Name: rf-spacyvec-smote, dtype: float64\n"
     ]
    }
   ],
   "source": [
    "# rf smote\n",
    "\n",
    "clf = resample_pipeline(SMOTE(),\n",
    "                        RandomForestClassifier())\n",
    "\n",
    "clf.fit(X_train_2d, y_train)\n",
    "\n",
    "save_scores(clf, \n",
    "            X_train_2d, \n",
    "            X_test_2d, \n",
    "            y_train, \n",
    "            y_test, \n",
    "            \"rf-spacyvec-smote\")"
   ]
  },
  {
   "cell_type": "code",
   "execution_count": 81,
   "id": "a81c2a2d",
   "metadata": {
    "hidden": true
   },
   "outputs": [
    {
     "name": "stdout",
     "output_type": "stream",
     "text": [
      "F1_0_Train      0.990818\n",
      "F1_1_Train      0.987716\n",
      "F1_Avg_Train    0.989267\n",
      "F1_0_Test       0.791621\n",
      "F1_1_Test       0.693182\n",
      "F1_Avg_Test     0.742401\n",
      "Name: rfbal-spacyvec-smote, dtype: float64\n"
     ]
    }
   ],
   "source": [
    "# rf smote with balancing\n",
    "\n",
    "clf = resample_pipeline(SMOTE(),\n",
    "                        RandomForestClassifier(class_weight = 'balanced'))\n",
    "\n",
    "clf.fit(X_train_2d, y_train)\n",
    "\n",
    "save_scores(clf, \n",
    "            X_train_2d, \n",
    "            X_test_2d, \n",
    "            y_train, \n",
    "            y_test, \n",
    "            \"rfbal-spacyvec-smote\")"
   ]
  },
  {
   "cell_type": "code",
   "execution_count": 82,
   "id": "044a5677",
   "metadata": {
    "hidden": true
   },
   "outputs": [
    {
     "data": {
      "text/html": [
       "<div>\n",
       "<style scoped>\n",
       "    .dataframe tbody tr th:only-of-type {\n",
       "        vertical-align: middle;\n",
       "    }\n",
       "\n",
       "    .dataframe tbody tr th {\n",
       "        vertical-align: top;\n",
       "    }\n",
       "\n",
       "    .dataframe thead th {\n",
       "        text-align: right;\n",
       "    }\n",
       "</style>\n",
       "<table border=\"1\" class=\"dataframe\">\n",
       "  <thead>\n",
       "    <tr style=\"text-align: right;\">\n",
       "      <th></th>\n",
       "      <th>F1_0_Train</th>\n",
       "      <th>F1_1_Train</th>\n",
       "      <th>F1_Avg_Train</th>\n",
       "      <th>F1_0_Test</th>\n",
       "      <th>F1_1_Test</th>\n",
       "      <th>F1_Avg_Test</th>\n",
       "    </tr>\n",
       "  </thead>\n",
       "  <tbody>\n",
       "    <tr>\n",
       "      <th>mnb-tfidf-unb-prep</th>\n",
       "      <td>0.926736</td>\n",
       "      <td>0.889803</td>\n",
       "      <td>0.908269</td>\n",
       "      <td>0.836074</td>\n",
       "      <td>0.733850</td>\n",
       "      <td>0.784962</td>\n",
       "    </tr>\n",
       "    <tr>\n",
       "      <th>mnb-tfidf-unb</th>\n",
       "      <td>0.910580</td>\n",
       "      <td>0.859256</td>\n",
       "      <td>0.884918</td>\n",
       "      <td>0.835836</td>\n",
       "      <td>0.715695</td>\n",
       "      <td>0.775766</td>\n",
       "    </tr>\n",
       "    <tr>\n",
       "      <th>mnb-tfidf-smote-prep</th>\n",
       "      <td>0.933582</td>\n",
       "      <td>0.911115</td>\n",
       "      <td>0.922349</td>\n",
       "      <td>0.802768</td>\n",
       "      <td>0.739329</td>\n",
       "      <td>0.771049</td>\n",
       "    </tr>\n",
       "    <tr>\n",
       "      <th>mnb-tfidf-smote-def-prep</th>\n",
       "      <td>0.934534</td>\n",
       "      <td>0.911651</td>\n",
       "      <td>0.923093</td>\n",
       "      <td>0.799306</td>\n",
       "      <td>0.736522</td>\n",
       "      <td>0.767914</td>\n",
       "    </tr>\n",
       "    <tr>\n",
       "      <th>mnb-tfidf-over-prep</th>\n",
       "      <td>0.932305</td>\n",
       "      <td>0.908459</td>\n",
       "      <td>0.920382</td>\n",
       "      <td>0.797211</td>\n",
       "      <td>0.736604</td>\n",
       "      <td>0.766907</td>\n",
       "    </tr>\n",
       "  </tbody>\n",
       "</table>\n",
       "</div>"
      ],
      "text/plain": [
       "                          F1_0_Train  F1_1_Train  F1_Avg_Train  F1_0_Test  \\\n",
       "mnb-tfidf-unb-prep          0.926736    0.889803      0.908269   0.836074   \n",
       "mnb-tfidf-unb               0.910580    0.859256      0.884918   0.835836   \n",
       "mnb-tfidf-smote-prep        0.933582    0.911115      0.922349   0.802768   \n",
       "mnb-tfidf-smote-def-prep    0.934534    0.911651      0.923093   0.799306   \n",
       "mnb-tfidf-over-prep         0.932305    0.908459      0.920382   0.797211   \n",
       "\n",
       "                          F1_1_Test  F1_Avg_Test  \n",
       "mnb-tfidf-unb-prep         0.733850     0.784962  \n",
       "mnb-tfidf-unb              0.715695     0.775766  \n",
       "mnb-tfidf-smote-prep       0.739329     0.771049  \n",
       "mnb-tfidf-smote-def-prep   0.736522     0.767914  \n",
       "mnb-tfidf-over-prep        0.736604     0.766907  "
      ]
     },
     "execution_count": 82,
     "metadata": {},
     "output_type": "execute_result"
    }
   ],
   "source": [
    "scores_df.sort_values(by = 'F1_Avg_Test', ascending = False).head()"
   ]
  },
  {
   "cell_type": "markdown",
   "id": "4c900490",
   "metadata": {
    "heading_collapsed": true
   },
   "source": [
    "# 3. Gensim word vectors"
   ]
  },
  {
   "cell_type": "code",
   "execution_count": 83,
   "id": "25ae435a",
   "metadata": {
    "hidden": true
   },
   "outputs": [],
   "source": [
    "import gensim.downloader as api\n",
    "\n",
    "wv = api.load(\"word2vec-google-news-300\")"
   ]
  },
  {
   "cell_type": "code",
   "execution_count": 84,
   "id": "9e1c20bd",
   "metadata": {
    "hidden": true
   },
   "outputs": [],
   "source": [
    "import pandas as pd\n",
    "df = pd.read_csv('Data/train.csv')"
   ]
  },
  {
   "cell_type": "code",
   "execution_count": 85,
   "id": "e1683710",
   "metadata": {
    "hidden": true
   },
   "outputs": [
    {
     "name": "stdout",
     "output_type": "stream",
     "text": [
      "(7613, 5)\n"
     ]
    },
    {
     "data": {
      "text/html": [
       "<div>\n",
       "<style scoped>\n",
       "    .dataframe tbody tr th:only-of-type {\n",
       "        vertical-align: middle;\n",
       "    }\n",
       "\n",
       "    .dataframe tbody tr th {\n",
       "        vertical-align: top;\n",
       "    }\n",
       "\n",
       "    .dataframe thead th {\n",
       "        text-align: right;\n",
       "    }\n",
       "</style>\n",
       "<table border=\"1\" class=\"dataframe\">\n",
       "  <thead>\n",
       "    <tr style=\"text-align: right;\">\n",
       "      <th></th>\n",
       "      <th>id</th>\n",
       "      <th>keyword</th>\n",
       "      <th>location</th>\n",
       "      <th>text</th>\n",
       "      <th>target</th>\n",
       "    </tr>\n",
       "  </thead>\n",
       "  <tbody>\n",
       "    <tr>\n",
       "      <th>0</th>\n",
       "      <td>1</td>\n",
       "      <td>NaN</td>\n",
       "      <td>NaN</td>\n",
       "      <td>Our Deeds are the Reason of this #earthquake M...</td>\n",
       "      <td>1</td>\n",
       "    </tr>\n",
       "    <tr>\n",
       "      <th>1</th>\n",
       "      <td>4</td>\n",
       "      <td>NaN</td>\n",
       "      <td>NaN</td>\n",
       "      <td>Forest fire near La Ronge Sask. Canada</td>\n",
       "      <td>1</td>\n",
       "    </tr>\n",
       "    <tr>\n",
       "      <th>2</th>\n",
       "      <td>5</td>\n",
       "      <td>NaN</td>\n",
       "      <td>NaN</td>\n",
       "      <td>All residents asked to 'shelter in place' are ...</td>\n",
       "      <td>1</td>\n",
       "    </tr>\n",
       "    <tr>\n",
       "      <th>3</th>\n",
       "      <td>6</td>\n",
       "      <td>NaN</td>\n",
       "      <td>NaN</td>\n",
       "      <td>13,000 people receive #wildfires evacuation or...</td>\n",
       "      <td>1</td>\n",
       "    </tr>\n",
       "    <tr>\n",
       "      <th>4</th>\n",
       "      <td>7</td>\n",
       "      <td>NaN</td>\n",
       "      <td>NaN</td>\n",
       "      <td>Just got sent this photo from Ruby #Alaska as ...</td>\n",
       "      <td>1</td>\n",
       "    </tr>\n",
       "  </tbody>\n",
       "</table>\n",
       "</div>"
      ],
      "text/plain": [
       "   id keyword location                                               text  \\\n",
       "0   1     NaN      NaN  Our Deeds are the Reason of this #earthquake M...   \n",
       "1   4     NaN      NaN             Forest fire near La Ronge Sask. Canada   \n",
       "2   5     NaN      NaN  All residents asked to 'shelter in place' are ...   \n",
       "3   6     NaN      NaN  13,000 people receive #wildfires evacuation or...   \n",
       "4   7     NaN      NaN  Just got sent this photo from Ruby #Alaska as ...   \n",
       "\n",
       "   target  \n",
       "0       1  \n",
       "1       1  \n",
       "2       1  \n",
       "3       1  \n",
       "4       1  "
      ]
     },
     "execution_count": 85,
     "metadata": {},
     "output_type": "execute_result"
    }
   ],
   "source": [
    "print(df.shape)\n",
    "df.head()"
   ]
  },
  {
   "cell_type": "code",
   "execution_count": 86,
   "id": "a04042ff",
   "metadata": {
    "hidden": true
   },
   "outputs": [],
   "source": [
    "# balance classes?"
   ]
  },
  {
   "cell_type": "code",
   "execution_count": 87,
   "id": "5e3bcabb",
   "metadata": {
    "hidden": true
   },
   "outputs": [],
   "source": [
    "# preprocess and get gensim doc vector\n",
    "import spacy\n",
    "\n",
    "nlp = spacy.load(\"en_core_web_lg\")\n",
    "\n",
    "def preprocess_and_vectorize(text):\n",
    "    doc = nlp(text)\n",
    "    \n",
    "    filtered_tokens = []\n",
    "    \n",
    "    for token in doc:\n",
    "        if token.is_punct or token.is_stop:\n",
    "            continue\n",
    "        filtered_tokens.append(token.lemma_)\n",
    "    \n",
    "    return wv.get_mean_vector(filtered_tokens)"
   ]
  },
  {
   "cell_type": "code",
   "execution_count": 88,
   "id": "e7bb4d27",
   "metadata": {
    "hidden": true
   },
   "outputs": [],
   "source": [
    "# convert text into gensim word embeddings\n",
    "\n",
    "df['gensim_vector'] = df['text'].apply(lambda text: preprocess_and_vectorize(text))"
   ]
  },
  {
   "cell_type": "code",
   "execution_count": 89,
   "id": "b633f5ec",
   "metadata": {
    "hidden": true
   },
   "outputs": [
    {
     "data": {
      "text/html": [
       "<div>\n",
       "<style scoped>\n",
       "    .dataframe tbody tr th:only-of-type {\n",
       "        vertical-align: middle;\n",
       "    }\n",
       "\n",
       "    .dataframe tbody tr th {\n",
       "        vertical-align: top;\n",
       "    }\n",
       "\n",
       "    .dataframe thead th {\n",
       "        text-align: right;\n",
       "    }\n",
       "</style>\n",
       "<table border=\"1\" class=\"dataframe\">\n",
       "  <thead>\n",
       "    <tr style=\"text-align: right;\">\n",
       "      <th></th>\n",
       "      <th>id</th>\n",
       "      <th>keyword</th>\n",
       "      <th>location</th>\n",
       "      <th>text</th>\n",
       "      <th>target</th>\n",
       "      <th>gensim_vector</th>\n",
       "    </tr>\n",
       "  </thead>\n",
       "  <tbody>\n",
       "    <tr>\n",
       "      <th>0</th>\n",
       "      <td>1</td>\n",
       "      <td>NaN</td>\n",
       "      <td>NaN</td>\n",
       "      <td>Our Deeds are the Reason of this #earthquake M...</td>\n",
       "      <td>1</td>\n",
       "      <td>[0.05016107, 0.00387215, 0.047061782, 0.028958...</td>\n",
       "    </tr>\n",
       "    <tr>\n",
       "      <th>1</th>\n",
       "      <td>4</td>\n",
       "      <td>NaN</td>\n",
       "      <td>NaN</td>\n",
       "      <td>Forest fire near La Ronge Sask. Canada</td>\n",
       "      <td>1</td>\n",
       "      <td>[0.03064329, 0.0030595234, 0.0369662, 0.020602...</td>\n",
       "    </tr>\n",
       "    <tr>\n",
       "      <th>2</th>\n",
       "      <td>5</td>\n",
       "      <td>NaN</td>\n",
       "      <td>NaN</td>\n",
       "      <td>All residents asked to 'shelter in place' are ...</td>\n",
       "      <td>1</td>\n",
       "      <td>[-0.0048536863, 0.011481234, 0.016771162, -0.0...</td>\n",
       "    </tr>\n",
       "    <tr>\n",
       "      <th>3</th>\n",
       "      <td>6</td>\n",
       "      <td>NaN</td>\n",
       "      <td>NaN</td>\n",
       "      <td>13,000 people receive #wildfires evacuation or...</td>\n",
       "      <td>1</td>\n",
       "      <td>[0.060398173, -0.012511074, -0.0018801317, 0.0...</td>\n",
       "    </tr>\n",
       "    <tr>\n",
       "      <th>4</th>\n",
       "      <td>7</td>\n",
       "      <td>NaN</td>\n",
       "      <td>NaN</td>\n",
       "      <td>Just got sent this photo from Ruby #Alaska as ...</td>\n",
       "      <td>1</td>\n",
       "      <td>[0.021673834, 0.0012636562, -0.031610973, 0.03...</td>\n",
       "    </tr>\n",
       "  </tbody>\n",
       "</table>\n",
       "</div>"
      ],
      "text/plain": [
       "   id keyword location                                               text  \\\n",
       "0   1     NaN      NaN  Our Deeds are the Reason of this #earthquake M...   \n",
       "1   4     NaN      NaN             Forest fire near La Ronge Sask. Canada   \n",
       "2   5     NaN      NaN  All residents asked to 'shelter in place' are ...   \n",
       "3   6     NaN      NaN  13,000 people receive #wildfires evacuation or...   \n",
       "4   7     NaN      NaN  Just got sent this photo from Ruby #Alaska as ...   \n",
       "\n",
       "   target                                      gensim_vector  \n",
       "0       1  [0.05016107, 0.00387215, 0.047061782, 0.028958...  \n",
       "1       1  [0.03064329, 0.0030595234, 0.0369662, 0.020602...  \n",
       "2       1  [-0.0048536863, 0.011481234, 0.016771162, -0.0...  \n",
       "3       1  [0.060398173, -0.012511074, -0.0018801317, 0.0...  \n",
       "4       1  [0.021673834, 0.0012636562, -0.031610973, 0.03...  "
      ]
     },
     "execution_count": 89,
     "metadata": {},
     "output_type": "execute_result"
    }
   ],
   "source": [
    "df.head()"
   ]
  },
  {
   "cell_type": "code",
   "execution_count": 90,
   "id": "5e5fe6a5",
   "metadata": {
    "hidden": true
   },
   "outputs": [],
   "source": [
    "# tts\n",
    "from sklearn.model_selection import train_test_split\n",
    "\n",
    "X_train, X_test, y_train, y_test = train_test_split(\n",
    "    df.gensim_vector.values,\n",
    "    df.target,\n",
    "    test_size = 0.2,\n",
    "    random_state = 2022,\n",
    "    stratify = df.target)"
   ]
  },
  {
   "cell_type": "code",
   "execution_count": 91,
   "id": "0de3c621",
   "metadata": {
    "hidden": true
   },
   "outputs": [],
   "source": [
    "# create 2d np arrays for X train and test sets\n",
    "import numpy as np\n",
    "X_train_2d = np.stack(X_train)\n",
    "X_test_2d = np.stack(X_test)"
   ]
  },
  {
   "cell_type": "code",
   "execution_count": 92,
   "id": "1a4be949",
   "metadata": {
    "hidden": true
   },
   "outputs": [
    {
     "name": "stdout",
     "output_type": "stream",
     "text": [
      "F1_0_Train      0.891286\n",
      "F1_1_Train      0.841212\n",
      "F1_Avg_Train    0.866249\n",
      "F1_0_Test       0.816304\n",
      "F1_1_Test       0.737849\n",
      "F1_Avg_Test     0.777076\n",
      "Name: gbc-gensim, dtype: float64\n"
     ]
    }
   ],
   "source": [
    "# gradient boosting classifier\n",
    "from sklearn.ensemble import GradientBoostingClassifier\n",
    "\n",
    "clf = GradientBoostingClassifier()\n",
    "\n",
    "clf.fit(X_train_2d, y_train)\n",
    "\n",
    "save_scores(clf, \n",
    "            X_train_2d, \n",
    "            X_test_2d, \n",
    "            y_train, \n",
    "            y_test, \n",
    "            \"gbc-gensim\")"
   ]
  },
  {
   "cell_type": "code",
   "execution_count": 93,
   "id": "ffd97049",
   "metadata": {
    "hidden": true
   },
   "outputs": [
    {
     "data": {
      "text/html": [
       "<div>\n",
       "<style scoped>\n",
       "    .dataframe tbody tr th:only-of-type {\n",
       "        vertical-align: middle;\n",
       "    }\n",
       "\n",
       "    .dataframe tbody tr th {\n",
       "        vertical-align: top;\n",
       "    }\n",
       "\n",
       "    .dataframe thead th {\n",
       "        text-align: right;\n",
       "    }\n",
       "</style>\n",
       "<table border=\"1\" class=\"dataframe\">\n",
       "  <thead>\n",
       "    <tr style=\"text-align: right;\">\n",
       "      <th></th>\n",
       "      <th>F1_0_Train</th>\n",
       "      <th>F1_1_Train</th>\n",
       "      <th>F1_Avg_Train</th>\n",
       "      <th>F1_0_Test</th>\n",
       "      <th>F1_1_Test</th>\n",
       "      <th>F1_Avg_Test</th>\n",
       "    </tr>\n",
       "  </thead>\n",
       "  <tbody>\n",
       "    <tr>\n",
       "      <th>mnb-tfidf-unb-prep</th>\n",
       "      <td>0.926736</td>\n",
       "      <td>0.889803</td>\n",
       "      <td>0.908269</td>\n",
       "      <td>0.836074</td>\n",
       "      <td>0.733850</td>\n",
       "      <td>0.784962</td>\n",
       "    </tr>\n",
       "    <tr>\n",
       "      <th>gbc-gensim</th>\n",
       "      <td>0.891286</td>\n",
       "      <td>0.841212</td>\n",
       "      <td>0.866249</td>\n",
       "      <td>0.816304</td>\n",
       "      <td>0.737849</td>\n",
       "      <td>0.777076</td>\n",
       "    </tr>\n",
       "    <tr>\n",
       "      <th>mnb-tfidf-unb</th>\n",
       "      <td>0.910580</td>\n",
       "      <td>0.859256</td>\n",
       "      <td>0.884918</td>\n",
       "      <td>0.835836</td>\n",
       "      <td>0.715695</td>\n",
       "      <td>0.775766</td>\n",
       "    </tr>\n",
       "    <tr>\n",
       "      <th>mnb-tfidf-smote-prep</th>\n",
       "      <td>0.933582</td>\n",
       "      <td>0.911115</td>\n",
       "      <td>0.922349</td>\n",
       "      <td>0.802768</td>\n",
       "      <td>0.739329</td>\n",
       "      <td>0.771049</td>\n",
       "    </tr>\n",
       "    <tr>\n",
       "      <th>mnb-tfidf-smote-def-prep</th>\n",
       "      <td>0.934534</td>\n",
       "      <td>0.911651</td>\n",
       "      <td>0.923093</td>\n",
       "      <td>0.799306</td>\n",
       "      <td>0.736522</td>\n",
       "      <td>0.767914</td>\n",
       "    </tr>\n",
       "  </tbody>\n",
       "</table>\n",
       "</div>"
      ],
      "text/plain": [
       "                          F1_0_Train  F1_1_Train  F1_Avg_Train  F1_0_Test  \\\n",
       "mnb-tfidf-unb-prep          0.926736    0.889803      0.908269   0.836074   \n",
       "gbc-gensim                  0.891286    0.841212      0.866249   0.816304   \n",
       "mnb-tfidf-unb               0.910580    0.859256      0.884918   0.835836   \n",
       "mnb-tfidf-smote-prep        0.933582    0.911115      0.922349   0.802768   \n",
       "mnb-tfidf-smote-def-prep    0.934534    0.911651      0.923093   0.799306   \n",
       "\n",
       "                          F1_1_Test  F1_Avg_Test  \n",
       "mnb-tfidf-unb-prep         0.733850     0.784962  \n",
       "gbc-gensim                 0.737849     0.777076  \n",
       "mnb-tfidf-unb              0.715695     0.775766  \n",
       "mnb-tfidf-smote-prep       0.739329     0.771049  \n",
       "mnb-tfidf-smote-def-prep   0.736522     0.767914  "
      ]
     },
     "execution_count": 93,
     "metadata": {},
     "output_type": "execute_result"
    }
   ],
   "source": [
    "scores_df.sort_values(by = \"F1_Avg_Test\", ascending = False).head()"
   ]
  },
  {
   "cell_type": "markdown",
   "id": "6bda21f6",
   "metadata": {
    "hidden": true
   },
   "source": [
    "more gensim:\n",
    "other models available:\n",
    "- twitter, wiki\n",
    "- glove, fasttext\n",
    "\n",
    "consider gensim models:\n",
    "- glove-twitter-200\n",
    "- word2vec-google-news-300\n",
    "- glove-wiki-gigaword-300"
   ]
  },
  {
   "cell_type": "markdown",
   "id": "51b7e3bd",
   "metadata": {},
   "source": [
    "# Scores"
   ]
  },
  {
   "cell_type": "code",
   "execution_count": null,
   "id": "b53339db",
   "metadata": {},
   "outputs": [],
   "source": []
  }
 ],
 "metadata": {
  "kernelspec": {
   "display_name": "Python 3 (ipykernel)",
   "language": "python",
   "name": "python3"
  },
  "language_info": {
   "codemirror_mode": {
    "name": "ipython",
    "version": 3
   },
   "file_extension": ".py",
   "mimetype": "text/x-python",
   "name": "python",
   "nbconvert_exporter": "python",
   "pygments_lexer": "ipython3",
   "version": "3.9.15"
  },
  "toc": {
   "base_numbering": 1,
   "nav_menu": {},
   "number_sections": false,
   "sideBar": true,
   "skip_h1_title": false,
   "title_cell": "Table of Contents",
   "title_sidebar": "Contents",
   "toc_cell": false,
   "toc_position": {},
   "toc_section_display": true,
   "toc_window_display": false
  }
 },
 "nbformat": 4,
 "nbformat_minor": 5
}
