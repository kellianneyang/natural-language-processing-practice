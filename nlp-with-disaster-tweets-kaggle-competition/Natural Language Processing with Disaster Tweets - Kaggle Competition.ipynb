{
 "cells": [
  {
   "cell_type": "markdown",
   "id": "81565380",
   "metadata": {},
   "source": [
    "# Natural Language Processing with Disaster Tweets (Kaggle Competition)"
   ]
  },
  {
   "cell_type": "markdown",
   "id": "895a4c39",
   "metadata": {},
   "source": [
    "## **Outline**"
   ]
  },
  {
   "cell_type": "markdown",
   "id": "94e13193",
   "metadata": {},
   "source": [
    "**Feature extraction techniques**\n",
    "1. TF/IDF\n",
    "2. spaCy word embeddings\n",
    "3. Gensim word vectors\n",
    "4. fastText (not currently working -- saved in separate notebook)\n",
    "\n",
    "\n",
    "**Data processing techniques**\n",
    "- Class balancing (nondisaster tweets: 57%)\n",
    "    - Class_weight parameter\n",
    "    - Undersampling\n",
    "    - Oversampling\n",
    "    - SMOTE\n",
    "    - Combination\n",
    "- Preprocessing\n",
    "    - Stopwords\n",
    "    - Stemming and/or lemmatization\n",
    "    - Punctuation\n",
    "\n",
    "\n",
    "**Models**\n",
    "- K-Nearest Neighbors (KNN)\n",
    "- Multinomial Naive Bayes (MNB)\n",
    "- Random Forest (RF)\n",
    "- Gradient Boosting Classifier (GBC)\n",
    "- Extreme Gradient Boosting (XGB)\n",
    "- Light Gradient Boosting Model (LGBM)\n",
    "- Neural networks\n",
    "    \n",
    "    \n",
    "**Other ideas?**\n",
    "- Categorical Naive Bayes?\n",
    "- Add in the keyword and/or location to the text of the tweet?"
   ]
  },
  {
   "cell_type": "markdown",
   "id": "d2021135",
   "metadata": {},
   "source": [
    "## Preliminary Steps"
   ]
  },
  {
   "cell_type": "code",
   "execution_count": 1,
   "id": "64dd07cd",
   "metadata": {},
   "outputs": [],
   "source": [
    "# imports\n",
    "import pandas as pd\n",
    "import numpy as np\n",
    "from sklearn.model_selection import train_test_split\n",
    "from sklearn.feature_extraction.text import TfidfVectorizer\n",
    "from sklearn.neighbors import KNeighborsClassifier\n",
    "from sklearn.pipeline import Pipeline\n",
    "from sklearn.metrics import classification_report\n",
    "from sklearn import feature_extraction, linear_model, model_selection, preprocessing"
   ]
  },
  {
   "cell_type": "code",
   "execution_count": 2,
   "id": "c01ee040",
   "metadata": {},
   "outputs": [],
   "source": [
    "# helper function to save scores\n",
    "from sklearn.metrics import f1_score\n",
    "\n",
    "scores_df = pd.DataFrame()\n",
    "\n",
    "def save_scores(model_pipe, X_train, X_test, y_train, y_test, name):\n",
    "  \n",
    "    # calculate predictions\n",
    "    train_pred = model_pipe.predict(X_train)\n",
    "    test_pred = model_pipe.predict(X_test)\n",
    "    \n",
    "    # save f1 scores for each class\n",
    "    f1_train_scores = f1_score(y_train, train_pred, average = None)\n",
    "    for i, f1 in enumerate(f1_train_scores):\n",
    "        if i == 0:\n",
    "            f1_0_train = f1\n",
    "        elif i == 1:\n",
    "            f1_1_train = f1\n",
    "            \n",
    "    f1_test_scores = f1_score(y_test, test_pred, average = None)\n",
    "    for i, f1 in enumerate(f1_test_scores):\n",
    "        if i == 0:\n",
    "            f1_0_test = f1\n",
    "        elif i == 1:\n",
    "            f1_1_test = f1\n",
    "        \n",
    "    # store scores\n",
    "    scores_df.at[name, 'F1_0_Train'] = f1_0_train\n",
    "    scores_df.at[name, 'F1_1_Train'] = f1_1_train\n",
    "    scores_df.at[name, 'F1_Avg_Train'] = f1_score(y_train, train_pred, average = 'macro')\n",
    "    scores_df.at[name, 'F1_0_Test'] = f1_0_test\n",
    "    scores_df.at[name, 'F1_1_Test'] = f1_1_test\n",
    "    scores_df.at[name, 'F1_Avg_Test'] = f1_score(y_test, test_pred, average = 'macro')\n",
    "    \n",
    "    # show scores for this model only (can call scores_df to see all scores)\n",
    "    print(scores_df.loc[name, :])"
   ]
  },
  {
   "cell_type": "code",
   "execution_count": 3,
   "id": "bff617b2",
   "metadata": {},
   "outputs": [
    {
     "name": "stdout",
     "output_type": "stream",
     "text": [
      "<class 'pandas.core.frame.DataFrame'>\n",
      "RangeIndex: 7613 entries, 0 to 7612\n",
      "Data columns (total 5 columns):\n",
      " #   Column    Non-Null Count  Dtype \n",
      "---  ------    --------------  ----- \n",
      " 0   id        7613 non-null   int64 \n",
      " 1   keyword   7552 non-null   object\n",
      " 2   location  5080 non-null   object\n",
      " 3   text      7613 non-null   object\n",
      " 4   target    7613 non-null   int64 \n",
      "dtypes: int64(2), object(3)\n",
      "memory usage: 297.5+ KB\n",
      "<class 'pandas.core.frame.DataFrame'>\n",
      "RangeIndex: 3263 entries, 0 to 3262\n",
      "Data columns (total 4 columns):\n",
      " #   Column    Non-Null Count  Dtype \n",
      "---  ------    --------------  ----- \n",
      " 0   id        3263 non-null   int64 \n",
      " 1   keyword   3237 non-null   object\n",
      " 2   location  2158 non-null   object\n",
      " 3   text      3263 non-null   object\n",
      "dtypes: int64(1), object(3)\n",
      "memory usage: 102.1+ KB\n"
     ]
    }
   ],
   "source": [
    "# read in data\n",
    "train_df = pd.read_csv(\"Data/train.csv\")\n",
    "test_df = pd.read_csv(\"Data/test.csv\")\n",
    "\n",
    "# check\n",
    "train_df.info()\n",
    "test_df.info()"
   ]
  },
  {
   "cell_type": "code",
   "execution_count": 4,
   "id": "85bd0709",
   "metadata": {},
   "outputs": [
    {
     "data": {
      "text/plain": [
       "0"
      ]
     },
     "execution_count": 4,
     "metadata": {},
     "output_type": "execute_result"
    }
   ],
   "source": [
    "# check for duplicates\n",
    "train_df.duplicated().sum()"
   ]
  },
  {
   "cell_type": "code",
   "execution_count": 5,
   "id": "1b7794a9",
   "metadata": {},
   "outputs": [
    {
     "data": {
      "text/plain": [
       "0    4342\n",
       "1    3271\n",
       "Name: target, dtype: int64"
      ]
     },
     "execution_count": 5,
     "metadata": {},
     "output_type": "execute_result"
    }
   ],
   "source": [
    "# check class balance\n",
    "train_df['target'].value_counts()\n",
    "\n",
    "# the classes are a bit unbalanced (57% to 43%),\n",
    "# so we may want to try some class balancing techniques"
   ]
  },
  {
   "cell_type": "code",
   "execution_count": 6,
   "id": "6bd03f2c",
   "metadata": {},
   "outputs": [
    {
     "data": {
      "text/plain": [
       "7613"
      ]
     },
     "execution_count": 6,
     "metadata": {},
     "output_type": "execute_result"
    }
   ],
   "source": [
    "# check uniqueness of id column\n",
    "train_df['id'].nunique()"
   ]
  },
  {
   "cell_type": "code",
   "execution_count": 7,
   "id": "af564cc2",
   "metadata": {},
   "outputs": [
    {
     "name": "stdout",
     "output_type": "stream",
     "text": [
      "I love fruits\n",
      "Summer is lovely\n",
      "My car is so fast\n",
      "What a goooooooaaaaaal!!!!!!\n",
      "this is ridiculous....\n",
      "London is cool ;)\n",
      "Love skiing\n",
      "What a wonderful day!\n",
      "LOOOOOOL\n"
     ]
    }
   ],
   "source": [
    "# check examples of non-disaster tweets (target = 0)\n",
    "nondisaster_df = train_df[train_df['target'] == 0]\n",
    "\n",
    "for tweet in nondisaster_df['text'].values[1:10]:\n",
    "    print(tweet)"
   ]
  },
  {
   "cell_type": "code",
   "execution_count": 8,
   "id": "c2702ace",
   "metadata": {},
   "outputs": [
    {
     "name": "stdout",
     "output_type": "stream",
     "text": [
      "Forest fire near La Ronge Sask. Canada\n",
      "All residents asked to 'shelter in place' are being notified by officers. No other evacuation or shelter in place orders are expected\n",
      "13,000 people receive #wildfires evacuation orders in California \n",
      "Just got sent this photo from Ruby #Alaska as smoke from #wildfires pours into a school \n",
      "#RockyFire Update => California Hwy. 20 closed in both directions due to Lake County fire - #CAfire #wildfires\n",
      "#flood #disaster Heavy rain causes flash flooding of streets in Manitou, Colorado Springs areas\n",
      "I'm on top of the hill and I can see a fire in the woods...\n",
      "There's an emergency evacuation happening now in the building across the street\n",
      "I'm afraid that the tornado is coming to our area...\n"
     ]
    }
   ],
   "source": [
    "# check examples of disaster tweets (target = 1)\n",
    "disaster_df = train_df[train_df['target'] == 1]\n",
    "\n",
    "for tweet in disaster_df['text'].values[1:10]:\n",
    "    print(tweet)"
   ]
  },
  {
   "cell_type": "markdown",
   "id": "86a9a85a",
   "metadata": {},
   "source": [
    "## Class-balanced data"
   ]
  },
  {
   "cell_type": "code",
   "execution_count": null,
   "id": "e4e94361",
   "metadata": {},
   "outputs": [],
   "source": [
    "# helper function to run model with balancing techniques\n",
    "def run_with_balanced_data(model, ):"
   ]
  },
  {
   "cell_type": "code",
   "execution_count": 33,
   "id": "c2bce882",
   "metadata": {},
   "outputs": [],
   "source": [
    "X_train, X_test, y_train, y_test = train_test_split(\n",
    "    train_df.preprocessed_txt,\n",
    "    train_df.target,\n",
    "    test_size = 0.2,\n",
    "    random_state = 2022,\n",
    "    stratify = train_df.target)"
   ]
  },
  {
   "cell_type": "code",
   "execution_count": 34,
   "id": "eab1e446",
   "metadata": {},
   "outputs": [
    {
     "name": "stdout",
     "output_type": "stream",
     "text": [
      "F1_0_Train      0.850883\n",
      "F1_1_Train      0.793340\n",
      "F1_Avg_Train    0.822112\n",
      "F1_0_Test       0.786238\n",
      "F1_1_Test       0.702278\n",
      "F1_Avg_Test     0.744258\n",
      "Name: knn-tfidf-under-prep, dtype: float64\n"
     ]
    }
   ],
   "source": [
    "# undersampled knn on preprocessed data\n",
    "clf = resample_pipeline(TfidfVectorizer(),\n",
    "                              RandomUnderSampler(),\n",
    "                              KNeighborsClassifier())\n",
    "\n",
    "clf.fit(X_train, y_train)\n",
    "\n",
    "save_scores(clf, X_train, X_test, y_train, y_test, \"knn-tfidf-under-prep\")"
   ]
  },
  {
   "cell_type": "code",
   "execution_count": null,
   "id": "6d93fef0",
   "metadata": {},
   "outputs": [],
   "source": []
  },
  {
   "cell_type": "code",
   "execution_count": null,
   "id": "7c13a3c9",
   "metadata": {},
   "outputs": [],
   "source": []
  },
  {
   "cell_type": "code",
   "execution_count": null,
   "id": "2203311a",
   "metadata": {},
   "outputs": [],
   "source": []
  },
  {
   "cell_type": "code",
   "execution_count": null,
   "id": "7194a8f7",
   "metadata": {},
   "outputs": [],
   "source": []
  },
  {
   "cell_type": "code",
   "execution_count": null,
   "id": "684b8a0b",
   "metadata": {},
   "outputs": [],
   "source": []
  },
  {
   "cell_type": "markdown",
   "id": "0c0d73c0",
   "metadata": {},
   "source": [
    "# 1. TF-IDF"
   ]
  },
  {
   "cell_type": "markdown",
   "id": "127fa007",
   "metadata": {
    "heading_collapsed": true
   },
   "source": [
    "## No class balancing, no preprocessing (KNN, MNB, RF)"
   ]
  },
  {
   "cell_type": "code",
   "execution_count": 9,
   "id": "5b723be3",
   "metadata": {
    "hidden": true
   },
   "outputs": [
    {
     "data": {
      "text/html": [
       "<div>\n",
       "<style scoped>\n",
       "    .dataframe tbody tr th:only-of-type {\n",
       "        vertical-align: middle;\n",
       "    }\n",
       "\n",
       "    .dataframe tbody tr th {\n",
       "        vertical-align: top;\n",
       "    }\n",
       "\n",
       "    .dataframe thead th {\n",
       "        text-align: right;\n",
       "    }\n",
       "</style>\n",
       "<table border=\"1\" class=\"dataframe\">\n",
       "  <thead>\n",
       "    <tr style=\"text-align: right;\">\n",
       "      <th></th>\n",
       "      <th>id</th>\n",
       "      <th>keyword</th>\n",
       "      <th>location</th>\n",
       "      <th>text</th>\n",
       "      <th>target</th>\n",
       "    </tr>\n",
       "  </thead>\n",
       "  <tbody>\n",
       "    <tr>\n",
       "      <th>0</th>\n",
       "      <td>1</td>\n",
       "      <td>NaN</td>\n",
       "      <td>NaN</td>\n",
       "      <td>Our Deeds are the Reason of this #earthquake M...</td>\n",
       "      <td>1</td>\n",
       "    </tr>\n",
       "    <tr>\n",
       "      <th>1</th>\n",
       "      <td>4</td>\n",
       "      <td>NaN</td>\n",
       "      <td>NaN</td>\n",
       "      <td>Forest fire near La Ronge Sask. Canada</td>\n",
       "      <td>1</td>\n",
       "    </tr>\n",
       "    <tr>\n",
       "      <th>2</th>\n",
       "      <td>5</td>\n",
       "      <td>NaN</td>\n",
       "      <td>NaN</td>\n",
       "      <td>All residents asked to 'shelter in place' are ...</td>\n",
       "      <td>1</td>\n",
       "    </tr>\n",
       "    <tr>\n",
       "      <th>3</th>\n",
       "      <td>6</td>\n",
       "      <td>NaN</td>\n",
       "      <td>NaN</td>\n",
       "      <td>13,000 people receive #wildfires evacuation or...</td>\n",
       "      <td>1</td>\n",
       "    </tr>\n",
       "    <tr>\n",
       "      <th>4</th>\n",
       "      <td>7</td>\n",
       "      <td>NaN</td>\n",
       "      <td>NaN</td>\n",
       "      <td>Just got sent this photo from Ruby #Alaska as ...</td>\n",
       "      <td>1</td>\n",
       "    </tr>\n",
       "  </tbody>\n",
       "</table>\n",
       "</div>"
      ],
      "text/plain": [
       "   id keyword location                                               text  \\\n",
       "0   1     NaN      NaN  Our Deeds are the Reason of this #earthquake M...   \n",
       "1   4     NaN      NaN             Forest fire near La Ronge Sask. Canada   \n",
       "2   5     NaN      NaN  All residents asked to 'shelter in place' are ...   \n",
       "3   6     NaN      NaN  13,000 people receive #wildfires evacuation or...   \n",
       "4   7     NaN      NaN  Just got sent this photo from Ruby #Alaska as ...   \n",
       "\n",
       "   target  \n",
       "0       1  \n",
       "1       1  \n",
       "2       1  \n",
       "3       1  \n",
       "4       1  "
      ]
     },
     "execution_count": 9,
     "metadata": {},
     "output_type": "execute_result"
    }
   ],
   "source": [
    "train_df.head()"
   ]
  },
  {
   "cell_type": "code",
   "execution_count": 10,
   "id": "42164b88",
   "metadata": {
    "hidden": true
   },
   "outputs": [],
   "source": [
    "# tts on unprocessed data\n",
    "from sklearn.model_selection import train_test_split\n",
    "\n",
    "X_train, X_test, y_train, y_test = train_test_split(\n",
    "    train_df.text,\n",
    "    train_df.target,\n",
    "    test_size = 0.2,\n",
    "    random_state = 2022,\n",
    "    stratify = train_df.target)"
   ]
  },
  {
   "cell_type": "code",
   "execution_count": 11,
   "id": "0c989ee5",
   "metadata": {
    "hidden": true
   },
   "outputs": [
    {
     "name": "stdout",
     "output_type": "stream",
     "text": [
      "              precision    recall  f1-score   support\n",
      "\n",
      "           0       0.76      0.86      0.81       869\n",
      "           1       0.77      0.65      0.71       654\n",
      "\n",
      "    accuracy                           0.77      1523\n",
      "   macro avg       0.77      0.75      0.76      1523\n",
      "weighted avg       0.77      0.77      0.76      1523\n",
      "\n"
     ]
    }
   ],
   "source": [
    "clf = Pipeline([\n",
    "    ('vectorizer_tfidf', TfidfVectorizer()),\n",
    "    ('KNN', KNeighborsClassifier())\n",
    "])\n",
    "\n",
    "clf.fit(X_train, y_train)\n",
    "\n",
    "y_pred = clf.predict(X_test)\n",
    "\n",
    "print(classification_report(y_test, y_pred))"
   ]
  },
  {
   "cell_type": "code",
   "execution_count": 12,
   "id": "1631d7eb",
   "metadata": {
    "hidden": true
   },
   "outputs": [
    {
     "name": "stdout",
     "output_type": "stream",
     "text": [
      "F1_0_Train      0.865827\n",
      "F1_1_Train      0.799016\n",
      "F1_Avg_Train    0.832421\n",
      "F1_0_Test       0.808234\n",
      "F1_1_Test       0.705000\n",
      "F1_Avg_Test     0.756617\n",
      "Name: knn-tfidf-unb, dtype: float64\n"
     ]
    }
   ],
   "source": [
    "save_scores(clf, X_train, X_test, y_train, y_test, \"knn-tfidf-unb\")"
   ]
  },
  {
   "cell_type": "code",
   "execution_count": 13,
   "id": "d828f5a1",
   "metadata": {
    "hidden": true
   },
   "outputs": [
    {
     "data": {
      "text/html": [
       "<div>\n",
       "<style scoped>\n",
       "    .dataframe tbody tr th:only-of-type {\n",
       "        vertical-align: middle;\n",
       "    }\n",
       "\n",
       "    .dataframe tbody tr th {\n",
       "        vertical-align: top;\n",
       "    }\n",
       "\n",
       "    .dataframe thead th {\n",
       "        text-align: right;\n",
       "    }\n",
       "</style>\n",
       "<table border=\"1\" class=\"dataframe\">\n",
       "  <thead>\n",
       "    <tr style=\"text-align: right;\">\n",
       "      <th></th>\n",
       "      <th>F1_0_Train</th>\n",
       "      <th>F1_1_Train</th>\n",
       "      <th>F1_Avg_Train</th>\n",
       "      <th>F1_0_Test</th>\n",
       "      <th>F1_1_Test</th>\n",
       "      <th>F1_Avg_Test</th>\n",
       "    </tr>\n",
       "  </thead>\n",
       "  <tbody>\n",
       "    <tr>\n",
       "      <th>knn-tfidf-unb</th>\n",
       "      <td>0.865827</td>\n",
       "      <td>0.799016</td>\n",
       "      <td>0.832421</td>\n",
       "      <td>0.808234</td>\n",
       "      <td>0.705</td>\n",
       "      <td>0.756617</td>\n",
       "    </tr>\n",
       "  </tbody>\n",
       "</table>\n",
       "</div>"
      ],
      "text/plain": [
       "               F1_0_Train  F1_1_Train  F1_Avg_Train  F1_0_Test  F1_1_Test  \\\n",
       "knn-tfidf-unb    0.865827    0.799016      0.832421   0.808234      0.705   \n",
       "\n",
       "               F1_Avg_Test  \n",
       "knn-tfidf-unb     0.756617  "
      ]
     },
     "execution_count": 13,
     "metadata": {},
     "output_type": "execute_result"
    }
   ],
   "source": [
    "scores_df"
   ]
  },
  {
   "cell_type": "code",
   "execution_count": 14,
   "id": "9604b545",
   "metadata": {
    "hidden": true
   },
   "outputs": [
    {
     "name": "stdout",
     "output_type": "stream",
     "text": [
      "              precision    recall  f1-score   support\n",
      "\n",
      "           0       0.76      0.93      0.84       869\n",
      "           1       0.87      0.61      0.72       654\n",
      "\n",
      "    accuracy                           0.79      1523\n",
      "   macro avg       0.81      0.77      0.78      1523\n",
      "weighted avg       0.81      0.79      0.78      1523\n",
      "\n"
     ]
    }
   ],
   "source": [
    "# multinomial naive bayes\n",
    "\n",
    "from sklearn.naive_bayes import MultinomialNB\n",
    "\n",
    "clf = Pipeline([\n",
    "    ('vectorizer_tfidf', TfidfVectorizer()),\n",
    "    ('Multi NB', MultinomialNB())\n",
    "])\n",
    "\n",
    "clf.fit(X_train, y_train)\n",
    "\n",
    "y_pred = clf.predict(X_test)\n",
    "\n",
    "print(classification_report(y_test, y_pred))"
   ]
  },
  {
   "cell_type": "code",
   "execution_count": 15,
   "id": "0c35df2a",
   "metadata": {
    "hidden": true
   },
   "outputs": [
    {
     "name": "stdout",
     "output_type": "stream",
     "text": [
      "F1_0_Train      0.910580\n",
      "F1_1_Train      0.859256\n",
      "F1_Avg_Train    0.884918\n",
      "F1_0_Test       0.835836\n",
      "F1_1_Test       0.715695\n",
      "F1_Avg_Test     0.775766\n",
      "Name: mnb-tfidf-unb, dtype: float64\n"
     ]
    }
   ],
   "source": [
    "save_scores(clf, X_train, X_test, y_train, y_test, \"mnb-tfidf-unb\")"
   ]
  },
  {
   "cell_type": "code",
   "execution_count": 16,
   "id": "9190d84b",
   "metadata": {
    "hidden": true
   },
   "outputs": [
    {
     "name": "stdout",
     "output_type": "stream",
     "text": [
      "              precision    recall  f1-score   support\n",
      "\n",
      "           0       0.73      0.93      0.82       869\n",
      "           1       0.86      0.55      0.67       654\n",
      "\n",
      "    accuracy                           0.77      1523\n",
      "   macro avg       0.80      0.74      0.75      1523\n",
      "weighted avg       0.79      0.77      0.76      1523\n",
      "\n"
     ]
    }
   ],
   "source": [
    "# random forest\n",
    "\n",
    "from sklearn.ensemble import RandomForestClassifier\n",
    "\n",
    "clf = Pipeline([\n",
    "    ('vectorizer_tfidf', TfidfVectorizer()),\n",
    "    ('Random Forest', RandomForestClassifier())\n",
    "])\n",
    "\n",
    "clf.fit(X_train, y_train)\n",
    "\n",
    "y_pred = clf.predict(X_test)\n",
    "\n",
    "print(classification_report(y_test, y_pred))"
   ]
  },
  {
   "cell_type": "code",
   "execution_count": 17,
   "id": "4df9d4d2",
   "metadata": {
    "hidden": true
   },
   "outputs": [
    {
     "name": "stdout",
     "output_type": "stream",
     "text": [
      "F1_0_Train      0.997411\n",
      "F1_1_Train      0.996557\n",
      "F1_Avg_Train    0.996984\n",
      "F1_0_Test       0.820487\n",
      "F1_1_Test       0.670391\n",
      "F1_Avg_Test     0.745439\n",
      "Name: rf-tfidf-unb, dtype: float64\n"
     ]
    }
   ],
   "source": [
    "save_scores(clf, X_train, X_test, y_train, y_test, \"rf-tfidf-unb\")"
   ]
  },
  {
   "cell_type": "markdown",
   "id": "ad63d7c2",
   "metadata": {
    "heading_collapsed": true
   },
   "source": [
    "## No class balancing, minimal preprocessing (KNN, MNB, RF)"
   ]
  },
  {
   "cell_type": "code",
   "execution_count": 18,
   "id": "df221a9c",
   "metadata": {
    "hidden": true
   },
   "outputs": [],
   "source": [
    "# preprocessing: removing spacy stopwords and punctuation, lemmatizing\n",
    "\n",
    "import spacy\n",
    "\n",
    "nlp = spacy.load(\"en_core_web_sm\")\n",
    "\n",
    "def preprocess(text):\n",
    "    doc = nlp(text)\n",
    "    \n",
    "    filtered_tokens = []\n",
    "    \n",
    "    # take out stopwords and punctuation\n",
    "    for token in doc:\n",
    "        if token.is_stop or token.is_punct:\n",
    "            continue\n",
    "        \n",
    "        # convert to lemmas\n",
    "        filtered_tokens.append(token.lemma_)\n",
    "            \n",
    "    return \" \".join(filtered_tokens)"
   ]
  },
  {
   "cell_type": "code",
   "execution_count": 19,
   "id": "90c1e4e6",
   "metadata": {
    "hidden": true
   },
   "outputs": [],
   "source": [
    "train_df['preprocessed_txt'] = train_df['text'].apply(preprocess)"
   ]
  },
  {
   "cell_type": "code",
   "execution_count": 20,
   "id": "7486344f",
   "metadata": {
    "hidden": true
   },
   "outputs": [
    {
     "data": {
      "text/html": [
       "<div>\n",
       "<style scoped>\n",
       "    .dataframe tbody tr th:only-of-type {\n",
       "        vertical-align: middle;\n",
       "    }\n",
       "\n",
       "    .dataframe tbody tr th {\n",
       "        vertical-align: top;\n",
       "    }\n",
       "\n",
       "    .dataframe thead th {\n",
       "        text-align: right;\n",
       "    }\n",
       "</style>\n",
       "<table border=\"1\" class=\"dataframe\">\n",
       "  <thead>\n",
       "    <tr style=\"text-align: right;\">\n",
       "      <th></th>\n",
       "      <th>id</th>\n",
       "      <th>keyword</th>\n",
       "      <th>location</th>\n",
       "      <th>text</th>\n",
       "      <th>target</th>\n",
       "      <th>preprocessed_txt</th>\n",
       "    </tr>\n",
       "  </thead>\n",
       "  <tbody>\n",
       "    <tr>\n",
       "      <th>0</th>\n",
       "      <td>1</td>\n",
       "      <td>NaN</td>\n",
       "      <td>NaN</td>\n",
       "      <td>Our Deeds are the Reason of this #earthquake M...</td>\n",
       "      <td>1</td>\n",
       "      <td>deed Reason earthquake ALLAH forgive</td>\n",
       "    </tr>\n",
       "    <tr>\n",
       "      <th>1</th>\n",
       "      <td>4</td>\n",
       "      <td>NaN</td>\n",
       "      <td>NaN</td>\n",
       "      <td>Forest fire near La Ronge Sask. Canada</td>\n",
       "      <td>1</td>\n",
       "      <td>forest fire near La Ronge Sask Canada</td>\n",
       "    </tr>\n",
       "    <tr>\n",
       "      <th>2</th>\n",
       "      <td>5</td>\n",
       "      <td>NaN</td>\n",
       "      <td>NaN</td>\n",
       "      <td>All residents asked to 'shelter in place' are ...</td>\n",
       "      <td>1</td>\n",
       "      <td>resident ask shelter place notify officer evac...</td>\n",
       "    </tr>\n",
       "    <tr>\n",
       "      <th>3</th>\n",
       "      <td>6</td>\n",
       "      <td>NaN</td>\n",
       "      <td>NaN</td>\n",
       "      <td>13,000 people receive #wildfires evacuation or...</td>\n",
       "      <td>1</td>\n",
       "      <td>13,000 people receive wildfire evacuation orde...</td>\n",
       "    </tr>\n",
       "    <tr>\n",
       "      <th>4</th>\n",
       "      <td>7</td>\n",
       "      <td>NaN</td>\n",
       "      <td>NaN</td>\n",
       "      <td>Just got sent this photo from Ruby #Alaska as ...</td>\n",
       "      <td>1</td>\n",
       "      <td>got send photo Ruby Alaska smoke wildfire pour...</td>\n",
       "    </tr>\n",
       "  </tbody>\n",
       "</table>\n",
       "</div>"
      ],
      "text/plain": [
       "   id keyword location                                               text  \\\n",
       "0   1     NaN      NaN  Our Deeds are the Reason of this #earthquake M...   \n",
       "1   4     NaN      NaN             Forest fire near La Ronge Sask. Canada   \n",
       "2   5     NaN      NaN  All residents asked to 'shelter in place' are ...   \n",
       "3   6     NaN      NaN  13,000 people receive #wildfires evacuation or...   \n",
       "4   7     NaN      NaN  Just got sent this photo from Ruby #Alaska as ...   \n",
       "\n",
       "   target                                   preprocessed_txt  \n",
       "0       1               deed Reason earthquake ALLAH forgive  \n",
       "1       1              forest fire near La Ronge Sask Canada  \n",
       "2       1  resident ask shelter place notify officer evac...  \n",
       "3       1  13,000 people receive wildfire evacuation orde...  \n",
       "4       1  got send photo Ruby Alaska smoke wildfire pour...  "
      ]
     },
     "execution_count": 20,
     "metadata": {},
     "output_type": "execute_result"
    }
   ],
   "source": [
    "# check\n",
    "train_df.head()"
   ]
  },
  {
   "cell_type": "code",
   "execution_count": 21,
   "id": "3c67399a",
   "metadata": {
    "hidden": true
   },
   "outputs": [],
   "source": [
    "# tts on processed data\n",
    "\n",
    "X_train, X_test, y_train, y_test = train_test_split(\n",
    "    train_df.preprocessed_txt,\n",
    "    train_df.target,\n",
    "    test_size = 0.2,\n",
    "    random_state = 2022,\n",
    "    stratify = train_df.target)"
   ]
  },
  {
   "cell_type": "code",
   "execution_count": 22,
   "id": "0c92599d",
   "metadata": {
    "hidden": true
   },
   "outputs": [
    {
     "name": "stdout",
     "output_type": "stream",
     "text": [
      "              precision    recall  f1-score   support\n",
      "\n",
      "           0       0.76      0.86      0.81       869\n",
      "           1       0.77      0.63      0.70       654\n",
      "\n",
      "    accuracy                           0.76      1523\n",
      "   macro avg       0.77      0.75      0.75      1523\n",
      "weighted avg       0.76      0.76      0.76      1523\n",
      "\n"
     ]
    }
   ],
   "source": [
    "# knn on preprocessed data\n",
    "clf = Pipeline([\n",
    "    ('vectorizer_tfidf', TfidfVectorizer()),\n",
    "    ('KNN', KNeighborsClassifier())\n",
    "])\n",
    "\n",
    "clf.fit(X_train, y_train)\n",
    "\n",
    "y_pred = clf.predict(X_test)\n",
    "\n",
    "print(classification_report(y_test, y_pred))"
   ]
  },
  {
   "cell_type": "code",
   "execution_count": 23,
   "id": "40caf7a9",
   "metadata": {
    "hidden": true
   },
   "outputs": [
    {
     "name": "stdout",
     "output_type": "stream",
     "text": [
      "F1_0_Train      0.865442\n",
      "F1_1_Train      0.791545\n",
      "F1_Avg_Train    0.828493\n",
      "F1_0_Test       0.805391\n",
      "F1_1_Test       0.696893\n",
      "F1_Avg_Test     0.751142\n",
      "Name: knn-tfidf-unb-prep, dtype: float64\n"
     ]
    }
   ],
   "source": [
    "save_scores(clf, X_train, X_test, y_train, y_test, \"knn-tfidf-unb-prep\")"
   ]
  },
  {
   "cell_type": "code",
   "execution_count": 24,
   "id": "4252b8da",
   "metadata": {
    "hidden": true
   },
   "outputs": [
    {
     "name": "stdout",
     "output_type": "stream",
     "text": [
      "              precision    recall  f1-score   support\n",
      "\n",
      "           0       0.78      0.91      0.84       869\n",
      "           1       0.84      0.65      0.73       654\n",
      "\n",
      "    accuracy                           0.80      1523\n",
      "   macro avg       0.81      0.78      0.78      1523\n",
      "weighted avg       0.80      0.80      0.79      1523\n",
      "\n"
     ]
    }
   ],
   "source": [
    "# multinomial naive bayes on preprocessed text\n",
    "\n",
    "clf = Pipeline([\n",
    "    ('vectorizer_tfidf', TfidfVectorizer()),\n",
    "    ('Multi NB', MultinomialNB())\n",
    "])\n",
    "\n",
    "clf.fit(X_train, y_train)\n",
    "\n",
    "y_pred = clf.predict(X_test)\n",
    "\n",
    "print(classification_report(y_test, y_pred))"
   ]
  },
  {
   "cell_type": "code",
   "execution_count": 25,
   "id": "f260cd4a",
   "metadata": {
    "hidden": true
   },
   "outputs": [
    {
     "name": "stdout",
     "output_type": "stream",
     "text": [
      "F1_0_Train      0.926736\n",
      "F1_1_Train      0.889803\n",
      "F1_Avg_Train    0.908269\n",
      "F1_0_Test       0.836074\n",
      "F1_1_Test       0.733850\n",
      "F1_Avg_Test     0.784962\n",
      "Name: mnb-tfidf-unb-prep, dtype: float64\n"
     ]
    }
   ],
   "source": [
    "save_scores(clf, X_train, X_test, y_train, y_test, \"mnb-tfidf-unb-prep\")"
   ]
  },
  {
   "cell_type": "code",
   "execution_count": 26,
   "id": "1a3cccb6",
   "metadata": {
    "hidden": true
   },
   "outputs": [
    {
     "name": "stdout",
     "output_type": "stream",
     "text": [
      "              precision    recall  f1-score   support\n",
      "\n",
      "           0       0.74      0.91      0.82       869\n",
      "           1       0.84      0.58      0.69       654\n",
      "\n",
      "    accuracy                           0.77      1523\n",
      "   macro avg       0.79      0.75      0.75      1523\n",
      "weighted avg       0.78      0.77      0.76      1523\n",
      "\n"
     ]
    }
   ],
   "source": [
    "# random forest on preprocessed text\n",
    "\n",
    "clf = Pipeline([\n",
    "    ('vectorizer_tfidf', TfidfVectorizer()),\n",
    "    ('Random Forest', RandomForestClassifier())\n",
    "])\n",
    "\n",
    "clf.fit(X_train, y_train)\n",
    "\n",
    "y_pred = clf.predict(X_test)\n",
    "\n",
    "print(classification_report(y_test, y_pred))"
   ]
  },
  {
   "cell_type": "code",
   "execution_count": 27,
   "id": "b286be4c",
   "metadata": {
    "hidden": true
   },
   "outputs": [
    {
     "name": "stdout",
     "output_type": "stream",
     "text": [
      "F1_0_Train      0.997554\n",
      "F1_1_Train      0.996749\n",
      "F1_Avg_Train    0.997152\n",
      "F1_0_Test       0.819824\n",
      "F1_1_Test       0.685302\n",
      "F1_Avg_Test     0.752563\n",
      "Name: rf-tfidf-unb-prep, dtype: float64\n"
     ]
    }
   ],
   "source": [
    "save_scores(clf, X_train, X_test, y_train, y_test, \"rf-tfidf-unb-prep\")"
   ]
  },
  {
   "cell_type": "code",
   "execution_count": 28,
   "id": "b67c5204",
   "metadata": {
    "hidden": true
   },
   "outputs": [
    {
     "data": {
      "text/html": [
       "<div>\n",
       "<style scoped>\n",
       "    .dataframe tbody tr th:only-of-type {\n",
       "        vertical-align: middle;\n",
       "    }\n",
       "\n",
       "    .dataframe tbody tr th {\n",
       "        vertical-align: top;\n",
       "    }\n",
       "\n",
       "    .dataframe thead th {\n",
       "        text-align: right;\n",
       "    }\n",
       "</style>\n",
       "<table border=\"1\" class=\"dataframe\">\n",
       "  <thead>\n",
       "    <tr style=\"text-align: right;\">\n",
       "      <th></th>\n",
       "      <th>F1_0_Train</th>\n",
       "      <th>F1_1_Train</th>\n",
       "      <th>F1_Avg_Train</th>\n",
       "      <th>F1_0_Test</th>\n",
       "      <th>F1_1_Test</th>\n",
       "      <th>F1_Avg_Test</th>\n",
       "    </tr>\n",
       "  </thead>\n",
       "  <tbody>\n",
       "    <tr>\n",
       "      <th>mnb-tfidf-unb-prep</th>\n",
       "      <td>0.926736</td>\n",
       "      <td>0.889803</td>\n",
       "      <td>0.908269</td>\n",
       "      <td>0.836074</td>\n",
       "      <td>0.733850</td>\n",
       "      <td>0.784962</td>\n",
       "    </tr>\n",
       "    <tr>\n",
       "      <th>mnb-tfidf-unb</th>\n",
       "      <td>0.910580</td>\n",
       "      <td>0.859256</td>\n",
       "      <td>0.884918</td>\n",
       "      <td>0.835836</td>\n",
       "      <td>0.715695</td>\n",
       "      <td>0.775766</td>\n",
       "    </tr>\n",
       "    <tr>\n",
       "      <th>knn-tfidf-unb</th>\n",
       "      <td>0.865827</td>\n",
       "      <td>0.799016</td>\n",
       "      <td>0.832421</td>\n",
       "      <td>0.808234</td>\n",
       "      <td>0.705000</td>\n",
       "      <td>0.756617</td>\n",
       "    </tr>\n",
       "    <tr>\n",
       "      <th>rf-tfidf-unb-prep</th>\n",
       "      <td>0.997554</td>\n",
       "      <td>0.996749</td>\n",
       "      <td>0.997152</td>\n",
       "      <td>0.819824</td>\n",
       "      <td>0.685302</td>\n",
       "      <td>0.752563</td>\n",
       "    </tr>\n",
       "    <tr>\n",
       "      <th>knn-tfidf-unb-prep</th>\n",
       "      <td>0.865442</td>\n",
       "      <td>0.791545</td>\n",
       "      <td>0.828493</td>\n",
       "      <td>0.805391</td>\n",
       "      <td>0.696893</td>\n",
       "      <td>0.751142</td>\n",
       "    </tr>\n",
       "    <tr>\n",
       "      <th>rf-tfidf-unb</th>\n",
       "      <td>0.997411</td>\n",
       "      <td>0.996557</td>\n",
       "      <td>0.996984</td>\n",
       "      <td>0.820487</td>\n",
       "      <td>0.670391</td>\n",
       "      <td>0.745439</td>\n",
       "    </tr>\n",
       "  </tbody>\n",
       "</table>\n",
       "</div>"
      ],
      "text/plain": [
       "                    F1_0_Train  F1_1_Train  F1_Avg_Train  F1_0_Test  \\\n",
       "mnb-tfidf-unb-prep    0.926736    0.889803      0.908269   0.836074   \n",
       "mnb-tfidf-unb         0.910580    0.859256      0.884918   0.835836   \n",
       "knn-tfidf-unb         0.865827    0.799016      0.832421   0.808234   \n",
       "rf-tfidf-unb-prep     0.997554    0.996749      0.997152   0.819824   \n",
       "knn-tfidf-unb-prep    0.865442    0.791545      0.828493   0.805391   \n",
       "rf-tfidf-unb          0.997411    0.996557      0.996984   0.820487   \n",
       "\n",
       "                    F1_1_Test  F1_Avg_Test  \n",
       "mnb-tfidf-unb-prep   0.733850     0.784962  \n",
       "mnb-tfidf-unb        0.715695     0.775766  \n",
       "knn-tfidf-unb        0.705000     0.756617  \n",
       "rf-tfidf-unb-prep    0.685302     0.752563  \n",
       "knn-tfidf-unb-prep   0.696893     0.751142  \n",
       "rf-tfidf-unb         0.670391     0.745439  "
      ]
     },
     "execution_count": 28,
     "metadata": {},
     "output_type": "execute_result"
    }
   ],
   "source": [
    "scores_df.sort_values(by = 'F1_Avg_Test', ascending = False)"
   ]
  },
  {
   "cell_type": "markdown",
   "id": "fd9c8343",
   "metadata": {},
   "source": [
    "## Class balancing, minimal preprocessing (KNN, MNB, RF)"
   ]
  },
  {
   "cell_type": "code",
   "execution_count": 30,
   "id": "3fb16da3",
   "metadata": {},
   "outputs": [],
   "source": [
    "# class_weight param\n",
    "# knn: none\n",
    "# mnb: fit_prior = False\n",
    "# rf: class_weight = 'balanced'"
   ]
  },
  {
   "cell_type": "code",
   "execution_count": 31,
   "id": "c7143195",
   "metadata": {},
   "outputs": [],
   "source": [
    "# use class_weight param (if avail) WITH other\n",
    "# sampling techniques"
   ]
  },
  {
   "cell_type": "markdown",
   "id": "60c12e40",
   "metadata": {},
   "source": [
    "### Undersampling & class_weight"
   ]
  },
  {
   "cell_type": "code",
   "execution_count": 32,
   "id": "fad0c72e",
   "metadata": {},
   "outputs": [],
   "source": [
    "from imblearn.pipeline import make_pipeline as resample_pipeline\n",
    "from imblearn.under_sampling import RandomUnderSampler"
   ]
  },
  {
   "cell_type": "code",
   "execution_count": 33,
   "id": "664b855c",
   "metadata": {},
   "outputs": [],
   "source": [
    "X_train, X_test, y_train, y_test = train_test_split(\n",
    "    train_df.preprocessed_txt,\n",
    "    train_df.target,\n",
    "    test_size = 0.2,\n",
    "    random_state = 2022,\n",
    "    stratify = train_df.target)"
   ]
  },
  {
   "cell_type": "code",
   "execution_count": 34,
   "id": "9d410f80",
   "metadata": {},
   "outputs": [
    {
     "name": "stdout",
     "output_type": "stream",
     "text": [
      "F1_0_Train      0.850883\n",
      "F1_1_Train      0.793340\n",
      "F1_Avg_Train    0.822112\n",
      "F1_0_Test       0.786238\n",
      "F1_1_Test       0.702278\n",
      "F1_Avg_Test     0.744258\n",
      "Name: knn-tfidf-under-prep, dtype: float64\n"
     ]
    }
   ],
   "source": [
    "# undersampled knn on preprocessed data\n",
    "clf = resample_pipeline(TfidfVectorizer(),\n",
    "                              RandomUnderSampler(),\n",
    "                              KNeighborsClassifier())\n",
    "\n",
    "clf.fit(X_train, y_train)\n",
    "\n",
    "save_scores(clf, X_train, X_test, y_train, y_test, \"knn-tfidf-under-prep\")"
   ]
  },
  {
   "cell_type": "code",
   "execution_count": 35,
   "id": "ea6c8ed7",
   "metadata": {},
   "outputs": [
    {
     "name": "stdout",
     "output_type": "stream",
     "text": [
      "F1_0_Train      0.919994\n",
      "F1_1_Train      0.895900\n",
      "F1_Avg_Train    0.907947\n",
      "F1_0_Test       0.793184\n",
      "F1_1_Test       0.738095\n",
      "F1_Avg_Test     0.765640\n",
      "Name: mnb-tfidf-under-prep, dtype: float64\n"
     ]
    }
   ],
   "source": [
    "# undersampled, balanced mnb on preprocessed text\n",
    "\n",
    "clf = resample_pipeline(TfidfVectorizer(),\n",
    "                        RandomUnderSampler(),\n",
    "                        MultinomialNB(fit_prior = False))\n",
    "\n",
    "clf.fit(X_train, y_train)\n",
    "\n",
    "save_scores(clf, X_train, X_test, y_train, y_test, \"mnb-tfidf-under-prep\")"
   ]
  },
  {
   "cell_type": "code",
   "execution_count": 36,
   "id": "a4e76bd9",
   "metadata": {},
   "outputs": [
    {
     "name": "stdout",
     "output_type": "stream",
     "text": [
      "F1_0_Train      0.979029\n",
      "F1_1_Train      0.973326\n",
      "F1_Avg_Train    0.976178\n",
      "F1_0_Test       0.815176\n",
      "F1_1_Test       0.716070\n",
      "F1_Avg_Test     0.765623\n",
      "Name: rf-tfidf-under-prep, dtype: float64\n"
     ]
    }
   ],
   "source": [
    "# random forest on preprocessed text\n",
    "\n",
    "clf = resample_pipeline(TfidfVectorizer(),\n",
    "                        RandomUnderSampler(),\n",
    "                        RandomForestClassifier(class_weight = 'balanced'))\n",
    "\n",
    "clf.fit(X_train, y_train)\n",
    "\n",
    "save_scores(clf, X_train, X_test, y_train, y_test, \"rf-tfidf-under-prep\")"
   ]
  },
  {
   "cell_type": "code",
   "execution_count": 37,
   "id": "8b8eac63",
   "metadata": {},
   "outputs": [
    {
     "data": {
      "text/html": [
       "<div>\n",
       "<style scoped>\n",
       "    .dataframe tbody tr th:only-of-type {\n",
       "        vertical-align: middle;\n",
       "    }\n",
       "\n",
       "    .dataframe tbody tr th {\n",
       "        vertical-align: top;\n",
       "    }\n",
       "\n",
       "    .dataframe thead th {\n",
       "        text-align: right;\n",
       "    }\n",
       "</style>\n",
       "<table border=\"1\" class=\"dataframe\">\n",
       "  <thead>\n",
       "    <tr style=\"text-align: right;\">\n",
       "      <th></th>\n",
       "      <th>F1_0_Train</th>\n",
       "      <th>F1_1_Train</th>\n",
       "      <th>F1_Avg_Train</th>\n",
       "      <th>F1_0_Test</th>\n",
       "      <th>F1_1_Test</th>\n",
       "      <th>F1_Avg_Test</th>\n",
       "    </tr>\n",
       "  </thead>\n",
       "  <tbody>\n",
       "    <tr>\n",
       "      <th>mnb-tfidf-unb-prep</th>\n",
       "      <td>0.926736</td>\n",
       "      <td>0.889803</td>\n",
       "      <td>0.908269</td>\n",
       "      <td>0.836074</td>\n",
       "      <td>0.733850</td>\n",
       "      <td>0.784962</td>\n",
       "    </tr>\n",
       "    <tr>\n",
       "      <th>mnb-tfidf-unb</th>\n",
       "      <td>0.910580</td>\n",
       "      <td>0.859256</td>\n",
       "      <td>0.884918</td>\n",
       "      <td>0.835836</td>\n",
       "      <td>0.715695</td>\n",
       "      <td>0.775766</td>\n",
       "    </tr>\n",
       "    <tr>\n",
       "      <th>mnb-tfidf-under-prep</th>\n",
       "      <td>0.919994</td>\n",
       "      <td>0.895900</td>\n",
       "      <td>0.907947</td>\n",
       "      <td>0.793184</td>\n",
       "      <td>0.738095</td>\n",
       "      <td>0.765640</td>\n",
       "    </tr>\n",
       "    <tr>\n",
       "      <th>rf-tfidf-under-prep</th>\n",
       "      <td>0.979029</td>\n",
       "      <td>0.973326</td>\n",
       "      <td>0.976178</td>\n",
       "      <td>0.815176</td>\n",
       "      <td>0.716070</td>\n",
       "      <td>0.765623</td>\n",
       "    </tr>\n",
       "    <tr>\n",
       "      <th>knn-tfidf-unb</th>\n",
       "      <td>0.865827</td>\n",
       "      <td>0.799016</td>\n",
       "      <td>0.832421</td>\n",
       "      <td>0.808234</td>\n",
       "      <td>0.705000</td>\n",
       "      <td>0.756617</td>\n",
       "    </tr>\n",
       "    <tr>\n",
       "      <th>rf-tfidf-unb-prep</th>\n",
       "      <td>0.997554</td>\n",
       "      <td>0.996749</td>\n",
       "      <td>0.997152</td>\n",
       "      <td>0.819824</td>\n",
       "      <td>0.685302</td>\n",
       "      <td>0.752563</td>\n",
       "    </tr>\n",
       "    <tr>\n",
       "      <th>knn-tfidf-unb-prep</th>\n",
       "      <td>0.865442</td>\n",
       "      <td>0.791545</td>\n",
       "      <td>0.828493</td>\n",
       "      <td>0.805391</td>\n",
       "      <td>0.696893</td>\n",
       "      <td>0.751142</td>\n",
       "    </tr>\n",
       "    <tr>\n",
       "      <th>rf-tfidf-unb</th>\n",
       "      <td>0.997411</td>\n",
       "      <td>0.996557</td>\n",
       "      <td>0.996984</td>\n",
       "      <td>0.820487</td>\n",
       "      <td>0.670391</td>\n",
       "      <td>0.745439</td>\n",
       "    </tr>\n",
       "    <tr>\n",
       "      <th>knn-tfidf-under-prep</th>\n",
       "      <td>0.850883</td>\n",
       "      <td>0.793340</td>\n",
       "      <td>0.822112</td>\n",
       "      <td>0.786238</td>\n",
       "      <td>0.702278</td>\n",
       "      <td>0.744258</td>\n",
       "    </tr>\n",
       "  </tbody>\n",
       "</table>\n",
       "</div>"
      ],
      "text/plain": [
       "                      F1_0_Train  F1_1_Train  F1_Avg_Train  F1_0_Test  \\\n",
       "mnb-tfidf-unb-prep      0.926736    0.889803      0.908269   0.836074   \n",
       "mnb-tfidf-unb           0.910580    0.859256      0.884918   0.835836   \n",
       "mnb-tfidf-under-prep    0.919994    0.895900      0.907947   0.793184   \n",
       "rf-tfidf-under-prep     0.979029    0.973326      0.976178   0.815176   \n",
       "knn-tfidf-unb           0.865827    0.799016      0.832421   0.808234   \n",
       "rf-tfidf-unb-prep       0.997554    0.996749      0.997152   0.819824   \n",
       "knn-tfidf-unb-prep      0.865442    0.791545      0.828493   0.805391   \n",
       "rf-tfidf-unb            0.997411    0.996557      0.996984   0.820487   \n",
       "knn-tfidf-under-prep    0.850883    0.793340      0.822112   0.786238   \n",
       "\n",
       "                      F1_1_Test  F1_Avg_Test  \n",
       "mnb-tfidf-unb-prep     0.733850     0.784962  \n",
       "mnb-tfidf-unb          0.715695     0.775766  \n",
       "mnb-tfidf-under-prep   0.738095     0.765640  \n",
       "rf-tfidf-under-prep    0.716070     0.765623  \n",
       "knn-tfidf-unb          0.705000     0.756617  \n",
       "rf-tfidf-unb-prep      0.685302     0.752563  \n",
       "knn-tfidf-unb-prep     0.696893     0.751142  \n",
       "rf-tfidf-unb           0.670391     0.745439  \n",
       "knn-tfidf-under-prep   0.702278     0.744258  "
      ]
     },
     "execution_count": 37,
     "metadata": {},
     "output_type": "execute_result"
    }
   ],
   "source": [
    "scores_df.sort_values(by = 'F1_Avg_Test', ascending = False)"
   ]
  },
  {
   "cell_type": "markdown",
   "id": "a6b1ba29",
   "metadata": {
    "heading_collapsed": true
   },
   "source": [
    "### Oversampling and class_weight"
   ]
  },
  {
   "cell_type": "code",
   "execution_count": 38,
   "id": "f11ea994",
   "metadata": {
    "hidden": true
   },
   "outputs": [],
   "source": [
    "from imblearn.over_sampling import RandomOverSampler"
   ]
  },
  {
   "cell_type": "code",
   "execution_count": 39,
   "id": "7b3220d2",
   "metadata": {
    "hidden": true
   },
   "outputs": [],
   "source": [
    "X_train, X_test, y_train, y_test = train_test_split(\n",
    "    train_df.preprocessed_txt,\n",
    "    train_df.target,\n",
    "    test_size = 0.2,\n",
    "    random_state = 2022,\n",
    "    stratify = train_df.target)"
   ]
  },
  {
   "cell_type": "code",
   "execution_count": 40,
   "id": "a6fb8598",
   "metadata": {
    "hidden": true
   },
   "outputs": [
    {
     "name": "stdout",
     "output_type": "stream",
     "text": [
      "F1_0_Train      0.857910\n",
      "F1_1_Train      0.803211\n",
      "F1_Avg_Train    0.830561\n",
      "F1_0_Test       0.783982\n",
      "F1_1_Test       0.699136\n",
      "F1_Avg_Test     0.741559\n",
      "Name: knn-tfidf-over-prep, dtype: float64\n"
     ]
    }
   ],
   "source": [
    "# oversampled knn on preprocessed data\n",
    "clf = resample_pipeline(TfidfVectorizer(),\n",
    "                        RandomOverSampler(),\n",
    "                        KNeighborsClassifier())\n",
    "\n",
    "clf.fit(X_train, y_train)\n",
    "\n",
    "save_scores(clf, X_train, X_test, y_train, y_test, \"knn-tfidf-over-prep\")"
   ]
  },
  {
   "cell_type": "code",
   "execution_count": 41,
   "id": "1385bb80",
   "metadata": {
    "hidden": true
   },
   "outputs": [
    {
     "name": "stdout",
     "output_type": "stream",
     "text": [
      "F1_0_Train      0.935604\n",
      "F1_1_Train      0.913328\n",
      "F1_Avg_Train    0.924466\n",
      "F1_0_Test       0.792803\n",
      "F1_1_Test       0.730159\n",
      "F1_Avg_Test     0.761481\n",
      "Name: mnb-tfidf-over-prep, dtype: float64\n"
     ]
    }
   ],
   "source": [
    "# oversampled, balanced mnb on preprocessed text\n",
    "\n",
    "clf = resample_pipeline(TfidfVectorizer(),\n",
    "                        RandomOverSampler(),\n",
    "                        MultinomialNB(fit_prior = False))\n",
    "\n",
    "clf.fit(X_train, y_train)\n",
    "\n",
    "save_scores(clf, X_train, X_test, y_train, y_test, \"mnb-tfidf-over-prep\")"
   ]
  },
  {
   "cell_type": "code",
   "execution_count": 42,
   "id": "605a1a9c",
   "metadata": {
    "hidden": true
   },
   "outputs": [
    {
     "name": "stdout",
     "output_type": "stream",
     "text": [
      "F1_0_Train      0.997553\n",
      "F1_1_Train      0.996751\n",
      "F1_Avg_Train    0.997152\n",
      "F1_0_Test       0.818182\n",
      "F1_1_Test       0.692580\n",
      "F1_Avg_Test     0.755381\n",
      "Name: rf-tfidf-over-prep, dtype: float64\n"
     ]
    }
   ],
   "source": [
    "# oversampled random forest on preprocessed text\n",
    "\n",
    "clf = resample_pipeline(TfidfVectorizer(),\n",
    "                        RandomOverSampler(),\n",
    "                        RandomForestClassifier(class_weight = 'balanced'))\n",
    "\n",
    "clf.fit(X_train, y_train)\n",
    "\n",
    "save_scores(clf, X_train, X_test, y_train, y_test, \"rf-tfidf-over-prep\")"
   ]
  },
  {
   "cell_type": "code",
   "execution_count": 43,
   "id": "a8d266da",
   "metadata": {
    "hidden": true
   },
   "outputs": [
    {
     "data": {
      "text/html": [
       "<div>\n",
       "<style scoped>\n",
       "    .dataframe tbody tr th:only-of-type {\n",
       "        vertical-align: middle;\n",
       "    }\n",
       "\n",
       "    .dataframe tbody tr th {\n",
       "        vertical-align: top;\n",
       "    }\n",
       "\n",
       "    .dataframe thead th {\n",
       "        text-align: right;\n",
       "    }\n",
       "</style>\n",
       "<table border=\"1\" class=\"dataframe\">\n",
       "  <thead>\n",
       "    <tr style=\"text-align: right;\">\n",
       "      <th></th>\n",
       "      <th>F1_0_Train</th>\n",
       "      <th>F1_1_Train</th>\n",
       "      <th>F1_Avg_Train</th>\n",
       "      <th>F1_0_Test</th>\n",
       "      <th>F1_1_Test</th>\n",
       "      <th>F1_Avg_Test</th>\n",
       "    </tr>\n",
       "  </thead>\n",
       "  <tbody>\n",
       "    <tr>\n",
       "      <th>mnb-tfidf-unb-prep</th>\n",
       "      <td>0.926736</td>\n",
       "      <td>0.889803</td>\n",
       "      <td>0.908269</td>\n",
       "      <td>0.836074</td>\n",
       "      <td>0.733850</td>\n",
       "      <td>0.784962</td>\n",
       "    </tr>\n",
       "    <tr>\n",
       "      <th>mnb-tfidf-unb</th>\n",
       "      <td>0.910580</td>\n",
       "      <td>0.859256</td>\n",
       "      <td>0.884918</td>\n",
       "      <td>0.835836</td>\n",
       "      <td>0.715695</td>\n",
       "      <td>0.775766</td>\n",
       "    </tr>\n",
       "    <tr>\n",
       "      <th>mnb-tfidf-under-prep</th>\n",
       "      <td>0.919994</td>\n",
       "      <td>0.895900</td>\n",
       "      <td>0.907947</td>\n",
       "      <td>0.793184</td>\n",
       "      <td>0.738095</td>\n",
       "      <td>0.765640</td>\n",
       "    </tr>\n",
       "    <tr>\n",
       "      <th>rf-tfidf-under-prep</th>\n",
       "      <td>0.979029</td>\n",
       "      <td>0.973326</td>\n",
       "      <td>0.976178</td>\n",
       "      <td>0.815176</td>\n",
       "      <td>0.716070</td>\n",
       "      <td>0.765623</td>\n",
       "    </tr>\n",
       "    <tr>\n",
       "      <th>mnb-tfidf-over-prep</th>\n",
       "      <td>0.935604</td>\n",
       "      <td>0.913328</td>\n",
       "      <td>0.924466</td>\n",
       "      <td>0.792803</td>\n",
       "      <td>0.730159</td>\n",
       "      <td>0.761481</td>\n",
       "    </tr>\n",
       "    <tr>\n",
       "      <th>knn-tfidf-unb</th>\n",
       "      <td>0.865827</td>\n",
       "      <td>0.799016</td>\n",
       "      <td>0.832421</td>\n",
       "      <td>0.808234</td>\n",
       "      <td>0.705000</td>\n",
       "      <td>0.756617</td>\n",
       "    </tr>\n",
       "    <tr>\n",
       "      <th>rf-tfidf-over-prep</th>\n",
       "      <td>0.997553</td>\n",
       "      <td>0.996751</td>\n",
       "      <td>0.997152</td>\n",
       "      <td>0.818182</td>\n",
       "      <td>0.692580</td>\n",
       "      <td>0.755381</td>\n",
       "    </tr>\n",
       "    <tr>\n",
       "      <th>rf-tfidf-unb-prep</th>\n",
       "      <td>0.997554</td>\n",
       "      <td>0.996749</td>\n",
       "      <td>0.997152</td>\n",
       "      <td>0.819824</td>\n",
       "      <td>0.685302</td>\n",
       "      <td>0.752563</td>\n",
       "    </tr>\n",
       "    <tr>\n",
       "      <th>knn-tfidf-unb-prep</th>\n",
       "      <td>0.865442</td>\n",
       "      <td>0.791545</td>\n",
       "      <td>0.828493</td>\n",
       "      <td>0.805391</td>\n",
       "      <td>0.696893</td>\n",
       "      <td>0.751142</td>\n",
       "    </tr>\n",
       "    <tr>\n",
       "      <th>rf-tfidf-unb</th>\n",
       "      <td>0.997411</td>\n",
       "      <td>0.996557</td>\n",
       "      <td>0.996984</td>\n",
       "      <td>0.820487</td>\n",
       "      <td>0.670391</td>\n",
       "      <td>0.745439</td>\n",
       "    </tr>\n",
       "    <tr>\n",
       "      <th>knn-tfidf-under-prep</th>\n",
       "      <td>0.850883</td>\n",
       "      <td>0.793340</td>\n",
       "      <td>0.822112</td>\n",
       "      <td>0.786238</td>\n",
       "      <td>0.702278</td>\n",
       "      <td>0.744258</td>\n",
       "    </tr>\n",
       "    <tr>\n",
       "      <th>knn-tfidf-over-prep</th>\n",
       "      <td>0.857910</td>\n",
       "      <td>0.803211</td>\n",
       "      <td>0.830561</td>\n",
       "      <td>0.783982</td>\n",
       "      <td>0.699136</td>\n",
       "      <td>0.741559</td>\n",
       "    </tr>\n",
       "  </tbody>\n",
       "</table>\n",
       "</div>"
      ],
      "text/plain": [
       "                      F1_0_Train  F1_1_Train  F1_Avg_Train  F1_0_Test  \\\n",
       "mnb-tfidf-unb-prep      0.926736    0.889803      0.908269   0.836074   \n",
       "mnb-tfidf-unb           0.910580    0.859256      0.884918   0.835836   \n",
       "mnb-tfidf-under-prep    0.919994    0.895900      0.907947   0.793184   \n",
       "rf-tfidf-under-prep     0.979029    0.973326      0.976178   0.815176   \n",
       "mnb-tfidf-over-prep     0.935604    0.913328      0.924466   0.792803   \n",
       "knn-tfidf-unb           0.865827    0.799016      0.832421   0.808234   \n",
       "rf-tfidf-over-prep      0.997553    0.996751      0.997152   0.818182   \n",
       "rf-tfidf-unb-prep       0.997554    0.996749      0.997152   0.819824   \n",
       "knn-tfidf-unb-prep      0.865442    0.791545      0.828493   0.805391   \n",
       "rf-tfidf-unb            0.997411    0.996557      0.996984   0.820487   \n",
       "knn-tfidf-under-prep    0.850883    0.793340      0.822112   0.786238   \n",
       "knn-tfidf-over-prep     0.857910    0.803211      0.830561   0.783982   \n",
       "\n",
       "                      F1_1_Test  F1_Avg_Test  \n",
       "mnb-tfidf-unb-prep     0.733850     0.784962  \n",
       "mnb-tfidf-unb          0.715695     0.775766  \n",
       "mnb-tfidf-under-prep   0.738095     0.765640  \n",
       "rf-tfidf-under-prep    0.716070     0.765623  \n",
       "mnb-tfidf-over-prep    0.730159     0.761481  \n",
       "knn-tfidf-unb          0.705000     0.756617  \n",
       "rf-tfidf-over-prep     0.692580     0.755381  \n",
       "rf-tfidf-unb-prep      0.685302     0.752563  \n",
       "knn-tfidf-unb-prep     0.696893     0.751142  \n",
       "rf-tfidf-unb           0.670391     0.745439  \n",
       "knn-tfidf-under-prep   0.702278     0.744258  \n",
       "knn-tfidf-over-prep    0.699136     0.741559  "
      ]
     },
     "execution_count": 43,
     "metadata": {},
     "output_type": "execute_result"
    }
   ],
   "source": [
    "scores_df.sort_values(by = 'F1_Avg_Test', ascending = False)"
   ]
  },
  {
   "cell_type": "markdown",
   "id": "17b03b2f",
   "metadata": {
    "heading_collapsed": true
   },
   "source": [
    "### SMOTE and class_weight"
   ]
  },
  {
   "cell_type": "code",
   "execution_count": 44,
   "id": "a18ceb23",
   "metadata": {
    "hidden": true
   },
   "outputs": [],
   "source": [
    "from imblearn.over_sampling import SMOTE"
   ]
  },
  {
   "cell_type": "code",
   "execution_count": 45,
   "id": "f83f913c",
   "metadata": {
    "hidden": true
   },
   "outputs": [],
   "source": [
    "X_train, X_test, y_train, y_test = train_test_split(\n",
    "    train_df.preprocessed_txt,\n",
    "    train_df.target,\n",
    "    test_size = 0.2,\n",
    "    random_state = 2022,\n",
    "    stratify = train_df.target)"
   ]
  },
  {
   "cell_type": "code",
   "execution_count": 46,
   "id": "021a7dbd",
   "metadata": {
    "hidden": true
   },
   "outputs": [
    {
     "name": "stdout",
     "output_type": "stream",
     "text": [
      "F1_0_Train      0.448329\n",
      "F1_1_Train      0.667894\n",
      "F1_Avg_Train    0.558111\n",
      "F1_0_Test       0.413913\n",
      "F1_1_Test       0.644515\n",
      "F1_Avg_Test     0.529214\n",
      "Name: knn-tfidf-smote-prep, dtype: float64\n"
     ]
    }
   ],
   "source": [
    "# smote knn on preprocessed data\n",
    "clf = resample_pipeline(TfidfVectorizer(),\n",
    "                        SMOTE(),\n",
    "                        KNeighborsClassifier())\n",
    "\n",
    "clf.fit(X_train, y_train)\n",
    "\n",
    "save_scores(clf, X_train, X_test, y_train, y_test, \"knn-tfidf-smote-prep\")"
   ]
  },
  {
   "cell_type": "code",
   "execution_count": 47,
   "id": "979d40e5",
   "metadata": {
    "hidden": true
   },
   "outputs": [
    {
     "name": "stdout",
     "output_type": "stream",
     "text": [
      "F1_0_Train      0.932492\n",
      "F1_1_Train      0.909475\n",
      "F1_Avg_Train    0.920984\n",
      "F1_0_Test       0.799768\n",
      "F1_1_Test       0.739229\n",
      "F1_Avg_Test     0.769498\n",
      "Name: mnb-tfidf-smote-prep, dtype: float64\n"
     ]
    }
   ],
   "source": [
    "# smote, balanced mnb on preprocessed text\n",
    "\n",
    "clf = resample_pipeline(TfidfVectorizer(),\n",
    "                        SMOTE(),\n",
    "                        MultinomialNB(fit_prior = False))\n",
    "\n",
    "clf.fit(X_train, y_train)\n",
    "\n",
    "save_scores(clf, X_train, X_test, y_train, y_test, \"mnb-tfidf-smote-prep\")"
   ]
  },
  {
   "cell_type": "code",
   "execution_count": 48,
   "id": "847f79de",
   "metadata": {
    "hidden": true
   },
   "outputs": [
    {
     "name": "stdout",
     "output_type": "stream",
     "text": [
      "F1_0_Train      0.934593\n",
      "F1_1_Train      0.911997\n",
      "F1_Avg_Train    0.923295\n",
      "F1_0_Test       0.803458\n",
      "F1_1_Test       0.739893\n",
      "F1_Avg_Test     0.771676\n",
      "Name: mnb-tfidf-smote-def-prep, dtype: float64\n"
     ]
    }
   ],
   "source": [
    "# smote, default mnb on preprocessed text\n",
    "\n",
    "clf = resample_pipeline(TfidfVectorizer(),\n",
    "                        SMOTE(),\n",
    "                        MultinomialNB())\n",
    "\n",
    "clf.fit(X_train, y_train)\n",
    "\n",
    "save_scores(clf, X_train, X_test, y_train, y_test, \"mnb-tfidf-smote-def-prep\")"
   ]
  },
  {
   "cell_type": "code",
   "execution_count": 49,
   "id": "c8998ab5",
   "metadata": {
    "hidden": true
   },
   "outputs": [
    {
     "name": "stdout",
     "output_type": "stream",
     "text": [
      "F1_0_Train      0.997554\n",
      "F1_1_Train      0.996749\n",
      "F1_Avg_Train    0.997152\n",
      "F1_0_Test       0.822917\n",
      "F1_1_Test       0.698046\n",
      "F1_Avg_Test     0.760481\n",
      "Name: rf-tfidf-smote-prep, dtype: float64\n"
     ]
    }
   ],
   "source": [
    "# smote random forest on preprocessed text\n",
    "\n",
    "clf = resample_pipeline(TfidfVectorizer(),\n",
    "                        SMOTE(),\n",
    "                        RandomForestClassifier(class_weight = 'balanced'))\n",
    "\n",
    "clf.fit(X_train, y_train)\n",
    "\n",
    "save_scores(clf, X_train, X_test, y_train, y_test, \"rf-tfidf-smote-prep\")"
   ]
  },
  {
   "cell_type": "code",
   "execution_count": 50,
   "id": "0bfa68e7",
   "metadata": {
    "hidden": true
   },
   "outputs": [
    {
     "data": {
      "text/html": [
       "<div>\n",
       "<style scoped>\n",
       "    .dataframe tbody tr th:only-of-type {\n",
       "        vertical-align: middle;\n",
       "    }\n",
       "\n",
       "    .dataframe tbody tr th {\n",
       "        vertical-align: top;\n",
       "    }\n",
       "\n",
       "    .dataframe thead th {\n",
       "        text-align: right;\n",
       "    }\n",
       "</style>\n",
       "<table border=\"1\" class=\"dataframe\">\n",
       "  <thead>\n",
       "    <tr style=\"text-align: right;\">\n",
       "      <th></th>\n",
       "      <th>F1_0_Train</th>\n",
       "      <th>F1_1_Train</th>\n",
       "      <th>F1_Avg_Train</th>\n",
       "      <th>F1_0_Test</th>\n",
       "      <th>F1_1_Test</th>\n",
       "      <th>F1_Avg_Test</th>\n",
       "    </tr>\n",
       "  </thead>\n",
       "  <tbody>\n",
       "    <tr>\n",
       "      <th>mnb-tfidf-unb-prep</th>\n",
       "      <td>0.926736</td>\n",
       "      <td>0.889803</td>\n",
       "      <td>0.908269</td>\n",
       "      <td>0.836074</td>\n",
       "      <td>0.733850</td>\n",
       "      <td>0.784962</td>\n",
       "    </tr>\n",
       "    <tr>\n",
       "      <th>mnb-tfidf-unb</th>\n",
       "      <td>0.910580</td>\n",
       "      <td>0.859256</td>\n",
       "      <td>0.884918</td>\n",
       "      <td>0.835836</td>\n",
       "      <td>0.715695</td>\n",
       "      <td>0.775766</td>\n",
       "    </tr>\n",
       "    <tr>\n",
       "      <th>mnb-tfidf-smote-def-prep</th>\n",
       "      <td>0.934593</td>\n",
       "      <td>0.911997</td>\n",
       "      <td>0.923295</td>\n",
       "      <td>0.803458</td>\n",
       "      <td>0.739893</td>\n",
       "      <td>0.771676</td>\n",
       "    </tr>\n",
       "    <tr>\n",
       "      <th>mnb-tfidf-smote-prep</th>\n",
       "      <td>0.932492</td>\n",
       "      <td>0.909475</td>\n",
       "      <td>0.920984</td>\n",
       "      <td>0.799768</td>\n",
       "      <td>0.739229</td>\n",
       "      <td>0.769498</td>\n",
       "    </tr>\n",
       "    <tr>\n",
       "      <th>mnb-tfidf-under-prep</th>\n",
       "      <td>0.919994</td>\n",
       "      <td>0.895900</td>\n",
       "      <td>0.907947</td>\n",
       "      <td>0.793184</td>\n",
       "      <td>0.738095</td>\n",
       "      <td>0.765640</td>\n",
       "    </tr>\n",
       "  </tbody>\n",
       "</table>\n",
       "</div>"
      ],
      "text/plain": [
       "                          F1_0_Train  F1_1_Train  F1_Avg_Train  F1_0_Test  \\\n",
       "mnb-tfidf-unb-prep          0.926736    0.889803      0.908269   0.836074   \n",
       "mnb-tfidf-unb               0.910580    0.859256      0.884918   0.835836   \n",
       "mnb-tfidf-smote-def-prep    0.934593    0.911997      0.923295   0.803458   \n",
       "mnb-tfidf-smote-prep        0.932492    0.909475      0.920984   0.799768   \n",
       "mnb-tfidf-under-prep        0.919994    0.895900      0.907947   0.793184   \n",
       "\n",
       "                          F1_1_Test  F1_Avg_Test  \n",
       "mnb-tfidf-unb-prep         0.733850     0.784962  \n",
       "mnb-tfidf-unb              0.715695     0.775766  \n",
       "mnb-tfidf-smote-def-prep   0.739893     0.771676  \n",
       "mnb-tfidf-smote-prep       0.739229     0.769498  \n",
       "mnb-tfidf-under-prep       0.738095     0.765640  "
      ]
     },
     "execution_count": 50,
     "metadata": {},
     "output_type": "execute_result"
    }
   ],
   "source": [
    "scores_df.sort_values(by = 'F1_Avg_Test', ascending = False).head()"
   ]
  },
  {
   "cell_type": "markdown",
   "id": "cd9b5ba3",
   "metadata": {
    "heading_collapsed": true
   },
   "source": [
    "# 2. spaCy Word Embeddings"
   ]
  },
  {
   "cell_type": "markdown",
   "id": "c19aee63",
   "metadata": {
    "heading_collapsed": true,
    "hidden": true
   },
   "source": [
    "## MNB, no class balancing"
   ]
  },
  {
   "cell_type": "code",
   "execution_count": 51,
   "id": "6baf7c88",
   "metadata": {
    "hidden": true
   },
   "outputs": [
    {
     "data": {
      "text/html": [
       "<div>\n",
       "<style scoped>\n",
       "    .dataframe tbody tr th:only-of-type {\n",
       "        vertical-align: middle;\n",
       "    }\n",
       "\n",
       "    .dataframe tbody tr th {\n",
       "        vertical-align: top;\n",
       "    }\n",
       "\n",
       "    .dataframe thead th {\n",
       "        text-align: right;\n",
       "    }\n",
       "</style>\n",
       "<table border=\"1\" class=\"dataframe\">\n",
       "  <thead>\n",
       "    <tr style=\"text-align: right;\">\n",
       "      <th></th>\n",
       "      <th>id</th>\n",
       "      <th>keyword</th>\n",
       "      <th>location</th>\n",
       "      <th>text</th>\n",
       "      <th>target</th>\n",
       "      <th>preprocessed_txt</th>\n",
       "    </tr>\n",
       "  </thead>\n",
       "  <tbody>\n",
       "    <tr>\n",
       "      <th>0</th>\n",
       "      <td>1</td>\n",
       "      <td>NaN</td>\n",
       "      <td>NaN</td>\n",
       "      <td>Our Deeds are the Reason of this #earthquake M...</td>\n",
       "      <td>1</td>\n",
       "      <td>deed Reason earthquake ALLAH forgive</td>\n",
       "    </tr>\n",
       "    <tr>\n",
       "      <th>1</th>\n",
       "      <td>4</td>\n",
       "      <td>NaN</td>\n",
       "      <td>NaN</td>\n",
       "      <td>Forest fire near La Ronge Sask. Canada</td>\n",
       "      <td>1</td>\n",
       "      <td>forest fire near La Ronge Sask Canada</td>\n",
       "    </tr>\n",
       "    <tr>\n",
       "      <th>2</th>\n",
       "      <td>5</td>\n",
       "      <td>NaN</td>\n",
       "      <td>NaN</td>\n",
       "      <td>All residents asked to 'shelter in place' are ...</td>\n",
       "      <td>1</td>\n",
       "      <td>resident ask shelter place notify officer evac...</td>\n",
       "    </tr>\n",
       "    <tr>\n",
       "      <th>3</th>\n",
       "      <td>6</td>\n",
       "      <td>NaN</td>\n",
       "      <td>NaN</td>\n",
       "      <td>13,000 people receive #wildfires evacuation or...</td>\n",
       "      <td>1</td>\n",
       "      <td>13,000 people receive wildfire evacuation orde...</td>\n",
       "    </tr>\n",
       "    <tr>\n",
       "      <th>4</th>\n",
       "      <td>7</td>\n",
       "      <td>NaN</td>\n",
       "      <td>NaN</td>\n",
       "      <td>Just got sent this photo from Ruby #Alaska as ...</td>\n",
       "      <td>1</td>\n",
       "      <td>got send photo Ruby Alaska smoke wildfire pour...</td>\n",
       "    </tr>\n",
       "  </tbody>\n",
       "</table>\n",
       "</div>"
      ],
      "text/plain": [
       "   id keyword location                                               text  \\\n",
       "0   1     NaN      NaN  Our Deeds are the Reason of this #earthquake M...   \n",
       "1   4     NaN      NaN             Forest fire near La Ronge Sask. Canada   \n",
       "2   5     NaN      NaN  All residents asked to 'shelter in place' are ...   \n",
       "3   6     NaN      NaN  13,000 people receive #wildfires evacuation or...   \n",
       "4   7     NaN      NaN  Just got sent this photo from Ruby #Alaska as ...   \n",
       "\n",
       "   target                                   preprocessed_txt  \n",
       "0       1               deed Reason earthquake ALLAH forgive  \n",
       "1       1              forest fire near La Ronge Sask Canada  \n",
       "2       1  resident ask shelter place notify officer evac...  \n",
       "3       1  13,000 people receive wildfire evacuation orde...  \n",
       "4       1  got send photo Ruby Alaska smoke wildfire pour...  "
      ]
     },
     "execution_count": 51,
     "metadata": {},
     "output_type": "execute_result"
    }
   ],
   "source": [
    "train_df.head()"
   ]
  },
  {
   "cell_type": "code",
   "execution_count": 52,
   "id": "b6eba1f9",
   "metadata": {
    "hidden": true
   },
   "outputs": [],
   "source": [
    "import spacy\n",
    "nlp = spacy.load(\"en_core_web_lg\")"
   ]
  },
  {
   "cell_type": "code",
   "execution_count": 53,
   "id": "84e66a7f",
   "metadata": {
    "hidden": true
   },
   "outputs": [],
   "source": [
    "# make spacy vectors (takes awhile!)\n",
    "train_df['spacy_vector'] = train_df['text'].apply(lambda x: nlp(x).vector)"
   ]
  },
  {
   "cell_type": "code",
   "execution_count": 54,
   "id": "bd8dc619",
   "metadata": {
    "hidden": true
   },
   "outputs": [],
   "source": [
    "# tts\n",
    "from sklearn.model_selection import train_test_split\n",
    "\n",
    "X_train, X_test, y_train, y_test = train_test_split(\n",
    "    train_df.spacy_vector.values,\n",
    "    train_df.target,\n",
    "    test_size = 0.2,\n",
    "    random_state = 2022,\n",
    "    stratify = train_df.target)"
   ]
  },
  {
   "cell_type": "code",
   "execution_count": 55,
   "id": "733f31d6",
   "metadata": {
    "hidden": true
   },
   "outputs": [],
   "source": [
    "# sets are of format numpy array of numpy arrays\n",
    "# need to flatten the arrays because clf is expecting\n",
    "# just a 2d numpy array\n",
    "\n",
    "import numpy as np\n",
    "\n",
    "X_train_2d = np.stack(X_train)\n",
    "X_test_2d = np.stack(X_test)"
   ]
  },
  {
   "cell_type": "code",
   "execution_count": 56,
   "id": "eea3c4d0",
   "metadata": {
    "hidden": true
   },
   "outputs": [],
   "source": [
    "# scale values so there are no negative values\n",
    "# MultinomialNB doesn't accept negative values\n",
    "from sklearn.preprocessing import MinMaxScaler\n",
    "\n",
    "scaler = MinMaxScaler()\n",
    "scaled_train_embed = scaler.fit_transform(X_train_2d)\n",
    "scaled_test_embed = scaler.transform(X_test_2d)"
   ]
  },
  {
   "cell_type": "code",
   "execution_count": 57,
   "id": "cf00d168",
   "metadata": {
    "hidden": true
   },
   "outputs": [
    {
     "name": "stdout",
     "output_type": "stream",
     "text": [
      "F1_0_Train      0.707195\n",
      "F1_1_Train      0.628678\n",
      "F1_Avg_Train    0.667937\n",
      "F1_0_Test       0.704639\n",
      "F1_1_Test       0.625465\n",
      "F1_Avg_Test     0.665052\n",
      "Name: mnb-spacyvec-unb, dtype: float64\n"
     ]
    },
    {
     "data": {
      "text/html": [
       "<div>\n",
       "<style scoped>\n",
       "    .dataframe tbody tr th:only-of-type {\n",
       "        vertical-align: middle;\n",
       "    }\n",
       "\n",
       "    .dataframe tbody tr th {\n",
       "        vertical-align: top;\n",
       "    }\n",
       "\n",
       "    .dataframe thead th {\n",
       "        text-align: right;\n",
       "    }\n",
       "</style>\n",
       "<table border=\"1\" class=\"dataframe\">\n",
       "  <thead>\n",
       "    <tr style=\"text-align: right;\">\n",
       "      <th></th>\n",
       "      <th>F1_0_Train</th>\n",
       "      <th>F1_1_Train</th>\n",
       "      <th>F1_Avg_Train</th>\n",
       "      <th>F1_0_Test</th>\n",
       "      <th>F1_1_Test</th>\n",
       "      <th>F1_Avg_Test</th>\n",
       "    </tr>\n",
       "  </thead>\n",
       "  <tbody>\n",
       "    <tr>\n",
       "      <th>mnb-tfidf-unb-prep</th>\n",
       "      <td>0.926736</td>\n",
       "      <td>0.889803</td>\n",
       "      <td>0.908269</td>\n",
       "      <td>0.836074</td>\n",
       "      <td>0.733850</td>\n",
       "      <td>0.784962</td>\n",
       "    </tr>\n",
       "    <tr>\n",
       "      <th>mnb-tfidf-unb</th>\n",
       "      <td>0.910580</td>\n",
       "      <td>0.859256</td>\n",
       "      <td>0.884918</td>\n",
       "      <td>0.835836</td>\n",
       "      <td>0.715695</td>\n",
       "      <td>0.775766</td>\n",
       "    </tr>\n",
       "    <tr>\n",
       "      <th>mnb-tfidf-smote-def-prep</th>\n",
       "      <td>0.934593</td>\n",
       "      <td>0.911997</td>\n",
       "      <td>0.923295</td>\n",
       "      <td>0.803458</td>\n",
       "      <td>0.739893</td>\n",
       "      <td>0.771676</td>\n",
       "    </tr>\n",
       "    <tr>\n",
       "      <th>mnb-tfidf-smote-prep</th>\n",
       "      <td>0.932492</td>\n",
       "      <td>0.909475</td>\n",
       "      <td>0.920984</td>\n",
       "      <td>0.799768</td>\n",
       "      <td>0.739229</td>\n",
       "      <td>0.769498</td>\n",
       "    </tr>\n",
       "    <tr>\n",
       "      <th>mnb-tfidf-under-prep</th>\n",
       "      <td>0.919994</td>\n",
       "      <td>0.895900</td>\n",
       "      <td>0.907947</td>\n",
       "      <td>0.793184</td>\n",
       "      <td>0.738095</td>\n",
       "      <td>0.765640</td>\n",
       "    </tr>\n",
       "    <tr>\n",
       "      <th>rf-tfidf-under-prep</th>\n",
       "      <td>0.979029</td>\n",
       "      <td>0.973326</td>\n",
       "      <td>0.976178</td>\n",
       "      <td>0.815176</td>\n",
       "      <td>0.716070</td>\n",
       "      <td>0.765623</td>\n",
       "    </tr>\n",
       "    <tr>\n",
       "      <th>mnb-tfidf-over-prep</th>\n",
       "      <td>0.935604</td>\n",
       "      <td>0.913328</td>\n",
       "      <td>0.924466</td>\n",
       "      <td>0.792803</td>\n",
       "      <td>0.730159</td>\n",
       "      <td>0.761481</td>\n",
       "    </tr>\n",
       "    <tr>\n",
       "      <th>rf-tfidf-smote-prep</th>\n",
       "      <td>0.997554</td>\n",
       "      <td>0.996749</td>\n",
       "      <td>0.997152</td>\n",
       "      <td>0.822917</td>\n",
       "      <td>0.698046</td>\n",
       "      <td>0.760481</td>\n",
       "    </tr>\n",
       "    <tr>\n",
       "      <th>knn-tfidf-unb</th>\n",
       "      <td>0.865827</td>\n",
       "      <td>0.799016</td>\n",
       "      <td>0.832421</td>\n",
       "      <td>0.808234</td>\n",
       "      <td>0.705000</td>\n",
       "      <td>0.756617</td>\n",
       "    </tr>\n",
       "    <tr>\n",
       "      <th>rf-tfidf-over-prep</th>\n",
       "      <td>0.997553</td>\n",
       "      <td>0.996751</td>\n",
       "      <td>0.997152</td>\n",
       "      <td>0.818182</td>\n",
       "      <td>0.692580</td>\n",
       "      <td>0.755381</td>\n",
       "    </tr>\n",
       "    <tr>\n",
       "      <th>rf-tfidf-unb-prep</th>\n",
       "      <td>0.997554</td>\n",
       "      <td>0.996749</td>\n",
       "      <td>0.997152</td>\n",
       "      <td>0.819824</td>\n",
       "      <td>0.685302</td>\n",
       "      <td>0.752563</td>\n",
       "    </tr>\n",
       "    <tr>\n",
       "      <th>knn-tfidf-unb-prep</th>\n",
       "      <td>0.865442</td>\n",
       "      <td>0.791545</td>\n",
       "      <td>0.828493</td>\n",
       "      <td>0.805391</td>\n",
       "      <td>0.696893</td>\n",
       "      <td>0.751142</td>\n",
       "    </tr>\n",
       "    <tr>\n",
       "      <th>rf-tfidf-unb</th>\n",
       "      <td>0.997411</td>\n",
       "      <td>0.996557</td>\n",
       "      <td>0.996984</td>\n",
       "      <td>0.820487</td>\n",
       "      <td>0.670391</td>\n",
       "      <td>0.745439</td>\n",
       "    </tr>\n",
       "    <tr>\n",
       "      <th>knn-tfidf-under-prep</th>\n",
       "      <td>0.850883</td>\n",
       "      <td>0.793340</td>\n",
       "      <td>0.822112</td>\n",
       "      <td>0.786238</td>\n",
       "      <td>0.702278</td>\n",
       "      <td>0.744258</td>\n",
       "    </tr>\n",
       "    <tr>\n",
       "      <th>knn-tfidf-over-prep</th>\n",
       "      <td>0.857910</td>\n",
       "      <td>0.803211</td>\n",
       "      <td>0.830561</td>\n",
       "      <td>0.783982</td>\n",
       "      <td>0.699136</td>\n",
       "      <td>0.741559</td>\n",
       "    </tr>\n",
       "    <tr>\n",
       "      <th>mnb-spacyvec-unb</th>\n",
       "      <td>0.707195</td>\n",
       "      <td>0.628678</td>\n",
       "      <td>0.667937</td>\n",
       "      <td>0.704639</td>\n",
       "      <td>0.625465</td>\n",
       "      <td>0.665052</td>\n",
       "    </tr>\n",
       "    <tr>\n",
       "      <th>knn-tfidf-smote-prep</th>\n",
       "      <td>0.448329</td>\n",
       "      <td>0.667894</td>\n",
       "      <td>0.558111</td>\n",
       "      <td>0.413913</td>\n",
       "      <td>0.644515</td>\n",
       "      <td>0.529214</td>\n",
       "    </tr>\n",
       "  </tbody>\n",
       "</table>\n",
       "</div>"
      ],
      "text/plain": [
       "                          F1_0_Train  F1_1_Train  F1_Avg_Train  F1_0_Test  \\\n",
       "mnb-tfidf-unb-prep          0.926736    0.889803      0.908269   0.836074   \n",
       "mnb-tfidf-unb               0.910580    0.859256      0.884918   0.835836   \n",
       "mnb-tfidf-smote-def-prep    0.934593    0.911997      0.923295   0.803458   \n",
       "mnb-tfidf-smote-prep        0.932492    0.909475      0.920984   0.799768   \n",
       "mnb-tfidf-under-prep        0.919994    0.895900      0.907947   0.793184   \n",
       "rf-tfidf-under-prep         0.979029    0.973326      0.976178   0.815176   \n",
       "mnb-tfidf-over-prep         0.935604    0.913328      0.924466   0.792803   \n",
       "rf-tfidf-smote-prep         0.997554    0.996749      0.997152   0.822917   \n",
       "knn-tfidf-unb               0.865827    0.799016      0.832421   0.808234   \n",
       "rf-tfidf-over-prep          0.997553    0.996751      0.997152   0.818182   \n",
       "rf-tfidf-unb-prep           0.997554    0.996749      0.997152   0.819824   \n",
       "knn-tfidf-unb-prep          0.865442    0.791545      0.828493   0.805391   \n",
       "rf-tfidf-unb                0.997411    0.996557      0.996984   0.820487   \n",
       "knn-tfidf-under-prep        0.850883    0.793340      0.822112   0.786238   \n",
       "knn-tfidf-over-prep         0.857910    0.803211      0.830561   0.783982   \n",
       "mnb-spacyvec-unb            0.707195    0.628678      0.667937   0.704639   \n",
       "knn-tfidf-smote-prep        0.448329    0.667894      0.558111   0.413913   \n",
       "\n",
       "                          F1_1_Test  F1_Avg_Test  \n",
       "mnb-tfidf-unb-prep         0.733850     0.784962  \n",
       "mnb-tfidf-unb              0.715695     0.775766  \n",
       "mnb-tfidf-smote-def-prep   0.739893     0.771676  \n",
       "mnb-tfidf-smote-prep       0.739229     0.769498  \n",
       "mnb-tfidf-under-prep       0.738095     0.765640  \n",
       "rf-tfidf-under-prep        0.716070     0.765623  \n",
       "mnb-tfidf-over-prep        0.730159     0.761481  \n",
       "rf-tfidf-smote-prep        0.698046     0.760481  \n",
       "knn-tfidf-unb              0.705000     0.756617  \n",
       "rf-tfidf-over-prep         0.692580     0.755381  \n",
       "rf-tfidf-unb-prep          0.685302     0.752563  \n",
       "knn-tfidf-unb-prep         0.696893     0.751142  \n",
       "rf-tfidf-unb               0.670391     0.745439  \n",
       "knn-tfidf-under-prep       0.702278     0.744258  \n",
       "knn-tfidf-over-prep        0.699136     0.741559  \n",
       "mnb-spacyvec-unb           0.625465     0.665052  \n",
       "knn-tfidf-smote-prep       0.644515     0.529214  "
      ]
     },
     "execution_count": 57,
     "metadata": {},
     "output_type": "execute_result"
    }
   ],
   "source": [
    "# mnb, spacy word vectors\n",
    "from sklearn.naive_bayes import MultinomialNB\n",
    "\n",
    "clf = MultinomialNB()\n",
    "clf.fit(scaled_train_embed, y_train)\n",
    "\n",
    "save_scores(clf, \n",
    "            scaled_train_embed, \n",
    "            scaled_test_embed, \n",
    "            y_train, \n",
    "            y_test, \n",
    "            \"mnb-spacyvec-unb\")\n",
    "\n",
    "scores_df.sort_values(by = 'F1_Avg_Test', ascending = False)"
   ]
  },
  {
   "cell_type": "markdown",
   "id": "a790b573",
   "metadata": {
    "heading_collapsed": true,
    "hidden": true
   },
   "source": [
    "## KNN, no class balancing"
   ]
  },
  {
   "cell_type": "code",
   "execution_count": 58,
   "id": "1a8638eb",
   "metadata": {
    "hidden": true
   },
   "outputs": [
    {
     "name": "stdout",
     "output_type": "stream",
     "text": [
      "F1_0_Train      0.842459\n",
      "F1_1_Train      0.776741\n",
      "F1_Avg_Train    0.809600\n",
      "F1_0_Test       0.754886\n",
      "F1_1_Test       0.650199\n",
      "F1_Avg_Test     0.702542\n",
      "Name: knn-spacyvec-unb, dtype: float64\n"
     ]
    },
    {
     "data": {
      "text/html": [
       "<div>\n",
       "<style scoped>\n",
       "    .dataframe tbody tr th:only-of-type {\n",
       "        vertical-align: middle;\n",
       "    }\n",
       "\n",
       "    .dataframe tbody tr th {\n",
       "        vertical-align: top;\n",
       "    }\n",
       "\n",
       "    .dataframe thead th {\n",
       "        text-align: right;\n",
       "    }\n",
       "</style>\n",
       "<table border=\"1\" class=\"dataframe\">\n",
       "  <thead>\n",
       "    <tr style=\"text-align: right;\">\n",
       "      <th></th>\n",
       "      <th>F1_0_Train</th>\n",
       "      <th>F1_1_Train</th>\n",
       "      <th>F1_Avg_Train</th>\n",
       "      <th>F1_0_Test</th>\n",
       "      <th>F1_1_Test</th>\n",
       "      <th>F1_Avg_Test</th>\n",
       "    </tr>\n",
       "  </thead>\n",
       "  <tbody>\n",
       "    <tr>\n",
       "      <th>mnb-tfidf-unb-prep</th>\n",
       "      <td>0.926736</td>\n",
       "      <td>0.889803</td>\n",
       "      <td>0.908269</td>\n",
       "      <td>0.836074</td>\n",
       "      <td>0.733850</td>\n",
       "      <td>0.784962</td>\n",
       "    </tr>\n",
       "    <tr>\n",
       "      <th>mnb-tfidf-unb</th>\n",
       "      <td>0.910580</td>\n",
       "      <td>0.859256</td>\n",
       "      <td>0.884918</td>\n",
       "      <td>0.835836</td>\n",
       "      <td>0.715695</td>\n",
       "      <td>0.775766</td>\n",
       "    </tr>\n",
       "    <tr>\n",
       "      <th>mnb-tfidf-smote-def-prep</th>\n",
       "      <td>0.934593</td>\n",
       "      <td>0.911997</td>\n",
       "      <td>0.923295</td>\n",
       "      <td>0.803458</td>\n",
       "      <td>0.739893</td>\n",
       "      <td>0.771676</td>\n",
       "    </tr>\n",
       "    <tr>\n",
       "      <th>mnb-tfidf-smote-prep</th>\n",
       "      <td>0.932492</td>\n",
       "      <td>0.909475</td>\n",
       "      <td>0.920984</td>\n",
       "      <td>0.799768</td>\n",
       "      <td>0.739229</td>\n",
       "      <td>0.769498</td>\n",
       "    </tr>\n",
       "    <tr>\n",
       "      <th>mnb-tfidf-under-prep</th>\n",
       "      <td>0.919994</td>\n",
       "      <td>0.895900</td>\n",
       "      <td>0.907947</td>\n",
       "      <td>0.793184</td>\n",
       "      <td>0.738095</td>\n",
       "      <td>0.765640</td>\n",
       "    </tr>\n",
       "    <tr>\n",
       "      <th>rf-tfidf-under-prep</th>\n",
       "      <td>0.979029</td>\n",
       "      <td>0.973326</td>\n",
       "      <td>0.976178</td>\n",
       "      <td>0.815176</td>\n",
       "      <td>0.716070</td>\n",
       "      <td>0.765623</td>\n",
       "    </tr>\n",
       "    <tr>\n",
       "      <th>mnb-tfidf-over-prep</th>\n",
       "      <td>0.935604</td>\n",
       "      <td>0.913328</td>\n",
       "      <td>0.924466</td>\n",
       "      <td>0.792803</td>\n",
       "      <td>0.730159</td>\n",
       "      <td>0.761481</td>\n",
       "    </tr>\n",
       "    <tr>\n",
       "      <th>rf-tfidf-smote-prep</th>\n",
       "      <td>0.997554</td>\n",
       "      <td>0.996749</td>\n",
       "      <td>0.997152</td>\n",
       "      <td>0.822917</td>\n",
       "      <td>0.698046</td>\n",
       "      <td>0.760481</td>\n",
       "    </tr>\n",
       "    <tr>\n",
       "      <th>knn-tfidf-unb</th>\n",
       "      <td>0.865827</td>\n",
       "      <td>0.799016</td>\n",
       "      <td>0.832421</td>\n",
       "      <td>0.808234</td>\n",
       "      <td>0.705000</td>\n",
       "      <td>0.756617</td>\n",
       "    </tr>\n",
       "    <tr>\n",
       "      <th>rf-tfidf-over-prep</th>\n",
       "      <td>0.997553</td>\n",
       "      <td>0.996751</td>\n",
       "      <td>0.997152</td>\n",
       "      <td>0.818182</td>\n",
       "      <td>0.692580</td>\n",
       "      <td>0.755381</td>\n",
       "    </tr>\n",
       "    <tr>\n",
       "      <th>rf-tfidf-unb-prep</th>\n",
       "      <td>0.997554</td>\n",
       "      <td>0.996749</td>\n",
       "      <td>0.997152</td>\n",
       "      <td>0.819824</td>\n",
       "      <td>0.685302</td>\n",
       "      <td>0.752563</td>\n",
       "    </tr>\n",
       "    <tr>\n",
       "      <th>knn-tfidf-unb-prep</th>\n",
       "      <td>0.865442</td>\n",
       "      <td>0.791545</td>\n",
       "      <td>0.828493</td>\n",
       "      <td>0.805391</td>\n",
       "      <td>0.696893</td>\n",
       "      <td>0.751142</td>\n",
       "    </tr>\n",
       "    <tr>\n",
       "      <th>rf-tfidf-unb</th>\n",
       "      <td>0.997411</td>\n",
       "      <td>0.996557</td>\n",
       "      <td>0.996984</td>\n",
       "      <td>0.820487</td>\n",
       "      <td>0.670391</td>\n",
       "      <td>0.745439</td>\n",
       "    </tr>\n",
       "    <tr>\n",
       "      <th>knn-tfidf-under-prep</th>\n",
       "      <td>0.850883</td>\n",
       "      <td>0.793340</td>\n",
       "      <td>0.822112</td>\n",
       "      <td>0.786238</td>\n",
       "      <td>0.702278</td>\n",
       "      <td>0.744258</td>\n",
       "    </tr>\n",
       "    <tr>\n",
       "      <th>knn-tfidf-over-prep</th>\n",
       "      <td>0.857910</td>\n",
       "      <td>0.803211</td>\n",
       "      <td>0.830561</td>\n",
       "      <td>0.783982</td>\n",
       "      <td>0.699136</td>\n",
       "      <td>0.741559</td>\n",
       "    </tr>\n",
       "    <tr>\n",
       "      <th>knn-spacyvec-unb</th>\n",
       "      <td>0.842459</td>\n",
       "      <td>0.776741</td>\n",
       "      <td>0.809600</td>\n",
       "      <td>0.754886</td>\n",
       "      <td>0.650199</td>\n",
       "      <td>0.702542</td>\n",
       "    </tr>\n",
       "    <tr>\n",
       "      <th>mnb-spacyvec-unb</th>\n",
       "      <td>0.707195</td>\n",
       "      <td>0.628678</td>\n",
       "      <td>0.667937</td>\n",
       "      <td>0.704639</td>\n",
       "      <td>0.625465</td>\n",
       "      <td>0.665052</td>\n",
       "    </tr>\n",
       "    <tr>\n",
       "      <th>knn-tfidf-smote-prep</th>\n",
       "      <td>0.448329</td>\n",
       "      <td>0.667894</td>\n",
       "      <td>0.558111</td>\n",
       "      <td>0.413913</td>\n",
       "      <td>0.644515</td>\n",
       "      <td>0.529214</td>\n",
       "    </tr>\n",
       "  </tbody>\n",
       "</table>\n",
       "</div>"
      ],
      "text/plain": [
       "                          F1_0_Train  F1_1_Train  F1_Avg_Train  F1_0_Test  \\\n",
       "mnb-tfidf-unb-prep          0.926736    0.889803      0.908269   0.836074   \n",
       "mnb-tfidf-unb               0.910580    0.859256      0.884918   0.835836   \n",
       "mnb-tfidf-smote-def-prep    0.934593    0.911997      0.923295   0.803458   \n",
       "mnb-tfidf-smote-prep        0.932492    0.909475      0.920984   0.799768   \n",
       "mnb-tfidf-under-prep        0.919994    0.895900      0.907947   0.793184   \n",
       "rf-tfidf-under-prep         0.979029    0.973326      0.976178   0.815176   \n",
       "mnb-tfidf-over-prep         0.935604    0.913328      0.924466   0.792803   \n",
       "rf-tfidf-smote-prep         0.997554    0.996749      0.997152   0.822917   \n",
       "knn-tfidf-unb               0.865827    0.799016      0.832421   0.808234   \n",
       "rf-tfidf-over-prep          0.997553    0.996751      0.997152   0.818182   \n",
       "rf-tfidf-unb-prep           0.997554    0.996749      0.997152   0.819824   \n",
       "knn-tfidf-unb-prep          0.865442    0.791545      0.828493   0.805391   \n",
       "rf-tfidf-unb                0.997411    0.996557      0.996984   0.820487   \n",
       "knn-tfidf-under-prep        0.850883    0.793340      0.822112   0.786238   \n",
       "knn-tfidf-over-prep         0.857910    0.803211      0.830561   0.783982   \n",
       "knn-spacyvec-unb            0.842459    0.776741      0.809600   0.754886   \n",
       "mnb-spacyvec-unb            0.707195    0.628678      0.667937   0.704639   \n",
       "knn-tfidf-smote-prep        0.448329    0.667894      0.558111   0.413913   \n",
       "\n",
       "                          F1_1_Test  F1_Avg_Test  \n",
       "mnb-tfidf-unb-prep         0.733850     0.784962  \n",
       "mnb-tfidf-unb              0.715695     0.775766  \n",
       "mnb-tfidf-smote-def-prep   0.739893     0.771676  \n",
       "mnb-tfidf-smote-prep       0.739229     0.769498  \n",
       "mnb-tfidf-under-prep       0.738095     0.765640  \n",
       "rf-tfidf-under-prep        0.716070     0.765623  \n",
       "mnb-tfidf-over-prep        0.730159     0.761481  \n",
       "rf-tfidf-smote-prep        0.698046     0.760481  \n",
       "knn-tfidf-unb              0.705000     0.756617  \n",
       "rf-tfidf-over-prep         0.692580     0.755381  \n",
       "rf-tfidf-unb-prep          0.685302     0.752563  \n",
       "knn-tfidf-unb-prep         0.696893     0.751142  \n",
       "rf-tfidf-unb               0.670391     0.745439  \n",
       "knn-tfidf-under-prep       0.702278     0.744258  \n",
       "knn-tfidf-over-prep        0.699136     0.741559  \n",
       "knn-spacyvec-unb           0.650199     0.702542  \n",
       "mnb-spacyvec-unb           0.625465     0.665052  \n",
       "knn-tfidf-smote-prep       0.644515     0.529214  "
      ]
     },
     "execution_count": 58,
     "metadata": {},
     "output_type": "execute_result"
    }
   ],
   "source": [
    "# knn\n",
    "\n",
    "from sklearn.neighbors import KNeighborsClassifier\n",
    "\n",
    "clf = KNeighborsClassifier(n_neighbors = 5, metric = 'euclidean')\n",
    "\n",
    "clf.fit(X_train_2d, y_train)\n",
    "\n",
    "save_scores(clf, \n",
    "            X_train_2d, \n",
    "            X_test_2d, \n",
    "            y_train, \n",
    "            y_test, \n",
    "            \"knn-spacyvec-unb\")\n",
    "\n",
    "scores_df.sort_values(by = 'F1_Avg_Test', ascending = False)"
   ]
  },
  {
   "cell_type": "markdown",
   "id": "95cb44d2",
   "metadata": {
    "heading_collapsed": true,
    "hidden": true
   },
   "source": [
    "## RF, no class balancing"
   ]
  },
  {
   "cell_type": "code",
   "execution_count": 59,
   "id": "45bcfe71",
   "metadata": {
    "hidden": true
   },
   "outputs": [
    {
     "name": "stdout",
     "output_type": "stream",
     "text": [
      "F1_0_Train      0.990834\n",
      "F1_1_Train      0.987688\n",
      "F1_Avg_Train    0.989261\n",
      "F1_0_Test       0.800000\n",
      "F1_1_Test       0.679761\n",
      "F1_Avg_Test     0.739880\n",
      "Name: rf-spacyvec-unb, dtype: float64\n"
     ]
    },
    {
     "data": {
      "text/html": [
       "<div>\n",
       "<style scoped>\n",
       "    .dataframe tbody tr th:only-of-type {\n",
       "        vertical-align: middle;\n",
       "    }\n",
       "\n",
       "    .dataframe tbody tr th {\n",
       "        vertical-align: top;\n",
       "    }\n",
       "\n",
       "    .dataframe thead th {\n",
       "        text-align: right;\n",
       "    }\n",
       "</style>\n",
       "<table border=\"1\" class=\"dataframe\">\n",
       "  <thead>\n",
       "    <tr style=\"text-align: right;\">\n",
       "      <th></th>\n",
       "      <th>F1_0_Train</th>\n",
       "      <th>F1_1_Train</th>\n",
       "      <th>F1_Avg_Train</th>\n",
       "      <th>F1_0_Test</th>\n",
       "      <th>F1_1_Test</th>\n",
       "      <th>F1_Avg_Test</th>\n",
       "    </tr>\n",
       "  </thead>\n",
       "  <tbody>\n",
       "    <tr>\n",
       "      <th>mnb-tfidf-unb-prep</th>\n",
       "      <td>0.926736</td>\n",
       "      <td>0.889803</td>\n",
       "      <td>0.908269</td>\n",
       "      <td>0.836074</td>\n",
       "      <td>0.733850</td>\n",
       "      <td>0.784962</td>\n",
       "    </tr>\n",
       "    <tr>\n",
       "      <th>mnb-tfidf-unb</th>\n",
       "      <td>0.910580</td>\n",
       "      <td>0.859256</td>\n",
       "      <td>0.884918</td>\n",
       "      <td>0.835836</td>\n",
       "      <td>0.715695</td>\n",
       "      <td>0.775766</td>\n",
       "    </tr>\n",
       "    <tr>\n",
       "      <th>mnb-tfidf-smote-def-prep</th>\n",
       "      <td>0.934593</td>\n",
       "      <td>0.911997</td>\n",
       "      <td>0.923295</td>\n",
       "      <td>0.803458</td>\n",
       "      <td>0.739893</td>\n",
       "      <td>0.771676</td>\n",
       "    </tr>\n",
       "    <tr>\n",
       "      <th>mnb-tfidf-smote-prep</th>\n",
       "      <td>0.932492</td>\n",
       "      <td>0.909475</td>\n",
       "      <td>0.920984</td>\n",
       "      <td>0.799768</td>\n",
       "      <td>0.739229</td>\n",
       "      <td>0.769498</td>\n",
       "    </tr>\n",
       "    <tr>\n",
       "      <th>mnb-tfidf-under-prep</th>\n",
       "      <td>0.919994</td>\n",
       "      <td>0.895900</td>\n",
       "      <td>0.907947</td>\n",
       "      <td>0.793184</td>\n",
       "      <td>0.738095</td>\n",
       "      <td>0.765640</td>\n",
       "    </tr>\n",
       "  </tbody>\n",
       "</table>\n",
       "</div>"
      ],
      "text/plain": [
       "                          F1_0_Train  F1_1_Train  F1_Avg_Train  F1_0_Test  \\\n",
       "mnb-tfidf-unb-prep          0.926736    0.889803      0.908269   0.836074   \n",
       "mnb-tfidf-unb               0.910580    0.859256      0.884918   0.835836   \n",
       "mnb-tfidf-smote-def-prep    0.934593    0.911997      0.923295   0.803458   \n",
       "mnb-tfidf-smote-prep        0.932492    0.909475      0.920984   0.799768   \n",
       "mnb-tfidf-under-prep        0.919994    0.895900      0.907947   0.793184   \n",
       "\n",
       "                          F1_1_Test  F1_Avg_Test  \n",
       "mnb-tfidf-unb-prep         0.733850     0.784962  \n",
       "mnb-tfidf-unb              0.715695     0.775766  \n",
       "mnb-tfidf-smote-def-prep   0.739893     0.771676  \n",
       "mnb-tfidf-smote-prep       0.739229     0.769498  \n",
       "mnb-tfidf-under-prep       0.738095     0.765640  "
      ]
     },
     "execution_count": 59,
     "metadata": {},
     "output_type": "execute_result"
    }
   ],
   "source": [
    "# rf\n",
    "\n",
    "clf = RandomForestClassifier()\n",
    "\n",
    "clf.fit(X_train_2d, y_train)\n",
    "\n",
    "save_scores(clf, \n",
    "            X_train_2d, \n",
    "            X_test_2d, \n",
    "            y_train, \n",
    "            y_test, \n",
    "            \"rf-spacyvec-unb\")\n",
    "\n",
    "scores_df.sort_values(by = 'F1_Avg_Test', ascending = False).head()"
   ]
  },
  {
   "cell_type": "markdown",
   "id": "1f54c672",
   "metadata": {
    "heading_collapsed": true,
    "hidden": true
   },
   "source": [
    "## MNB, class balancing"
   ]
  },
  {
   "cell_type": "code",
   "execution_count": 60,
   "id": "2a738f7b",
   "metadata": {
    "hidden": true
   },
   "outputs": [
    {
     "name": "stdout",
     "output_type": "stream",
     "text": [
      "F1_0_Train      0.675980\n",
      "F1_1_Train      0.652950\n",
      "F1_Avg_Train    0.664465\n",
      "F1_0_Test       0.666240\n",
      "F1_1_Test       0.647773\n",
      "F1_Avg_Test     0.657007\n",
      "Name: mnb-spacyvec-under, dtype: float64\n"
     ]
    },
    {
     "data": {
      "text/html": [
       "<div>\n",
       "<style scoped>\n",
       "    .dataframe tbody tr th:only-of-type {\n",
       "        vertical-align: middle;\n",
       "    }\n",
       "\n",
       "    .dataframe tbody tr th {\n",
       "        vertical-align: top;\n",
       "    }\n",
       "\n",
       "    .dataframe thead th {\n",
       "        text-align: right;\n",
       "    }\n",
       "</style>\n",
       "<table border=\"1\" class=\"dataframe\">\n",
       "  <thead>\n",
       "    <tr style=\"text-align: right;\">\n",
       "      <th></th>\n",
       "      <th>F1_0_Train</th>\n",
       "      <th>F1_1_Train</th>\n",
       "      <th>F1_Avg_Train</th>\n",
       "      <th>F1_0_Test</th>\n",
       "      <th>F1_1_Test</th>\n",
       "      <th>F1_Avg_Test</th>\n",
       "    </tr>\n",
       "  </thead>\n",
       "  <tbody>\n",
       "    <tr>\n",
       "      <th>mnb-tfidf-unb-prep</th>\n",
       "      <td>0.926736</td>\n",
       "      <td>0.889803</td>\n",
       "      <td>0.908269</td>\n",
       "      <td>0.836074</td>\n",
       "      <td>0.733850</td>\n",
       "      <td>0.784962</td>\n",
       "    </tr>\n",
       "    <tr>\n",
       "      <th>mnb-tfidf-unb</th>\n",
       "      <td>0.910580</td>\n",
       "      <td>0.859256</td>\n",
       "      <td>0.884918</td>\n",
       "      <td>0.835836</td>\n",
       "      <td>0.715695</td>\n",
       "      <td>0.775766</td>\n",
       "    </tr>\n",
       "    <tr>\n",
       "      <th>mnb-tfidf-smote-def-prep</th>\n",
       "      <td>0.934593</td>\n",
       "      <td>0.911997</td>\n",
       "      <td>0.923295</td>\n",
       "      <td>0.803458</td>\n",
       "      <td>0.739893</td>\n",
       "      <td>0.771676</td>\n",
       "    </tr>\n",
       "    <tr>\n",
       "      <th>mnb-tfidf-smote-prep</th>\n",
       "      <td>0.932492</td>\n",
       "      <td>0.909475</td>\n",
       "      <td>0.920984</td>\n",
       "      <td>0.799768</td>\n",
       "      <td>0.739229</td>\n",
       "      <td>0.769498</td>\n",
       "    </tr>\n",
       "    <tr>\n",
       "      <th>mnb-tfidf-under-prep</th>\n",
       "      <td>0.919994</td>\n",
       "      <td>0.895900</td>\n",
       "      <td>0.907947</td>\n",
       "      <td>0.793184</td>\n",
       "      <td>0.738095</td>\n",
       "      <td>0.765640</td>\n",
       "    </tr>\n",
       "  </tbody>\n",
       "</table>\n",
       "</div>"
      ],
      "text/plain": [
       "                          F1_0_Train  F1_1_Train  F1_Avg_Train  F1_0_Test  \\\n",
       "mnb-tfidf-unb-prep          0.926736    0.889803      0.908269   0.836074   \n",
       "mnb-tfidf-unb               0.910580    0.859256      0.884918   0.835836   \n",
       "mnb-tfidf-smote-def-prep    0.934593    0.911997      0.923295   0.803458   \n",
       "mnb-tfidf-smote-prep        0.932492    0.909475      0.920984   0.799768   \n",
       "mnb-tfidf-under-prep        0.919994    0.895900      0.907947   0.793184   \n",
       "\n",
       "                          F1_1_Test  F1_Avg_Test  \n",
       "mnb-tfidf-unb-prep         0.733850     0.784962  \n",
       "mnb-tfidf-unb              0.715695     0.775766  \n",
       "mnb-tfidf-smote-def-prep   0.739893     0.771676  \n",
       "mnb-tfidf-smote-prep       0.739229     0.769498  \n",
       "mnb-tfidf-under-prep       0.738095     0.765640  "
      ]
     },
     "execution_count": 60,
     "metadata": {},
     "output_type": "execute_result"
    }
   ],
   "source": [
    "# undersampled, balanced mnb on preprocessed text\n",
    "\n",
    "# tts\n",
    "from sklearn.model_selection import train_test_split\n",
    "\n",
    "X_train, X_test, y_train, y_test = train_test_split(\n",
    "    train_df.spacy_vector.values,\n",
    "    train_df.target,\n",
    "    test_size = 0.2,\n",
    "    random_state = 2022,\n",
    "    stratify = train_df.target)\n",
    "\n",
    "# sets are of format numpy array of numpy arrays\n",
    "# need to flatten the arrays because clf is expecting\n",
    "# just a 2d numpy array\n",
    "\n",
    "import numpy as np\n",
    "\n",
    "X_train_2d = np.stack(X_train)\n",
    "X_test_2d = np.stack(X_test)\n",
    "\n",
    "# scale values so there are no negative values\n",
    "# MultinomialNB doesn't accept negative values\n",
    "from sklearn.preprocessing import MinMaxScaler\n",
    "\n",
    "scaler = MinMaxScaler()\n",
    "scaled_train_embed = scaler.fit_transform(X_train_2d)\n",
    "scaled_test_embed = scaler.transform(X_test_2d)\n",
    "\n",
    "clf = resample_pipeline(RandomUnderSampler(),\n",
    "                        MultinomialNB(fit_prior = False))\n",
    "clf.fit(scaled_train_embed, y_train)\n",
    "\n",
    "save_scores(clf, \n",
    "            scaled_train_embed, \n",
    "            scaled_test_embed, \n",
    "            y_train, \n",
    "            y_test, \n",
    "            \"mnb-spacyvec-under\")\n",
    "\n",
    "scores_df.sort_values(by = 'F1_Avg_Test', ascending = False).head()"
   ]
  },
  {
   "cell_type": "code",
   "execution_count": 61,
   "id": "116eea9f",
   "metadata": {
    "hidden": true
   },
   "outputs": [
    {
     "name": "stdout",
     "output_type": "stream",
     "text": [
      "F1_0_Train      0.676186\n",
      "F1_1_Train      0.652714\n",
      "F1_Avg_Train    0.664450\n",
      "F1_0_Test       0.665387\n",
      "F1_1_Test       0.647336\n",
      "F1_Avg_Test     0.656362\n",
      "Name: mnb-spacyvec-over, dtype: float64\n"
     ]
    },
    {
     "data": {
      "text/html": [
       "<div>\n",
       "<style scoped>\n",
       "    .dataframe tbody tr th:only-of-type {\n",
       "        vertical-align: middle;\n",
       "    }\n",
       "\n",
       "    .dataframe tbody tr th {\n",
       "        vertical-align: top;\n",
       "    }\n",
       "\n",
       "    .dataframe thead th {\n",
       "        text-align: right;\n",
       "    }\n",
       "</style>\n",
       "<table border=\"1\" class=\"dataframe\">\n",
       "  <thead>\n",
       "    <tr style=\"text-align: right;\">\n",
       "      <th></th>\n",
       "      <th>F1_0_Train</th>\n",
       "      <th>F1_1_Train</th>\n",
       "      <th>F1_Avg_Train</th>\n",
       "      <th>F1_0_Test</th>\n",
       "      <th>F1_1_Test</th>\n",
       "      <th>F1_Avg_Test</th>\n",
       "    </tr>\n",
       "  </thead>\n",
       "  <tbody>\n",
       "    <tr>\n",
       "      <th>mnb-tfidf-unb-prep</th>\n",
       "      <td>0.926736</td>\n",
       "      <td>0.889803</td>\n",
       "      <td>0.908269</td>\n",
       "      <td>0.836074</td>\n",
       "      <td>0.733850</td>\n",
       "      <td>0.784962</td>\n",
       "    </tr>\n",
       "    <tr>\n",
       "      <th>mnb-tfidf-unb</th>\n",
       "      <td>0.910580</td>\n",
       "      <td>0.859256</td>\n",
       "      <td>0.884918</td>\n",
       "      <td>0.835836</td>\n",
       "      <td>0.715695</td>\n",
       "      <td>0.775766</td>\n",
       "    </tr>\n",
       "    <tr>\n",
       "      <th>mnb-tfidf-smote-def-prep</th>\n",
       "      <td>0.934593</td>\n",
       "      <td>0.911997</td>\n",
       "      <td>0.923295</td>\n",
       "      <td>0.803458</td>\n",
       "      <td>0.739893</td>\n",
       "      <td>0.771676</td>\n",
       "    </tr>\n",
       "    <tr>\n",
       "      <th>mnb-tfidf-smote-prep</th>\n",
       "      <td>0.932492</td>\n",
       "      <td>0.909475</td>\n",
       "      <td>0.920984</td>\n",
       "      <td>0.799768</td>\n",
       "      <td>0.739229</td>\n",
       "      <td>0.769498</td>\n",
       "    </tr>\n",
       "    <tr>\n",
       "      <th>mnb-tfidf-under-prep</th>\n",
       "      <td>0.919994</td>\n",
       "      <td>0.895900</td>\n",
       "      <td>0.907947</td>\n",
       "      <td>0.793184</td>\n",
       "      <td>0.738095</td>\n",
       "      <td>0.765640</td>\n",
       "    </tr>\n",
       "  </tbody>\n",
       "</table>\n",
       "</div>"
      ],
      "text/plain": [
       "                          F1_0_Train  F1_1_Train  F1_Avg_Train  F1_0_Test  \\\n",
       "mnb-tfidf-unb-prep          0.926736    0.889803      0.908269   0.836074   \n",
       "mnb-tfidf-unb               0.910580    0.859256      0.884918   0.835836   \n",
       "mnb-tfidf-smote-def-prep    0.934593    0.911997      0.923295   0.803458   \n",
       "mnb-tfidf-smote-prep        0.932492    0.909475      0.920984   0.799768   \n",
       "mnb-tfidf-under-prep        0.919994    0.895900      0.907947   0.793184   \n",
       "\n",
       "                          F1_1_Test  F1_Avg_Test  \n",
       "mnb-tfidf-unb-prep         0.733850     0.784962  \n",
       "mnb-tfidf-unb              0.715695     0.775766  \n",
       "mnb-tfidf-smote-def-prep   0.739893     0.771676  \n",
       "mnb-tfidf-smote-prep       0.739229     0.769498  \n",
       "mnb-tfidf-under-prep       0.738095     0.765640  "
      ]
     },
     "execution_count": 61,
     "metadata": {},
     "output_type": "execute_result"
    }
   ],
   "source": [
    "# oversampled, balanced mnb on preprocessed text\n",
    "\n",
    "# tts\n",
    "from sklearn.model_selection import train_test_split\n",
    "\n",
    "X_train, X_test, y_train, y_test = train_test_split(\n",
    "    train_df.spacy_vector.values,\n",
    "    train_df.target,\n",
    "    test_size = 0.2,\n",
    "    random_state = 2022,\n",
    "    stratify = train_df.target)\n",
    "\n",
    "# sets are of format numpy array of numpy arrays\n",
    "# need to flatten the arrays because clf is expecting\n",
    "# just a 2d numpy array\n",
    "\n",
    "import numpy as np\n",
    "\n",
    "X_train_2d = np.stack(X_train)\n",
    "X_test_2d = np.stack(X_test)\n",
    "\n",
    "# scale values so there are no negative values\n",
    "# MultinomialNB doesn't accept negative values\n",
    "from sklearn.preprocessing import MinMaxScaler\n",
    "\n",
    "scaler = MinMaxScaler()\n",
    "scaled_train_embed = scaler.fit_transform(X_train_2d)\n",
    "scaled_test_embed = scaler.transform(X_test_2d)\n",
    "\n",
    "clf = resample_pipeline(RandomOverSampler(),\n",
    "                        MultinomialNB(fit_prior = False))\n",
    "clf.fit(scaled_train_embed, y_train)\n",
    "\n",
    "save_scores(clf, \n",
    "            scaled_train_embed, \n",
    "            scaled_test_embed, \n",
    "            y_train, \n",
    "            y_test, \n",
    "            \"mnb-spacyvec-over\")\n",
    "\n",
    "scores_df.sort_values(by = 'F1_Avg_Test', ascending = False).head()"
   ]
  },
  {
   "cell_type": "code",
   "execution_count": 62,
   "id": "7c227661",
   "metadata": {
    "hidden": true
   },
   "outputs": [
    {
     "name": "stdout",
     "output_type": "stream",
     "text": [
      "F1_0_Train      0.676517\n",
      "F1_1_Train      0.654094\n",
      "F1_Avg_Train    0.665306\n",
      "F1_0_Test       0.666240\n",
      "F1_1_Test       0.647773\n",
      "F1_Avg_Test     0.657007\n",
      "Name: mnb-spacyvec-smote, dtype: float64\n"
     ]
    },
    {
     "data": {
      "text/html": [
       "<div>\n",
       "<style scoped>\n",
       "    .dataframe tbody tr th:only-of-type {\n",
       "        vertical-align: middle;\n",
       "    }\n",
       "\n",
       "    .dataframe tbody tr th {\n",
       "        vertical-align: top;\n",
       "    }\n",
       "\n",
       "    .dataframe thead th {\n",
       "        text-align: right;\n",
       "    }\n",
       "</style>\n",
       "<table border=\"1\" class=\"dataframe\">\n",
       "  <thead>\n",
       "    <tr style=\"text-align: right;\">\n",
       "      <th></th>\n",
       "      <th>F1_0_Train</th>\n",
       "      <th>F1_1_Train</th>\n",
       "      <th>F1_Avg_Train</th>\n",
       "      <th>F1_0_Test</th>\n",
       "      <th>F1_1_Test</th>\n",
       "      <th>F1_Avg_Test</th>\n",
       "    </tr>\n",
       "  </thead>\n",
       "  <tbody>\n",
       "    <tr>\n",
       "      <th>mnb-tfidf-unb-prep</th>\n",
       "      <td>0.926736</td>\n",
       "      <td>0.889803</td>\n",
       "      <td>0.908269</td>\n",
       "      <td>0.836074</td>\n",
       "      <td>0.733850</td>\n",
       "      <td>0.784962</td>\n",
       "    </tr>\n",
       "    <tr>\n",
       "      <th>mnb-tfidf-unb</th>\n",
       "      <td>0.910580</td>\n",
       "      <td>0.859256</td>\n",
       "      <td>0.884918</td>\n",
       "      <td>0.835836</td>\n",
       "      <td>0.715695</td>\n",
       "      <td>0.775766</td>\n",
       "    </tr>\n",
       "    <tr>\n",
       "      <th>mnb-tfidf-smote-def-prep</th>\n",
       "      <td>0.934593</td>\n",
       "      <td>0.911997</td>\n",
       "      <td>0.923295</td>\n",
       "      <td>0.803458</td>\n",
       "      <td>0.739893</td>\n",
       "      <td>0.771676</td>\n",
       "    </tr>\n",
       "    <tr>\n",
       "      <th>mnb-tfidf-smote-prep</th>\n",
       "      <td>0.932492</td>\n",
       "      <td>0.909475</td>\n",
       "      <td>0.920984</td>\n",
       "      <td>0.799768</td>\n",
       "      <td>0.739229</td>\n",
       "      <td>0.769498</td>\n",
       "    </tr>\n",
       "    <tr>\n",
       "      <th>mnb-tfidf-under-prep</th>\n",
       "      <td>0.919994</td>\n",
       "      <td>0.895900</td>\n",
       "      <td>0.907947</td>\n",
       "      <td>0.793184</td>\n",
       "      <td>0.738095</td>\n",
       "      <td>0.765640</td>\n",
       "    </tr>\n",
       "  </tbody>\n",
       "</table>\n",
       "</div>"
      ],
      "text/plain": [
       "                          F1_0_Train  F1_1_Train  F1_Avg_Train  F1_0_Test  \\\n",
       "mnb-tfidf-unb-prep          0.926736    0.889803      0.908269   0.836074   \n",
       "mnb-tfidf-unb               0.910580    0.859256      0.884918   0.835836   \n",
       "mnb-tfidf-smote-def-prep    0.934593    0.911997      0.923295   0.803458   \n",
       "mnb-tfidf-smote-prep        0.932492    0.909475      0.920984   0.799768   \n",
       "mnb-tfidf-under-prep        0.919994    0.895900      0.907947   0.793184   \n",
       "\n",
       "                          F1_1_Test  F1_Avg_Test  \n",
       "mnb-tfidf-unb-prep         0.733850     0.784962  \n",
       "mnb-tfidf-unb              0.715695     0.775766  \n",
       "mnb-tfidf-smote-def-prep   0.739893     0.771676  \n",
       "mnb-tfidf-smote-prep       0.739229     0.769498  \n",
       "mnb-tfidf-under-prep       0.738095     0.765640  "
      ]
     },
     "execution_count": 62,
     "metadata": {},
     "output_type": "execute_result"
    }
   ],
   "source": [
    "# smoted, balanced mnb on preprocessed text\n",
    "\n",
    "# tts\n",
    "from sklearn.model_selection import train_test_split\n",
    "\n",
    "X_train, X_test, y_train, y_test = train_test_split(\n",
    "    train_df.spacy_vector.values,\n",
    "    train_df.target,\n",
    "    test_size = 0.2,\n",
    "    random_state = 2022,\n",
    "    stratify = train_df.target)\n",
    "\n",
    "# sets are of format numpy array of numpy arrays\n",
    "# need to flatten the arrays because clf is expecting\n",
    "# just a 2d numpy array\n",
    "\n",
    "import numpy as np\n",
    "\n",
    "X_train_2d = np.stack(X_train)\n",
    "X_test_2d = np.stack(X_test)\n",
    "\n",
    "# scale values so there are no negative values\n",
    "# MultinomialNB doesn't accept negative values\n",
    "from sklearn.preprocessing import MinMaxScaler\n",
    "\n",
    "scaler = MinMaxScaler()\n",
    "scaled_train_embed = scaler.fit_transform(X_train_2d)\n",
    "scaled_test_embed = scaler.transform(X_test_2d)\n",
    "\n",
    "clf = resample_pipeline(SMOTE(),\n",
    "                        MultinomialNB(fit_prior = False))\n",
    "clf.fit(scaled_train_embed, y_train)\n",
    "\n",
    "save_scores(clf, \n",
    "            scaled_train_embed, \n",
    "            scaled_test_embed, \n",
    "            y_train, \n",
    "            y_test, \n",
    "            \"mnb-spacyvec-smote\")\n",
    "\n",
    "scores_df.sort_values(by = 'F1_Avg_Test', ascending = False).head()"
   ]
  },
  {
   "cell_type": "code",
   "execution_count": 63,
   "id": "5e648f64",
   "metadata": {
    "hidden": true
   },
   "outputs": [
    {
     "name": "stdout",
     "output_type": "stream",
     "text": [
      "F1_0_Train      0.675564\n",
      "F1_1_Train      0.653075\n",
      "F1_Avg_Train    0.664320\n",
      "F1_0_Test       0.666240\n",
      "F1_1_Test       0.647773\n",
      "F1_Avg_Test     0.657007\n",
      "Name: mnb-spacyvec-smote, dtype: float64\n"
     ]
    },
    {
     "data": {
      "text/html": [
       "<div>\n",
       "<style scoped>\n",
       "    .dataframe tbody tr th:only-of-type {\n",
       "        vertical-align: middle;\n",
       "    }\n",
       "\n",
       "    .dataframe tbody tr th {\n",
       "        vertical-align: top;\n",
       "    }\n",
       "\n",
       "    .dataframe thead th {\n",
       "        text-align: right;\n",
       "    }\n",
       "</style>\n",
       "<table border=\"1\" class=\"dataframe\">\n",
       "  <thead>\n",
       "    <tr style=\"text-align: right;\">\n",
       "      <th></th>\n",
       "      <th>F1_0_Train</th>\n",
       "      <th>F1_1_Train</th>\n",
       "      <th>F1_Avg_Train</th>\n",
       "      <th>F1_0_Test</th>\n",
       "      <th>F1_1_Test</th>\n",
       "      <th>F1_Avg_Test</th>\n",
       "    </tr>\n",
       "  </thead>\n",
       "  <tbody>\n",
       "    <tr>\n",
       "      <th>mnb-tfidf-unb-prep</th>\n",
       "      <td>0.926736</td>\n",
       "      <td>0.889803</td>\n",
       "      <td>0.908269</td>\n",
       "      <td>0.836074</td>\n",
       "      <td>0.733850</td>\n",
       "      <td>0.784962</td>\n",
       "    </tr>\n",
       "    <tr>\n",
       "      <th>mnb-tfidf-unb</th>\n",
       "      <td>0.910580</td>\n",
       "      <td>0.859256</td>\n",
       "      <td>0.884918</td>\n",
       "      <td>0.835836</td>\n",
       "      <td>0.715695</td>\n",
       "      <td>0.775766</td>\n",
       "    </tr>\n",
       "    <tr>\n",
       "      <th>mnb-tfidf-smote-def-prep</th>\n",
       "      <td>0.934593</td>\n",
       "      <td>0.911997</td>\n",
       "      <td>0.923295</td>\n",
       "      <td>0.803458</td>\n",
       "      <td>0.739893</td>\n",
       "      <td>0.771676</td>\n",
       "    </tr>\n",
       "    <tr>\n",
       "      <th>mnb-tfidf-smote-prep</th>\n",
       "      <td>0.932492</td>\n",
       "      <td>0.909475</td>\n",
       "      <td>0.920984</td>\n",
       "      <td>0.799768</td>\n",
       "      <td>0.739229</td>\n",
       "      <td>0.769498</td>\n",
       "    </tr>\n",
       "    <tr>\n",
       "      <th>mnb-tfidf-under-prep</th>\n",
       "      <td>0.919994</td>\n",
       "      <td>0.895900</td>\n",
       "      <td>0.907947</td>\n",
       "      <td>0.793184</td>\n",
       "      <td>0.738095</td>\n",
       "      <td>0.765640</td>\n",
       "    </tr>\n",
       "  </tbody>\n",
       "</table>\n",
       "</div>"
      ],
      "text/plain": [
       "                          F1_0_Train  F1_1_Train  F1_Avg_Train  F1_0_Test  \\\n",
       "mnb-tfidf-unb-prep          0.926736    0.889803      0.908269   0.836074   \n",
       "mnb-tfidf-unb               0.910580    0.859256      0.884918   0.835836   \n",
       "mnb-tfidf-smote-def-prep    0.934593    0.911997      0.923295   0.803458   \n",
       "mnb-tfidf-smote-prep        0.932492    0.909475      0.920984   0.799768   \n",
       "mnb-tfidf-under-prep        0.919994    0.895900      0.907947   0.793184   \n",
       "\n",
       "                          F1_1_Test  F1_Avg_Test  \n",
       "mnb-tfidf-unb-prep         0.733850     0.784962  \n",
       "mnb-tfidf-unb              0.715695     0.775766  \n",
       "mnb-tfidf-smote-def-prep   0.739893     0.771676  \n",
       "mnb-tfidf-smote-prep       0.739229     0.769498  \n",
       "mnb-tfidf-under-prep       0.738095     0.765640  "
      ]
     },
     "execution_count": 63,
     "metadata": {},
     "output_type": "execute_result"
    }
   ],
   "source": [
    "# smoted, unbalanced mnb on preprocessed text\n",
    "\n",
    "# tts\n",
    "from sklearn.model_selection import train_test_split\n",
    "\n",
    "X_train, X_test, y_train, y_test = train_test_split(\n",
    "    train_df.spacy_vector.values,\n",
    "    train_df.target,\n",
    "    test_size = 0.2,\n",
    "    random_state = 2022,\n",
    "    stratify = train_df.target)\n",
    "\n",
    "# sets are of format numpy array of numpy arrays\n",
    "# need to flatten the arrays because clf is expecting\n",
    "# just a 2d numpy array\n",
    "\n",
    "import numpy as np\n",
    "\n",
    "X_train_2d = np.stack(X_train)\n",
    "X_test_2d = np.stack(X_test)\n",
    "\n",
    "# scale values so there are no negative values\n",
    "# MultinomialNB doesn't accept negative values\n",
    "from sklearn.preprocessing import MinMaxScaler\n",
    "\n",
    "scaler = MinMaxScaler()\n",
    "scaled_train_embed = scaler.fit_transform(X_train_2d)\n",
    "scaled_test_embed = scaler.transform(X_test_2d)\n",
    "\n",
    "clf = resample_pipeline(SMOTE(),\n",
    "                        MultinomialNB())\n",
    "clf.fit(scaled_train_embed, y_train)\n",
    "\n",
    "save_scores(clf, \n",
    "            scaled_train_embed, \n",
    "            scaled_test_embed, \n",
    "            y_train, \n",
    "            y_test, \n",
    "            \"mnb-spacyvec-smote\")\n",
    "\n",
    "scores_df.sort_values(by = 'F1_Avg_Test', ascending = False).head()"
   ]
  },
  {
   "cell_type": "markdown",
   "id": "5d820471",
   "metadata": {
    "heading_collapsed": true,
    "hidden": true
   },
   "source": [
    "## KNN, class balancing"
   ]
  },
  {
   "cell_type": "code",
   "execution_count": 64,
   "id": "512d36a9",
   "metadata": {
    "hidden": true
   },
   "outputs": [
    {
     "name": "stdout",
     "output_type": "stream",
     "text": [
      "F1_0_Train      0.809453\n",
      "F1_1_Train      0.764857\n",
      "F1_Avg_Train    0.787155\n",
      "F1_0_Test       0.714370\n",
      "F1_1_Test       0.643542\n",
      "F1_Avg_Test     0.678956\n",
      "Name: knn-spacyvec-under, dtype: float64\n"
     ]
    }
   ],
   "source": [
    "# undersampled knn\n",
    "\n",
    "clf = resample_pipeline(RandomUnderSampler(),\n",
    "                        KNeighborsClassifier(n_neighbors = 5,\n",
    "                                            metric = 'euclidean'))\n",
    "\n",
    "clf.fit(X_train_2d, y_train)\n",
    "\n",
    "save_scores(clf, \n",
    "            X_train_2d, \n",
    "            X_test_2d, \n",
    "            y_train, \n",
    "            y_test, \n",
    "            \"knn-spacyvec-under\")"
   ]
  },
  {
   "cell_type": "code",
   "execution_count": 65,
   "id": "0c99a363",
   "metadata": {
    "hidden": true
   },
   "outputs": [
    {
     "name": "stdout",
     "output_type": "stream",
     "text": [
      "F1_0_Train      0.827688\n",
      "F1_1_Train      0.785016\n",
      "F1_Avg_Train    0.806352\n",
      "F1_0_Test       0.720614\n",
      "F1_1_Test       0.650407\n",
      "F1_Avg_Test     0.685510\n",
      "Name: knn-spacyvec-over, dtype: float64\n"
     ]
    }
   ],
   "source": [
    "# oversampled knn\n",
    "\n",
    "clf = resample_pipeline(RandomOverSampler(),\n",
    "                        KNeighborsClassifier(n_neighbors = 5,\n",
    "                                            metric = 'euclidean'))\n",
    "\n",
    "clf.fit(X_train_2d, y_train)\n",
    "\n",
    "save_scores(clf, \n",
    "            X_train_2d, \n",
    "            X_test_2d, \n",
    "            y_train, \n",
    "            y_test, \n",
    "            \"knn-spacyvec-over\")"
   ]
  },
  {
   "cell_type": "code",
   "execution_count": 66,
   "id": "34da746a",
   "metadata": {
    "hidden": true
   },
   "outputs": [
    {
     "name": "stdout",
     "output_type": "stream",
     "text": [
      "F1_0_Train      0.780480\n",
      "F1_1_Train      0.768634\n",
      "F1_Avg_Train    0.774557\n",
      "F1_0_Test       0.652687\n",
      "F1_1_Test       0.651316\n",
      "F1_Avg_Test     0.652001\n",
      "Name: knn-spacyvec-smote, dtype: float64\n"
     ]
    }
   ],
   "source": [
    "# smoted knn\n",
    "\n",
    "clf = resample_pipeline(SMOTE(),\n",
    "                        KNeighborsClassifier(n_neighbors = 5,\n",
    "                                            metric = 'euclidean'))\n",
    "\n",
    "clf.fit(X_train_2d, y_train)\n",
    "\n",
    "save_scores(clf, \n",
    "            X_train_2d, \n",
    "            X_test_2d, \n",
    "            y_train, \n",
    "            y_test, \n",
    "            \"knn-spacyvec-smote\")"
   ]
  },
  {
   "cell_type": "code",
   "execution_count": 67,
   "id": "6d710a6d",
   "metadata": {
    "hidden": true
   },
   "outputs": [
    {
     "name": "stdout",
     "output_type": "stream",
     "text": [
      "F1_0_Train      0.817340\n",
      "F1_1_Train      0.768744\n",
      "F1_Avg_Train    0.793042\n",
      "F1_0_Test       0.725444\n",
      "F1_1_Test       0.657817\n",
      "F1_Avg_Test     0.691630\n",
      "Name: knndef-spacyvec-under, dtype: float64\n"
     ]
    }
   ],
   "source": [
    "# undersampled default knn\n",
    "\n",
    "clf = resample_pipeline(RandomUnderSampler(),\n",
    "                        KNeighborsClassifier())\n",
    "\n",
    "clf.fit(X_train_2d, y_train)\n",
    "\n",
    "save_scores(clf, \n",
    "            X_train_2d, \n",
    "            X_test_2d, \n",
    "            y_train, \n",
    "            y_test, \n",
    "            \"knndef-spacyvec-under\")"
   ]
  },
  {
   "cell_type": "code",
   "execution_count": 68,
   "id": "341470a0",
   "metadata": {
    "hidden": true
   },
   "outputs": [
    {
     "name": "stdout",
     "output_type": "stream",
     "text": [
      "F1_0_Train      0.829743\n",
      "F1_1_Train      0.786375\n",
      "F1_Avg_Train    0.808059\n",
      "F1_0_Test       0.720475\n",
      "F1_1_Test       0.653931\n",
      "F1_Avg_Test     0.687203\n",
      "Name: knndef-spacyvec-over, dtype: float64\n"
     ]
    }
   ],
   "source": [
    "# oversampled default knn\n",
    "\n",
    "clf = resample_pipeline(RandomOverSampler(),\n",
    "                        KNeighborsClassifier())\n",
    "\n",
    "clf.fit(X_train_2d, y_train)\n",
    "\n",
    "save_scores(clf, \n",
    "            X_train_2d, \n",
    "            X_test_2d, \n",
    "            y_train, \n",
    "            y_test, \n",
    "            \"knndef-spacyvec-over\")"
   ]
  },
  {
   "cell_type": "code",
   "execution_count": 69,
   "id": "149a2519",
   "metadata": {
    "hidden": true
   },
   "outputs": [
    {
     "name": "stdout",
     "output_type": "stream",
     "text": [
      "F1_0_Train      0.784936\n",
      "F1_1_Train      0.774074\n",
      "F1_Avg_Train    0.779505\n",
      "F1_0_Test       0.652259\n",
      "F1_1_Test       0.650428\n",
      "F1_Avg_Test     0.651344\n",
      "Name: knndef-spacyvec-smote, dtype: float64\n"
     ]
    }
   ],
   "source": [
    "# smoted default knn\n",
    "\n",
    "clf = resample_pipeline(SMOTE(),\n",
    "                        KNeighborsClassifier())\n",
    "\n",
    "clf.fit(X_train_2d, y_train)\n",
    "\n",
    "save_scores(clf, \n",
    "            X_train_2d, \n",
    "            X_test_2d, \n",
    "            y_train, \n",
    "            y_test, \n",
    "            \"knndef-spacyvec-smote\")"
   ]
  },
  {
   "cell_type": "markdown",
   "id": "3d301303",
   "metadata": {
    "hidden": true
   },
   "source": [
    "## RF, class balancing"
   ]
  },
  {
   "cell_type": "code",
   "execution_count": 70,
   "id": "0ee3ec46",
   "metadata": {
    "hidden": true
   },
   "outputs": [
    {
     "name": "stdout",
     "output_type": "stream",
     "text": [
      "F1_0_Train      0.964317\n",
      "F1_1_Train      0.955169\n",
      "F1_Avg_Train    0.959743\n",
      "F1_0_Test       0.777149\n",
      "F1_1_Test       0.691706\n",
      "F1_Avg_Test     0.734428\n",
      "Name: rf-spacyvec-under, dtype: float64\n"
     ]
    }
   ],
   "source": [
    "# rf under\n",
    "\n",
    "clf = resample_pipeline(RandomUnderSampler(),\n",
    "                        RandomForestClassifier())\n",
    "\n",
    "clf.fit(X_train_2d, y_train)\n",
    "\n",
    "save_scores(clf, \n",
    "            X_train_2d, \n",
    "            X_test_2d, \n",
    "            y_train, \n",
    "            y_test, \n",
    "            \"rf-spacyvec-under\")"
   ]
  },
  {
   "cell_type": "code",
   "execution_count": 71,
   "id": "3f170c74",
   "metadata": {
    "hidden": true
   },
   "outputs": [
    {
     "name": "stdout",
     "output_type": "stream",
     "text": [
      "F1_0_Train      0.966441\n",
      "F1_1_Train      0.957668\n",
      "F1_Avg_Train    0.962055\n",
      "F1_0_Test       0.774527\n",
      "F1_1_Test       0.698388\n",
      "F1_Avg_Test     0.736458\n",
      "Name: rfbal-spacyvec-under, dtype: float64\n"
     ]
    }
   ],
   "source": [
    "# rf under bal\n",
    "\n",
    "clf = resample_pipeline(RandomUnderSampler(),\n",
    "                        RandomForestClassifier(class_weight = 'balanced'))\n",
    "\n",
    "clf.fit(X_train_2d, y_train)\n",
    "\n",
    "save_scores(clf, \n",
    "            X_train_2d, \n",
    "            X_test_2d, \n",
    "            y_train, \n",
    "            y_test, \n",
    "            \"rfbal-spacyvec-under\")"
   ]
  },
  {
   "cell_type": "code",
   "execution_count": 72,
   "id": "095dedfa",
   "metadata": {
    "hidden": true
   },
   "outputs": [
    {
     "name": "stdout",
     "output_type": "stream",
     "text": [
      "F1_0_Train      0.990378\n",
      "F1_1_Train      0.987157\n",
      "F1_Avg_Train    0.988768\n",
      "F1_0_Test       0.798683\n",
      "F1_1_Test       0.699918\n",
      "F1_Avg_Test     0.749301\n",
      "Name: rf-spacyvec-over, dtype: float64\n"
     ]
    }
   ],
   "source": [
    "# rf over\n",
    "\n",
    "clf = resample_pipeline(RandomOverSampler(),\n",
    "                        RandomForestClassifier())\n",
    "\n",
    "clf.fit(X_train_2d, y_train)\n",
    "\n",
    "save_scores(clf, \n",
    "            X_train_2d, \n",
    "            X_test_2d, \n",
    "            y_train, \n",
    "            y_test, \n",
    "            \"rf-spacyvec-over\")"
   ]
  },
  {
   "cell_type": "code",
   "execution_count": 73,
   "id": "2bb47ce4",
   "metadata": {
    "hidden": true
   },
   "outputs": [
    {
     "name": "stdout",
     "output_type": "stream",
     "text": [
      "F1_0_Train      0.990668\n",
      "F1_1_Train      0.987536\n",
      "F1_Avg_Train    0.989102\n",
      "F1_0_Test       0.794150\n",
      "F1_1_Test       0.683333\n",
      "F1_Avg_Test     0.738741\n",
      "Name: rfbal-spacyvec-over, dtype: float64\n"
     ]
    }
   ],
   "source": [
    "# rf over bal\n",
    "\n",
    "clf = resample_pipeline(RandomOverSampler(),\n",
    "                        RandomForestClassifier(class_weight = 'balanced'))\n",
    "\n",
    "clf.fit(X_train_2d, y_train)\n",
    "\n",
    "save_scores(clf, \n",
    "            X_train_2d, \n",
    "            X_test_2d, \n",
    "            y_train, \n",
    "            y_test, \n",
    "            \"rfbal-spacyvec-over\")"
   ]
  },
  {
   "cell_type": "code",
   "execution_count": 74,
   "id": "6346b8e9",
   "metadata": {
    "hidden": true
   },
   "outputs": [
    {
     "name": "stdout",
     "output_type": "stream",
     "text": [
      "F1_0_Train      0.990820\n",
      "F1_1_Train      0.987711\n",
      "F1_Avg_Train    0.989266\n",
      "F1_0_Test       0.794085\n",
      "F1_1_Test       0.691803\n",
      "F1_Avg_Test     0.742944\n",
      "Name: rf-spacyvec-smote, dtype: float64\n"
     ]
    }
   ],
   "source": [
    "# rf smote\n",
    "\n",
    "clf = resample_pipeline(SMOTE(),\n",
    "                        RandomForestClassifier())\n",
    "\n",
    "clf.fit(X_train_2d, y_train)\n",
    "\n",
    "save_scores(clf, \n",
    "            X_train_2d, \n",
    "            X_test_2d, \n",
    "            y_train, \n",
    "            y_test, \n",
    "            \"rf-spacyvec-smote\")"
   ]
  },
  {
   "cell_type": "code",
   "execution_count": 75,
   "id": "a81c2a2d",
   "metadata": {
    "hidden": true
   },
   "outputs": [
    {
     "name": "stdout",
     "output_type": "stream",
     "text": [
      "F1_0_Train      0.990528\n",
      "F1_1_Train      0.987337\n",
      "F1_Avg_Train    0.988933\n",
      "F1_0_Test       0.789732\n",
      "F1_1_Test       0.683128\n",
      "F1_Avg_Test     0.736430\n",
      "Name: rfbal-spacyvec-smote, dtype: float64\n"
     ]
    }
   ],
   "source": [
    "# rf smote with balancing\n",
    "\n",
    "clf = resample_pipeline(SMOTE(),\n",
    "                        RandomForestClassifier(class_weight = 'balanced'))\n",
    "\n",
    "clf.fit(X_train_2d, y_train)\n",
    "\n",
    "save_scores(clf, \n",
    "            X_train_2d, \n",
    "            X_test_2d, \n",
    "            y_train, \n",
    "            y_test, \n",
    "            \"rfbal-spacyvec-smote\")"
   ]
  },
  {
   "cell_type": "code",
   "execution_count": 76,
   "id": "044a5677",
   "metadata": {
    "hidden": true
   },
   "outputs": [
    {
     "data": {
      "text/html": [
       "<div>\n",
       "<style scoped>\n",
       "    .dataframe tbody tr th:only-of-type {\n",
       "        vertical-align: middle;\n",
       "    }\n",
       "\n",
       "    .dataframe tbody tr th {\n",
       "        vertical-align: top;\n",
       "    }\n",
       "\n",
       "    .dataframe thead th {\n",
       "        text-align: right;\n",
       "    }\n",
       "</style>\n",
       "<table border=\"1\" class=\"dataframe\">\n",
       "  <thead>\n",
       "    <tr style=\"text-align: right;\">\n",
       "      <th></th>\n",
       "      <th>F1_0_Train</th>\n",
       "      <th>F1_1_Train</th>\n",
       "      <th>F1_Avg_Train</th>\n",
       "      <th>F1_0_Test</th>\n",
       "      <th>F1_1_Test</th>\n",
       "      <th>F1_Avg_Test</th>\n",
       "    </tr>\n",
       "  </thead>\n",
       "  <tbody>\n",
       "    <tr>\n",
       "      <th>mnb-tfidf-unb-prep</th>\n",
       "      <td>0.926736</td>\n",
       "      <td>0.889803</td>\n",
       "      <td>0.908269</td>\n",
       "      <td>0.836074</td>\n",
       "      <td>0.733850</td>\n",
       "      <td>0.784962</td>\n",
       "    </tr>\n",
       "    <tr>\n",
       "      <th>mnb-tfidf-unb</th>\n",
       "      <td>0.910580</td>\n",
       "      <td>0.859256</td>\n",
       "      <td>0.884918</td>\n",
       "      <td>0.835836</td>\n",
       "      <td>0.715695</td>\n",
       "      <td>0.775766</td>\n",
       "    </tr>\n",
       "    <tr>\n",
       "      <th>mnb-tfidf-smote-def-prep</th>\n",
       "      <td>0.934593</td>\n",
       "      <td>0.911997</td>\n",
       "      <td>0.923295</td>\n",
       "      <td>0.803458</td>\n",
       "      <td>0.739893</td>\n",
       "      <td>0.771676</td>\n",
       "    </tr>\n",
       "    <tr>\n",
       "      <th>mnb-tfidf-smote-prep</th>\n",
       "      <td>0.932492</td>\n",
       "      <td>0.909475</td>\n",
       "      <td>0.920984</td>\n",
       "      <td>0.799768</td>\n",
       "      <td>0.739229</td>\n",
       "      <td>0.769498</td>\n",
       "    </tr>\n",
       "    <tr>\n",
       "      <th>mnb-tfidf-under-prep</th>\n",
       "      <td>0.919994</td>\n",
       "      <td>0.895900</td>\n",
       "      <td>0.907947</td>\n",
       "      <td>0.793184</td>\n",
       "      <td>0.738095</td>\n",
       "      <td>0.765640</td>\n",
       "    </tr>\n",
       "  </tbody>\n",
       "</table>\n",
       "</div>"
      ],
      "text/plain": [
       "                          F1_0_Train  F1_1_Train  F1_Avg_Train  F1_0_Test  \\\n",
       "mnb-tfidf-unb-prep          0.926736    0.889803      0.908269   0.836074   \n",
       "mnb-tfidf-unb               0.910580    0.859256      0.884918   0.835836   \n",
       "mnb-tfidf-smote-def-prep    0.934593    0.911997      0.923295   0.803458   \n",
       "mnb-tfidf-smote-prep        0.932492    0.909475      0.920984   0.799768   \n",
       "mnb-tfidf-under-prep        0.919994    0.895900      0.907947   0.793184   \n",
       "\n",
       "                          F1_1_Test  F1_Avg_Test  \n",
       "mnb-tfidf-unb-prep         0.733850     0.784962  \n",
       "mnb-tfidf-unb              0.715695     0.775766  \n",
       "mnb-tfidf-smote-def-prep   0.739893     0.771676  \n",
       "mnb-tfidf-smote-prep       0.739229     0.769498  \n",
       "mnb-tfidf-under-prep       0.738095     0.765640  "
      ]
     },
     "execution_count": 76,
     "metadata": {},
     "output_type": "execute_result"
    }
   ],
   "source": [
    "scores_df.sort_values(by = 'F1_Avg_Test', ascending = False).head()"
   ]
  },
  {
   "cell_type": "markdown",
   "id": "4c900490",
   "metadata": {
    "heading_collapsed": true
   },
   "source": [
    "# 3. Gensim word vectors"
   ]
  },
  {
   "cell_type": "code",
   "execution_count": 77,
   "id": "25ae435a",
   "metadata": {
    "hidden": true
   },
   "outputs": [],
   "source": [
    "import gensim.downloader as api\n",
    "\n",
    "wv = api.load(\"word2vec-google-news-300\")"
   ]
  },
  {
   "cell_type": "code",
   "execution_count": 78,
   "id": "9e1c20bd",
   "metadata": {
    "hidden": true
   },
   "outputs": [],
   "source": [
    "import pandas as pd\n",
    "df = pd.read_csv('Data/train.csv')"
   ]
  },
  {
   "cell_type": "code",
   "execution_count": 79,
   "id": "e1683710",
   "metadata": {
    "hidden": true
   },
   "outputs": [
    {
     "name": "stdout",
     "output_type": "stream",
     "text": [
      "(7613, 5)\n"
     ]
    },
    {
     "data": {
      "text/html": [
       "<div>\n",
       "<style scoped>\n",
       "    .dataframe tbody tr th:only-of-type {\n",
       "        vertical-align: middle;\n",
       "    }\n",
       "\n",
       "    .dataframe tbody tr th {\n",
       "        vertical-align: top;\n",
       "    }\n",
       "\n",
       "    .dataframe thead th {\n",
       "        text-align: right;\n",
       "    }\n",
       "</style>\n",
       "<table border=\"1\" class=\"dataframe\">\n",
       "  <thead>\n",
       "    <tr style=\"text-align: right;\">\n",
       "      <th></th>\n",
       "      <th>id</th>\n",
       "      <th>keyword</th>\n",
       "      <th>location</th>\n",
       "      <th>text</th>\n",
       "      <th>target</th>\n",
       "    </tr>\n",
       "  </thead>\n",
       "  <tbody>\n",
       "    <tr>\n",
       "      <th>0</th>\n",
       "      <td>1</td>\n",
       "      <td>NaN</td>\n",
       "      <td>NaN</td>\n",
       "      <td>Our Deeds are the Reason of this #earthquake M...</td>\n",
       "      <td>1</td>\n",
       "    </tr>\n",
       "    <tr>\n",
       "      <th>1</th>\n",
       "      <td>4</td>\n",
       "      <td>NaN</td>\n",
       "      <td>NaN</td>\n",
       "      <td>Forest fire near La Ronge Sask. Canada</td>\n",
       "      <td>1</td>\n",
       "    </tr>\n",
       "    <tr>\n",
       "      <th>2</th>\n",
       "      <td>5</td>\n",
       "      <td>NaN</td>\n",
       "      <td>NaN</td>\n",
       "      <td>All residents asked to 'shelter in place' are ...</td>\n",
       "      <td>1</td>\n",
       "    </tr>\n",
       "    <tr>\n",
       "      <th>3</th>\n",
       "      <td>6</td>\n",
       "      <td>NaN</td>\n",
       "      <td>NaN</td>\n",
       "      <td>13,000 people receive #wildfires evacuation or...</td>\n",
       "      <td>1</td>\n",
       "    </tr>\n",
       "    <tr>\n",
       "      <th>4</th>\n",
       "      <td>7</td>\n",
       "      <td>NaN</td>\n",
       "      <td>NaN</td>\n",
       "      <td>Just got sent this photo from Ruby #Alaska as ...</td>\n",
       "      <td>1</td>\n",
       "    </tr>\n",
       "  </tbody>\n",
       "</table>\n",
       "</div>"
      ],
      "text/plain": [
       "   id keyword location                                               text  \\\n",
       "0   1     NaN      NaN  Our Deeds are the Reason of this #earthquake M...   \n",
       "1   4     NaN      NaN             Forest fire near La Ronge Sask. Canada   \n",
       "2   5     NaN      NaN  All residents asked to 'shelter in place' are ...   \n",
       "3   6     NaN      NaN  13,000 people receive #wildfires evacuation or...   \n",
       "4   7     NaN      NaN  Just got sent this photo from Ruby #Alaska as ...   \n",
       "\n",
       "   target  \n",
       "0       1  \n",
       "1       1  \n",
       "2       1  \n",
       "3       1  \n",
       "4       1  "
      ]
     },
     "execution_count": 79,
     "metadata": {},
     "output_type": "execute_result"
    }
   ],
   "source": [
    "print(df.shape)\n",
    "df.head()"
   ]
  },
  {
   "cell_type": "code",
   "execution_count": 80,
   "id": "a04042ff",
   "metadata": {
    "hidden": true
   },
   "outputs": [],
   "source": [
    "# balance classes?"
   ]
  },
  {
   "cell_type": "code",
   "execution_count": 81,
   "id": "5e3bcabb",
   "metadata": {
    "hidden": true
   },
   "outputs": [],
   "source": [
    "# preprocess and get gensim doc vector\n",
    "import spacy\n",
    "\n",
    "nlp = spacy.load(\"en_core_web_lg\")\n",
    "\n",
    "def preprocess_and_vectorize(text):\n",
    "    doc = nlp(text)\n",
    "    \n",
    "    filtered_tokens = []\n",
    "    \n",
    "    for token in doc:\n",
    "        if token.is_punct or token.is_stop:\n",
    "            continue\n",
    "        filtered_tokens.append(token.lemma_)\n",
    "    \n",
    "    return wv.get_mean_vector(filtered_tokens)"
   ]
  },
  {
   "cell_type": "code",
   "execution_count": 82,
   "id": "e7bb4d27",
   "metadata": {
    "hidden": true
   },
   "outputs": [],
   "source": [
    "# convert text into gensim word embeddings\n",
    "\n",
    "df['gensim_vector'] = df['text'].apply(lambda text: preprocess_and_vectorize(text))"
   ]
  },
  {
   "cell_type": "code",
   "execution_count": 83,
   "id": "b633f5ec",
   "metadata": {
    "hidden": true
   },
   "outputs": [
    {
     "data": {
      "text/html": [
       "<div>\n",
       "<style scoped>\n",
       "    .dataframe tbody tr th:only-of-type {\n",
       "        vertical-align: middle;\n",
       "    }\n",
       "\n",
       "    .dataframe tbody tr th {\n",
       "        vertical-align: top;\n",
       "    }\n",
       "\n",
       "    .dataframe thead th {\n",
       "        text-align: right;\n",
       "    }\n",
       "</style>\n",
       "<table border=\"1\" class=\"dataframe\">\n",
       "  <thead>\n",
       "    <tr style=\"text-align: right;\">\n",
       "      <th></th>\n",
       "      <th>id</th>\n",
       "      <th>keyword</th>\n",
       "      <th>location</th>\n",
       "      <th>text</th>\n",
       "      <th>target</th>\n",
       "      <th>gensim_vector</th>\n",
       "    </tr>\n",
       "  </thead>\n",
       "  <tbody>\n",
       "    <tr>\n",
       "      <th>0</th>\n",
       "      <td>1</td>\n",
       "      <td>NaN</td>\n",
       "      <td>NaN</td>\n",
       "      <td>Our Deeds are the Reason of this #earthquake M...</td>\n",
       "      <td>1</td>\n",
       "      <td>[0.05016107, 0.00387215, 0.047061782, 0.028958...</td>\n",
       "    </tr>\n",
       "    <tr>\n",
       "      <th>1</th>\n",
       "      <td>4</td>\n",
       "      <td>NaN</td>\n",
       "      <td>NaN</td>\n",
       "      <td>Forest fire near La Ronge Sask. Canada</td>\n",
       "      <td>1</td>\n",
       "      <td>[0.03064329, 0.0030595234, 0.0369662, 0.020602...</td>\n",
       "    </tr>\n",
       "    <tr>\n",
       "      <th>2</th>\n",
       "      <td>5</td>\n",
       "      <td>NaN</td>\n",
       "      <td>NaN</td>\n",
       "      <td>All residents asked to 'shelter in place' are ...</td>\n",
       "      <td>1</td>\n",
       "      <td>[-0.0048536863, 0.011481234, 0.016771162, -0.0...</td>\n",
       "    </tr>\n",
       "    <tr>\n",
       "      <th>3</th>\n",
       "      <td>6</td>\n",
       "      <td>NaN</td>\n",
       "      <td>NaN</td>\n",
       "      <td>13,000 people receive #wildfires evacuation or...</td>\n",
       "      <td>1</td>\n",
       "      <td>[0.060398173, -0.012511074, -0.0018801317, 0.0...</td>\n",
       "    </tr>\n",
       "    <tr>\n",
       "      <th>4</th>\n",
       "      <td>7</td>\n",
       "      <td>NaN</td>\n",
       "      <td>NaN</td>\n",
       "      <td>Just got sent this photo from Ruby #Alaska as ...</td>\n",
       "      <td>1</td>\n",
       "      <td>[0.021673834, 0.0012636562, -0.031610973, 0.03...</td>\n",
       "    </tr>\n",
       "  </tbody>\n",
       "</table>\n",
       "</div>"
      ],
      "text/plain": [
       "   id keyword location                                               text  \\\n",
       "0   1     NaN      NaN  Our Deeds are the Reason of this #earthquake M...   \n",
       "1   4     NaN      NaN             Forest fire near La Ronge Sask. Canada   \n",
       "2   5     NaN      NaN  All residents asked to 'shelter in place' are ...   \n",
       "3   6     NaN      NaN  13,000 people receive #wildfires evacuation or...   \n",
       "4   7     NaN      NaN  Just got sent this photo from Ruby #Alaska as ...   \n",
       "\n",
       "   target                                      gensim_vector  \n",
       "0       1  [0.05016107, 0.00387215, 0.047061782, 0.028958...  \n",
       "1       1  [0.03064329, 0.0030595234, 0.0369662, 0.020602...  \n",
       "2       1  [-0.0048536863, 0.011481234, 0.016771162, -0.0...  \n",
       "3       1  [0.060398173, -0.012511074, -0.0018801317, 0.0...  \n",
       "4       1  [0.021673834, 0.0012636562, -0.031610973, 0.03...  "
      ]
     },
     "execution_count": 83,
     "metadata": {},
     "output_type": "execute_result"
    }
   ],
   "source": [
    "df.head()"
   ]
  },
  {
   "cell_type": "code",
   "execution_count": 84,
   "id": "5e5fe6a5",
   "metadata": {
    "hidden": true
   },
   "outputs": [],
   "source": [
    "# tts\n",
    "from sklearn.model_selection import train_test_split\n",
    "\n",
    "X_train, X_test, y_train, y_test = train_test_split(\n",
    "    df.gensim_vector.values,\n",
    "    df.target,\n",
    "    test_size = 0.2,\n",
    "    random_state = 2022,\n",
    "    stratify = df.target)"
   ]
  },
  {
   "cell_type": "code",
   "execution_count": 85,
   "id": "0de3c621",
   "metadata": {
    "hidden": true
   },
   "outputs": [],
   "source": [
    "# create 2d np arrays for X train and test sets\n",
    "import numpy as np\n",
    "X_train_2d = np.stack(X_train)\n",
    "X_test_2d = np.stack(X_test)"
   ]
  },
  {
   "cell_type": "code",
   "execution_count": 86,
   "id": "1a4be949",
   "metadata": {
    "hidden": true
   },
   "outputs": [
    {
     "name": "stdout",
     "output_type": "stream",
     "text": [
      "F1_0_Train      0.891286\n",
      "F1_1_Train      0.841212\n",
      "F1_Avg_Train    0.866249\n",
      "F1_0_Test       0.816304\n",
      "F1_1_Test       0.737849\n",
      "F1_Avg_Test     0.777076\n",
      "Name: gbc-gensim, dtype: float64\n"
     ]
    }
   ],
   "source": [
    "# gradient boosting classifier\n",
    "from sklearn.ensemble import GradientBoostingClassifier\n",
    "\n",
    "clf = GradientBoostingClassifier()\n",
    "\n",
    "clf.fit(X_train_2d, y_train)\n",
    "\n",
    "save_scores(clf, \n",
    "            X_train_2d, \n",
    "            X_test_2d, \n",
    "            y_train, \n",
    "            y_test, \n",
    "            \"gbc-gensim\")"
   ]
  },
  {
   "cell_type": "code",
   "execution_count": 87,
   "id": "ffd97049",
   "metadata": {
    "hidden": true
   },
   "outputs": [
    {
     "data": {
      "text/html": [
       "<div>\n",
       "<style scoped>\n",
       "    .dataframe tbody tr th:only-of-type {\n",
       "        vertical-align: middle;\n",
       "    }\n",
       "\n",
       "    .dataframe tbody tr th {\n",
       "        vertical-align: top;\n",
       "    }\n",
       "\n",
       "    .dataframe thead th {\n",
       "        text-align: right;\n",
       "    }\n",
       "</style>\n",
       "<table border=\"1\" class=\"dataframe\">\n",
       "  <thead>\n",
       "    <tr style=\"text-align: right;\">\n",
       "      <th></th>\n",
       "      <th>F1_0_Train</th>\n",
       "      <th>F1_1_Train</th>\n",
       "      <th>F1_Avg_Train</th>\n",
       "      <th>F1_0_Test</th>\n",
       "      <th>F1_1_Test</th>\n",
       "      <th>F1_Avg_Test</th>\n",
       "    </tr>\n",
       "  </thead>\n",
       "  <tbody>\n",
       "    <tr>\n",
       "      <th>mnb-tfidf-unb-prep</th>\n",
       "      <td>0.926736</td>\n",
       "      <td>0.889803</td>\n",
       "      <td>0.908269</td>\n",
       "      <td>0.836074</td>\n",
       "      <td>0.733850</td>\n",
       "      <td>0.784962</td>\n",
       "    </tr>\n",
       "    <tr>\n",
       "      <th>gbc-gensim</th>\n",
       "      <td>0.891286</td>\n",
       "      <td>0.841212</td>\n",
       "      <td>0.866249</td>\n",
       "      <td>0.816304</td>\n",
       "      <td>0.737849</td>\n",
       "      <td>0.777076</td>\n",
       "    </tr>\n",
       "    <tr>\n",
       "      <th>mnb-tfidf-unb</th>\n",
       "      <td>0.910580</td>\n",
       "      <td>0.859256</td>\n",
       "      <td>0.884918</td>\n",
       "      <td>0.835836</td>\n",
       "      <td>0.715695</td>\n",
       "      <td>0.775766</td>\n",
       "    </tr>\n",
       "    <tr>\n",
       "      <th>mnb-tfidf-smote-def-prep</th>\n",
       "      <td>0.934593</td>\n",
       "      <td>0.911997</td>\n",
       "      <td>0.923295</td>\n",
       "      <td>0.803458</td>\n",
       "      <td>0.739893</td>\n",
       "      <td>0.771676</td>\n",
       "    </tr>\n",
       "    <tr>\n",
       "      <th>mnb-tfidf-smote-prep</th>\n",
       "      <td>0.932492</td>\n",
       "      <td>0.909475</td>\n",
       "      <td>0.920984</td>\n",
       "      <td>0.799768</td>\n",
       "      <td>0.739229</td>\n",
       "      <td>0.769498</td>\n",
       "    </tr>\n",
       "  </tbody>\n",
       "</table>\n",
       "</div>"
      ],
      "text/plain": [
       "                          F1_0_Train  F1_1_Train  F1_Avg_Train  F1_0_Test  \\\n",
       "mnb-tfidf-unb-prep          0.926736    0.889803      0.908269   0.836074   \n",
       "gbc-gensim                  0.891286    0.841212      0.866249   0.816304   \n",
       "mnb-tfidf-unb               0.910580    0.859256      0.884918   0.835836   \n",
       "mnb-tfidf-smote-def-prep    0.934593    0.911997      0.923295   0.803458   \n",
       "mnb-tfidf-smote-prep        0.932492    0.909475      0.920984   0.799768   \n",
       "\n",
       "                          F1_1_Test  F1_Avg_Test  \n",
       "mnb-tfidf-unb-prep         0.733850     0.784962  \n",
       "gbc-gensim                 0.737849     0.777076  \n",
       "mnb-tfidf-unb              0.715695     0.775766  \n",
       "mnb-tfidf-smote-def-prep   0.739893     0.771676  \n",
       "mnb-tfidf-smote-prep       0.739229     0.769498  "
      ]
     },
     "execution_count": 87,
     "metadata": {},
     "output_type": "execute_result"
    }
   ],
   "source": [
    "scores_df.sort_values(by = \"F1_Avg_Test\", ascending = False).head()"
   ]
  },
  {
   "cell_type": "markdown",
   "id": "6bda21f6",
   "metadata": {
    "hidden": true
   },
   "source": [
    "more gensim:\n",
    "other models available:\n",
    "- twitter, wiki\n",
    "- glove, fasttext\n",
    "\n",
    "consider gensim models:\n",
    "- glove-twitter-200\n",
    "- word2vec-google-news-300\n",
    "- glove-wiki-gigaword-300"
   ]
  },
  {
   "cell_type": "markdown",
   "id": "51b7e3bd",
   "metadata": {},
   "source": [
    "# Scores"
   ]
  },
  {
   "cell_type": "code",
   "execution_count": 89,
   "id": "b53339db",
   "metadata": {},
   "outputs": [
    {
     "data": {
      "text/html": [
       "<div>\n",
       "<style scoped>\n",
       "    .dataframe tbody tr th:only-of-type {\n",
       "        vertical-align: middle;\n",
       "    }\n",
       "\n",
       "    .dataframe tbody tr th {\n",
       "        vertical-align: top;\n",
       "    }\n",
       "\n",
       "    .dataframe thead th {\n",
       "        text-align: right;\n",
       "    }\n",
       "</style>\n",
       "<table border=\"1\" class=\"dataframe\">\n",
       "  <thead>\n",
       "    <tr style=\"text-align: right;\">\n",
       "      <th></th>\n",
       "      <th>F1_0_Train</th>\n",
       "      <th>F1_1_Train</th>\n",
       "      <th>F1_Avg_Train</th>\n",
       "      <th>F1_0_Test</th>\n",
       "      <th>F1_1_Test</th>\n",
       "      <th>F1_Avg_Test</th>\n",
       "    </tr>\n",
       "  </thead>\n",
       "  <tbody>\n",
       "    <tr>\n",
       "      <th>mnb-tfidf-unb-prep</th>\n",
       "      <td>0.926736</td>\n",
       "      <td>0.889803</td>\n",
       "      <td>0.908269</td>\n",
       "      <td>0.836074</td>\n",
       "      <td>0.733850</td>\n",
       "      <td>0.784962</td>\n",
       "    </tr>\n",
       "    <tr>\n",
       "      <th>gbc-gensim</th>\n",
       "      <td>0.891286</td>\n",
       "      <td>0.841212</td>\n",
       "      <td>0.866249</td>\n",
       "      <td>0.816304</td>\n",
       "      <td>0.737849</td>\n",
       "      <td>0.777076</td>\n",
       "    </tr>\n",
       "    <tr>\n",
       "      <th>mnb-tfidf-unb</th>\n",
       "      <td>0.910580</td>\n",
       "      <td>0.859256</td>\n",
       "      <td>0.884918</td>\n",
       "      <td>0.835836</td>\n",
       "      <td>0.715695</td>\n",
       "      <td>0.775766</td>\n",
       "    </tr>\n",
       "    <tr>\n",
       "      <th>mnb-tfidf-smote-def-prep</th>\n",
       "      <td>0.934593</td>\n",
       "      <td>0.911997</td>\n",
       "      <td>0.923295</td>\n",
       "      <td>0.803458</td>\n",
       "      <td>0.739893</td>\n",
       "      <td>0.771676</td>\n",
       "    </tr>\n",
       "    <tr>\n",
       "      <th>mnb-tfidf-smote-prep</th>\n",
       "      <td>0.932492</td>\n",
       "      <td>0.909475</td>\n",
       "      <td>0.920984</td>\n",
       "      <td>0.799768</td>\n",
       "      <td>0.739229</td>\n",
       "      <td>0.769498</td>\n",
       "    </tr>\n",
       "    <tr>\n",
       "      <th>mnb-tfidf-under-prep</th>\n",
       "      <td>0.919994</td>\n",
       "      <td>0.895900</td>\n",
       "      <td>0.907947</td>\n",
       "      <td>0.793184</td>\n",
       "      <td>0.738095</td>\n",
       "      <td>0.765640</td>\n",
       "    </tr>\n",
       "    <tr>\n",
       "      <th>rf-tfidf-under-prep</th>\n",
       "      <td>0.979029</td>\n",
       "      <td>0.973326</td>\n",
       "      <td>0.976178</td>\n",
       "      <td>0.815176</td>\n",
       "      <td>0.716070</td>\n",
       "      <td>0.765623</td>\n",
       "    </tr>\n",
       "    <tr>\n",
       "      <th>mnb-tfidf-over-prep</th>\n",
       "      <td>0.935604</td>\n",
       "      <td>0.913328</td>\n",
       "      <td>0.924466</td>\n",
       "      <td>0.792803</td>\n",
       "      <td>0.730159</td>\n",
       "      <td>0.761481</td>\n",
       "    </tr>\n",
       "    <tr>\n",
       "      <th>rf-tfidf-smote-prep</th>\n",
       "      <td>0.997554</td>\n",
       "      <td>0.996749</td>\n",
       "      <td>0.997152</td>\n",
       "      <td>0.822917</td>\n",
       "      <td>0.698046</td>\n",
       "      <td>0.760481</td>\n",
       "    </tr>\n",
       "    <tr>\n",
       "      <th>knn-tfidf-unb</th>\n",
       "      <td>0.865827</td>\n",
       "      <td>0.799016</td>\n",
       "      <td>0.832421</td>\n",
       "      <td>0.808234</td>\n",
       "      <td>0.705000</td>\n",
       "      <td>0.756617</td>\n",
       "    </tr>\n",
       "    <tr>\n",
       "      <th>rf-tfidf-over-prep</th>\n",
       "      <td>0.997553</td>\n",
       "      <td>0.996751</td>\n",
       "      <td>0.997152</td>\n",
       "      <td>0.818182</td>\n",
       "      <td>0.692580</td>\n",
       "      <td>0.755381</td>\n",
       "    </tr>\n",
       "    <tr>\n",
       "      <th>rf-tfidf-unb-prep</th>\n",
       "      <td>0.997554</td>\n",
       "      <td>0.996749</td>\n",
       "      <td>0.997152</td>\n",
       "      <td>0.819824</td>\n",
       "      <td>0.685302</td>\n",
       "      <td>0.752563</td>\n",
       "    </tr>\n",
       "    <tr>\n",
       "      <th>knn-tfidf-unb-prep</th>\n",
       "      <td>0.865442</td>\n",
       "      <td>0.791545</td>\n",
       "      <td>0.828493</td>\n",
       "      <td>0.805391</td>\n",
       "      <td>0.696893</td>\n",
       "      <td>0.751142</td>\n",
       "    </tr>\n",
       "    <tr>\n",
       "      <th>rf-spacyvec-over</th>\n",
       "      <td>0.990378</td>\n",
       "      <td>0.987157</td>\n",
       "      <td>0.988768</td>\n",
       "      <td>0.798683</td>\n",
       "      <td>0.699918</td>\n",
       "      <td>0.749301</td>\n",
       "    </tr>\n",
       "    <tr>\n",
       "      <th>rf-tfidf-unb</th>\n",
       "      <td>0.997411</td>\n",
       "      <td>0.996557</td>\n",
       "      <td>0.996984</td>\n",
       "      <td>0.820487</td>\n",
       "      <td>0.670391</td>\n",
       "      <td>0.745439</td>\n",
       "    </tr>\n",
       "    <tr>\n",
       "      <th>knn-tfidf-under-prep</th>\n",
       "      <td>0.850883</td>\n",
       "      <td>0.793340</td>\n",
       "      <td>0.822112</td>\n",
       "      <td>0.786238</td>\n",
       "      <td>0.702278</td>\n",
       "      <td>0.744258</td>\n",
       "    </tr>\n",
       "    <tr>\n",
       "      <th>rf-spacyvec-smote</th>\n",
       "      <td>0.990820</td>\n",
       "      <td>0.987711</td>\n",
       "      <td>0.989266</td>\n",
       "      <td>0.794085</td>\n",
       "      <td>0.691803</td>\n",
       "      <td>0.742944</td>\n",
       "    </tr>\n",
       "    <tr>\n",
       "      <th>knn-tfidf-over-prep</th>\n",
       "      <td>0.857910</td>\n",
       "      <td>0.803211</td>\n",
       "      <td>0.830561</td>\n",
       "      <td>0.783982</td>\n",
       "      <td>0.699136</td>\n",
       "      <td>0.741559</td>\n",
       "    </tr>\n",
       "    <tr>\n",
       "      <th>rf-spacyvec-unb</th>\n",
       "      <td>0.990834</td>\n",
       "      <td>0.987688</td>\n",
       "      <td>0.989261</td>\n",
       "      <td>0.800000</td>\n",
       "      <td>0.679761</td>\n",
       "      <td>0.739880</td>\n",
       "    </tr>\n",
       "    <tr>\n",
       "      <th>rfbal-spacyvec-over</th>\n",
       "      <td>0.990668</td>\n",
       "      <td>0.987536</td>\n",
       "      <td>0.989102</td>\n",
       "      <td>0.794150</td>\n",
       "      <td>0.683333</td>\n",
       "      <td>0.738741</td>\n",
       "    </tr>\n",
       "    <tr>\n",
       "      <th>rfbal-spacyvec-under</th>\n",
       "      <td>0.966441</td>\n",
       "      <td>0.957668</td>\n",
       "      <td>0.962055</td>\n",
       "      <td>0.774527</td>\n",
       "      <td>0.698388</td>\n",
       "      <td>0.736458</td>\n",
       "    </tr>\n",
       "    <tr>\n",
       "      <th>rfbal-spacyvec-smote</th>\n",
       "      <td>0.990528</td>\n",
       "      <td>0.987337</td>\n",
       "      <td>0.988933</td>\n",
       "      <td>0.789732</td>\n",
       "      <td>0.683128</td>\n",
       "      <td>0.736430</td>\n",
       "    </tr>\n",
       "    <tr>\n",
       "      <th>rf-spacyvec-under</th>\n",
       "      <td>0.964317</td>\n",
       "      <td>0.955169</td>\n",
       "      <td>0.959743</td>\n",
       "      <td>0.777149</td>\n",
       "      <td>0.691706</td>\n",
       "      <td>0.734428</td>\n",
       "    </tr>\n",
       "    <tr>\n",
       "      <th>knn-spacyvec-unb</th>\n",
       "      <td>0.842459</td>\n",
       "      <td>0.776741</td>\n",
       "      <td>0.809600</td>\n",
       "      <td>0.754886</td>\n",
       "      <td>0.650199</td>\n",
       "      <td>0.702542</td>\n",
       "    </tr>\n",
       "    <tr>\n",
       "      <th>knndef-spacyvec-under</th>\n",
       "      <td>0.817340</td>\n",
       "      <td>0.768744</td>\n",
       "      <td>0.793042</td>\n",
       "      <td>0.725444</td>\n",
       "      <td>0.657817</td>\n",
       "      <td>0.691630</td>\n",
       "    </tr>\n",
       "    <tr>\n",
       "      <th>knndef-spacyvec-over</th>\n",
       "      <td>0.829743</td>\n",
       "      <td>0.786375</td>\n",
       "      <td>0.808059</td>\n",
       "      <td>0.720475</td>\n",
       "      <td>0.653931</td>\n",
       "      <td>0.687203</td>\n",
       "    </tr>\n",
       "    <tr>\n",
       "      <th>knn-spacyvec-over</th>\n",
       "      <td>0.827688</td>\n",
       "      <td>0.785016</td>\n",
       "      <td>0.806352</td>\n",
       "      <td>0.720614</td>\n",
       "      <td>0.650407</td>\n",
       "      <td>0.685510</td>\n",
       "    </tr>\n",
       "    <tr>\n",
       "      <th>knn-spacyvec-under</th>\n",
       "      <td>0.809453</td>\n",
       "      <td>0.764857</td>\n",
       "      <td>0.787155</td>\n",
       "      <td>0.714370</td>\n",
       "      <td>0.643542</td>\n",
       "      <td>0.678956</td>\n",
       "    </tr>\n",
       "    <tr>\n",
       "      <th>mnb-spacyvec-unb</th>\n",
       "      <td>0.707195</td>\n",
       "      <td>0.628678</td>\n",
       "      <td>0.667937</td>\n",
       "      <td>0.704639</td>\n",
       "      <td>0.625465</td>\n",
       "      <td>0.665052</td>\n",
       "    </tr>\n",
       "    <tr>\n",
       "      <th>mnb-spacyvec-smote</th>\n",
       "      <td>0.675564</td>\n",
       "      <td>0.653075</td>\n",
       "      <td>0.664320</td>\n",
       "      <td>0.666240</td>\n",
       "      <td>0.647773</td>\n",
       "      <td>0.657007</td>\n",
       "    </tr>\n",
       "    <tr>\n",
       "      <th>mnb-spacyvec-under</th>\n",
       "      <td>0.675980</td>\n",
       "      <td>0.652950</td>\n",
       "      <td>0.664465</td>\n",
       "      <td>0.666240</td>\n",
       "      <td>0.647773</td>\n",
       "      <td>0.657007</td>\n",
       "    </tr>\n",
       "    <tr>\n",
       "      <th>mnb-spacyvec-over</th>\n",
       "      <td>0.676186</td>\n",
       "      <td>0.652714</td>\n",
       "      <td>0.664450</td>\n",
       "      <td>0.665387</td>\n",
       "      <td>0.647336</td>\n",
       "      <td>0.656362</td>\n",
       "    </tr>\n",
       "    <tr>\n",
       "      <th>knn-spacyvec-smote</th>\n",
       "      <td>0.780480</td>\n",
       "      <td>0.768634</td>\n",
       "      <td>0.774557</td>\n",
       "      <td>0.652687</td>\n",
       "      <td>0.651316</td>\n",
       "      <td>0.652001</td>\n",
       "    </tr>\n",
       "    <tr>\n",
       "      <th>knndef-spacyvec-smote</th>\n",
       "      <td>0.784936</td>\n",
       "      <td>0.774074</td>\n",
       "      <td>0.779505</td>\n",
       "      <td>0.652259</td>\n",
       "      <td>0.650428</td>\n",
       "      <td>0.651344</td>\n",
       "    </tr>\n",
       "    <tr>\n",
       "      <th>knn-tfidf-smote-prep</th>\n",
       "      <td>0.448329</td>\n",
       "      <td>0.667894</td>\n",
       "      <td>0.558111</td>\n",
       "      <td>0.413913</td>\n",
       "      <td>0.644515</td>\n",
       "      <td>0.529214</td>\n",
       "    </tr>\n",
       "  </tbody>\n",
       "</table>\n",
       "</div>"
      ],
      "text/plain": [
       "                          F1_0_Train  F1_1_Train  F1_Avg_Train  F1_0_Test  \\\n",
       "mnb-tfidf-unb-prep          0.926736    0.889803      0.908269   0.836074   \n",
       "gbc-gensim                  0.891286    0.841212      0.866249   0.816304   \n",
       "mnb-tfidf-unb               0.910580    0.859256      0.884918   0.835836   \n",
       "mnb-tfidf-smote-def-prep    0.934593    0.911997      0.923295   0.803458   \n",
       "mnb-tfidf-smote-prep        0.932492    0.909475      0.920984   0.799768   \n",
       "mnb-tfidf-under-prep        0.919994    0.895900      0.907947   0.793184   \n",
       "rf-tfidf-under-prep         0.979029    0.973326      0.976178   0.815176   \n",
       "mnb-tfidf-over-prep         0.935604    0.913328      0.924466   0.792803   \n",
       "rf-tfidf-smote-prep         0.997554    0.996749      0.997152   0.822917   \n",
       "knn-tfidf-unb               0.865827    0.799016      0.832421   0.808234   \n",
       "rf-tfidf-over-prep          0.997553    0.996751      0.997152   0.818182   \n",
       "rf-tfidf-unb-prep           0.997554    0.996749      0.997152   0.819824   \n",
       "knn-tfidf-unb-prep          0.865442    0.791545      0.828493   0.805391   \n",
       "rf-spacyvec-over            0.990378    0.987157      0.988768   0.798683   \n",
       "rf-tfidf-unb                0.997411    0.996557      0.996984   0.820487   \n",
       "knn-tfidf-under-prep        0.850883    0.793340      0.822112   0.786238   \n",
       "rf-spacyvec-smote           0.990820    0.987711      0.989266   0.794085   \n",
       "knn-tfidf-over-prep         0.857910    0.803211      0.830561   0.783982   \n",
       "rf-spacyvec-unb             0.990834    0.987688      0.989261   0.800000   \n",
       "rfbal-spacyvec-over         0.990668    0.987536      0.989102   0.794150   \n",
       "rfbal-spacyvec-under        0.966441    0.957668      0.962055   0.774527   \n",
       "rfbal-spacyvec-smote        0.990528    0.987337      0.988933   0.789732   \n",
       "rf-spacyvec-under           0.964317    0.955169      0.959743   0.777149   \n",
       "knn-spacyvec-unb            0.842459    0.776741      0.809600   0.754886   \n",
       "knndef-spacyvec-under       0.817340    0.768744      0.793042   0.725444   \n",
       "knndef-spacyvec-over        0.829743    0.786375      0.808059   0.720475   \n",
       "knn-spacyvec-over           0.827688    0.785016      0.806352   0.720614   \n",
       "knn-spacyvec-under          0.809453    0.764857      0.787155   0.714370   \n",
       "mnb-spacyvec-unb            0.707195    0.628678      0.667937   0.704639   \n",
       "mnb-spacyvec-smote          0.675564    0.653075      0.664320   0.666240   \n",
       "mnb-spacyvec-under          0.675980    0.652950      0.664465   0.666240   \n",
       "mnb-spacyvec-over           0.676186    0.652714      0.664450   0.665387   \n",
       "knn-spacyvec-smote          0.780480    0.768634      0.774557   0.652687   \n",
       "knndef-spacyvec-smote       0.784936    0.774074      0.779505   0.652259   \n",
       "knn-tfidf-smote-prep        0.448329    0.667894      0.558111   0.413913   \n",
       "\n",
       "                          F1_1_Test  F1_Avg_Test  \n",
       "mnb-tfidf-unb-prep         0.733850     0.784962  \n",
       "gbc-gensim                 0.737849     0.777076  \n",
       "mnb-tfidf-unb              0.715695     0.775766  \n",
       "mnb-tfidf-smote-def-prep   0.739893     0.771676  \n",
       "mnb-tfidf-smote-prep       0.739229     0.769498  \n",
       "mnb-tfidf-under-prep       0.738095     0.765640  \n",
       "rf-tfidf-under-prep        0.716070     0.765623  \n",
       "mnb-tfidf-over-prep        0.730159     0.761481  \n",
       "rf-tfidf-smote-prep        0.698046     0.760481  \n",
       "knn-tfidf-unb              0.705000     0.756617  \n",
       "rf-tfidf-over-prep         0.692580     0.755381  \n",
       "rf-tfidf-unb-prep          0.685302     0.752563  \n",
       "knn-tfidf-unb-prep         0.696893     0.751142  \n",
       "rf-spacyvec-over           0.699918     0.749301  \n",
       "rf-tfidf-unb               0.670391     0.745439  \n",
       "knn-tfidf-under-prep       0.702278     0.744258  \n",
       "rf-spacyvec-smote          0.691803     0.742944  \n",
       "knn-tfidf-over-prep        0.699136     0.741559  \n",
       "rf-spacyvec-unb            0.679761     0.739880  \n",
       "rfbal-spacyvec-over        0.683333     0.738741  \n",
       "rfbal-spacyvec-under       0.698388     0.736458  \n",
       "rfbal-spacyvec-smote       0.683128     0.736430  \n",
       "rf-spacyvec-under          0.691706     0.734428  \n",
       "knn-spacyvec-unb           0.650199     0.702542  \n",
       "knndef-spacyvec-under      0.657817     0.691630  \n",
       "knndef-spacyvec-over       0.653931     0.687203  \n",
       "knn-spacyvec-over          0.650407     0.685510  \n",
       "knn-spacyvec-under         0.643542     0.678956  \n",
       "mnb-spacyvec-unb           0.625465     0.665052  \n",
       "mnb-spacyvec-smote         0.647773     0.657007  \n",
       "mnb-spacyvec-under         0.647773     0.657007  \n",
       "mnb-spacyvec-over          0.647336     0.656362  \n",
       "knn-spacyvec-smote         0.651316     0.652001  \n",
       "knndef-spacyvec-smote      0.650428     0.651344  \n",
       "knn-tfidf-smote-prep       0.644515     0.529214  "
      ]
     },
     "execution_count": 89,
     "metadata": {},
     "output_type": "execute_result"
    }
   ],
   "source": [
    "scores_df.sort_values(by = 'F1_Avg_Test', ascending = False)"
   ]
  },
  {
   "cell_type": "code",
   "execution_count": null,
   "id": "61957e40",
   "metadata": {},
   "outputs": [],
   "source": []
  }
 ],
 "metadata": {
  "kernelspec": {
   "display_name": "Python 3 (ipykernel)",
   "language": "python",
   "name": "python3"
  },
  "language_info": {
   "codemirror_mode": {
    "name": "ipython",
    "version": 3
   },
   "file_extension": ".py",
   "mimetype": "text/x-python",
   "name": "python",
   "nbconvert_exporter": "python",
   "pygments_lexer": "ipython3",
   "version": "3.9.15"
  },
  "toc": {
   "base_numbering": 1,
   "nav_menu": {},
   "number_sections": false,
   "sideBar": true,
   "skip_h1_title": false,
   "title_cell": "Table of Contents",
   "title_sidebar": "Contents",
   "toc_cell": false,
   "toc_position": {},
   "toc_section_display": true,
   "toc_window_display": false
  }
 },
 "nbformat": 4,
 "nbformat_minor": 5
}
