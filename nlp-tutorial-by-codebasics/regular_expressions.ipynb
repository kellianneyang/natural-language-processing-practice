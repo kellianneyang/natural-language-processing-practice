{
 "cells": [
  {
   "cell_type": "markdown",
   "id": "a5caabc0",
   "metadata": {},
   "source": [
    "# Regular Expressions\n",
    "\n",
    "Video: https://www.youtube.com/watch?v=sHw5hLYFaIw\n",
    "\n",
    "Notebook: https://github.com/codebasics/py/blob/master/Advanced/regex/regex_tutorial_python.ipynb"
   ]
  },
  {
   "cell_type": "code",
   "execution_count": 31,
   "id": "db9320e4",
   "metadata": {},
   "outputs": [],
   "source": [
    "import re"
   ]
  },
  {
   "cell_type": "markdown",
   "id": "e4d76d85",
   "metadata": {},
   "source": [
    "## 1. Extract phone numbers"
   ]
  },
  {
   "cell_type": "code",
   "execution_count": 32,
   "id": "9993755f",
   "metadata": {},
   "outputs": [],
   "source": [
    "text = \"\"\"\n",
    "Elon musk's phone number is 9991116666, call him if you \n",
    "have any questions on dodgecoin. Tesla's revenue is 40 \n",
    "billion Tesla's CFO number (999)-333-7777\n",
    "\"\"\""
   ]
  },
  {
   "cell_type": "code",
   "execution_count": 33,
   "id": "304f0716",
   "metadata": {},
   "outputs": [],
   "source": [
    "# regex for a DIGIT: \\d\n",
    "\n",
    "# regex for any sequence of digits: \\d{3} (where 3 is\n",
    "# the length of the sequence)\n",
    "\n",
    "# regex for OR: |\n",
    "pattern = '\\(\\d{3}\\)-\\d{3}-\\d{4}|\\d{10}'"
   ]
  },
  {
   "cell_type": "code",
   "execution_count": 34,
   "id": "80b35d98",
   "metadata": {},
   "outputs": [
    {
     "data": {
      "text/plain": [
       "['9991116666', '(999)-333-7777']"
      ]
     },
     "execution_count": 34,
     "metadata": {},
     "output_type": "execute_result"
    }
   ],
   "source": [
    "# find ALL matches\n",
    "matches = re.findall(pattern, text)\n",
    "matches"
   ]
  },
  {
   "cell_type": "code",
   "execution_count": 39,
   "id": "8502f678",
   "metadata": {},
   "outputs": [],
   "source": [
    "chat = \"\"\"\n",
    "codebasics: you ask a lot of questions :) 1234567891, abc@xyz.com\n",
    "codebasics: here it is: (123)-567-8912 email: abc@xyz.com\n",
    "codebasics: yes, phone: 1234567891 email: abc@xyz.com abX_02@hg.pu\n",
    "\"\"\""
   ]
  },
  {
   "cell_type": "code",
   "execution_count": 36,
   "id": "77e2040c",
   "metadata": {},
   "outputs": [
    {
     "data": {
      "text/plain": [
       "['1234567891', '(123)-567-8912', '1234567891']"
      ]
     },
     "execution_count": 36,
     "metadata": {},
     "output_type": "execute_result"
    }
   ],
   "source": [
    "matches = re.findall(pattern, chat)\n",
    "matches"
   ]
  },
  {
   "cell_type": "code",
   "execution_count": 42,
   "id": "3c5145fc",
   "metadata": {},
   "outputs": [],
   "source": [
    "# dot: \\.\n",
    "# any non-whitespace character: \\S\n",
    "# any whitespace character: \\s\n",
    "# two or three of a: a{2,3}\n",
    "# any character in range a-z, A-Z, and _: [a-zA-Z_]\n",
    "pattern = '\\S+@{1}\\S+\\.{1}[a-zA-Z]{2,3}'"
   ]
  },
  {
   "cell_type": "code",
   "execution_count": 43,
   "id": "3fe66e55",
   "metadata": {},
   "outputs": [
    {
     "data": {
      "text/plain": [
       "['abc@xyz.com', 'abc@xyz.com', 'abc@xyz.com', 'abX_02@hg.pu']"
      ]
     },
     "execution_count": 43,
     "metadata": {},
     "output_type": "execute_result"
    }
   ],
   "source": [
    "matches = re.findall(pattern, chat)\n",
    "matches"
   ]
  },
  {
   "cell_type": "markdown",
   "id": "cb726af8",
   "metadata": {},
   "source": [
    "## 2. Extract note titles"
   ]
  },
  {
   "cell_type": "code",
   "execution_count": 9,
   "id": "9c554445",
   "metadata": {},
   "outputs": [],
   "source": [
    "text = '''\n",
    "Note 1 - Overview\n",
    "Tesla, Inc. (“Tesla”, the “Company”, “we”, “us” or “our”) was incorporated in the State of Delaware on July 1, 2003. We design, develop, manufacture and sell high-performance fully electric vehicles and design, manufacture, install and sell solar energy generation and energy storage\n",
    "products. Our Chief Executive Officer, as the chief operating decision maker (“CODM”), organizes our company, manages resource allocations and measures performance among two operating and reportable segments: (i) automotive and (ii) energy generation and storage.\n",
    "Beginning in the first quarter of 2021, there has been a trend in many parts of the world of increasing availability and administration of vaccines\n",
    "against COVID-19, as well as an easing of restrictions on social, business, travel and government activities and functions. On the other hand, infection\n",
    "rates and regulations continue to fluctuate in various regions and there are ongoing global impacts resulting from the pandemic, including challenges\n",
    "and increases in costs for logistics and supply chains, such as increased port congestion, intermittent supplier delays and a shortfall of semiconductor\n",
    "supply. We have also previously been affected by temporary manufacturing closures, employment and compensation adjustments and impediments to\n",
    "administrative activities supporting our product deliveries and deployments.\n",
    "Note 2 - Summary of Significant Accounting Policies\n",
    "Unaudited Interim Financial Statements\n",
    "The consolidated balance sheet as of September 30, 2021, the consolidated statements of operations, the consolidated statements of\n",
    "comprehensive income, the consolidated statements of redeemable noncontrolling interests and equity for the three and nine months ended September\n",
    "30, 2021 and 2020 and the consolidated statements of cash flows for the nine months ended September 30, 2021 and 2020, as well as other information\n",
    "disclosed in the accompanying notes, are unaudited. The consolidated balance sheet as of December 31, 2020 was derived from the audited\n",
    "consolidated financial statements as of that date. The interim consolidated financial statements and the accompanying notes should be read in\n",
    "conjunction with the annual consolidated financial statements and the accompanying notes contained in our Annual Report on Form 10-K for the year\n",
    "ended December 31, 2020.\n",
    "'''"
   ]
  },
  {
   "cell_type": "markdown",
   "id": "aa8822b8",
   "metadata": {},
   "source": [
    "We want to capture the subtitle \"Note\" with the number after it and the title of the note (all the text until the new line character)."
   ]
  },
  {
   "cell_type": "code",
   "execution_count": 10,
   "id": "4badf762",
   "metadata": {},
   "outputs": [],
   "source": [
    "# regex for ANY CHAR EXCEPT: [^\\n] (where \\n is the \n",
    "# character you don't want to find)\n",
    "\n",
    "# regex for ONE OR MORE CHAR: + (after character that\n",
    "# may be repeated)\n",
    "\n",
    "# regex for ZERO OR MORE CHAR: * (after character that\n",
    "# may or may not exist, and may be repeated any number\n",
    "# of times if it exists)\n",
    "\n",
    "pattern = 'Note \\d - [^\\n]*'"
   ]
  },
  {
   "cell_type": "code",
   "execution_count": 11,
   "id": "abd3702e",
   "metadata": {},
   "outputs": [
    {
     "data": {
      "text/plain": [
       "['Note 1 - Overview', 'Note 2 - Summary of Significant Accounting Policies']"
      ]
     },
     "execution_count": 11,
     "metadata": {},
     "output_type": "execute_result"
    }
   ],
   "source": [
    "# find ALL matches\n",
    "matches = re.findall(pattern, text)\n",
    "matches"
   ]
  },
  {
   "cell_type": "markdown",
   "id": "01815931",
   "metadata": {},
   "source": [
    "Now we want only the titles of the notes (without the word \"Note\" and its number before it). "
   ]
  },
  {
   "cell_type": "code",
   "execution_count": 12,
   "id": "bcf54048",
   "metadata": {},
   "outputs": [],
   "source": [
    "# use the same pattern to match on, but put everything you\n",
    "# want to get extracted in brackets ()\n",
    "# aka CAPTURE EVERYTHING ENCLOSED\n",
    "\n",
    "pattern = 'Note \\d - ([^\\n]*)'"
   ]
  },
  {
   "cell_type": "code",
   "execution_count": 13,
   "id": "70d7d5f2",
   "metadata": {},
   "outputs": [
    {
     "data": {
      "text/plain": [
       "['Overview', 'Summary of Significant Accounting Policies']"
      ]
     },
     "execution_count": 13,
     "metadata": {},
     "output_type": "execute_result"
    }
   ],
   "source": [
    "# find ALL matches\n",
    "matches = re.findall(pattern, text)\n",
    "matches"
   ]
  },
  {
   "cell_type": "markdown",
   "id": "5fc2bf9f",
   "metadata": {},
   "source": [
    "## 3. Extract financial periods from a company's financial reporting"
   ]
  },
  {
   "cell_type": "code",
   "execution_count": 14,
   "id": "16b5515a",
   "metadata": {},
   "outputs": [],
   "source": [
    "text = '''\n",
    "The gross cost of operating lease vehicles in FY2021 Q1 was $4.85 billion.\n",
    "In previous quarter i.e. FY2020 Q4 it was $3 billion. \n",
    "FY2030 Q5 \n",
    "fy2030 q3\n",
    "'''"
   ]
  },
  {
   "cell_type": "code",
   "execution_count": 15,
   "id": "d08204c0",
   "metadata": {},
   "outputs": [],
   "source": [
    "# to match on 1 OR 2 OR 3 OR 4:\n",
    "# [1234] (or give range: [1-4])\n",
    "\n",
    "pattern = \"FY(\\d{4} Q[1-4])\""
   ]
  },
  {
   "cell_type": "code",
   "execution_count": 16,
   "id": "c31368af",
   "metadata": {},
   "outputs": [
    {
     "data": {
      "text/plain": [
       "['2021 Q1', '2020 Q4', '2030 q3']"
      ]
     },
     "execution_count": 16,
     "metadata": {},
     "output_type": "execute_result"
    }
   ],
   "source": [
    "# find ALL matches\n",
    "# ignore case: add flags argument to re.findall\n",
    "matches = re.findall(pattern, text, flags = re.IGNORECASE)\n",
    "matches"
   ]
  },
  {
   "cell_type": "markdown",
   "id": "8819ad3e",
   "metadata": {},
   "source": [
    "## 4. Extract order numbers"
   ]
  },
  {
   "cell_type": "code",
   "execution_count": 44,
   "id": "05f8dc10",
   "metadata": {},
   "outputs": [],
   "source": [
    "text = \"\"\"\n",
    "codebasics: Hello, I am having an issue with my order # 412889912\n",
    "codebasics: I have a problem with my order number 412889912\n",
    "codebasics: My order 412889912 is having an issue, I was charged 300$ when \n",
    "online it says 280$\n",
    "\"\"\""
   ]
  },
  {
   "cell_type": "code",
   "execution_count": 50,
   "id": "2f48947d",
   "metadata": {},
   "outputs": [],
   "source": [
    "# return what's in parentheses ()\n",
    "# not: ^\n",
    "pattern = 'order[^\\d]*(\\d*)'"
   ]
  },
  {
   "cell_type": "code",
   "execution_count": 51,
   "id": "2a503aaa",
   "metadata": {},
   "outputs": [
    {
     "data": {
      "text/plain": [
       "['412889912', '412889912', '412889912']"
      ]
     },
     "execution_count": 51,
     "metadata": {},
     "output_type": "execute_result"
    }
   ],
   "source": [
    "matches = re.findall(pattern, text)\n",
    "matches"
   ]
  },
  {
   "cell_type": "markdown",
   "id": "0e603117",
   "metadata": {},
   "source": [
    "## 5. ## 6. Extract full name, birthdate, birthplace, and age from wikipedia"
   ]
  },
  {
   "cell_type": "code",
   "execution_count": 52,
   "id": "0929902c",
   "metadata": {},
   "outputs": [],
   "source": [
    "text = \"\"\"\n",
    "Official portrait, 2021\n",
    "46th President of the United States\n",
    "Incumbent\n",
    "Assumed office\n",
    "January 20, 2021\n",
    "Vice President\tKamala Harris\n",
    "Preceded by\tDonald Trump\n",
    "47th Vice President of the United States\n",
    "In office\n",
    "January 20, 2009 – January 20, 2017\n",
    "President\tBarack Obama\n",
    "Preceded by\tDick Cheney\n",
    "Succeeded by\tMike Pence\n",
    "United States Senator\n",
    "from Delaware\n",
    "In office\n",
    "January 3, 1973 – January 15, 2009\n",
    "Preceded by\tJ. Caleb Boggs\n",
    "Succeeded by\tTed Kaufman\n",
    "Member of the New Castle County Council\n",
    "from the 4th district\n",
    "In office\n",
    "January 5, 1971 – January 3, 1973\n",
    "Preceded by\tLawrence T. Messick\n",
    "Succeeded by\tFrancis R. Swift\n",
    "Personal details\n",
    "Born\tJoseph Robinette Biden Jr.\n",
    "November 20, 1942 (age 80)\n",
    "Scranton, Pennsylvania, U.S.\n",
    "Political party\tDemocratic (since 1969)\n",
    "Other political\n",
    "affiliations\tIndependent (before 1969)\n",
    "Spouses\t\n",
    "Neilia Hunter\n",
    "​\n",
    "​(m. 1966; died 1972)​\n",
    "Jill Jacobs ​(m. 1977)​\n",
    "Children\t\n",
    "BeauHunterNaomiAshley\n",
    "Relatives\tBiden family\n",
    "Residence\t\n",
    "White House\n",
    "Alma mater\t\n",
    "University of Delaware (BA)\n",
    "Syracuse University (JD)\n",
    "Occupation\t\n",
    "Politicianlawyerauthor\n",
    "Awards\tList of honors and awards\n",
    "Signature\tCursive signature in ink\n",
    "Website\t\n",
    "Campaign website\n",
    "White House website\n",
    "\"\"\""
   ]
  },
  {
   "cell_type": "code",
   "execution_count": 53,
   "id": "463916f9",
   "metadata": {},
   "outputs": [],
   "source": [
    "pattern = 'age (\\d+)'"
   ]
  },
  {
   "cell_type": "code",
   "execution_count": 54,
   "id": "46e0d320",
   "metadata": {},
   "outputs": [
    {
     "data": {
      "text/plain": [
       "['80']"
      ]
     },
     "execution_count": 54,
     "metadata": {},
     "output_type": "execute_result"
    }
   ],
   "source": [
    "matches = re.findall(pattern, text)\n",
    "matches"
   ]
  },
  {
   "cell_type": "code",
   "execution_count": 55,
   "id": "b28af86f",
   "metadata": {},
   "outputs": [
    {
     "data": {
      "text/plain": [
       "['Joseph Robinette Biden Jr.']"
      ]
     },
     "execution_count": 55,
     "metadata": {},
     "output_type": "execute_result"
    }
   ],
   "source": [
    "pattern = 'Born[\\s](.+)\\n'\n",
    "matches = re.findall(pattern, text)\n",
    "matches"
   ]
  },
  {
   "cell_type": "code",
   "execution_count": 58,
   "id": "a07558c1",
   "metadata": {},
   "outputs": [
    {
     "data": {
      "text/plain": [
       "'Joseph Robinette Biden Jr.'"
      ]
     },
     "execution_count": 58,
     "metadata": {},
     "output_type": "execute_result"
    }
   ],
   "source": [
    "# alternative\n",
    "pattern = 'Born(.+)\\n'\n",
    "matches = re.findall(pattern, text)\n",
    "matches[0].strip()"
   ]
  },
  {
   "cell_type": "code",
   "execution_count": 59,
   "id": "f5ae1060",
   "metadata": {},
   "outputs": [
    {
     "data": {
      "text/plain": [
       "'November 20, 1942'"
      ]
     },
     "execution_count": 59,
     "metadata": {},
     "output_type": "execute_result"
    }
   ],
   "source": [
    "pattern = 'Born.*\\n(.*)\\(age'\n",
    "matches = re.findall(pattern, text)\n",
    "matches[0].strip()"
   ]
  },
  {
   "cell_type": "code",
   "execution_count": 60,
   "id": "0be368b3",
   "metadata": {},
   "outputs": [
    {
     "data": {
      "text/plain": [
       "'Scranton, Pennsylvania, U.S.'"
      ]
     },
     "execution_count": 60,
     "metadata": {},
     "output_type": "execute_result"
    }
   ],
   "source": [
    "pattern = '\\(age.*\\n(.*)'\n",
    "matches = re.findall(pattern, text)\n",
    "matches[0].strip()"
   ]
  },
  {
   "cell_type": "markdown",
   "id": "83c2044c",
   "metadata": {},
   "source": [
    "## Define helper functions"
   ]
  },
  {
   "cell_type": "code",
   "execution_count": 61,
   "id": "7700e107",
   "metadata": {},
   "outputs": [],
   "source": [
    "def get_pattern_match(pattern, text):\n",
    "    matches = re.findall(pattern, text)\n",
    "    if matches:\n",
    "        return matches[0]"
   ]
  },
  {
   "cell_type": "code",
   "execution_count": 63,
   "id": "ba7b2874",
   "metadata": {},
   "outputs": [],
   "source": [
    "def get_personal_information(text):\n",
    "    age = get_pattern_match('age (\\d+)', text)\n",
    "    full_name = get_pattern_match('Born(.+)\\n', text)\n",
    "    birthplace = get_pattern_match('\\(age.*\\n(.*)', text)\n",
    "    birthdate = get_pattern_match('Born.*\\n(.*)\\(age', text)\n",
    "    \n",
    "    return {\n",
    "        'age': int(age),\n",
    "        'name': full_name.strip(),\n",
    "        'birth_date': birthdate.strip(),\n",
    "        'birth_place': birthplace.strip()\n",
    "    }"
   ]
  },
  {
   "cell_type": "code",
   "execution_count": 64,
   "id": "abc8c292",
   "metadata": {},
   "outputs": [
    {
     "data": {
      "text/plain": [
       "{'age': 80,\n",
       " 'name': 'Joseph Robinette Biden Jr.',\n",
       " 'birth_date': 'November 20, 1942',\n",
       " 'birth_place': 'Scranton, Pennsylvania, U.S.'}"
      ]
     },
     "execution_count": 64,
     "metadata": {},
     "output_type": "execute_result"
    }
   ],
   "source": [
    "get_personal_information(text)"
   ]
  },
  {
   "cell_type": "code",
   "execution_count": null,
   "id": "54312d54",
   "metadata": {},
   "outputs": [],
   "source": []
  }
 ],
 "metadata": {
  "kernelspec": {
   "display_name": "Python 3 (ipykernel)",
   "language": "python",
   "name": "python3"
  },
  "language_info": {
   "codemirror_mode": {
    "name": "ipython",
    "version": 3
   },
   "file_extension": ".py",
   "mimetype": "text/x-python",
   "name": "python",
   "nbconvert_exporter": "python",
   "pygments_lexer": "ipython3",
   "version": "3.9.15"
  },
  "toc": {
   "base_numbering": 1,
   "nav_menu": {},
   "number_sections": false,
   "sideBar": true,
   "skip_h1_title": false,
   "title_cell": "Table of Contents",
   "title_sidebar": "Contents",
   "toc_cell": false,
   "toc_position": {},
   "toc_section_display": true,
   "toc_window_display": false
  }
 },
 "nbformat": 4,
 "nbformat_minor": 5
}
